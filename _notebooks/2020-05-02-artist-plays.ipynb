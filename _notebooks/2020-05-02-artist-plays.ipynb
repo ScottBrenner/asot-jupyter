{
 "cells": [
  {
   "cell_type": "markdown",
   "metadata": {},
   "source": [
    "# Artist Plays\n",
    "> Tracking artist plays over time.\n",
    "\n",
    "- toc: true \n",
    "- badges: true\n",
    "- comments: false\n",
    "- categories: [asot, bpm]\n",
    "- image: images/artist-plays.png"
   ]
  },
  {
   "cell_type": "code",
   "execution_count": 2,
   "metadata": {},
   "outputs": [],
   "source": [
    "#hide\n",
    "import os\n",
    "import yaml\n",
    "import spotipy\n",
    "import json\n",
    "import altair as alt\n",
    "import numpy as np\n",
    "import pandas as pd\n",
    "from spotipy.oauth2 import SpotifyClientCredentials\n",
    "\n",
    "with open('spotipy_credentials.yaml', 'r') as spotipy_credentials_file:\n",
    "    credentials = yaml.safe_load(spotipy_credentials_file)\n",
    "    os.environ[\"SPOTIPY_CLIENT_ID\"] = credentials['spotipy_credentials']['spotipy_client_id']\n",
    "    os.environ[\"SPOTIPY_CLIENT_SECRET\"] = credentials['spotipy_credentials']['spotipi_client_seret']\n",
    "\n",
    "sp = spotipy.Spotify(client_credentials_manager=SpotifyClientCredentials())\n",
    "\n",
    "asot_radio_id = '25mFVpuABa9GkGcj9eOPce'\n",
    "\n",
    "albums = []\n",
    "results = sp.artist_albums(asot_radio_id, album_type='album')\n",
    "albums.extend(results['items'])\n",
    "while results['next']:\n",
    "    results = sp.next(results)\n",
    "    albums.extend(results['items'])\n",
    "seen = set()  # to avoid dups\n",
    "for album in albums:\n",
    "    name = album['name']\n",
    "    if name not in seen:\n",
    "        seen.add(name)\n",
    "\n",
    "singles = []\n",
    "results = sp.artist_albums(asot_radio_id, album_type='single')\n",
    "singles.extend(results['items'])\n",
    "while results['next']:\n",
    "    results = sp.next(results)\n",
    "    singles.extend(results['items'])\n",
    "seen = set()  # to avoid dups\n",
    "for single in singles:\n",
    "    name = single['name']\n",
    "    if name not in seen:\n",
    "        seen.add(name)\n",
    "\n",
    "episodes = singles + albums\n",
    "\n",
    "episodes.sort(key=lambda x: x['release_date']) # Sort by release date"
   ]
  },
  {
   "cell_type": "markdown",
   "metadata": {},
   "source": [
    "## Introduction"
   ]
  },
  {
   "cell_type": "markdown",
   "metadata": {},
   "source": [
    "How many unique artists have been played on A State of Trance over the years? Who's been played the most? And the least?\n",
    "\n",
    "In this post, we'll examine artist plays over time."
   ]
  },
  {
   "cell_type": "markdown",
   "metadata": {},
   "source": [
    "## Getting Started"
   ]
  },
  {
   "cell_type": "markdown",
   "metadata": {},
   "source": [
    "First, some baseline analysis. Let's first figure out how many tracks played on A State of Trance are available on Spotify:"
   ]
  },
  {
   "cell_type": "code",
   "execution_count": 3,
   "metadata": {},
   "outputs": [
    {
     "name": "stdout",
     "output_type": "stream",
     "text": [
      "17311\n"
     ]
    }
   ],
   "source": [
    "tracks_counted = 0\n",
    "\n",
    "for episode in episodes:\n",
    "    try:\n",
    "        for track in sp.album_tracks(episode['uri'])['items']:\n",
    "            if \"a state of trance\" in track['name'].lower() or \"- interview\" in track['name'].lower():\n",
    "                continue\n",
    "            else:\n",
    "                tracks_counted += 1\n",
    "    except:\n",
    "        pass\n",
    "\n",
    "print(tracks_counted)"
   ]
  },
  {
   "cell_type": "markdown",
   "metadata": {},
   "source": [
    "Wow - 17,000+ total _(not unique)_ tracks have been played! Remember, as we learned in the [\"Methodology\" post](https://scottbrenner.github.io/asot-jupyter/asot/bpm/2020/04/27/methodology.html) some episodes - especially early ones - are incomplete.\n",
    "\n",
    "How many unique artists?"
   ]
  },
  {
   "cell_type": "code",
   "execution_count": 9,
   "metadata": {},
   "outputs": [
    {
     "name": "stdout",
     "output_type": "stream",
     "text": [
      "4079\n"
     ]
    }
   ],
   "source": [
    "unique_artists = set()\n",
    "\n",
    "for episode in episodes:\n",
    "    try:\n",
    "        for track in sp.album_tracks(episode['uri'])['items']:\n",
    "            if \"a state of trance\" in track['name'].lower() or \"- interview\" in track['name'].lower():\n",
    "                continue\n",
    "            else:\n",
    "                for artist in track['artists']:\n",
    "                    unique_artists.add(artist['name'])\n",
    "    except:\n",
    "        pass\n",
    "\n",
    "print(len(unique_artists))"
   ]
  },
  {
   "cell_type": "markdown",
   "metadata": {},
   "source": [
    "As always, this is a \"best guess\" - an approximation.\n",
    "\n",
    "For the sake of tallying unique artists, we are treating collaborators as individuals. A track produced by \"Artist A & Artist B\" is recorded here as a production by Artist A and Artist B invididually."
   ]
  },
  {
   "cell_type": "markdown",
   "metadata": {},
   "source": [
    "## Calculating"
   ]
  },
  {
   "cell_type": "markdown",
   "metadata": {},
   "source": [
    "Let's crunch some numbers.\n",
    "\n",
    "Which artists have the most plays?"
   ]
  },
  {
   "cell_type": "code",
   "execution_count": 17,
   "metadata": {},
   "outputs": [],
   "source": [
    "from collections import defaultdict\n",
    "\n",
    "artist_counter = defaultdict(int)\n",
    "\n",
    "for episode in episodes:\n",
    "    try:\n",
    "        for track in sp.album_tracks(episode['uri'])['items']:\n",
    "            if \"a state of trance\" in track['name'].lower() or \"- interview\" in track['name'].lower():\n",
    "                continue\n",
    "            else:\n",
    "                for artist in track['artists']:\n",
    "                    artist_counter[artist['name']] += 1\n",
    "    except:\n",
    "        pass\n",
    "\n",
    "top_artists = sorted(artist_counter.items(), key=lambda k_v: k_v[1], reverse=True)"
   ]
  },
  {
   "cell_type": "markdown",
   "metadata": {},
   "source": [
    "Alright, let's see the top 25 in a graph.."
   ]
  },
  {
   "cell_type": "code",
   "execution_count": 32,
   "metadata": {},
   "outputs": [
    {
     "data": {
      "text/html": [
       "\n",
       "<div id=\"altair-viz-a39d4ddaa54945d49c8643364bde9973\"></div>\n",
       "<script type=\"text/javascript\">\n",
       "  (function(spec, embedOpt){\n",
       "    let outputDiv = document.currentScript.previousElementSibling;\n",
       "    if (outputDiv.id !== \"altair-viz-a39d4ddaa54945d49c8643364bde9973\") {\n",
       "      outputDiv = document.getElementById(\"altair-viz-a39d4ddaa54945d49c8643364bde9973\");\n",
       "    }\n",
       "    const paths = {\n",
       "      \"vega\": \"https://cdn.jsdelivr.net/npm//vega@5?noext\",\n",
       "      \"vega-lib\": \"https://cdn.jsdelivr.net/npm//vega-lib?noext\",\n",
       "      \"vega-lite\": \"https://cdn.jsdelivr.net/npm//vega-lite@4.8.1?noext\",\n",
       "      \"vega-embed\": \"https://cdn.jsdelivr.net/npm//vega-embed@6?noext\",\n",
       "    };\n",
       "\n",
       "    function loadScript(lib) {\n",
       "      return new Promise(function(resolve, reject) {\n",
       "        var s = document.createElement('script');\n",
       "        s.src = paths[lib];\n",
       "        s.async = true;\n",
       "        s.onload = () => resolve(paths[lib]);\n",
       "        s.onerror = () => reject(`Error loading script: ${paths[lib]}`);\n",
       "        document.getElementsByTagName(\"head\")[0].appendChild(s);\n",
       "      });\n",
       "    }\n",
       "\n",
       "    function showError(err) {\n",
       "      outputDiv.innerHTML = `<div class=\"error\" style=\"color:red;\">${err}</div>`;\n",
       "      throw err;\n",
       "    }\n",
       "\n",
       "    function displayChart(vegaEmbed) {\n",
       "      vegaEmbed(outputDiv, spec, embedOpt)\n",
       "        .catch(err => showError(`Javascript Error: ${err.message}<br>This usually means there's a typo in your chart specification. See the javascript console for the full traceback.`));\n",
       "    }\n",
       "\n",
       "    if(typeof define === \"function\" && define.amd) {\n",
       "      requirejs.config({paths});\n",
       "      require([\"vega-embed\"], displayChart, err => showError(`Error loading script: ${err.message}`));\n",
       "    } else if (typeof vegaEmbed === \"function\") {\n",
       "      displayChart(vegaEmbed);\n",
       "    } else {\n",
       "      loadScript(\"vega\")\n",
       "        .then(() => loadScript(\"vega-lite\"))\n",
       "        .then(() => loadScript(\"vega-embed\"))\n",
       "        .catch(showError)\n",
       "        .then(() => displayChart(vegaEmbed));\n",
       "    }\n",
       "  })({\"config\": {\"view\": {\"continuousWidth\": 400, \"continuousHeight\": 300}}, \"layer\": [{\"mark\": \"bar\", \"encoding\": {\"x\": {\"type\": \"quantitative\", \"field\": \"1\", \"title\": \"Plays\"}, \"y\": {\"type\": \"nominal\", \"field\": \"0\", \"sort\": \"-x\", \"title\": \"Artist\"}}, \"title\": \"A State of Trance - Most-played artists\", \"width\": 600}, {\"mark\": {\"type\": \"text\", \"align\": \"left\", \"baseline\": \"middle\", \"dx\": 3}, \"encoding\": {\"text\": {\"type\": \"quantitative\", \"field\": \"1\"}, \"x\": {\"type\": \"quantitative\", \"field\": \"1\", \"title\": \"Plays\"}, \"y\": {\"type\": \"nominal\", \"field\": \"0\", \"sort\": \"-x\", \"title\": \"Artist\"}}, \"title\": \"A State of Trance - Most-played artists\", \"width\": 600}], \"data\": {\"name\": \"data-4e59e805ed06f2eb0e688ef43db64cb4\"}, \"$schema\": \"https://vega.github.io/schema/vega-lite/v4.8.1.json\", \"datasets\": {\"data-4e59e805ed06f2eb0e688ef43db64cb4\": [{\"0\": \"Armin van Buuren\", \"1\": 1210}, {\"0\": \"Cosmic Gate\", \"1\": 251}, {\"0\": \"Markus Schulz\", \"1\": 232}, {\"0\": \"Gareth Emery\", \"1\": 230}, {\"0\": \"Aly & Fila\", \"1\": 224}, {\"0\": \"Orjan Nilsen\", \"1\": 210}, {\"0\": \"Andrew Rayel\", \"1\": 206}, {\"0\": \"Alex M.O.R.P.H.\", \"1\": 184}, {\"0\": \"Giuseppe Ottaviani\", \"1\": 182}, {\"0\": \"John O'Callaghan\", \"1\": 163}, {\"0\": \"Kyau & Albert\", \"1\": 160}, {\"0\": \"Solarstone\", \"1\": 159}, {\"0\": \"Ferry Corsten\", \"1\": 143}, {\"0\": \"Christina Novelli\", \"1\": 140}, {\"0\": \"Andy Moor\", \"1\": 139}, {\"0\": \"Dash Berlin\", \"1\": 133}, {\"0\": \"Rank 1\", \"1\": 127}, {\"0\": \"GAIA\", \"1\": 127}, {\"0\": \"MaRLo\", \"1\": 127}, {\"0\": \"Emma Hewitt\", \"1\": 118}, {\"0\": \"Heatbeat\", \"1\": 116}, {\"0\": \"Ben Gold\", \"1\": 115}, {\"0\": \"The Thrillseekers\", \"1\": 114}, {\"0\": \"Ronski Speed\", \"1\": 111}, {\"0\": \"Allen Watts\", \"1\": 111}]}}, {\"mode\": \"vega-lite\"});\n",
       "</script>"
      ],
      "text/plain": [
       "alt.LayerChart(...)"
      ]
     },
     "execution_count": 32,
     "metadata": {},
     "output_type": "execute_result"
    }
   ],
   "source": [
    "source = pd.DataFrame.from_dict(top_artists[:25])\n",
    "\n",
    "bars = alt.Chart(source).mark_bar().encode(\n",
    "    x=alt.X('1:Q', title='Plays'),\n",
    "    y=alt.Y('0:N', sort='-x', title='Artist')\n",
    ").properties(\n",
    "    title=\"A State of Trance - Most-played artists\",\n",
    "    width=600\n",
    ")\n",
    "\n",
    "text = bars.mark_text(\n",
    "    align='left',\n",
    "    baseline='middle',\n",
    "    dx=3  # Nudges text to right so it doesn't appear on top of the bar\n",
    ").encode(\n",
    "    text='1:Q'\n",
    ")\n",
    "\n",
    "bars + text"
   ]
  },
  {
   "cell_type": "markdown",
   "metadata": {},
   "source": [
    "First place goes to the big man himself of course. Keep in mind we're counting a remix of an artist's track as a play for that artist.\n",
    "\n",
    "From our numbers, a track that credits Armin van Buuren has been played 1210 times across 960 episodes. From this, we can say the average episode of A State of Trance has"
   ]
  },
  {
   "cell_type": "code",
   "execution_count": 24,
   "metadata": {},
   "outputs": [
    {
     "data": {
      "text/plain": [
       "1.2604166666666667"
      ]
     },
     "execution_count": 24,
     "metadata": {},
     "output_type": "execute_result"
    }
   ],
   "source": [
    "top_artists[0][1] / len(episodes)"
   ]
  },
  {
   "cell_type": "markdown",
   "metadata": {},
   "source": [
    "tracks produced by Armin van Buuren in some form or another, which is totally useless to know.\n",
    "\n",
    "Earlier we found 17,000+ total tracks played from 4000+ unique artists based on what's currently available on Spotify. How many artists have been played exactly once?"
   ]
  },
  {
   "cell_type": "code",
   "execution_count": 29,
   "metadata": {},
   "outputs": [
    {
     "name": "stdout",
     "output_type": "stream",
     "text": [
      "1769\n"
     ]
    }
   ],
   "source": [
    "artists_played_once = 0\n",
    "one_hit_wonders = []\n",
    "\n",
    "for artist, plays in artist_counter.items():\n",
    "    if plays == 1:\n",
    "        one_hit_wonders.append(artist)\n",
    "        artists_played_once += 1\n",
    "\n",
    "print(artists_played_once)"
   ]
  },
  {
   "cell_type": "markdown",
   "metadata": {},
   "source": [
    "Seems like quite a bit, what percentage is that?"
   ]
  },
  {
   "cell_type": "code",
   "execution_count": 25,
   "metadata": {},
   "outputs": [
    {
     "name": "stdout",
     "output_type": "stream",
     "text": [
      "43.36847266486884\n"
     ]
    }
   ],
   "source": [
    "print(100 * artists_played_once / len(unique_artists))"
   ]
  },
  {
   "cell_type": "markdown",
   "metadata": {},
   "source": [
    "From the data available on Spotify, we can say 43% of artists played on A State of Trance were played exactly once. A full list of artists played once appears below, collapsed:"
   ]
  },
  {
   "cell_type": "code",
   "execution_count": 31,
   "metadata": {},
   "outputs": [
    {
     "name": "stdout",
     "output_type": "stream",
     "text": [
      "['16BL', '2Symmetry', '3 Amigos', '3 Colours', '3 Of Life', '4 Mal', '4Mal', '7 Baltic', '8.02', 'A Lost Connection', 'A&Z', 'AA Meeting', 'ABHISHEK Y2V', 'AMTM', 'ANDO', 'ANIMA!', 'ANUQRAM', 'ANVY', 'ASCO', 'ATHOM', 'ATN', 'AWD', 'Abaze', 'Abraham Leoga', 'Ace Ventura', 'Active State', 'Adagio Sensus', 'Adaja', 'Adam Coppack', 'Adam Deane', 'Adam K & Soha', 'Adam Lambert', 'Adam Lavel', 'Adam Lindburg', 'Adam Sheridan', 'Adam Sky', 'Adam Sobiech', 'Adam Tas', 'Adiva', 'Adrian Blue', 'Adrian Font', 'Adrian&Raz', 'Adriana Thorpe', 'Advanced', 'Adymus', 'Aero 21', 'Aether', 'After Midnight', 'AfterU', 'Against The Grain', 'Aguada', 'Ahmed Atef', 'Ahorn', 'Aiden Arie', 'Aiera & Osiris', 'Aimo', 'AirLab7', 'Airsun', 'Airtight', 'Airway 7', 'Aisling Jarvis', 'Aki Bergen & Richter', 'Akku', 'Aknael & Bekeela', 'Aknow', 'Alae Khaldi', 'Alan Banks', 'Alan Stott', 'Alan Wyse', 'Albert Keyn', 'Albion', 'Alco Rhyhtm', 'Aldo Henrycho', 'Aleksey Gunichev', 'Aleksey Sladkov', 'Alex', 'Alex Arestegui', 'Alex Djohn', 'Alex Fisher', 'Alex Humphreys', 'Alex John', 'Alex M.O.R.P.H. & RAM', 'Alex M.O.R.P.H. feat. Sylvia Tosun', 'Alex Piletski', 'Alex Staltari', 'Alex Wackii', 'AlexMo', 'Alexan', 'Alexander Chekomasov', 'Alhena', 'Alias', 'Alice Berg', 'Alicia Madison', 'Alikast', 'Allam', 'Allan Morrow', 'Allen', 'Allen Belg', 'Allende', 'Allion', 'Allé', 'Almar', 'Alter Breed', 'Alucard', 'Alvin', 'Alyx Ander', 'Amanda Jamison', 'Amax DJ', 'Amba Sheperd', 'Ambassador', 'Ameera', 'Amersy', 'Amir Atme', 'Amo R', 'Amy J Price', 'Analogue Sound Department', 'Anbass', 'Ancient Mind', 'Anden', 'Anden State', 'Anders Duvald', 'Andre Sobota', 'Andrea Faustinelli', 'Andrea Saenz', 'Andretta', 'Andrew Benson', 'Andrew Candid', 'Andrew Cash', 'Andrew Henry', 'Andrew Langston', 'Andrew Mirt', 'Andrew Vass', 'Andrey Pashkov', 'André', 'André Sobota', 'Andski', 'Andy Bianchini', 'Andy Ruddy', 'Angel', 'Angel Ace', 'Angelique', 'Angie', 'Animato', 'Ankit Sharda', 'Ann Bailey', 'Anna Lee', 'Anna Toth', 'Anomaly', 'Another World', 'Anova', 'Anry', 'Anthanasia 2', 'Anthony Cordell', 'Anthony Ragni', 'Anthony S', 'Anthony Waldhorn', 'Antonia from Jets Overhead', 'Apollo Nash', 'Apple One', 'Approaching Black', 'Aquilo', 'Aradeo', 'Arc In The Sky', 'Architect', 'Arctic Lake', 'Aressa', 'Ariel & Danilo', 'Arjans', 'Ark Planet', 'Arpiction', 'Arrival & Fonar', 'Ars', 'Artra', 'Arty & Mat Zo', 'Aryas', 'Arys', 'Aryue', 'As One', 'Asbjørn', 'Ashley Bradbury', 'Ashley Smith', 'Asia Whiteacre', 'Askery', 'Aspiration', 'Asteroid', 'Astral Projection', 'Astrid Suryanto', 'Astrosphere', 'Ataraxia', 'Atlantia', 'Atmosfearz', 'Audiko', 'Avalon', 'Avari', 'Avatar One', 'Aveo', 'Avergaint', 'Aylin', 'Azotti', 'Azzido Da Bass', 'B. Gheorghe', 'BBSOUND', 'BORDERLESS', 'BRKLYN', 'Backbeat', 'Badlands', 'Balearia', 'Bariuz', 'Barry Connell', 'Bart Skils', 'Bas van Essen', 'Bassbin Twins', 'Bassjackers', 'Bazooka', 'Beatman & Ludmilla', 'BeeGee', 'Beltek', 'Ben Gold Remix', 'Benicio', 'Benjamin Bates', 'Benjani', 'Bent', 'Benya', 'Benz & MD', 'Bev Wild', 'Big Top', 'Bixx', 'Bizzare Contact', 'Björn Niclas', 'Black & Blue', 'Black XS', 'Blair Bitch', 'Blasterjaxx', 'Blood Groove', 'Blood Groove and Kikis', 'BluSkay', 'Blue Horizon', 'Blue Manta', 'Blue Silence', 'Blue5even', 'Blueberg', 'Bluefire', 'Bobak', 'Bodyrox', 'Bolier', 'Boom', 'Boombastix', 'Boosta', 'Born 87', 'Boss@nova', 'Bowdidge', 'Bowdidge & Taylor', 'Boxer', 'Boxer & Forbes', 'Braiman', 'Braiman & Falcon', 'Brando', 'Brandt', 'Brave', 'Breathe Carolina', 'Breeder', 'Brian', 'Brian Cameron', 'Brian Laruso', 'Brigitta', 'Britty', 'Brooke Tomlinson', 'Brothers Funk', 'Bruce Cullen', 'Brute Force', 'Bryan Summerville', 'Burak & Emre', 'C-Base', 'C-Jay', 'C.J.Seven', 'CADE', 'CHRISTON', 'CJ Arthur', 'CRW', 'CVNT5', 'CYA', 'Cadence', 'Callisto', 'Calvin Logue', 'Cam Melnyk', 'Canberra', 'Capa (Official)', 'Cara Salimando', 'Carah Faye', 'Carl Crellin', 'Carlos Martz', 'Carly Burns', 'Carol Lee', 'Caroline Harrison', 'Cary Nokey', 'Cassidy Ford', 'Catalyst', 'Cave', 'CeCe Peniston', 'Celauro', 'Cell X', 'Cenk Basaran', 'Centre', 'Cern', 'Cesar Lugo', 'Chab', 'Changer', 'Charles MCThorn', 'Charlie White', 'Charmy', 'Chelsea Lee', 'Cherry', 'Chloe Stamp', 'Choopie', 'Chris Antoine', 'Chris Callado', 'Chris Cockerill', 'Chris Giuliano', 'Chris James', 'Chris North', 'Chris Reece', 'Chris Severe', 'Christian Carcamo', 'Christian K.', 'Christian Zechner', 'Christina Novell', 'Christopher Norman', 'Christopher Tin', 'CiDiAN', 'Ciaran Dolan', 'Cirillo', 'Cla6', 'Claessen', 'Clancy', 'Clara Sofie', 'Claudinho Brasil', 'Clay C', 'Cloudbreak', 'Cloudriver', 'Coax', 'Coca & Villa', 'Codeko', 'Coenraad', 'Coexist', 'Cold Face', 'Cole Plante', 'Coll', 'Colonial', 'Coming Soon', 'Con Phillips', 'Core & Sørensen', 'Corey Andrews', 'Corey James', 'Cornelis Van Dijk', 'Cory Friesenhan', 'Cosmic Blueprint', 'Cosmicman', 'Cosmithex', 'Cosmo & Skoro', 'Cosmo Kid', 'Costa Pantazis', 'Craig-O', 'Cristian Ketelaars', 'Crossover', 'Crusy', 'Cygnus X1', 'Cylum', 'Cymatics', 'D&W', \"D'Jaeger\", 'D-Line', 'D. Ghioc', 'D.O.D', 'D:Folt', 'DJ AMO', 'DJ Aligator', 'DJ Dazzle', 'DJ Dean', 'DJ Dream', 'DJ Fred Numf', 'DJ Genix', 'DJ Ghost', 'DJ Halperin', 'DJ Jan', 'DJ Kim', 'DJ Manta', 'DJ Nukem', 'DJ Observer', 'DJ Preach', 'DJ Rap', 'DJ Shog', 'DJ Tommyboy', 'DJ Tostie', 'DJ Wag', 'DR. DRTY', 'Da Others', 'Daimy Lotus', 'Dallas Superstars', 'Damae', 'Dan Ginolfi', 'Dan Reaves & Niels Von Ahorn', 'Dan Sanfilippo', 'Dani Avramov', 'Dani Boden', 'Daniel Baron', 'Daniel Blanks', 'Daniel Etienne', 'Daniel Paul Davis', 'Daniel Summers', 'Daniel Waanrooy', 'Danny Cullen', 'Danny Loko', 'Danny Ocean', 'Danny Young', 'Dany Dazano', 'Dany G', 'Danyella', 'Danyka Nedeau', 'Danza Violento', 'Danzfolk', 'Darius', 'Darius Romanowski', 'Dark Monks', 'Dark Moon', 'Darkness Falls', \"Darren O'Brien\", 'Dasha', 'Datt', 'Dave Blackman', 'Dave Dowsett', 'Dave Leyrock', 'Dave Nadz', 'Dave Pearce', 'David', 'David Amo & Julio Navas', 'David Julien', 'Davy Van Eynde', 'Dawnseekers', 'Daïgon', 'DeColita', 'Deathmind', 'Deedrah', 'Deep Dish', 'Deep Fog', 'Deep Orbit', 'Delta One', 'Delta-S', 'Denga vs. Manus', 'Denis Airwave', 'Denis Karpinsky', 'Denis Neeve', 'Denis Rivera', 'Dennis Eshel', 'Dennis Kruissen', 'Deorro', 'Der Mystik', 'Devon Colombage', 'DiVasco', 'Diaz', 'Digital Blues', 'Digital Dreamerz', 'Digital Horizon', 'Digital Phaze', 'Digital Vision', 'Dilara', 'Dimitri Vangelis & Wyman', 'Dirty South', 'Dirty Vegas', 'Dis Play', 'Disco Citizens', 'Disco Killerz', 'Discodyne', 'Disfunktion & Husman', 'Diskomo', 'Diversion', 'Division Zero', 'Dj Mystic', 'Djiva', 'Dmitriy Kuznetsov', 'Dmitry Bessonov', 'Dmitry Federov', 'Dmitry Golban', 'Dom Youdan', 'Dominic Manns', 'Donny Mac', 'Dory Badawi', 'Dr Willis', 'Dr. Willis', 'Dragana', 'Dragon and Jontron', 'Dreamlife', 'Dreamseekers', 'Drew Ryn', 'DubVision', 'Durs', 'Dustin Hussain', 'Dymos', 'Dynamic Emotion', 'Dynamic Sense', 'E&G', 'E.T Project', 'ESSEX', 'Earthbound', 'Earthspirit', 'East & Atlas', 'Econu', 'Eddie Lung', 'Edun', 'Egera', 'Eide', 'Eireann Wax', 'Ekon', 'El', 'El Cortez', 'Electric Pulse', 'Electric Traveller', 'Electronic Nova', 'Elias B.', 'Ell-Er', 'Elle Ve', 'Ellez Ria', 'Elucidus', 'Elyes Karray', 'Emanuele Congeddu', 'Emery', 'Emi', 'Emi Jarvi', 'Emilio Fernandez', 'Emily Harder', 'Emily Vaughn', 'Eminence', 'Emma Gillespie', 'Emotional Horizons', 'Emporium', 'En-Motion', 'Endless Blue', 'Envy', 'Enya Angel', 'Enyo Giove', 'Epica', 'Epsilon 9', 'Erick Strong', 'Erika K', 'Erly Tepshi', 'Eshericks', 'Espen Lorentzen', 'Essonita', 'Etasonic', 'Ethillas', 'Eva Pavlova', 'Evan Kendricks', 'Evan London', 'Evan Pearce', 'Evave', 'Evelio', 'Evelyn', 'Ever Burn', 'Evil Sardine', 'Evin Skye', 'Ex-Driver', 'Exertion', 'Exirninds', 'Exit', 'ExoSun', 'F-6', 'F.U.S.E.', 'FACEPALM', 'FB', 'FERR', 'Fadios', 'Fady', 'Fafaq', 'Fallen Skies', 'Far & Away', 'Faraway Project', 'Farb', 'Farra', 'Fatkid', 'Fergie & Sadrian', 'Ferry', 'Fierce', 'Fifth Dimension', 'Filterheads', 'Final Aeon', 'Fingerling', 'Finlay', 'Fiona Reid', 'Firebeatz', 'First', 'First & Andre Cruiser', 'Fisical Project', 'Fix To Fax', 'Flatdisk', 'FloE', 'Floor Divisions', 'Floria Ambra', 'Fluir', 'Flying Decibels', 'Fokko Versloot', 'Foot', 'Forerunners', 'Forion', 'Foundry', 'Franco Riccobaldi', 'Frank Dattilo', 'Frank T.R.A.X.', 'Frank Watson', 'Franz', 'Fredd Moz', 'Fredda. L', 'Fredrik Miller', 'FreeFall', 'Freek Geuze', 'Freelancer', 'Freigeist', 'Freischwimmer', 'French Skies', 'Frog & Derb', 'Frontliner', 'Frost', 'Frost & Maron', 'Funkagenda', 'Furkan Senol', 'Future Disciple', 'Futuristic Polar Bears', 'Fyrsta', 'G-Mark', 'G-Phaxe', 'G-Tek', 'G.D.', 'GMS', 'GQ', 'Gabriel Lukosz', 'Garrido', 'Garrido & Skehan', 'Gary Proud', 'Gat Decor', 'Gate', 'Gate 4', 'Gather', 'Gaudium', 'Gavyn Mitchel', 'Gene Xander', 'Genesis', 'Gentech', 'Gerry Menu', 'Gil Zambrano', 'Gilbert AM', 'Glensk', 'Gliss', 'Global Experience', 'Glynn Alan', 'Gofman', 'Golax', 'Golden Girls', 'Gologan', 'Good & Bower', 'Goom Gum', 'Gradian', 'Graham Gold', 'Graumann', 'Green & Falkner', 'Green Atlas', 'Greenstone', 'Gregori Klosman', 'Gregory Esayan', 'Griff Clawson', 'Grizli Man', 'Groove Garcia', 'Group Number One', 'Guiseppe Ottaviani', 'Gum Me', 'HANDY K', 'HRTWRK', 'HVNNAH', 'Hadley', 'Halcyone', 'Haley', 'Hammer', 'Hannah Rose', 'Hans Seo', 'Happy Monkey', 'Hardfloor', 'Haris', 'Haris C', 'Harmonika', 'Harper & Green', 'Hazrain Norman', 'Heard Right', 'Heidi Anne', 'Helen Sylk', 'Hello Machines', 'Hensha', 'Hesham Ghoneim', 'Hi Profile', 'High Frequencies', 'Hilton Caswell', 'Hindsight', 'Hiroyuki ODA', 'Hjerkinn', 'Hodel & Hornblad', 'Holland', 'Howe', 'Huarache', 'Hudson & Kant', 'Hybrid', 'Hydriod', 'Hydro Poison', 'Hypaton', 'HËLIX', 'I-Vision', 'IJA', 'IKO', 'INVIRON', 'Iain M', 'Ian Solano', 'Idaho', 'Ignas', 'Igor Dyachkov', 'Ikerya Project', 'Ilya Flame', \"Ima'gin\", 'Impulse Wave', 'In Gray', 'In-Phase', 'Inbox', 'Indifferent Guy', 'Infected Mushroom', 'Infected Mushrooms', 'Infinity', 'Inge Bergmann', 'Inge Lemon', 'Inger Hansen', 'Inner & Outer', 'Innerlight', 'Inpetto', 'Interactive Noise', 'Intersonic', 'Intrique', 'Irdi', 'Irena Love', 'Irina Makosh', 'Isa Marie', 'Isha', 'Isobel Mai', 'Ivan Gough', 'Ivan Khurtin', 'Iversoon & Alex Daf', 'Izzy Warner', 'J. Hart', 'J.L.N.D.', 'J.O.C.', 'J.Puchler', 'J.Shore', 'JAMASTER A', 'JC Chavez', 'JMS', 'Jacqueline', 'Jade 4 U', 'Jake Reese', 'Jake Terra', 'Jake Torrey', 'Jakko', 'Jam El Mar', 'JamX', 'Jamala', 'James Allan', 'James De Torres', 'James Kiedis', 'Jameson Tullar', 'Jamie Anderson', 'Jamie Harrison', 'Jamie K', 'Jamx & De Leon', 'Jan Johnson', 'Jan Loper', 'Jan Miller', 'Jan Oostdijk', 'Jan Oostdyk', 'Jane Maximova', 'Jannika', 'January Embers', 'Jardin', 'Jared Lee', 'Jark Prongo', 'Jasmine Maurie', 'Jason Seizures', 'Javah', 'JayCan', 'Jaydee', 'Jeff Rona', 'Jeitam Osheen', 'Jenni Perez', 'Jennifer Cooke', 'Jennifer Paige', 'Jenry R', 'Jericho Frequency', 'Jerome', 'Jessica Riddle', 'Jessy Greene', 'Jetson', 'Jim', 'JimiJ', 'Jimmy Chou', 'Jinadu', 'Jinus', 'Jjoo', 'Jo Maddox', 'Joc', 'Jochan Morrisen', 'Joe Garrett', 'Joe Lyons', 'Joel Fletcher', 'Joel Peres', 'Joel Spencer', 'Johannes Fischer', 'John Henderson', 'John Hetmond', 'John Manz', 'John Mash', 'John Selway', 'John Swanson', 'Johnny B', 'Johnny Kelvin', 'Jokate Benson', 'Jon Hopkins', 'Joni Fatora', 'Jonny Royall', 'Joonas Hahmo presents DOS622', 'Jordy Dazz', 'Joren Heelsing', 'Joris Voorn', 'Jorn & Vito', 'Jose De Mara', 'Jozhy K', 'Judie Tzuke', 'Jules', 'Jules Porter', 'Julia Ross', 'Julia Violine', 'Julie Morrison', 'Juliet Lyons', 'Jullians', 'Jumpy Jumps', 'Junostar', 'Just D', 'Justin Dobslaw', 'KAST', 'KINETICA', 'KOS Project', 'Kaelyn Behr', 'Kainos', 'Kalafut & Fygle', 'Kaleena Zanders', 'Kamar 2', 'Kameron Alexander', 'Kamilo Sanclemente', 'Kane Nelson', 'Kara Sun', 'Kareem Fad', 'Karen', 'Karen Elliot', 'Karybde', 'Karybde & Scylla', 'Kash Trivedi', 'Kaste', 'Kat Marsh', 'Kate Dowman', 'Kathy Heath', 'Katie DiCicco', 'Katri', 'Katrik', 'Kaya-T', 'Ken Loi', 'Ken Spector', 'Kenan Teke', 'Kenneth Cruz', 'Kent & Gian', 'Keo Nozari', 'Kevin de Vries', 'Kevu', 'KeyWork', 'Khaz', 'Kikis', 'Killogy', 'Kinetica', 'Kirill Nikolaev', 'Kirsch', 'Kitimo Lopez', 'Kobbe', 'Kobee', 'Koen Lebbens', 'Koglin & Dewar', 'Kokaholla', 'Koko LaRoo', 'Kostya Veter', 'Krama', 'Kris Maydak', 'Kris Menace', 'Kristian Naim', 'Kristina Sky', 'Kristoffer Ljungberg', 'Kuffdam', 'Kularis', 'Kutski', 'Kyamoto', 'Kye Sones', 'Kyle Pepper', 'L.S.G.', 'LACES', 'LFO', 'LR', 'LR Uplift', 'LaMoor', 'Lansy K', 'Larke', 'Larsson', 'Last Island', 'Latex Zebra', 'Laura Turner', 'Laurell', \"Lauren L'aimant\", 'Lauren Ní Chasaide', 'Lauren Ray', 'Lavoie', 'Lawson', 'LeBlanc', 'Lee And Slater', 'Lee Canning', 'Lee Haslam', 'Leilani', 'Lele Toniq', 'Lele Troniq', 'Lens', 'Leolife', 'Leon 78', 'Leon Lour', 'Lepi Taival', 'Les Hemstock', 'Levann', 'Lewis Dodkins', 'Lexicon 4', 'Liam Hathaway', 'Liam Nicklin', 'LibeDime', 'Liezl', 'Lifelike', 'Lifted Emotion', 'LightControl', 'Likwid', 'Line Pursuit', 'Linn', 'Liquid Life', 'Liquid Todd', 'Liquid Vision', 'Little Nikki', 'Lizzy Land', 'Ljungqvist', 'Logic Stories', 'Lokka', 'Lola', 'Lonely Boy', 'Loobosh', 'Loomer', 'Lost Lynx', 'Lost Sequence', 'Lostep', 'Lostman', 'Love N Frequency', 'Luciana Di Nardo', 'Lucien', 'Luise Najib', 'Luiz B', 'Lumin-8', 'Luminal', 'Lumination', 'Luminn', 'Luuya', 'Lyci', 'Lycii', 'M Waering', 'M-Wood', 'M. Wilson', 'M11', 'MCO', 'MDX', 'Ma2shek', 'Macj', 'Madelin Zero', 'Maerin', 'Maglev', 'Magnetic Point', 'Maguire', 'Mahaputra', 'MainGain', 'Mainx', 'Malu', 'Maluu', 'Mandy Jones', 'Maniel Le Saux', 'Mantra', 'Manuel Le Sau', 'Manufactured Superstars', 'Manvel Ter-Pogosyan', 'Marc Dawn', 'Marc Volt', 'Marcell Stone', 'Marco Svarda', 'Mariah McManus', 'Mario Ayuda', 'Marius Verwoert', 'Mark Brain', 'Mark Found', 'Mark Pledger', 'Mark S', 'Mark Sinclair', 'Mark Versluis', 'Mark W', 'Marko Kantola', 'Marksun', 'Marksun & Brian', 'Martens', 'Martijn Stegerhoek', 'Martin Drake', 'Martin Soundriver', 'Mason', 'Massai One', 'Mastro', 'Matt Chowski', 'Matt Eray', 'Matt Everson', 'Matt Forner', 'Matt Lange', 'Matthew Adam', 'Matthew Preffekt', 'Matthew White', 'Matthias Bishop', 'Matti Laamanen', 'Matvey Emerson', 'Maurice Lekkerkerker', 'Mavi', 'Max Braiman', 'Max Denoise', 'Max Graham vs Protoculture', 'Max Roven', 'Max Vangeli', 'Maxi Jazz', 'Maxim Lany', 'May Hassan', 'Mazza', 'McAree', 'McAree & Clancy', 'McAuley', 'McGregor', 'Medii', 'Megamind', 'Meirmans', 'Mekka', 'Melissa Mathes', 'Members Of Mayday', 'Memory Loss', 'Menfis', 'Meridith Call', 'Messler', 'Metroom', 'Meyer', 'Mhammed El Alam', 'Mia Koo', 'Micah Martin', 'Michael', 'Michael Badal', 'Michael Burns', 'Michael Kaelios', 'Michael Lee', 'Michael Mashkov', 'Michael-Li', 'Miella', 'Miguel Sassot', 'Miika Kuisma', 'Mike Efex', 'Mike Hawkins', 'Mike Heart', 'Mike Septima', 'Mike Wind', 'Mikkas', 'Mil Brokes', 'Miles', 'Miller vs Divini', 'Mina', 'Mindscope', 'Miranda Lee Richards', 'Miroslav Virlik', 'Misia Furtak', 'Mistigris', 'Mistral', 'Mivase', 'Mnemonic', 'Moby', 'Modena', 'Mohamed Hamdy', 'Mohammed Khalila', 'Moiez', 'Mokita', 'Monika Santucci', 'Monty Wells', 'Moon', 'Moonforce', 'More Analog', 'Morphing Shadows', 'Morten Granau', 'Mosimann', 'Mosko', 'Motion Sound', 'Mozella', 'Mr Andre', 'Mr Carefull', 'Mr. Sam', 'Mr. Sax', 'Muhib Khan', 'Murica', 'Murtagh', 'Musix', 'Muska', 'Myde', 'Myon & Late Night Alumi', 'Myron', 'Mysterious Movement', 'Mystery Islands', 'Mystical Complex', 'N2o', 'NG Rezonance', 'NKI', 'NOHC', 'Naeba', 'Nail Abdiev', 'Nakadia', 'Nat Monday', 'Natalia Gioia', 'Natalie Holmes', 'Natalie Peris', 'Natalie Shay', 'Natlife', 'Nature One Inc.', 'Neil Hunter', 'Neo Kekkonen', 'Neofance', 'Neos', 'Neple', 'Neshi Futuro', 'Neve White', 'Nic Vegter', 'Nick Martin', 'Nick Robertson', 'Nick Stufano', 'Nick Thompson', 'Nickie Minshall', 'Nicole McKenna', 'Niels Von Ahorn', 'Nikhil Prakash', 'Nino Lucarelli', 'Nish', 'Nivaya', 'No Class', 'No Comment', 'Noctiva', 'Noel Gitman', 'Nomination', 'Nora En Pure', 'Norah B.', 'Nord Horizon', 'Nordan', 'Norin', 'Novan', 'Novastar', 'Nucvise', 'Nurlail', 'NuttaLyA', 'Oberon', 'Obie Fernandez', 'Oceania', 'Odison', 'Off Key', 'Off Limits', 'Ojan Nilsen', 'Oleg Espo', 'Oleg Farrier', 'Oliver & Tom', 'Oliver Cattley', 'Oliver Englafjord', 'Oliver Lieb', 'Oliver Shine', 'Omen', 'Omiki', 'Omniks', 'One Half Bear', 'One Way', 'Opticane', 'Oradea', 'Orange 3', 'Orano', 'Origin', \"Orion's Dawn\", 'Orjan Remix', 'Orkan', 'Orsa', 'Orunea', 'Osaru', 'Osip', 'Osiris', 'Osito', 'Ost', 'Oza', 'P.O.S.', 'PG2', 'PHD', 'PK', 'Pacheco', 'Paco Maroto', 'Paolo Mojo', 'Pathfinders', 'Patrick Devere', 'Patrick Stowson', 'Patricketto', 'Paul Allen', 'Paul Cook', 'Paul Courbet', 'Paul Gibson', 'Paul Johannessen', 'Paul Mayson', 'Paul Meany', 'Paul Mendez', 'Paul Morrell', 'Paul Rigel', 'Paul Skelton', 'Paul Tarrant', 'Paul Vernon', 'Pay & White', 'Pearson & Hirst', 'Pedersen', 'Penny Nixon', 'Perfect Vision', 'Perplexer', 'Pete Drury', 'Peter Dafnous', 'Peter McCowan', 'Pex L', 'Phaedra', 'Phanatic', 'Phatzoo', 'Phaxe', 'Philip Estevez', 'Philip Overdriver', 'Phillipe El Sisi', 'Philthy Chit', 'Phoebe Ryan', 'Phonic Youth', 'Pia Toscano', 'Pierce Fulton', 'Pierre in the Air', 'Pinkbox Special', 'Pinkque', 'Pino Benji', 'Pinque', 'Pirate', 'Pixel', 'Plastika', 'Plavka', 'Plexland', 'Plu-Ton', 'Pobsky', 'Poison Pro', 'Polaris', 'Poli Hubavenska', 'Polina', 'Poonyk', 'Portishead', 'Pretty Pink', 'Primo Lux', 'Prism', 'Private Collection', 'Project 8', 'Prototype', 'Psywork', 'Pulse Regime', 'Puma Scorz', 'Purelight', 'Qrion', 'Quadrophonia', 'Quizzow', 'R-Lend', 'R.E.N.O.I.S.E.', 'RAM presents RAW', 'RBBTS', 'RUMORS', 'RYDEX', 'Rad', 'Radiate', 'Radiate Worship', 'Radmila', 'Rafael Osmo', 'Rafif', 'Rakkano', 'Ralph Novell', 'Rambacy', 'Raminio', 'Ramsey Westwood', 'Randry', 'Randy Boyer & Eric Tadla', 'Raneem', 'Rank', 'Rankey', 'Ransom', 'Rasster', 'Rated R', 'Ratty', 'Rave Channel', 'Raver', 'Rb Naylr', 'Re-Play', 'Re-Ward', 'ReDrive', 'Rea Garvey', 'Realm F', 'Reaves', 'Rebecca Emely', 'Rebourne', 'Receptive', 'Reconceal', 'Red Sky', 'Redd Square', 'Redhead Roman', 'Reece Low', 'Reez', 'Remco', 'Renvo', 'Rephlex One', 'Reunify', 'Revolution 9', 'Ria', 'Richie Loop', 'Rifter', 'Rigby', 'Rikkaz', 'Rimsky', 'Rinat Shabanov', 'Rio Lorenzo', 'Riot Night', 'Rising Altitude', 'Riva', 'Rob Naylor', 'Robbert Ladiges', 'Robert & Jaron', 'Robert Darry', 'Roberta Harrison', 'Roddy Reyneart', 'Roland Clark', 'Rolfiek', 'Ron Malakai', 'Ron van den Beuken', 'Ronnie Allstar', 'Rory', \"Rory O'Grady\", 'Rosalee O’Connell', 'Rospy', 'Ross Ferguson', 'Roxanne Barton', 'Ruben de Rond', 'Rubi Heller', 'Run Rivers', 'Ruslan Aschaulov', 'Russell G', 'Russo', 'Rya & Manida', 'Ryan Mendoza', 'Rymania', 'S&L', 'S. Sinka', 'S.H.O.K.K.', 'SDS', 'SECTR 24', 'STEEM SL', 'Saav', 'Sabanci', 'Sabanci & Truby', 'Saer', 'Saint', 'Saint Rush', 'Sally Saifi', 'Sam Knight', 'Sami S', 'San Antonio Harbour', 'Sander Playmo', 'Sander Van Dien', 'Sandra Wagner', 'Santoz', 'Sascha Milde', 'Sasha', 'Sasha August', 'Sasha da Link', 'Scarlett Quinn', 'Scenix', 'Science Deal', 'Scolario', 'Scott Lowe', 'Scylla', 'Sean & Xander', 'Sean Ryan', 'SebDell', 'Sebu', 'Second Reason', 'Second Way', 'Secret Panda Society', 'Seegmo', 'Seelo', 'Sekiu', 'Sendr', 'Sense Of Shiver', 'Sequentia Remix', 'Seraque', 'Serenade', 'Sergey Shabanov', 'Sergey Vegas', 'Serial Smokers', 'Seroya', 'Sesto Sento', 'Seth Hutton', 'Sevenn', 'Sfinx', 'Shahin Badar', 'Shakeh', 'Shanti People', 'Shanti V Deedrah', 'Shaun Gregory', 'Shedona', 'Shelby Merry', 'Sheldon', 'Sherry Flavour', 'Shingo Nakamura', 'Shy Brothers', 'Sian Evans', 'Sian Kosheen', 'Siberian Sun', 'Sibicky', 'Side Effects', 'Sideform Suduaya', 'Signal Space', 'Silvermine', 'Silvester', 'Simadith Project', 'Simmons & Blanc', 'Simon Lee', 'Simon Moon', 'Simon Pitt', 'Simple Art', 'Simply Drew', 'Simza', 'Sion Rae', 'Sirocco', 'Skehan', 'Sky Sound', 'Skye', 'Skyler Stonestreet', 'Slip Friction', 'Slusnik Luna', 'Smallow', 'Smart Apes', 'Smuel', 'Snitker', 'Snowseal', 'Soar', 'Solange', 'Solar Kid', 'Solarium', 'Solarstone Pure', 'Solex', 'Solicitous', 'Solid Skill', 'Solid Sleep', 'Something Good', 'Sonar Methods', 'Soncesvit', 'Song and the Moon', 'Sonic Division', 'Sons', 'Sons Of Methuselah', 'Sophie Moleta', 'SounEmot', 'Soundcheck', 'SouthLights', 'Space Raven', 'Spara', 'Spencer Tarring', 'Spherical Bloom', 'Sphinx', 'Spoiled and Zigo', 'St. John vs Locust', 'Stacker', 'Stan Serkin', 'Stanford', 'Stanfour', 'Star Industry', 'Starecase', 'Starfighter', 'Starkillers', 'State One', 'State of Mind', 'Stefan Cambridge', 'Stefan Dabruck', 'Steff da Campo', 'Stellz', 'Stephane Badey', 'Stephanie Kay', 'Stephen Kirkwood', 'Stephen Ridley', 'Stephey', 'Stereo Wildlife', 'Steve Allan', 'Steve Aoki', 'Steve Aries', 'Steve Bengaln', 'Steve Birch', 'Steve Forte Rio', 'Steve Haines', 'Steve Morley', 'Steven Brooks', 'Steven De Sar', 'Steven Force', 'Stimulator', 'Stoneface', 'Stoneless', 'Straight Up', 'Stream Noise', 'Street Punk', 'Stuart Millar', 'Stuart Trainer', 'Stvn', 'Stylo', 'Subimpact', 'Subversion', 'Sultan & Sheperd', 'Sun Brothers', 'Sun State', 'Sunbrothers', 'Suncore', 'Suncrusaders', 'Sunday 5pm', 'Sunleed', 'Sunlight Project', 'Sunset Slave', 'Super8 & DJ Tab', 'Supuer', 'Swanky Tunes', 'Swift', 'Sykamore', 'Sylvi', 'Symbolic', 'Symon & Jay', 'Syndica', 'Syndique', 'System Nipel', 'Systembreaker', 'T.h.', 'TATA1', 'TEKNO', 'THNK', 'Tabasco Bob', 'Tadi & Nv', 'Taiko', 'Taival', 'Tales Of Life', 'Tamra', 'Tangle & Mateusz', 'Tania Mann', 'Tara Louise', 'Taranhawk', 'Tasadi', 'Tasso', 'Taucher', 'Taylor', 'Team Bastian', 'Tee-Ex', 'Tekno', 'Temperheart', 'Tensteps', 'Terminal', 'Terracotta Army', 'Terry Gaters', 'Tetarise', 'Tetraflux', 'Tetrazone', 'The A&N Project', 'The Antipodes', 'The Ashk One', 'The Atari Babies', 'The Avains', 'The Chill Factor', 'The Conductor & The Cowboy', 'The Delta Rock Duo', 'The Doppler Effect', 'The Enlightment', 'The Inheritors', 'The Midnight', 'The Nasty Boyz', 'The Orange', 'The Royalties STHLM', 'The Second Phase', 'The Spacelovers', 'The Spanish Armada', 'The Technicians', 'The Tribute', 'The Veil Kings', 'The WLT', 'Theo', 'Therese', 'Theresia Svensson', 'Thick As Thieves', \"Thomas Datt's\", 'Thomas Kelle', 'Thomas Knight', 'Thomas Newson', 'Thomas Orlando', 'Thomas Sagstad', 'Thomas Schwartz', 'Thomas T', 'Thomas T.', 'Thomas Vink', 'Thoneick', 'Thorisson', 'Three Drives On A Vinyl', 'Tiffany Johnston', 'Tilt', 'Tim & Misjah', 'Tim Besamusca', 'Tim Briggs', 'Tim Preijers', 'Tim White', 'Timelock', 'Timmo Hendriks', 'Timmus', 'Timo Vaittinen', 'Timur Shafiev', 'Timur Shafiey', 'Tobi Atkins', 'Tolga Uzulmez', 'Toltel', 'Tom Glide', 'Tom Porcell', 'Tom Stronghold', 'Tom Tyler', 'Tomahawk', 'Tommy Baynen', 'Tommy Conway', 'Torio', 'Tour de Trance', 'Trance Reserve', 'TranceEye', 'Tranceforce', 'Transa', 'Transwave', 'Treadstone', 'Trent McDermott', 'Tribal Point', 'Tricia McTeagu', 'Trilucid', 'Trine', 'Triple Seven', 'Triqz', 'Tristan', 'Tropical Groove', 'Truewave', 'Tsukerman', 'Tube & Miller', 'Twilight', 'Tygris', 'U-Jeen', 'U-Turn', 'UMEK', \"Uberjak'd\", 'Uli Poeppelbaum', 'Unconditional', 'Underdown', 'Underwater', 'Universal Sense', 'Unknown Source', 'Unseen Dimensions', 'V-One', 'Vada', 'Vadik', 'Valhalla', 'Van Der Vleuten', 'Van Dresen', 'Van Eyden', 'Varsente', 'Vascotia', 'Vector 7', 'Vegaro', 'Vegas', 'Vegas Baby', 'Vehemence', 'Veit', 'Velden', 'Velvetine', 'Venice', 'Vercitti', 'Verny', 'Vertel', 'Vertruda', 'Vicky Fee', 'Victoria Duffield', 'Vince Schuld', 'Vincent Voort', 'Vir2l Vision', 'Visionaire', 'Visior', 'Vlad Captivity', 'Vol Deeman', 'Volition', 'Voolgarizm', 'Voytech', 'Vök', 'WARRIORS', 'Walden', 'Walsh', 'Warren Adam', 'Waterspark', 'Wayne Jackson', 'We Are Loud', 'WeAreAlien', 'WeareD', 'Wellenrausch', 'Westlake', 'What So Not', 'Whitelight', 'Wiegel', 'WildOnes', 'Wildstylez', 'Will Watson', 'Win and Woo', 'Winona Oak', 'With The Winds', 'Within Temptation', 'Wonder Element', 'Woodshokk', 'X-Ploarations', 'XIRA', 'Xanwow', 'Xijaro', 'Xspective Sense', 'Yanave', 'Yotto', 'Young Rebels', 'Yourdee', 'Yuna-X', 'ZOYA', 'Zach Zlov', 'Zack Evans', 'Zack Martino', 'Zehavi & Rand', 'Zein Hallak', 'Ziger', 'Zigi', 'Ziki', 'Zinkibaru', 'Zinou', 'Zyce', 'brando', 'i', 'tAudrey Gallagher', 'tyDi & Dennis Sheperd']\n"
     ]
    }
   ],
   "source": [
    "#collapse\n",
    "print(sorted(one_hit_wonders))"
   ]
  },
  {
   "cell_type": "markdown",
   "metadata": {},
   "source": [
    "Highlights include Steve Aoki and What So Not, among others. Again, this is based on how artists are reported in Spotify and as such is not entirely accurate. In the above we see 'tAudrey Gallagher' and \"Thomas Datt's\", both typos, report as separate from their namesake."
   ]
  },
  {
   "cell_type": "markdown",
   "metadata": {},
   "source": [
    "## Summary"
   ]
  },
  {
   "cell_type": "markdown",
   "metadata": {},
   "source": [
    "In conclusion, across the current (as of writing) 960 episodes of A State of Trance...\n",
    "* 17,000+ total tracks have been played\n",
    "* 4,000+ unique artists have been featured\n",
    "* 1,200+ tracks produced by Armin van Buuren in some form or another have been played\n",
    "* 1,700+ artists (43%) have been played exactly once\n",
    "\n",
    "And there we have it! There's plenty more to investigate, stay tuned.."
   ]
  },
  {
   "cell_type": "code",
   "execution_count": null,
   "metadata": {},
   "outputs": [],
   "source": []
  }
 ],
 "metadata": {
  "kernelspec": {
   "display_name": "Python 3.7.2 64-bit",
   "language": "python",
   "name": "python37264bitd02087c11aa44bc1836ca911a102f0f5"
  },
  "language_info": {
   "codemirror_mode": {
    "name": "ipython",
    "version": 3
   },
   "file_extension": ".py",
   "mimetype": "text/x-python",
   "name": "python",
   "nbconvert_exporter": "python",
   "pygments_lexer": "ipython3",
   "version": "3.7.2"
  }
 },
 "nbformat": 4,
 "nbformat_minor": 4
}

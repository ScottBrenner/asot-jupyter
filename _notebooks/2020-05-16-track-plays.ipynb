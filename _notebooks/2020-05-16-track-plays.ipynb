{
 "cells": [
  {
   "cell_type": "markdown",
   "metadata": {},
   "source": [
    "# Track Plays\n",
    "> Tracking track plays over time.\n",
    "\n",
    "- toc: true \n",
    "- badges: true\n",
    "- comments: false\n",
    "- categories: [asot, tracks]\n",
    "- image: images/track-plays.png"
   ]
  },
  {
   "cell_type": "code",
   "execution_count": 3,
   "metadata": {},
   "outputs": [],
   "source": [
    "#hide\n",
    "import os\n",
    "import yaml\n",
    "import spotipy\n",
    "import json\n",
    "import altair as alt\n",
    "import numpy as np\n",
    "import pandas as pd\n",
    "from spotipy.oauth2 import SpotifyClientCredentials\n",
    "\n",
    "with open('spotipy_credentials.yaml', 'r') as spotipy_credentials_file:\n",
    "    credentials = yaml.safe_load(spotipy_credentials_file)\n",
    "    os.environ[\"SPOTIPY_CLIENT_ID\"] = credentials['spotipy_credentials']['spotipy_client_id']\n",
    "    os.environ[\"SPOTIPY_CLIENT_SECRET\"] = credentials['spotipy_credentials']['spotipi_client_seret']\n",
    "\n",
    "sp = spotipy.Spotify(client_credentials_manager=SpotifyClientCredentials())\n",
    "\n",
    "asot_radio_id = '25mFVpuABa9GkGcj9eOPce'\n",
    "\n",
    "albums = []\n",
    "results = sp.artist_albums(asot_radio_id, album_type='album')\n",
    "albums.extend(results['items'])\n",
    "while results['next']:\n",
    "    results = sp.next(results)\n",
    "    albums.extend(results['items'])\n",
    "seen = set()  # to avoid dups\n",
    "for album in albums:\n",
    "    name = album['name']\n",
    "    if name not in seen:\n",
    "        seen.add(name)\n",
    "\n",
    "singles = []\n",
    "results = sp.artist_albums(asot_radio_id, album_type='single')\n",
    "singles.extend(results['items'])\n",
    "while results['next']:\n",
    "    results = sp.next(results)\n",
    "    singles.extend(results['items'])\n",
    "seen = set()  # to avoid dups\n",
    "for single in singles:\n",
    "    name = single['name']\n",
    "    if name not in seen:\n",
    "        seen.add(name)\n",
    "\n",
    "episodes = singles + albums\n",
    "\n",
    "episodes.sort(key=lambda x: x['release_date']) # Sort by release date"
   ]
  },
  {
   "cell_type": "markdown",
   "metadata": {},
   "source": [
    "## Introduction"
   ]
  },
  {
   "cell_type": "markdown",
   "metadata": {},
   "source": [
    "How many unique tracks have been played on A State of Trance over the years? What's been played the most?\n",
    "\n",
    "In this post, we'll examine track plays over time."
   ]
  },
  {
   "cell_type": "markdown",
   "metadata": {},
   "source": [
    "## Getting Started"
   ]
  },
  {
   "cell_type": "markdown",
   "metadata": {},
   "source": [
    "First, some baseline analysis. Let's first figure out how many tracks played on A State of Trance are available on Spotify:"
   ]
  },
  {
   "cell_type": "code",
   "execution_count": 4,
   "metadata": {},
   "outputs": [
    {
     "name": "stdout",
     "output_type": "stream",
     "text": [
      "17369\n"
     ]
    }
   ],
   "source": [
    "tracks_counted = 0\n",
    "\n",
    "for episode in episodes:\n",
    "    try:\n",
    "        for track in sp.album_tracks(episode['uri'])['items']:\n",
    "            if \"a state of trance\" in track['name'].lower() or \"- interview\" in track['name'].lower():\n",
    "                continue\n",
    "            else:\n",
    "                tracks_counted += 1\n",
    "    except:\n",
    "        pass\n",
    "\n",
    "print(tracks_counted)"
   ]
  },
  {
   "cell_type": "markdown",
   "metadata": {},
   "source": [
    "Wow - 17,000+ total tracks have been played! Remember, as we learned in the [\"Methodology\" post](https://scottbrenner.github.io/asot-jupyter/asot/bpm/2020/04/27/methodology.html) some episodes - especially early ones - are incomplete.\n",
    "\n",
    "How many unique tracks? Get your regular expressions ready .."
   ]
  },
  {
   "cell_type": "code",
   "execution_count": 5,
   "metadata": {},
   "outputs": [
    {
     "name": "stdout",
     "output_type": "stream",
     "text": [
      "12722\n"
     ]
    }
   ],
   "source": [
    "import re\n",
    "\n",
    "unique_tracks = set()\n",
    "\n",
    "for episode in episodes:\n",
    "    try:\n",
    "        for track in sp.album_tracks(episode['uri'])['items']:\n",
    "            if \"a state of trance\" in track['name'].lower() or \"- interview\" in track['name'].lower():\n",
    "                continue\n",
    "            else:\n",
    "                unique_tracks.add(re.sub(\"[\\(\\[].*?[\\)\\]]\", \"\", track['name'])) # Remove episode numbers from track names (ex. 'Eternity [ASOT 005]')\n",
    "    except:\n",
    "        pass\n",
    "\n",
    "print(len(unique_tracks))"
   ]
  },
  {
   "cell_type": "markdown",
   "metadata": {},
   "source": [
    "As always, this is a \"best guess\" - an approximation."
   ]
  },
  {
   "cell_type": "markdown",
   "metadata": {},
   "source": [
    "## Calculating"
   ]
  },
  {
   "cell_type": "markdown",
   "metadata": {},
   "source": [
    "Let's crunch some numbers.\n",
    "\n",
    "Which tracks have the most plays?"
   ]
  },
  {
   "cell_type": "code",
   "execution_count": 6,
   "metadata": {},
   "outputs": [],
   "source": [
    "from collections import defaultdict\n",
    "\n",
    "tracks_counter = defaultdict(int)\n",
    "\n",
    "for episode in episodes:\n",
    "    try:\n",
    "        for track in sp.album_tracks(episode['uri'])['items']:\n",
    "            if \"a state of trance\" in track['name'].lower() or \"- interview\" in track['name'].lower():\n",
    "                continue\n",
    "            else:\n",
    "                track_artist = track['artists'][0]['name']\n",
    "                if len(track['artists']) > 1:\n",
    "                    for artist in track['artists'][1:]:\n",
    "                        track_artist += \" & \" + artist['name']\n",
    "                tracks_counter[track_artist + ' - ' + re.sub(\"[\\(\\[].*?[\\)\\]]\", \"\", track['name'])] += 1\n",
    "    except:\n",
    "        pass\n",
    "\n",
    "top_tracks = sorted(tracks_counter.items(), key=lambda k_v: k_v[1], reverse=True)"
   ]
  },
  {
   "cell_type": "markdown",
   "metadata": {},
   "source": [
    "## Results"
   ]
  },
  {
   "cell_type": "markdown",
   "metadata": {},
   "source": [
    "Let's see what we've got!"
   ]
  },
  {
   "cell_type": "code",
   "execution_count": 93,
   "metadata": {},
   "outputs": [
    {
     "name": "stdout",
     "output_type": "stream",
     "text": [
      "('Rising Star - Clear Blue Moon  - Original Mix', 10)\n",
      "('Gareth Emery & STANDERWICK & HALIENE - Saving Light ', 10)\n",
      "('Solid Globe - North Pole  - Original Mix', 9)\n",
      "('Active Sight - The Search For Freedom  - Original Mix', 9)\n",
      "('EnMass - CQ  - Original Mix', 9)\n",
      "('Jonas Steur - Castamara  - Original Mix', 9)\n",
      "('Marco V - Simulated  - Original Mix', 8)\n",
      "('Rank 1 - Awakening  - Original Mix', 8)\n",
      "('Solarstone & Scott Bond - 3rd Earth  - Original Mix', 8)\n",
      "('Pulser - My Religion  - Original Mix', 8)\n",
      "('Paul van Dyk & Hemstock & Jennings - Nothing But You  - Original Mix', 8)\n",
      "(\"Perry O'Neil - Wave Force  - Original Mix\", 8)\n",
      "('Re:Locate - Rogue  - Original Mix', 8)\n",
      "('Jose Amnesia & Jennifer Rene - Louder  - Original Mix', 8)\n",
      "(\"Armin van Buuren & Ana Criado - I'll Listen  - Original Mix\", 8)\n",
      "('ID - ID ', 8)\n",
      "('RAM - RAMexico ', 8)\n",
      "('Cosmic Gate & Forêt - Need To Feel Loved ', 8)\n",
      "('Solarstone - Seven Cities  - Armin van Buuren Remix', 7)\n",
      "('Solarstone & Scott Bond - Naked Angel  - Original Mix', 7)\n",
      "('Roland Klinkenberg - Monday Groove  - Original Mix', 7)\n",
      "('Solid Globe - Sahara  - Original Mix', 7)\n",
      "('Adam White & Andy Moor & Whiteroom - The White Room  - Original Mix', 7)\n",
      "('Robert Gitelman - Children Of The Sun  - Original Mix', 7)\n",
      "('Interstate - I Found You  - Original Mix', 7)\n"
     ]
    }
   ],
   "source": [
    "for track in top_tracks[:25]:\n",
    "    print(track)"
   ]
  },
  {
   "cell_type": "markdown",
   "metadata": {},
   "source": [
    "In a crude graph:"
   ]
  },
  {
   "cell_type": "code",
   "execution_count": 94,
   "metadata": {},
   "outputs": [
    {
     "data": {
      "text/html": [
       "\n",
       "<div id=\"altair-viz-28f801cf23424af78a73499a88c1c0b0\"></div>\n",
       "<script type=\"text/javascript\">\n",
       "  (function(spec, embedOpt){\n",
       "    let outputDiv = document.currentScript.previousElementSibling;\n",
       "    if (outputDiv.id !== \"altair-viz-28f801cf23424af78a73499a88c1c0b0\") {\n",
       "      outputDiv = document.getElementById(\"altair-viz-28f801cf23424af78a73499a88c1c0b0\");\n",
       "    }\n",
       "    const paths = {\n",
       "      \"vega\": \"https://cdn.jsdelivr.net/npm//vega@5?noext\",\n",
       "      \"vega-lib\": \"https://cdn.jsdelivr.net/npm//vega-lib?noext\",\n",
       "      \"vega-lite\": \"https://cdn.jsdelivr.net/npm//vega-lite@4.8.1?noext\",\n",
       "      \"vega-embed\": \"https://cdn.jsdelivr.net/npm//vega-embed@6?noext\",\n",
       "    };\n",
       "\n",
       "    function loadScript(lib) {\n",
       "      return new Promise(function(resolve, reject) {\n",
       "        var s = document.createElement('script');\n",
       "        s.src = paths[lib];\n",
       "        s.async = true;\n",
       "        s.onload = () => resolve(paths[lib]);\n",
       "        s.onerror = () => reject(`Error loading script: ${paths[lib]}`);\n",
       "        document.getElementsByTagName(\"head\")[0].appendChild(s);\n",
       "      });\n",
       "    }\n",
       "\n",
       "    function showError(err) {\n",
       "      outputDiv.innerHTML = `<div class=\"error\" style=\"color:red;\">${err}</div>`;\n",
       "      throw err;\n",
       "    }\n",
       "\n",
       "    function displayChart(vegaEmbed) {\n",
       "      vegaEmbed(outputDiv, spec, embedOpt)\n",
       "        .catch(err => showError(`Javascript Error: ${err.message}<br>This usually means there's a typo in your chart specification. See the javascript console for the full traceback.`));\n",
       "    }\n",
       "\n",
       "    if(typeof define === \"function\" && define.amd) {\n",
       "      requirejs.config({paths});\n",
       "      require([\"vega-embed\"], displayChart, err => showError(`Error loading script: ${err.message}`));\n",
       "    } else if (typeof vegaEmbed === \"function\") {\n",
       "      displayChart(vegaEmbed);\n",
       "    } else {\n",
       "      loadScript(\"vega\")\n",
       "        .then(() => loadScript(\"vega-lite\"))\n",
       "        .then(() => loadScript(\"vega-embed\"))\n",
       "        .catch(showError)\n",
       "        .then(() => displayChart(vegaEmbed));\n",
       "    }\n",
       "  })({\"config\": {\"view\": {\"continuousWidth\": 400, \"continuousHeight\": 300}}, \"layer\": [{\"mark\": \"bar\", \"encoding\": {\"x\": {\"type\": \"quantitative\", \"field\": \"1\", \"title\": \"Plays\"}, \"y\": {\"type\": \"nominal\", \"axis\": {\"labels\": false}, \"field\": \"0\", \"sort\": \"-x\", \"title\": \"Track\"}}, \"title\": \"A State of Trance - Most-played tracks\", \"width\": 500}, {\"mark\": {\"type\": \"text\", \"align\": \"left\", \"color\": \"white\", \"dx\": -350}, \"encoding\": {\"text\": {\"type\": \"nominal\", \"field\": \"0\"}, \"x\": {\"type\": \"quantitative\", \"field\": \"1\", \"title\": \"Plays\"}, \"y\": {\"type\": \"nominal\", \"field\": \"0\", \"sort\": \"-x\"}}}], \"data\": {\"name\": \"data-e0cb0000e3691fbde5afc2f6157b7097\"}, \"$schema\": \"https://vega.github.io/schema/vega-lite/v4.8.1.json\", \"datasets\": {\"data-e0cb0000e3691fbde5afc2f6157b7097\": [{\"0\": \"Rising Star - Clear Blue Moon  - Original Mix\", \"1\": 10}, {\"0\": \"Gareth Emery & STANDERWICK & HALIENE - Saving Light \", \"1\": 10}, {\"0\": \"Solid Globe - North Pole  - Original Mix\", \"1\": 9}, {\"0\": \"Active Sight - The Search For Freedom  - Original Mix\", \"1\": 9}, {\"0\": \"EnMass - CQ  - Original Mix\", \"1\": 9}, {\"0\": \"Jonas Steur - Castamara  - Original Mix\", \"1\": 9}, {\"0\": \"Marco V - Simulated  - Original Mix\", \"1\": 8}, {\"0\": \"Rank 1 - Awakening  - Original Mix\", \"1\": 8}, {\"0\": \"Solarstone & Scott Bond - 3rd Earth  - Original Mix\", \"1\": 8}, {\"0\": \"Pulser - My Religion  - Original Mix\", \"1\": 8}, {\"0\": \"Paul van Dyk & Hemstock & Jennings - Nothing But You  - Original Mix\", \"1\": 8}, {\"0\": \"Perry O'Neil - Wave Force  - Original Mix\", \"1\": 8}, {\"0\": \"Re:Locate - Rogue  - Original Mix\", \"1\": 8}, {\"0\": \"Jose Amnesia & Jennifer Rene - Louder  - Original Mix\", \"1\": 8}, {\"0\": \"Armin van Buuren & Ana Criado - I'll Listen  - Original Mix\", \"1\": 8}, {\"0\": \"ID - ID \", \"1\": 8}, {\"0\": \"RAM - RAMexico \", \"1\": 8}, {\"0\": \"Cosmic Gate & For\\u00eat - Need To Feel Loved \", \"1\": 8}, {\"0\": \"Solarstone - Seven Cities  - Armin van Buuren Remix\", \"1\": 7}, {\"0\": \"Solarstone & Scott Bond - Naked Angel  - Original Mix\", \"1\": 7}, {\"0\": \"Roland Klinkenberg - Monday Groove  - Original Mix\", \"1\": 7}, {\"0\": \"Solid Globe - Sahara  - Original Mix\", \"1\": 7}, {\"0\": \"Adam White & Andy Moor & Whiteroom - The White Room  - Original Mix\", \"1\": 7}, {\"0\": \"Robert Gitelman - Children Of The Sun  - Original Mix\", \"1\": 7}, {\"0\": \"Interstate - I Found You  - Original Mix\", \"1\": 7}]}}, {\"mode\": \"vega-lite\"});\n",
       "</script>"
      ],
      "text/plain": [
       "alt.LayerChart(...)"
      ]
     },
     "execution_count": 94,
     "metadata": {},
     "output_type": "execute_result"
    }
   ],
   "source": [
    "source = pd.DataFrame.from_dict(top_tracks[:25])\n",
    "\n",
    "bars = alt.Chart(source).mark_bar().encode(\n",
    "    x=alt.X('1:Q', title='Plays'),\n",
    "    y=alt.Y('0:N', sort='-x', title='Track', axis=alt.Axis(labels=False)),\n",
    ").properties(\n",
    "    title=\"A State of Trance - Most-played tracks\",\n",
    "    width=500\n",
    ")\n",
    "\n",
    "text = alt.Chart(source).mark_text(dx=-350, color='white', align='left').encode(\n",
    "    x=alt.X('1:Q', title='Plays'),\n",
    "    y=alt.Y('0:N', sort='-x'),\n",
    "    text=alt.Text('0:N')\n",
    ")\n",
    "\n",
    "bars + text"
   ]
  }
 ],
 "metadata": {
  "kernelspec": {
   "display_name": "Python 3.7.2 64-bit",
   "language": "python",
   "name": "python37264bitd02087c11aa44bc1836ca911a102f0f5"
  },
  "language_info": {
   "codemirror_mode": {
    "name": "ipython",
    "version": 3
   },
   "file_extension": ".py",
   "mimetype": "text/x-python",
   "name": "python",
   "nbconvert_exporter": "python",
   "pygments_lexer": "ipython3",
   "version": "3.7.2"
  }
 },
 "nbformat": 4,
 "nbformat_minor": 4
}

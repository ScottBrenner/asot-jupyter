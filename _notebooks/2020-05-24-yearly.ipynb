{
 "cells": [
  {
   "cell_type": "markdown",
   "metadata": {},
   "source": [
    "# Yearly Breakdown\n",
    "> Top artists and tracks of the year, along with average episode BPM.\n",
    "\n",
    "- toc: true \n",
    "- badges: true\n",
    "- comments: false\n",
    "- categories: [asot, tracks, arists, bpm]\n",
    "- image: images/yearly.png"
   ]
  },
  {
   "cell_type": "code",
   "execution_count": 1,
   "metadata": {},
   "outputs": [],
   "source": [
    "#hide\n",
    "import os\n",
    "import yaml\n",
    "import spotipy\n",
    "import json\n",
    "import altair as alt\n",
    "import numpy as np\n",
    "import pandas as pd\n",
    "from spotipy.oauth2 import SpotifyClientCredentials\n",
    "\n",
    "with open('spotipy_credentials.yaml', 'r') as spotipy_credentials_file:\n",
    "    credentials = yaml.safe_load(spotipy_credentials_file)\n",
    "    os.environ[\"SPOTIPY_CLIENT_ID\"] = credentials['spotipy_credentials']['spotipy_client_id']\n",
    "    os.environ[\"SPOTIPY_CLIENT_SECRET\"] = credentials['spotipy_credentials']['spotipi_client_seret']\n",
    "\n",
    "sp = spotipy.Spotify(client_credentials_manager=SpotifyClientCredentials())\n",
    "\n",
    "asot_radio_id = '25mFVpuABa9GkGcj9eOPce'\n",
    "\n",
    "albums = []\n",
    "results = sp.artist_albums(asot_radio_id, album_type='album')\n",
    "albums.extend(results['items'])\n",
    "while results['next']:\n",
    "    results = sp.next(results)\n",
    "    albums.extend(results['items'])\n",
    "seen = set()  # to avoid dups\n",
    "for album in albums:\n",
    "    name = album['name']\n",
    "    if name not in seen:\n",
    "        seen.add(name)\n",
    "\n",
    "singles = []\n",
    "results = sp.artist_albums(asot_radio_id, album_type='single')\n",
    "singles.extend(results['items'])\n",
    "while results['next']:\n",
    "    results = sp.next(results)\n",
    "    singles.extend(results['items'])\n",
    "seen = set()  # to avoid dups\n",
    "for single in singles:\n",
    "    name = single['name']\n",
    "    if name not in seen:\n",
    "        seen.add(name)\n",
    "\n",
    "episodes = singles + albums\n",
    "\n",
    "episodes.sort(key=lambda x: x['release_date']) # Sort by release date"
   ]
  },
  {
   "cell_type": "markdown",
   "metadata": {},
   "source": [
    "## Introduction"
   ]
  },
  {
   "cell_type": "markdown",
   "metadata": {},
   "source": [
    "We've previously looked at A State of Trance's [average episode BPM](https://scottbrenner.github.io/asot-jupyter/asot/bpm/2020/04/28/avg-bpm.html), [most-played artists](https://scottbrenner.github.io/asot-jupyter/asot/artists/2020/05/02/artist-plays.html) and [most-played tracks](https://scottbrenner.github.io/asot-jupyter/asot/tracks/2020/05/16/track-plays.html) _overall_.\n",
    "\n",
    "In this post, we'll do the same - but looking at how it changes from _year-to-year_."
   ]
  },
  {
   "cell_type": "markdown",
   "metadata": {},
   "source": [
    "## Getting Started"
   ]
  },
  {
   "cell_type": "markdown",
   "metadata": {},
   "source": [
    "[The first episode of A State of Trance aired in 2001](https://en.wikipedia.org/wiki/A_State_of_Trance#History). Since then, the show has seen"
   ]
  },
  {
   "cell_type": "code",
   "execution_count": 2,
   "metadata": {},
   "outputs": [
    {
     "data": {
      "text/plain": [
       "963"
      ]
     },
     "execution_count": 2,
     "metadata": {},
     "output_type": "execute_result"
    }
   ],
   "source": [
    "len(episodes)"
   ]
  },
  {
   "cell_type": "markdown",
   "metadata": {},
   "source": [
    "episodes of across its nearly 20-year run. _As of writing, according to Spotify, etc .._\n",
    "\n",
    "As a weekly radio show, I'd expect to see about 52 episodes air each year. Is that correct?\n",
    "\n",
    "Fortunately Spotify can tell us when an episode aired:"
   ]
  },
  {
   "cell_type": "code",
   "execution_count": 8,
   "metadata": {},
   "outputs": [
    {
     "name": "stdout",
     "output_type": "stream",
     "text": [
      "A State Of Trance Episode 000 2001-05-17\n",
      "A State Of Trance Episode 001 2001-05-31\n",
      "A State Of Trance Episode 002 2001-06-07\n",
      "A State Of Trance Episode 003 2001-06-14\n",
      "A State Of Trance Episode 004 2001-06-21\n",
      "A State Of Trance Episode 005 2001-06-28\n",
      "A State Of Trance Episode 006 2001-07-19\n",
      "A State Of Trance Episode 007 2001-07-26\n",
      "A State Of Trance Episode 008 2001-08-02\n",
      "A State Of Trance Episode 009 2001-08-09\n"
     ]
    }
   ],
   "source": [
    "# Air dates for the first 10 episodes\n",
    "for episode in episodes[:10]:\n",
    "    print(episode['name'], episode['release_date'])"
   ]
  },
  {
   "cell_type": "markdown",
   "metadata": {},
   "source": [
    "So we can keep a running tally for each year, then print the result:"
   ]
  },
  {
   "cell_type": "code",
   "execution_count": 34,
   "metadata": {},
   "outputs": [
    {
     "name": "stdout",
     "output_type": "stream",
     "text": [
      "{'2001': 27, '2002': 50, '2003': 50, '2004': 52, '2005': 48, '2006': 50, '2007': 51, '2008': 51, '2009': 51, '2010': 50, '2011': 52, '2012': 51, '2013': 51, '2014': 51, '2015': 52, '2016': 50, '2017': 51, '2018': 52, '2019': 52, '2020': 21}\n"
     ]
    }
   ],
   "source": [
    "from collections import defaultdict\n",
    "\n",
    "episodes_counter = defaultdict(int)\n",
    "\n",
    "for episode in episodes:\n",
    "    episodes_counter[episode['release_date'][:4]] += 1\n",
    "\n",
    "print(dict(episodes_counter))"
   ]
  },
  {
   "cell_type": "markdown",
   "metadata": {},
   "source": [
    "Seems reasonable enough!"
   ]
  },
  {
   "cell_type": "markdown",
   "metadata": {},
   "source": [
    "## Calculating"
   ]
  },
  {
   "cell_type": "markdown",
   "metadata": {},
   "source": [
    "Let's crunch some numbers.\n",
    "\n",
    "What is the annual average episode BPM?"
   ]
  },
  {
   "cell_type": "code",
   "execution_count": 39,
   "metadata": {},
   "outputs": [
    {
     "name": "stdout",
     "output_type": "stream",
     "text": [
      "{'2001': 137.34653042328043, '2002': 138.77037672527473, '2003': 137.87648184593183, '2004': 136.8379514048452, '2005': 135.9946882254463, '2006': 136.21986194104406, '2007': 135.31834901771512, '2008': 134.5739768988312, '2009': 134.84276103847634, '2010': 134.2873634011065, '2011': 133.38769823050973, '2012': 133.77641000308137, '2013': 134.89472557606408, '2014': 134.62926964078503, '2015': 133.21748777702336, '2016': 133.8357659060619, '2017': 133.83226986060524, '2018': 132.8617358100079, '2019': 133.39046580493476, '2020': 133.46879858547982}\n"
     ]
    }
   ],
   "source": [
    "annual_total_bpm = defaultdict(int)\n",
    "annual_avg_bpm = defaultdict(int)\n",
    "\n",
    "for episode in episodes:\n",
    "    try:\n",
    "        episode_bpm = 0\n",
    "        tracks_counted = 0\n",
    "        for track in sp.album_tracks(episode['uri'])['items']:\n",
    "            if \"a state of trance\" in track['name'].lower() or \"- interview\" in track['name'].lower():\n",
    "                continue\n",
    "            else:\n",
    "                episode_bpm += sp.audio_features(track['uri'])[0]['tempo']\n",
    "                tracks_counted += 1\n",
    "        episodes_counted += 1\n",
    "        avg = episode_bpm/tracks_counted\n",
    "        annual_total_bpm[episode['release_date'][:4]] += avg\n",
    "    except:\n",
    "        pass\n",
    "\n",
    "for year, avg in annual_total_bpm.items():\n",
    "    annual_avg_bpm[year] = avg / episodes_counter[year]\n",
    "\n",
    "print(dict(annual_avg_bpm))"
   ]
  },
  {
   "cell_type": "markdown",
   "metadata": {},
   "source": [
    "## Results"
   ]
  },
  {
   "cell_type": "markdown",
   "metadata": {},
   "source": [
    "Let's see what we've got!"
   ]
  },
  {
   "cell_type": "code",
   "execution_count": 109,
   "metadata": {},
   "outputs": [
    {
     "data": {
      "text/html": [
       "\n",
       "<div id=\"altair-viz-f453ae05c1584c14be60e75f8b79a7e4\"></div>\n",
       "<script type=\"text/javascript\">\n",
       "  (function(spec, embedOpt){\n",
       "    let outputDiv = document.currentScript.previousElementSibling;\n",
       "    if (outputDiv.id !== \"altair-viz-f453ae05c1584c14be60e75f8b79a7e4\") {\n",
       "      outputDiv = document.getElementById(\"altair-viz-f453ae05c1584c14be60e75f8b79a7e4\");\n",
       "    }\n",
       "    const paths = {\n",
       "      \"vega\": \"https://cdn.jsdelivr.net/npm//vega@5?noext\",\n",
       "      \"vega-lib\": \"https://cdn.jsdelivr.net/npm//vega-lib?noext\",\n",
       "      \"vega-lite\": \"https://cdn.jsdelivr.net/npm//vega-lite@4.8.1?noext\",\n",
       "      \"vega-embed\": \"https://cdn.jsdelivr.net/npm//vega-embed@6?noext\",\n",
       "    };\n",
       "\n",
       "    function loadScript(lib) {\n",
       "      return new Promise(function(resolve, reject) {\n",
       "        var s = document.createElement('script');\n",
       "        s.src = paths[lib];\n",
       "        s.async = true;\n",
       "        s.onload = () => resolve(paths[lib]);\n",
       "        s.onerror = () => reject(`Error loading script: ${paths[lib]}`);\n",
       "        document.getElementsByTagName(\"head\")[0].appendChild(s);\n",
       "      });\n",
       "    }\n",
       "\n",
       "    function showError(err) {\n",
       "      outputDiv.innerHTML = `<div class=\"error\" style=\"color:red;\">${err}</div>`;\n",
       "      throw err;\n",
       "    }\n",
       "\n",
       "    function displayChart(vegaEmbed) {\n",
       "      vegaEmbed(outputDiv, spec, embedOpt)\n",
       "        .catch(err => showError(`Javascript Error: ${err.message}<br>This usually means there's a typo in your chart specification. See the javascript console for the full traceback.`));\n",
       "    }\n",
       "\n",
       "    if(typeof define === \"function\" && define.amd) {\n",
       "      requirejs.config({paths});\n",
       "      require([\"vega-embed\"], displayChart, err => showError(`Error loading script: ${err.message}`));\n",
       "    } else if (typeof vegaEmbed === \"function\") {\n",
       "      displayChart(vegaEmbed);\n",
       "    } else {\n",
       "      loadScript(\"vega\")\n",
       "        .then(() => loadScript(\"vega-lite\"))\n",
       "        .then(() => loadScript(\"vega-embed\"))\n",
       "        .catch(showError)\n",
       "        .then(() => displayChart(vegaEmbed));\n",
       "    }\n",
       "  })({\"config\": {\"view\": {\"continuousWidth\": 400, \"continuousHeight\": 300}}, \"layer\": [{\"mark\": \"line\", \"encoding\": {\"x\": {\"type\": \"nominal\", \"field\": \"Year\"}, \"y\": {\"type\": \"quantitative\", \"field\": \"Average Episode BPM\", \"scale\": {\"domain\": [130, 140]}}}, \"title\": \"A State of Trance - Annual Average BPM of Episode\", \"width\": 600}, {\"mark\": {\"type\": \"rule\", \"color\": \"red\"}, \"encoding\": {\"y\": {\"type\": \"quantitative\", \"field\": \"138\"}}}], \"data\": {\"name\": \"data-24d5fd95359d0348eac083943aa57f1d\"}, \"$schema\": \"https://vega.github.io/schema/vega-lite/v4.8.1.json\", \"datasets\": {\"data-24d5fd95359d0348eac083943aa57f1d\": [{\"Year\": \"2001\", \"Average Episode BPM\": 137.34653042328043, \"138\": 138}, {\"Year\": \"2002\", \"Average Episode BPM\": 138.77037672527473, \"138\": 138}, {\"Year\": \"2003\", \"Average Episode BPM\": 137.87648184593183, \"138\": 138}, {\"Year\": \"2004\", \"Average Episode BPM\": 136.8379514048452, \"138\": 138}, {\"Year\": \"2005\", \"Average Episode BPM\": 135.9946882254463, \"138\": 138}, {\"Year\": \"2006\", \"Average Episode BPM\": 136.21986194104406, \"138\": 138}, {\"Year\": \"2007\", \"Average Episode BPM\": 135.31834901771512, \"138\": 138}, {\"Year\": \"2008\", \"Average Episode BPM\": 134.5739768988312, \"138\": 138}, {\"Year\": \"2009\", \"Average Episode BPM\": 134.84276103847634, \"138\": 138}, {\"Year\": \"2010\", \"Average Episode BPM\": 134.2873634011065, \"138\": 138}, {\"Year\": \"2011\", \"Average Episode BPM\": 133.38769823050973, \"138\": 138}, {\"Year\": \"2012\", \"Average Episode BPM\": 133.77641000308137, \"138\": 138}, {\"Year\": \"2013\", \"Average Episode BPM\": 134.89472557606408, \"138\": 138}, {\"Year\": \"2014\", \"Average Episode BPM\": 134.62926964078503, \"138\": 138}, {\"Year\": \"2015\", \"Average Episode BPM\": 133.21748777702336, \"138\": 138}, {\"Year\": \"2016\", \"Average Episode BPM\": 133.8357659060619, \"138\": 138}, {\"Year\": \"2017\", \"Average Episode BPM\": 133.83226986060524, \"138\": 138}, {\"Year\": \"2018\", \"Average Episode BPM\": 132.8617358100079, \"138\": 138}, {\"Year\": \"2019\", \"Average Episode BPM\": 133.39046580493476, \"138\": 138}, {\"Year\": \"2020\", \"Average Episode BPM\": 133.46879858547982, \"138\": 138}]}}, {\"mode\": \"vega-lite\"});\n",
       "</script>"
      ],
      "text/plain": [
       "alt.LayerChart(...)"
      ]
     },
     "execution_count": 109,
     "metadata": {},
     "output_type": "execute_result"
    }
   ],
   "source": [
    "source = pd.DataFrame([(k, v) for k, v in annual_avg_bpm.items()], \n",
    "                   columns=['Year', 'Average Episode BPM'])\n",
    "source['138'] = 138\n",
    "\n",
    "base = alt.Chart(source).mark_line().encode(\n",
    "    x=alt.X('Year'),\n",
    "    y=alt.Y('Average Episode BPM', scale=alt.Scale(domain=(130, 140))),\n",
    ").properties(\n",
    "    title=\"A State of Trance - Annual Average BPM of Episode\",\n",
    "    width=600\n",
    ")\n",
    "\n",
    "rule = alt.Chart(source).mark_rule(color='red').encode(\n",
    "    y='138'\n",
    ")\n",
    "\n",
    "base + rule"
   ]
  },
  {
   "cell_type": "code",
   "execution_count": null,
   "metadata": {},
   "outputs": [],
   "source": []
  }
 ],
 "metadata": {
  "kernelspec": {
   "display_name": "Python 3.7.2 64-bit",
   "language": "python",
   "name": "python37264bitd02087c11aa44bc1836ca911a102f0f5"
  },
  "language_info": {
   "codemirror_mode": {
    "name": "ipython",
    "version": 3
   },
   "file_extension": ".py",
   "mimetype": "text/x-python",
   "name": "python",
   "nbconvert_exporter": "python",
   "pygments_lexer": "ipython3",
   "version": "3.7.2"
  }
 },
 "nbformat": 4,
 "nbformat_minor": 4
}

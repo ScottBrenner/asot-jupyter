{
 "cells": [
  {
   "cell_type": "markdown",
   "metadata": {},
   "source": [
    "# Analyzing the ASOT Top 1000\n",
    "> Celebrating 1,000 episodes of A State of Trance.\n",
    "\n",
    "- toc: true \n",
    "- badges: true\n",
    "- comments: false\n",
    "- categories: [asot, bpm, artist, year]\n",
    "- image: images/most-played-artists.png"
   ]
  },
  {
   "cell_type": "code",
   "execution_count": 1,
   "metadata": {},
   "outputs": [
    {
     "name": "stdout",
     "output_type": "stream",
     "text": [
      "Requirement already satisfied: pyyaml in /usr/local/lib/python3.8/dist-packages (5.3.1)\n",
      "Collecting altair\n",
      "  Downloading altair-4.1.0-py3-none-any.whl (727 kB)\n",
      "\u001b[K     |████████████████████████████████| 727 kB 11.7 MB/s eta 0:00:01\n",
      "\u001b[?25hRequirement already satisfied: jinja2 in /usr/local/lib/python3.8/dist-packages (from altair) (2.11.2)\n",
      "Requirement already satisfied: jsonschema in /usr/local/lib/python3.8/dist-packages (from altair) (3.2.0)\n",
      "Requirement already satisfied: entrypoints in /usr/local/lib/python3.8/dist-packages (from altair) (0.3)\n",
      "Collecting pandas>=0.18\n",
      "  Downloading pandas-1.2.1-cp38-cp38-manylinux1_x86_64.whl (9.7 MB)\n",
      "\u001b[K     |████████████████████████████████| 9.7 MB 21.0 MB/s eta 0:00:01\n",
      "\u001b[?25hRequirement already satisfied: python-dateutil>=2.7.3 in /usr/local/lib/python3.8/dist-packages (from pandas>=0.18->altair) (2.8.1)\n",
      "Collecting numpy\n",
      "  Downloading numpy-1.19.5-cp38-cp38-manylinux2010_x86_64.whl (14.9 MB)\n",
      "\u001b[K     |████████████████████████████████| 14.9 MB 89.4 MB/s eta 0:00:01\n",
      "\u001b[?25hRequirement already satisfied: six>=1.5 in /usr/lib/python3/dist-packages (from python-dateutil>=2.7.3->pandas>=0.18->altair) (1.14.0)\n",
      "Collecting pytz>=2017.3\n",
      "  Downloading pytz-2020.5-py2.py3-none-any.whl (510 kB)\n",
      "\u001b[K     |████████████████████████████████| 510 kB 101.4 MB/s eta 0:00:01\n",
      "\u001b[?25hCollecting spotipy\n",
      "  Downloading spotipy-2.16.1-py3-none-any.whl (24 kB)\n",
      "Requirement already satisfied: requests>=2.20.0 in /usr/lib/python3/dist-packages (from spotipy) (2.22.0)\n",
      "Requirement already satisfied: MarkupSafe>=0.23 in /usr/local/lib/python3.8/dist-packages (from jinja2->altair) (1.1.1)\n",
      "Requirement already satisfied: setuptools in /usr/lib/python3/dist-packages (from jsonschema->altair) (45.2.0)\n",
      "Requirement already satisfied: pyrsistent>=0.14.0 in /usr/local/lib/python3.8/dist-packages (from jsonschema->altair) (0.17.3)\n",
      "Requirement already satisfied: attrs>=17.4.0 in /usr/local/lib/python3.8/dist-packages (from jsonschema->altair) (20.3.0)\n",
      "Collecting toolz\n",
      "  Downloading toolz-0.11.1-py3-none-any.whl (55 kB)\n",
      "\u001b[K     |████████████████████████████████| 55 kB 595 kB/s  eta 0:00:01\n",
      "\u001b[?25hInstalling collected packages: pytz, numpy, toolz, pandas, spotipy, altair\n",
      "Successfully installed altair-4.1.0 numpy-1.19.5 pandas-1.2.1 pytz-2020.5 spotipy-2.16.1 toolz-0.11.1\n",
      "\u001b[33mWARNING: You are using pip version 20.3.3; however, version 21.0 is available.\n",
      "You should consider upgrading via the '/usr/bin/python -m pip install --upgrade pip' command.\u001b[0m\n",
      "Note: you may need to restart the kernel to use updated packages.\n"
     ]
    }
   ],
   "source": [
    "#hide\n",
    "%pip install spotipy pyyaml altair"
   ]
  },
  {
   "cell_type": "code",
   "execution_count": 2,
   "metadata": {},
   "outputs": [],
   "source": [
    "#hide\n",
    "import os\n",
    "import yaml\n",
    "import spotipy\n",
    "import json\n",
    "import altair as alt\n",
    "import numpy as np\n",
    "import pandas as pd\n",
    "from spotipy.oauth2 import SpotifyClientCredentials\n",
    "\n",
    "sp = spotipy.Spotify(client_credentials_manager=SpotifyClientCredentials())"
   ]
  },
  {
   "cell_type": "markdown",
   "metadata": {},
   "source": [
    "## Introduction"
   ]
  },
  {
   "cell_type": "markdown",
   "metadata": {},
   "source": [
    "To celebrate the 1,000th episode of A State of Trance the radioshow invited viewers to vote for their all-time favorite trance tracks, and the resulting list was broadcast as [ASOT 1000](https://www.astateoftrance.com/episodes/asot1000/).\n",
    "\n",
    "In this post we'll analyze the top 1,000 - which artists, BPMs, and years are most-represented? And more!"
   ]
  },
  {
   "cell_type": "markdown",
   "metadata": {},
   "source": [
    "## Some Housekeeping"
   ]
  },
  {
   "cell_type": "markdown",
   "metadata": {},
   "source": [
    "As with previous posts here, we'll be pulling data from Spotify and graphing the results. While there is [an official \"ASOT Top 1000\"](https://open.spotify.com/playlist/5QafFMGgQKGwqgV7k3qHy6) playlist on Spotify, I'm opting to instead use the \"[ASOT TOP 1000 Countdown Extended](https://open.spotify.com/playlist/5DCcjCLMlPjTwKLCcYyzIj)\" playlist [compiled by reddit user turbodevin](https://www.reddit.com/r/trance/comments/l2ae9y/relive_the_asot_top_1000_countdown_in_your_own/). As Devin writes,\n",
    "\n",
    "> I used a filler track (4 seconds) for the missing song, to keep the song numbers corresponding to the ranking. When an extended version was not available, a shorter version is used. When a remix is not available, the regular version is used when available.\n",
    "> MISSING\n",
    ">\n",
    ">    531 || Sean Callery - The Longest Day (Armin van Buuren Remix)\n",
    ">\n",
    "> REMIX NOT AVAILABLE\n",
    ">\n",
    ">    414 || Faithless - Insomnia (Andrew Rayel Remix)\n",
    ">\n",
    ">    520 || Safri Duo - Played A Live (The Bongo Song) [NWYR & Willem de Roo Remix]\n",
    ">\n",
    ">    530 || Kensington - Sorry (Armin van Buuren Remix)\n",
    ">\n",
    ">    635 || Ilse de Lange - The Great Escape (Armin van Buuren Remix)\n",
    ">\n",
    ">    661 || Zedd feat. Foxes - Clarity (Andrew Rayel Remix)\n",
    "\n",
    "While the playlist may not be complete, I'd still consider to be the most-complete playlist available on Spotify - using extended mixes over the official playlist's radio mixes is certainly more preferrable, at least.\n",
    "\n",
    "Remember, all data here is pulled directly from Spotify's API without any modification from my end. See the post on [Methodology](https://scottbrenner.github.io/asot-jupyter/asot/bpm/2020/04/27/methodology.html) for details on what data we can pull from Spotify, and how. Notably, Spotify's [`AudioFeaturesObject`](https://developer.spotify.com/documentation/web-api/reference/#objects-index) lists `tempo` as \"overall estimated tempo of a track in beats per minute (BPM)\" - keyword being _estimate_. I've done little to account for any inconsistencies and nothing to address them!\n",
    "\n",
    "[Spotify's API for \"Get a Playlist's Items\" limits us to getting 100 tracks at a time](https://developer.spotify.com/documentation/web-api/reference/#category-playlists). Let's make 10 API calls for 100 tracks each, incrementing `offset` each time, and save the results."
   ]
  },
  {
   "cell_type": "code",
   "execution_count": 3,
   "metadata": {
    "scrolled": true
   },
   "outputs": [
    {
     "name": "stdout",
     "output_type": "stream",
     "text": [
      "1000\n"
     ]
    }
   ],
   "source": [
    "\"\"\"\n",
    "User: https://open.spotify.com/user/113444659\n",
    "Playlist: ASOT TOP 1000 Countdown Extended\n",
    "Playlist link: https://open.spotify.com/playlist/5DCcjCLMlPjTwKLCcYyzIj\n",
    "Playlist ID: 5DCcjCLMlPjTwKLCcYyzIj\n",
    "\"\"\"\n",
    "top_1000_playlist = '5DCcjCLMlPjTwKLCcYyzIj'\n",
    "\n",
    "top_1000_tracks = []\n",
    "\n",
    "# Get full details of the tracks and episodes of a playlis\n",
    "# https://spotipy.readthedocs.io/en/2.16.1/#spotipy.client.Spotify.playlist_items\n",
    "top_1000_tracks.extend(sp.playlist_tracks(top_1000_playlist)['items'])\n",
    "top_1000_tracks.extend(sp.playlist_tracks(top_1000_playlist, offset=100)['items'])\n",
    "top_1000_tracks.extend(sp.playlist_tracks(top_1000_playlist, offset=200)['items'])\n",
    "top_1000_tracks.extend(sp.playlist_tracks(top_1000_playlist, offset=300)['items'])\n",
    "top_1000_tracks.extend(sp.playlist_tracks(top_1000_playlist, offset=400)['items'])\n",
    "top_1000_tracks.extend(sp.playlist_tracks(top_1000_playlist, offset=500)['items'])\n",
    "top_1000_tracks.extend(sp.playlist_tracks(top_1000_playlist, offset=600)['items'])\n",
    "top_1000_tracks.extend(sp.playlist_tracks(top_1000_playlist, offset=700)['items'])\n",
    "top_1000_tracks.extend(sp.playlist_tracks(top_1000_playlist, offset=800)['items'])\n",
    "top_1000_tracks.extend(sp.playlist_tracks(top_1000_playlist, offset=900)['items'])\n",
    "print(len(top_1000_tracks))"
   ]
  },
  {
   "cell_type": "markdown",
   "metadata": {},
   "source": [
    "What's number 1?"
   ]
  },
  {
   "cell_type": "code",
   "execution_count": 4,
   "metadata": {},
   "outputs": [
    {
     "name": "stdout",
     "output_type": "stream",
     "text": [
      "Armin van Buuren - Shivers\n"
     ]
    }
   ],
   "source": [
    "print(top_1000_tracks[999]['track']['artists'][0]['name'], '-', top_1000_tracks[999]['track']['name'])"
   ]
  },
  {
   "cell_type": "markdown",
   "metadata": {},
   "source": [
    "## Artists"
   ]
  },
  {
   "cell_type": "markdown",
   "metadata": {},
   "source": [
    "Let's begin by looking at the artists who made the top 1000 - how many unique artists were featured?"
   ]
  },
  {
   "cell_type": "code",
   "execution_count": 5,
   "metadata": {},
   "outputs": [
    {
     "name": "stdout",
     "output_type": "stream",
     "text": [
      "639\n"
     ]
    }
   ],
   "source": [
    "unique_artists = set()\n",
    "\n",
    "for track in top_1000_tracks:\n",
    "    for artist in track['track']['artists']:\n",
    "            unique_artists.add(artist['name'])      \n",
    "\n",
    "print(len(unique_artists))"
   ]
  },
  {
   "cell_type": "markdown",
   "metadata": {},
   "source": [
    "Which artists were featured the most?"
   ]
  },
  {
   "cell_type": "code",
   "execution_count": 6,
   "metadata": {},
   "outputs": [],
   "source": [
    "from collections import defaultdict\n",
    "\n",
    "artist_counter = defaultdict(int)\n",
    "\n",
    "for track in top_1000_tracks:\n",
    "    for artist in track['track']['artists']:\n",
    "         artist_counter[artist['name']] += 1\n",
    "\n",
    "\n",
    "top_artists = sorted(artist_counter.items(), key=lambda k_v: k_v[1], reverse=True)"
   ]
  },
  {
   "cell_type": "markdown",
   "metadata": {},
   "source": [
    "Alright, let's see the top 25 in a graph.."
   ]
  },
  {
   "cell_type": "code",
   "execution_count": 7,
   "metadata": {},
   "outputs": [
    {
     "data": {
      "text/html": [
       "\n",
       "<div id=\"altair-viz-ec504c7697604ad58725e5a8eafd9207\"></div>\n",
       "<script type=\"text/javascript\">\n",
       "  (function(spec, embedOpt){\n",
       "    let outputDiv = document.currentScript.previousElementSibling;\n",
       "    if (outputDiv.id !== \"altair-viz-ec504c7697604ad58725e5a8eafd9207\") {\n",
       "      outputDiv = document.getElementById(\"altair-viz-ec504c7697604ad58725e5a8eafd9207\");\n",
       "    }\n",
       "    const paths = {\n",
       "      \"vega\": \"https://cdn.jsdelivr.net/npm//vega@5?noext\",\n",
       "      \"vega-lib\": \"https://cdn.jsdelivr.net/npm//vega-lib?noext\",\n",
       "      \"vega-lite\": \"https://cdn.jsdelivr.net/npm//vega-lite@4.8.1?noext\",\n",
       "      \"vega-embed\": \"https://cdn.jsdelivr.net/npm//vega-embed@6?noext\",\n",
       "    };\n",
       "\n",
       "    function loadScript(lib) {\n",
       "      return new Promise(function(resolve, reject) {\n",
       "        var s = document.createElement('script');\n",
       "        s.src = paths[lib];\n",
       "        s.async = true;\n",
       "        s.onload = () => resolve(paths[lib]);\n",
       "        s.onerror = () => reject(`Error loading script: ${paths[lib]}`);\n",
       "        document.getElementsByTagName(\"head\")[0].appendChild(s);\n",
       "      });\n",
       "    }\n",
       "\n",
       "    function showError(err) {\n",
       "      outputDiv.innerHTML = `<div class=\"error\" style=\"color:red;\">${err}</div>`;\n",
       "      throw err;\n",
       "    }\n",
       "\n",
       "    function displayChart(vegaEmbed) {\n",
       "      vegaEmbed(outputDiv, spec, embedOpt)\n",
       "        .catch(err => showError(`Javascript Error: ${err.message}<br>This usually means there's a typo in your chart specification. See the javascript console for the full traceback.`));\n",
       "    }\n",
       "\n",
       "    if(typeof define === \"function\" && define.amd) {\n",
       "      requirejs.config({paths});\n",
       "      require([\"vega-embed\"], displayChart, err => showError(`Error loading script: ${err.message}`));\n",
       "    } else if (typeof vegaEmbed === \"function\") {\n",
       "      displayChart(vegaEmbed);\n",
       "    } else {\n",
       "      loadScript(\"vega\")\n",
       "        .then(() => loadScript(\"vega-lite\"))\n",
       "        .then(() => loadScript(\"vega-embed\"))\n",
       "        .catch(showError)\n",
       "        .then(() => displayChart(vegaEmbed));\n",
       "    }\n",
       "  })({\"config\": {\"view\": {\"continuousWidth\": 400, \"continuousHeight\": 300}}, \"layer\": [{\"mark\": \"bar\", \"encoding\": {\"x\": {\"type\": \"quantitative\", \"field\": \"1\", \"title\": \"Plays\"}, \"y\": {\"type\": \"nominal\", \"field\": \"0\", \"sort\": \"-x\", \"title\": \"Artist\"}}, \"title\": \"ASOT Top 1000 - Most-played artists\", \"width\": 600}, {\"mark\": {\"type\": \"text\", \"align\": \"left\", \"baseline\": \"middle\", \"dx\": 3}, \"encoding\": {\"text\": {\"type\": \"quantitative\", \"field\": \"1\"}, \"x\": {\"type\": \"quantitative\", \"field\": \"1\", \"title\": \"Plays\"}, \"y\": {\"type\": \"nominal\", \"field\": \"0\", \"sort\": \"-x\", \"title\": \"Artist\"}}, \"title\": \"ASOT Top 1000 - Most-played artists\", \"width\": 600}], \"data\": {\"name\": \"data-eac1400bc2d77649e39272c23611501e\"}, \"$schema\": \"https://vega.github.io/schema/vega-lite/v4.8.1.json\", \"datasets\": {\"data-eac1400bc2d77649e39272c23611501e\": [{\"0\": \"Armin van Buuren\", \"1\": 126}, {\"0\": \"Above & Beyond\", \"1\": 51}, {\"0\": \"Aly & Fila\", \"1\": 34}, {\"0\": \"Ferry Corsten\", \"1\": 25}, {\"0\": \"Andrew Rayel\", \"1\": 25}, {\"0\": \"Gareth Emery\", \"1\": 24}, {\"0\": \"Cosmic Gate\", \"1\": 21}, {\"0\": \"Ti\\u00ebsto\", \"1\": 20}, {\"0\": \"Giuseppe Ottaviani\", \"1\": 19}, {\"0\": \"Paul van Dyk\", \"1\": 16}, {\"0\": \"Solarstone\", \"1\": 15}, {\"0\": \"Orjan Nilsen\", \"1\": 15}, {\"0\": \"Alex M.O.R.P.H.\", \"1\": 14}, {\"0\": \"Omnia\", \"1\": 13}, {\"0\": \"Dash Berlin\", \"1\": 13}, {\"0\": \"Christina Novelli\", \"1\": 12}, {\"0\": \"John O'Callaghan\", \"1\": 12}, {\"0\": \"Emma Hewitt\", \"1\": 12}, {\"0\": \"Jorn Van Deynhoven\", \"1\": 12}, {\"0\": \"Markus Schulz\", \"1\": 12}, {\"0\": \"GAIA\", \"1\": 12}, {\"0\": \"Ruben de Ronde\", \"1\": 11}, {\"0\": \"W&W\", \"1\": 11}, {\"0\": \"HALIENE\", \"1\": 11}, {\"0\": \"MaRLo\", \"1\": 11}]}}, {\"mode\": \"vega-lite\"});\n",
       "</script>"
      ],
      "text/plain": [
       "alt.LayerChart(...)"
      ]
     },
     "execution_count": 7,
     "metadata": {},
     "output_type": "execute_result"
    }
   ],
   "source": [
    "source = pd.DataFrame.from_dict(top_artists[:25])\n",
    "\n",
    "bars = alt.Chart(source).mark_bar().encode(\n",
    "    x=alt.X('1:Q', title='Plays'),\n",
    "    y=alt.Y('0:N', sort='-x', title='Artist')\n",
    ").properties(\n",
    "    title=\"ASOT Top 1000 - Most-played artists\",\n",
    "    width=600\n",
    ")\n",
    "\n",
    "text = bars.mark_text(\n",
    "    align='left',\n",
    "    baseline='middle',\n",
    "    dx=3  # Nudges text to right so it doesn't appear on top of the bar\n",
    ").encode(\n",
    "    text='1:Q'\n",
    ")\n",
    "\n",
    "bars + text"
   ]
  },
  {
   "cell_type": "markdown",
   "metadata": {},
   "source": [
    "No surprise at _who_ the #1 is, but the sheer number of their tracks featured is pretty impressive - over 10% of the ASOT Top 1000 was produced by Armin van Buuren, more than twice the number of the second-most featured artist!"
   ]
  },
  {
   "cell_type": "markdown",
   "metadata": {},
   "source": [
    "Which artists were featured exactly once, with what track, at what position?"
   ]
  },
  {
   "cell_type": "code",
   "execution_count": 21,
   "metadata": {
    "scrolled": true
   },
   "outputs": [
    {
     "name": "stdout",
     "output_type": "stream",
     "text": [
      "997 . ATN - Miss A Day - Original Mix\n",
      "996 . Late Night Alumni - Empty Streets - Lumïsade Balearic Mix\n",
      "993 . Ron van den Beuken - Timeless - Ron van den Beuken Remix\n",
      "992 . Greg Downey - These Hands I Hold - Sean Tyas Remix\n",
      "991 . M.I.K.E. - Chocolate Infusion - Original Mix\n",
      "989 . Adam Nickey - Never Gone - Original Mix [Above & Beyond Respray]\n",
      "987 . Salt Tank - Eugina - Michael Woods Remix\n",
      "981 . A Force - Crystal Dawn [ASOT 254] - A Tribute To '99 Remix\n",
      "969 . Myon & Shane 54 - Ibiza Sunrise - Classic Dub\n",
      "967 . Neptune Project - Aztec - Original Mix\n",
      "964 . Ava Mea - In The End - Original Mix\n",
      "963 . Rodg - High On Life - Extended Mix\n",
      "962 . Midway - Monkey Forest - Original Mix Edit\n",
      "961 . Ramin Djawadi - Game Of Thrones Theme - Armin van Buuren Extended Remix\n",
      "960 . Filterheadz - Yimanya - Original Mix\n",
      "950 . Jody Wisternoff - The Bridge - Chicane Rework\n",
      "943 . Probspot - Foreplay - Original Mix\n",
      "940 . Selu Vibra - Stargazing [ASOT 224] - Original Mix\n",
      "928 . Ernesto vs. Bastian - Dark Side Of The Moon - Original Extended\n",
      "927 . Sensation - The Anthem 2003 - Original Mix\n",
      "922 . Space RockerZ - Puzzle Piece - Daniel Heatcliff's Farewell Remix\n",
      "911 . Sunset Bros - I'm Feeling It (In The Air) - Sunset Bros X Mark McCabe / MaRLo Remix\n",
      "906 . Avao - Cosmic Order - Extended Mix\n",
      "902 . Elysian - Beyond The Comfort Zone - Extended Mix\n",
      "901 . Lemon - Anticipation\n",
      "899 . Luigi Lusini - Who We Are\n",
      "897 . Thomas Bronzwaer - Shadow World - Original Mix\n",
      "896 . Shane - Too Late To Turn - Armin Van Buuren Remix\n",
      "887 . Niels Van Gogh - Pulverturm (Original)\n",
      "884 . Swedish House Mafia - One\n",
      "883 . Monogato - Miami Vibe - Omnia Remix\n",
      "879 . Eximinds - Lacrimosa - Extended Mix\n",
      "855 . Full Tilt - Surrender - Sneijder vs John O'Callaghan Remix\n",
      "854 . Carl B. - Social Suicide [ASOT 261] - Original Mix\n",
      "853 . Tinlicker - Sleepwalker - Extended Mix\n",
      "851 . Cass - Perception - New Vocal Mix\n",
      "850 . Bjorn Akesson - Painting Pyramids - Original Mix\n",
      "848 . Frank T.R.A.X. - Nebuchan - Radion6 Extended Remix\n",
      "844 . Easton - Healing Rain - Bryan Kearney Remix\n",
      "843 . Arisen Flame - Explorer - Original Mix\n",
      "841 . Astrix - Deep Jungle Walk\n",
      "840 . Sodality - Challenger - Extended Mix\n",
      "834 . Hazem Beltagui - We Are - Original Mix\n",
      "830 . 3LAU - Tokyo (feat. XIRA) - Fatum Remix\n",
      "828 . The Space Brothers - Shine - Jorn van Deynhoven Extended Remix\n",
      "822 . Ferry Corsten's Countdown - More Than Anything (Listener's Choice) (CC489) - Stoneface & Terminal Remix\n",
      "821 . Simon O'Shine & Adam Navel - Marathon - Simon O'Shine Mix\n",
      "819 . Humate - Love Stimulation - Love-Club-Mix\n",
      "813 . A & Z - Fleeting Moments - Original Mix\n",
      "810 . Abstract Vision - Conqueror - Original Mix\n",
      "798 . Arctic Quest - Renaissance - Original Mix\n",
      "797 . K90 - Red Snapper - Allen Watts Extended Remix\n",
      "796 . Ali Wilson - Pandora - Original\n",
      "790 . Fragile - Inertia - Armin Van Buuren Remix\n",
      "783 . Audien - Wayfarer - Original Mix\n",
      "778 . Holden - Nothing - 93 Returning Remix\n",
      "777 . Art Of Trance - Madagascar - Ferry Corsten Remix\n",
      "773 . Synergy - Hello Strings - Original Mix\n",
      "771 . Jase Thirlwall - Dust - Extended Mix\n",
      "770 . Antillas - Damaged - Main Mix\n",
      "768 . Coast 2 Coast - Home - Original Mix\n",
      "760 . Hammer - Language - Santiago Nino Dub Tech Mix\n",
      "759 . Nuera - Green Cape Sunset - Original Mix\n",
      "748 . Riva - Time Is The Healer - Armin van Buuren Extended Dub\n",
      "747 . Joop - The Future - Original Mix\n",
      "733 . Jeremy Vancaulart - Hurt - Extended Mix\n",
      "714 . Randy Katana - In Silence - Txitxarro Mix\n",
      "712 . London Grammar - Hey Now - Arty Remix\n",
      "711 . Parker & Hanson - Gravity - Original Mix\n",
      "710 . Claudia Cazacu - Freefalling - Original Mix\n",
      "709 . Dutch Force - Deadline - Original Mix\n",
      "703 . Fragma - Toca Me - Inpetto 2008 Mix\n",
      "702 . James Dymond - Spectrum - Extended Mix\n",
      "701 . DRYM - Smile - Extended Mix\n",
      "698 . Peter Martin - Perfect Wave - Original Mix\n",
      "696 . Active Sight - Out Of Our Lives - Original Mix\n",
      "694 . Glenn Morrison - Contact\n",
      "687 . Zirenz - Edge of Space Ultimate - Whiteroom Remix\n",
      "684 . 7 Skies - Central Park - Original Mix\n",
      "683 . Filo & Peri - Anthem - Original Radio Version\n",
      "682 . Carl B - All Day - Original\n",
      "678 . Dimitri Vegas & Like Mike - Repeat After Me - Extended Mix\n",
      "672 . Aria - Dido - Armin Van Buuren's Universal Religion Mix\n",
      "670 . Perry O'Neil - Wave Force - Original Mix\n",
      "669 . Dumonde - Never Look Back - Full On Vocal Mix\n",
      "665 . Jon O'Bir - Found A Way (feat. Fisher) - Joint Operations Centre Remix\n",
      "657 . Cressida - 6AM - Kyau & Albert Update\n",
      "655 . Zoo Brazil - You Can Have It All - George Acosta Remix\n",
      "650 . PRAANA - Kaleidoscope - Extended Mix\n",
      "647 . Bedrock - Heaven Scent - Original Mix\n",
      "643 . Eco - A Million Sounds, A Thousand Smiles - Original Mix\n",
      "641 . Ultra Shock - The Sound Of E - Jorn van Deynhoven Extended Remix\n",
      "635 . Ilse DeLange - The Great Escape\n",
      "621 . Mauro Picotto - Lizard - Cosmic Gate Extended Remix\n",
      "612 . Monolink - Return to Oz - ARTBAT Remix\n",
      "607 . Karen Overton - Your Loving Arms - Club Mix\n",
      "596 . Primer - Everlast - Original Mix\n",
      "587 . Age Of Love - The Age Of Love - Jam & Spoon Watch Out For Stella Mix\n",
      "584 . Ascension - Someone - Giuseppe Ottaviani Extended Remix\n",
      "583 . Masters & Nickson - Out There - Robert Nickson 2016 Extended Remix\n",
      "581 . GTR - Mistral\n",
      "580 . Tim Berg - Bromance - Avicii’s Arena Mix\n",
      "571 . Jan Johnston - Flesh - DJ Tiesto Mix\n",
      "567 . Artento Divini - A.D.D.A. - Extended Mix\n",
      "566 . Freefall - Skydive\n",
      "554 . Beatsole - Before I Wake - Extended Mix\n",
      "553 . The Noble Six - Firewalker - Extended Mix\n",
      "549 . Electrovoya - Effervesce\n",
      "542 . Tillmann Uhrmacher - On the Run - Ocean to Shore Club Extended\n",
      "538 . Chakra - Home - Above & Beyond Mix\n",
      "532 . Members Of Mayday - 10 In 01 - Paul Van Dyk Club Mix\n",
      "531 . Kyuss - Yeah\n",
      "526 . Ohmna - Key Of Life - MaRLo Remix\n",
      "520 . Safri Duo - Played-A-Live (The Bongo Song)\n",
      "511 . Chris Lake - Carry Me Away (feat. Emma Hewitt)\n",
      "508 . Ayla - Ayla - Ben Nicky & Luke Bond Remix\n",
      "507 . Michael Dow - Ascent\n",
      "505 . Afternova - Serenity - Andy Blueman Remix\n",
      "499 . York - The Reachers of Civilisation\n",
      "488 . Conjure One - Tears From The Moon - Tiësto In Search Of Sunrise Remix\n",
      "485 . Paul Webster - Time - Sean Tyas Dub Mix\n",
      "481 . 3rd Moon - Monsun - Original Mix\n",
      "480 . Solid Sessions - Janeiro - Armin van Buuren Remix\n",
      "478 . Quench - Dreams - Nicholson's Extended Cathedral Remix\n",
      "472 . Insigma - Open Our Eyes - Original Mix\n",
      "467 . VER:WEST - 5 Seconds Before Sunrise\n",
      "465 . Moogwai - Viola - Armin van Buuren Remix\n",
      "458 . Albert Vorne - Formentera What - Gareth Emery Remix\n",
      "457 . Vast Vision - Everything - Aly & Fila Remix\n",
      "451 . Phynn - Lucid\n",
      "440 . Fred Baker - Confirmation\n",
      "438 . Tilt - The World Doesn't Know - Original Mix\n",
      "435 . Cerf, Mitiska & Jaren - You Never Said - Dash Berlin Remix\n",
      "434 . Triple A - Winter Stayed - Armin van Buuren's On the Beach Mix\n",
      "433 . XiJaro & Pitch - Whispers Of Time - Extended Mix\n",
      "417 . 16BL - Chant A Tune - Jeremy Olander Remix\n",
      "399 . 2nd Phase - Never Come Down - Norin & Rad Remix\n",
      "392 . Matlock - Deep Psychosis - Daniel Kandi's Cure Mix\n",
      "387 . Wiegel Meirmans Snitker - Nova Zembla - Armin van Buuren Extended Remix\n",
      "386 . Graham Bell - The Sound Of Letting Go (Tribute To Yotam) - Extended Mix\n",
      "385 . Hans Zimmer - He's A Pirate - Tiësto Orchestral Mix\n",
      "380 . Atlantis - Fiji - ReOrder Extended Remix\n",
      "374 . Svenson & Gielen - Twisted - Original Mix\n",
      "371 . Galen Behr - Carabella - Galen Behr vs Orjan Nilsen Extended Remix\n",
      "370 . 8 Wonders - The Morning After - The Thrillseekers Remix\n",
      "369 . Basic Dawn - Pure Thrust - NU NRG Remix\n",
      "355 . Nalin & Kane - Beachball - Original Club Mix\n",
      "342 . Rex Mundi - Nothing At All - Original Mix\n",
      "323 . L.S.G. - Netherworld - Oliver Prime Remix\n",
      "321 . DJ's United - Remember Love - Original Mix\n",
      "301 . M.I.D.O.R. & Six4eight - No Man's Land\n",
      "294 . KhoMha - Tierra - Extended Mix\n",
      "273 . Jean-Michel Jarre - Stardust\n",
      "271 . DJ Aligator - The Perfect Match - Club Mix\n",
      "270 . Akesson - Perfect Blue - Original Mix\n",
      "255 . iio - Rapture (Armin Van Buuren Remix Remastered) [feat. Nadia Ali]\n",
      "243 . Headstrong - Tears - Aurosonic Progressive Mix\n",
      "241 . Pulser - My Religion - Original Mix\n",
      "236 . Major League - Wonder Where You Are?\n",
      "233 . Sasha - Xpander\n",
      "228 . Alt+F4 - Alt+F4 - Original Mix\n",
      "222 . Ridgewalkers - Find - Andy Moor Remix\n",
      "217 . Eyal Barkan - Voyage - Magikal Remake\n",
      "184 . The Doppler Effect - Beauty Hides In The Deep - John O'Callaghan Extended\n",
      "183 . FUTURECODE - Dancing In The Rain - Extended Mix\n",
      "177 . Ayumi Hamasaki - M - Above & Beyond Remix\n",
      "170 . Sonic Inc - The Taste Of Summer - Fire & Ice Vital Remix\n",
      "167 . Darude - Sandstorm\n",
      "147 . Salt Lake - Rendezvous - Original Mix\n",
      "120 . Darren Tate - Let The Light Shine In - 12'' Original Mix\n",
      "113 . William Orbit - Barber's Adagio for Strings - Ferry Corsten Remix\n",
      "110 . Yuri Kane - Right Back - Original Extended\n",
      "104 . Sergey Nevone - Apprehension - Aly & Fila Mix\n",
      "80 . Reflekt - Need To Feel Loved - Thrillseekers Remix\n",
      "71 . Binary Finary - 1998 - Gouryella Remix\n",
      "70 . Planet Perfecto Knights - Resurection\n",
      "59 . Arksun - Arisen - Original Mix\n",
      "54 . Saltwater - The Legacy - Alphazone Extended Remix\n",
      "44 . Energy 52 - Café Del Mar - Three 'n One Remix\n",
      "43 . Luminary - Amsterdam - Smith & Pledger Remix\n",
      "37 . Key4050 - I Love You - Extended Mix\n",
      "33 . Robert Miles - Children - Dream Version\n",
      "21 . Veracocha - Carte Blanche - Original Mix\n",
      "18 . Motorcycle - As The Rush Comes - Gabriel & Dresden Sweeping Strings Mix\n",
      "4 . Delerium - Silence (feat. Sarah McLachlan) - DJ Tiësto's in Search of Sunrise Remix\n"
     ]
    }
   ],
   "source": [
    "#collapse_output\n",
    "# Find all artists with one play, then find that track in the top 1000\n",
    "for artist in top_artists:\n",
    "    if artist[1] == 1:\n",
    "        for position, track in enumerate(top_1000_tracks):\n",
    "            if track['track']['artists'][0]['name'] == artist[0]:\n",
    "                print(1000 - position, '.', track['track']['artists'][0]['name'], '-', track['track']['name'])"
   ]
  },
  {
   "cell_type": "markdown",
   "metadata": {},
   "source": [
    "Note that we're only listing the artist on the track credits that's _only_ featured on that track. For example, \"120. Darren Tate & Jono Grant – Shine (Let The Light Shine In)\" is listed here but lists _only_ Darren Tate as the producer because Jono Grant also appears in \"562. Jono Grant vs Mike Koglin  – Circuits\"."
   ]
  },
  {
   "cell_type": "markdown",
   "metadata": {},
   "source": [
    "## Tracks"
   ]
  },
  {
   "cell_type": "markdown",
   "metadata": {},
   "source": [
    "Let's looks at some track-specific numbers now.\n",
    "\n",
    "In which years were the tracks produced?"
   ]
  },
  {
   "cell_type": "code",
   "execution_count": 9,
   "metadata": {},
   "outputs": [
    {
     "name": "stdout",
     "output_type": "stream",
     "text": [
      "[('1992', 1), ('1995', 1), ('1997', 2), ('1996', 5), ('1998', 5), ('1999', 7), ('2002', 12), ('2001', 14), ('2000', 18), ('2003', 23), ('2004', 25), ('2005', 32), ('2006', 37), ('2007', 38), ('2008', 45), ('2017', 49), ('2015', 50), ('2014', 54), ('2020', 55), ('2016', 55), ('2010', 56), ('2009', 62), ('2013', 64), ('2018', 64), ('2011', 66), ('2012', 68), ('2019', 92)]\n"
     ]
    }
   ],
   "source": [
    "annual_total = defaultdict(int)\n",
    "\n",
    "for track in top_1000_tracks:\n",
    "    annual_total[track['track']['album']['release_date'][:4]] += 1\n",
    "\n",
    "top_years = sorted(annual_total.items(), key=lambda k_v: k_v[1])\n",
    "print(top_years)"
   ]
  },
  {
   "cell_type": "markdown",
   "metadata": {},
   "source": [
    "In a graph:"
   ]
  },
  {
   "cell_type": "code",
   "execution_count": 10,
   "metadata": {},
   "outputs": [
    {
     "data": {
      "text/html": [
       "\n",
       "<div id=\"altair-viz-1c45dac5065c4374b2262b1d0dacda15\"></div>\n",
       "<script type=\"text/javascript\">\n",
       "  (function(spec, embedOpt){\n",
       "    let outputDiv = document.currentScript.previousElementSibling;\n",
       "    if (outputDiv.id !== \"altair-viz-1c45dac5065c4374b2262b1d0dacda15\") {\n",
       "      outputDiv = document.getElementById(\"altair-viz-1c45dac5065c4374b2262b1d0dacda15\");\n",
       "    }\n",
       "    const paths = {\n",
       "      \"vega\": \"https://cdn.jsdelivr.net/npm//vega@5?noext\",\n",
       "      \"vega-lib\": \"https://cdn.jsdelivr.net/npm//vega-lib?noext\",\n",
       "      \"vega-lite\": \"https://cdn.jsdelivr.net/npm//vega-lite@4.8.1?noext\",\n",
       "      \"vega-embed\": \"https://cdn.jsdelivr.net/npm//vega-embed@6?noext\",\n",
       "    };\n",
       "\n",
       "    function loadScript(lib) {\n",
       "      return new Promise(function(resolve, reject) {\n",
       "        var s = document.createElement('script');\n",
       "        s.src = paths[lib];\n",
       "        s.async = true;\n",
       "        s.onload = () => resolve(paths[lib]);\n",
       "        s.onerror = () => reject(`Error loading script: ${paths[lib]}`);\n",
       "        document.getElementsByTagName(\"head\")[0].appendChild(s);\n",
       "      });\n",
       "    }\n",
       "\n",
       "    function showError(err) {\n",
       "      outputDiv.innerHTML = `<div class=\"error\" style=\"color:red;\">${err}</div>`;\n",
       "      throw err;\n",
       "    }\n",
       "\n",
       "    function displayChart(vegaEmbed) {\n",
       "      vegaEmbed(outputDiv, spec, embedOpt)\n",
       "        .catch(err => showError(`Javascript Error: ${err.message}<br>This usually means there's a typo in your chart specification. See the javascript console for the full traceback.`));\n",
       "    }\n",
       "\n",
       "    if(typeof define === \"function\" && define.amd) {\n",
       "      requirejs.config({paths});\n",
       "      require([\"vega-embed\"], displayChart, err => showError(`Error loading script: ${err.message}`));\n",
       "    } else if (typeof vegaEmbed === \"function\") {\n",
       "      displayChart(vegaEmbed);\n",
       "    } else {\n",
       "      loadScript(\"vega\")\n",
       "        .then(() => loadScript(\"vega-lite\"))\n",
       "        .then(() => loadScript(\"vega-embed\"))\n",
       "        .catch(showError)\n",
       "        .then(() => displayChart(vegaEmbed));\n",
       "    }\n",
       "  })({\"config\": {\"view\": {\"continuousWidth\": 400, \"continuousHeight\": 300}}, \"layer\": [{\"mark\": \"bar\", \"encoding\": {\"x\": {\"type\": \"quantitative\", \"field\": \"1\", \"title\": \"Plays\"}, \"y\": {\"type\": \"nominal\", \"field\": \"0\", \"sort\": \"-x\", \"title\": \"Year\"}}, \"title\": \"ASOT Top 1000 - Most-represented years\", \"width\": 600}, {\"mark\": {\"type\": \"text\", \"align\": \"left\", \"baseline\": \"middle\", \"dx\": 3}, \"encoding\": {\"text\": {\"type\": \"quantitative\", \"field\": \"1\"}, \"x\": {\"type\": \"quantitative\", \"field\": \"1\", \"title\": \"Plays\"}, \"y\": {\"type\": \"nominal\", \"field\": \"0\", \"sort\": \"-x\", \"title\": \"Year\"}}, \"title\": \"ASOT Top 1000 - Most-represented years\", \"width\": 600}], \"data\": {\"name\": \"data-c4d9160895a1fd90761cbcfd32cb43eb\"}, \"$schema\": \"https://vega.github.io/schema/vega-lite/v4.8.1.json\", \"datasets\": {\"data-c4d9160895a1fd90761cbcfd32cb43eb\": [{\"0\": \"1992\", \"1\": 1}, {\"0\": \"1995\", \"1\": 1}, {\"0\": \"1997\", \"1\": 2}, {\"0\": \"1996\", \"1\": 5}, {\"0\": \"1998\", \"1\": 5}, {\"0\": \"1999\", \"1\": 7}, {\"0\": \"2002\", \"1\": 12}, {\"0\": \"2001\", \"1\": 14}, {\"0\": \"2000\", \"1\": 18}, {\"0\": \"2003\", \"1\": 23}, {\"0\": \"2004\", \"1\": 25}, {\"0\": \"2005\", \"1\": 32}, {\"0\": \"2006\", \"1\": 37}, {\"0\": \"2007\", \"1\": 38}, {\"0\": \"2008\", \"1\": 45}, {\"0\": \"2017\", \"1\": 49}, {\"0\": \"2015\", \"1\": 50}, {\"0\": \"2014\", \"1\": 54}, {\"0\": \"2020\", \"1\": 55}, {\"0\": \"2016\", \"1\": 55}, {\"0\": \"2010\", \"1\": 56}, {\"0\": \"2009\", \"1\": 62}, {\"0\": \"2013\", \"1\": 64}, {\"0\": \"2018\", \"1\": 64}, {\"0\": \"2011\", \"1\": 66}, {\"0\": \"2012\", \"1\": 68}, {\"0\": \"2019\", \"1\": 92}]}}, {\"mode\": \"vega-lite\"});\n",
       "</script>"
      ],
      "text/plain": [
       "alt.LayerChart(...)"
      ]
     },
     "execution_count": 10,
     "metadata": {},
     "output_type": "execute_result"
    }
   ],
   "source": [
    "source = pd.DataFrame.from_dict(top_years)\n",
    "\n",
    "bars = alt.Chart(source).mark_bar().encode(\n",
    "    x=alt.X('1:Q', title='Plays'),\n",
    "    y=alt.Y('0:N', sort='-x', title='Year')\n",
    ").properties(\n",
    "    title=\"ASOT Top 1000 - Most-represented years\",\n",
    "    width=600\n",
    ")\n",
    "\n",
    "text = bars.mark_text(\n",
    "    align='left',\n",
    "    baseline='middle',\n",
    "    dx=3  # Nudges text to right so it doesn't appear on top of the bar\n",
    ").encode(\n",
    "    text='1:Q'\n",
    ")\n",
    "\n",
    "bars + text"
   ]
  },
  {
   "cell_type": "markdown",
   "metadata": {},
   "source": [
    "Might be better to see it sorted by year:"
   ]
  },
  {
   "cell_type": "code",
   "execution_count": 11,
   "metadata": {},
   "outputs": [
    {
     "data": {
      "text/html": [
       "\n",
       "<div id=\"altair-viz-ab68dfc9ffc34fc7b6c45b87e6759cc1\"></div>\n",
       "<script type=\"text/javascript\">\n",
       "  (function(spec, embedOpt){\n",
       "    let outputDiv = document.currentScript.previousElementSibling;\n",
       "    if (outputDiv.id !== \"altair-viz-ab68dfc9ffc34fc7b6c45b87e6759cc1\") {\n",
       "      outputDiv = document.getElementById(\"altair-viz-ab68dfc9ffc34fc7b6c45b87e6759cc1\");\n",
       "    }\n",
       "    const paths = {\n",
       "      \"vega\": \"https://cdn.jsdelivr.net/npm//vega@5?noext\",\n",
       "      \"vega-lib\": \"https://cdn.jsdelivr.net/npm//vega-lib?noext\",\n",
       "      \"vega-lite\": \"https://cdn.jsdelivr.net/npm//vega-lite@4.8.1?noext\",\n",
       "      \"vega-embed\": \"https://cdn.jsdelivr.net/npm//vega-embed@6?noext\",\n",
       "    };\n",
       "\n",
       "    function loadScript(lib) {\n",
       "      return new Promise(function(resolve, reject) {\n",
       "        var s = document.createElement('script');\n",
       "        s.src = paths[lib];\n",
       "        s.async = true;\n",
       "        s.onload = () => resolve(paths[lib]);\n",
       "        s.onerror = () => reject(`Error loading script: ${paths[lib]}`);\n",
       "        document.getElementsByTagName(\"head\")[0].appendChild(s);\n",
       "      });\n",
       "    }\n",
       "\n",
       "    function showError(err) {\n",
       "      outputDiv.innerHTML = `<div class=\"error\" style=\"color:red;\">${err}</div>`;\n",
       "      throw err;\n",
       "    }\n",
       "\n",
       "    function displayChart(vegaEmbed) {\n",
       "      vegaEmbed(outputDiv, spec, embedOpt)\n",
       "        .catch(err => showError(`Javascript Error: ${err.message}<br>This usually means there's a typo in your chart specification. See the javascript console for the full traceback.`));\n",
       "    }\n",
       "\n",
       "    if(typeof define === \"function\" && define.amd) {\n",
       "      requirejs.config({paths});\n",
       "      require([\"vega-embed\"], displayChart, err => showError(`Error loading script: ${err.message}`));\n",
       "    } else if (typeof vegaEmbed === \"function\") {\n",
       "      displayChart(vegaEmbed);\n",
       "    } else {\n",
       "      loadScript(\"vega\")\n",
       "        .then(() => loadScript(\"vega-lite\"))\n",
       "        .then(() => loadScript(\"vega-embed\"))\n",
       "        .catch(showError)\n",
       "        .then(() => displayChart(vegaEmbed));\n",
       "    }\n",
       "  })({\"config\": {\"view\": {\"continuousWidth\": 400, \"continuousHeight\": 300}}, \"layer\": [{\"mark\": \"bar\", \"encoding\": {\"x\": {\"type\": \"quantitative\", \"field\": \"1\", \"title\": \"Plays\"}, \"y\": {\"type\": \"nominal\", \"field\": \"0\", \"title\": \"Year\"}}, \"title\": \"ASOT Top 1000 - Yearly representation\", \"width\": 600}, {\"mark\": {\"type\": \"text\", \"align\": \"left\", \"baseline\": \"middle\", \"dx\": 3}, \"encoding\": {\"text\": {\"type\": \"quantitative\", \"field\": \"1\"}, \"x\": {\"type\": \"quantitative\", \"field\": \"1\", \"title\": \"Plays\"}, \"y\": {\"type\": \"nominal\", \"field\": \"0\", \"title\": \"Year\"}}, \"title\": \"ASOT Top 1000 - Yearly representation\", \"width\": 600}], \"data\": {\"name\": \"data-c4d9160895a1fd90761cbcfd32cb43eb\"}, \"$schema\": \"https://vega.github.io/schema/vega-lite/v4.8.1.json\", \"datasets\": {\"data-c4d9160895a1fd90761cbcfd32cb43eb\": [{\"0\": \"1992\", \"1\": 1}, {\"0\": \"1995\", \"1\": 1}, {\"0\": \"1997\", \"1\": 2}, {\"0\": \"1996\", \"1\": 5}, {\"0\": \"1998\", \"1\": 5}, {\"0\": \"1999\", \"1\": 7}, {\"0\": \"2002\", \"1\": 12}, {\"0\": \"2001\", \"1\": 14}, {\"0\": \"2000\", \"1\": 18}, {\"0\": \"2003\", \"1\": 23}, {\"0\": \"2004\", \"1\": 25}, {\"0\": \"2005\", \"1\": 32}, {\"0\": \"2006\", \"1\": 37}, {\"0\": \"2007\", \"1\": 38}, {\"0\": \"2008\", \"1\": 45}, {\"0\": \"2017\", \"1\": 49}, {\"0\": \"2015\", \"1\": 50}, {\"0\": \"2014\", \"1\": 54}, {\"0\": \"2020\", \"1\": 55}, {\"0\": \"2016\", \"1\": 55}, {\"0\": \"2010\", \"1\": 56}, {\"0\": \"2009\", \"1\": 62}, {\"0\": \"2013\", \"1\": 64}, {\"0\": \"2018\", \"1\": 64}, {\"0\": \"2011\", \"1\": 66}, {\"0\": \"2012\", \"1\": 68}, {\"0\": \"2019\", \"1\": 92}]}}, {\"mode\": \"vega-lite\"});\n",
       "</script>"
      ],
      "text/plain": [
       "alt.LayerChart(...)"
      ]
     },
     "execution_count": 11,
     "metadata": {},
     "output_type": "execute_result"
    }
   ],
   "source": [
    "source = pd.DataFrame.from_dict(top_years)\n",
    "\n",
    "bars = alt.Chart(source).mark_bar().encode(\n",
    "    x=alt.X('1:Q', title='Plays'),\n",
    "    y=alt.Y('0:N', title='Year')\n",
    ").properties(\n",
    "    title=\"ASOT Top 1000 - Yearly representation\",\n",
    "    width=600\n",
    ")\n",
    "\n",
    "text = bars.mark_text(\n",
    "    align='left',\n",
    "    baseline='middle',\n",
    "    dx=3  # Nudges text to right so it doesn't appear on top of the bar\n",
    ").encode(\n",
    "    text='1:Q'\n",
    ")\n",
    "\n",
    "bars + text"
   ]
  },
  {
   "cell_type": "markdown",
   "metadata": {},
   "source": [
    "What are the oldest tracks in the list? Sorted by position."
   ]
  },
  {
   "cell_type": "code",
   "execution_count": 12,
   "metadata": {},
   "outputs": [
    {
     "name": "stdout",
     "output_type": "stream",
     "text": [
      "983 . Vincent de Moor - Flowtation - released 1996-01-01\n",
      "887 . Niels Van Gogh - Pulverturm (Original) - released 1998-09-21\n",
      "691 . Lost Witness & Lange - Happiness Happening - Lange Remix - released 1999-03-22\n",
      "647 . Bedrock - Heaven Scent - Original Mix - released 1999-12-01\n",
      "638 . Agnelli & Nelson - El Niño - released 1998-08-01\n",
      "566 . Freefall - Skydive - released 1998-01-01\n",
      "531 . Kyuss - Yeah - released 1992-01-01\n",
      "499 . York - The Reachers of Civilisation - released 1999-10-20\n",
      "414 . Faithless & Rollo Armstrong & Sister Bliss - Insomnia - released 1996\n",
      "355 . Nalin & Kane - Beachball - Original Club Mix - released 1997-01-01\n",
      "233 . Sasha - Xpander - released 1999-07-05\n",
      "167 . Darude - Sandstorm - released 1999-01-01\n",
      "127 . Three Drives On A Vinyl - Greece 2000 - Original Mix - released 1997-06-01\n",
      "125 . ATB - 9 Pm - Till I Come - released 1998-10-26\n",
      "113 . William Orbit & Ferry Corsten - Barber's Adagio for Strings - Ferry Corsten Remix - released 1995-01-17\n",
      "99 . Armin van Buuren - Blue Fear - Original Mix - released 1996-03-10\n",
      "91 . Cygnus X & Rank 1 - Superstring - Rank 1 Remix - released 1996\n",
      "87 . Solarstone & Armin van Buuren - Seven Cities - Armin van Buuren Remix - released 1999-06-04\n",
      "71 . Binary Finary & Gouryella - 1998 - Gouryella Remix - released 1998\n",
      "33 . Robert Miles - Children - Dream Version - released 1996-07-16\n",
      "21 . Veracocha - Carte Blanche - Original Mix - released 1999-05-01\n"
     ]
    }
   ],
   "source": [
    "for position, track in enumerate(top_1000_tracks):\n",
    "    if int(track['track']['album']['release_date'][:4]) < 2000:\n",
    "        track_artist = track['track']['artists'][0]['name']\n",
    "        for artist in track['track']['artists'][1:]:\n",
    "            track_artist += \" & \" + artist['name']\n",
    "        print(1000 - position, '.', track_artist, '-', track['track']['name'], '- released', track['track']['album']['release_date'])"
   ]
  },
  {
   "cell_type": "markdown",
   "metadata": {},
   "source": [
    "A lot of tracks released in 2020 made the list, what are the most recent? Here's the tracks in the months leading up to the end of the year."
   ]
  },
  {
   "cell_type": "code",
   "execution_count": 13,
   "metadata": {},
   "outputs": [
    {
     "name": "stdout",
     "output_type": "stream",
     "text": [
      "915 . Assaf & Cassandra Grey - Lost At Sea - released 2020-12-11\n",
      "893 . Cosmic Gate & Andrew Bayer - The Launch - Extended Mix - released 2020-09-04\n",
      "863 . ARTY & NK - Who Am I - released 2020-11-27\n",
      "836 . Allen Watts & Gid Sedgwick - Another You - Extended Mix - released 2020-09-11\n",
      "824 . Giuseppe Ottaviani & Sue McLaren - Not One Goodbye - Extended Mix - released 2020-09-25\n",
      "446 . Above & Beyond & Zoë Johnston & Kyau & Albert - You Got To Go - Kyau & Albert Extended Mix - released 2020-10-01\n",
      "205 . Aly & Fila & Plumb - Somebody Loves You - Extended Mix - released 2020-09-25\n"
     ]
    }
   ],
   "source": [
    "for position, track in enumerate(top_1000_tracks):\n",
    "    if track['track']['album']['release_date'][:7] == '2020-09' or track['track']['album']['release_date'][:7] == '2020-10' or track['track']['album']['release_date'][:7] == '2020-11' or track['track']['album']['release_date'][:7] == '2020-12':\n",
    "        track_artist = track['track']['artists'][0]['name']\n",
    "        for artist in track['track']['artists'][1:]:\n",
    "            track_artist += \" & \" + artist['name']\n",
    "        print(1000 - position, '.', track_artist, '-', track['track']['name'], '- released', track['track']['album']['release_date'])"
   ]
  },
  {
   "cell_type": "markdown",
   "metadata": {},
   "source": [
    "In which years were the tracks produced by the top five most-played artists produced? "
   ]
  },
  {
   "cell_type": "code",
   "execution_count": 14,
   "metadata": {},
   "outputs": [
    {
     "name": "stdout",
     "output_type": "stream",
     "text": [
      "Armin van Buuren:\n",
      "[('1996', 1), ('1999', 1), ('2001', 1), ('2002', 3), ('2003', 4), ('2005', 3), ('2006', 5), ('2007', 1), ('2008', 8), ('2009', 6), ('2010', 13), ('2011', 5), ('2012', 6), ('2013', 17), ('2014', 3), ('2015', 10), ('2016', 6), ('2017', 7), ('2018', 7), ('2019', 16), ('2020', 3)]\n",
      "Above & Beyond:\n",
      "[('2003', 2), ('2004', 1), ('2005', 1), ('2006', 2), ('2007', 4), ('2008', 3), ('2009', 2), ('2010', 1), ('2011', 2), ('2012', 2), ('2013', 2), ('2014', 4), ('2015', 2), ('2016', 1), ('2017', 3), ('2018', 6), ('2019', 7), ('2020', 6)]\n",
      "Aly & Fila:\n",
      "[('2003', 1), ('2007', 1), ('2008', 2), ('2010', 1), ('2011', 1), ('2012', 3), ('2013', 1), ('2014', 6), ('2015', 2), ('2016', 3), ('2017', 3), ('2018', 3), ('2019', 5), ('2020', 2)]\n",
      "Ferry Corsten:\n",
      "[('1995', 1), ('2002', 1), ('2007', 1), ('2008', 1), ('2009', 4), ('2011', 5), ('2012', 1), ('2013', 1), ('2015', 1), ('2016', 1), ('2018', 6), ('2019', 1), ('2020', 1)]\n",
      "Andrew Rayel:\n",
      "[('2011', 1), ('2012', 4), ('2013', 4), ('2014', 4), ('2016', 1), ('2017', 2), ('2018', 3), ('2019', 2), ('2020', 4)]\n"
     ]
    }
   ],
   "source": [
    "artist_avb_counter = defaultdict(int) # Tracks crediting Armin van Buuren\n",
    "artist_ab_counter = defaultdict(int) # Tracks crediting Above & Beyond\n",
    "artist_af_counter = defaultdict(int) # Tracks crediting Aly & Fila\n",
    "artist_fc_counter = defaultdict(int) # Tracks crediting Ferry Corsten\n",
    "artist_ar_counter = defaultdict(int) # Tracks crediting Andrew Rayel\n",
    "\n",
    "for track in top_1000_tracks:\n",
    "    for artist in track['track']['artists']:\n",
    "        if artist['name'] == \"Armin van Buuren\":\n",
    "            artist_avb_counter[track['track']['album']['release_date'][:4]] += 1\n",
    "        elif artist['name'] == \"Above & Beyond\":\n",
    "            artist_ab_counter[track['track']['album']['release_date'][:4]] += 1\n",
    "        elif artist['name'] == \"Aly & Fila\":\n",
    "            artist_af_counter[track['track']['album']['release_date'][:4]] += 1\n",
    "        elif artist['name'] == \"Ferry Corsten\":\n",
    "            artist_fc_counter[track['track']['album']['release_date'][:4]] += 1\n",
    "        elif artist['name'] == \"Andrew Rayel\":\n",
    "            artist_ar_counter[track['track']['album']['release_date'][:4]] += 1\n",
    "\n",
    "# Sort by year and print the results\n",
    "sorted_avb_years = sorted(artist_avb_counter.items(), key=lambda k_v: k_v[0])\n",
    "sorted_ab_years = sorted(artist_ab_counter.items(), key=lambda k_v: k_v[0])\n",
    "sorted_af_years = sorted(artist_af_counter.items(), key=lambda k_v: k_v[0])\n",
    "sorted_fc_years = sorted(artist_fc_counter.items(), key=lambda k_v: k_v[0])\n",
    "sorted_ar_years = sorted(artist_ar_counter.items(), key=lambda k_v: k_v[0])\n",
    "\n",
    "print(\"Armin van Buuren:\")\n",
    "print(sorted_avb_years)\n",
    "print(\"Above & Beyond:\")\n",
    "print(sorted_ab_years)\n",
    "print(\"Aly & Fila:\")\n",
    "print(sorted_af_years)\n",
    "print(\"Ferry Corsten:\")\n",
    "print(sorted_fc_years)\n",
    "print(\"Andrew Rayel:\")\n",
    "print(sorted_ar_years)"
   ]
  },
  {
   "cell_type": "markdown",
   "metadata": {},
   "source": [
    "This would look nice in a [stacked bar chart](https://altair-viz.github.io/gallery/stacked_bar_chart.html#stacked-bar-chart), but I couldn't get the data arranged properly to create the chart.\n",
    "\n",
    "What's the average BPM of tracks in the top 1,000?"
   ]
  },
  {
   "cell_type": "code",
   "execution_count": 15,
   "metadata": {},
   "outputs": [
    {
     "name": "stdout",
     "output_type": "stream",
     "text": [
      "134.03799499999994\n"
     ]
    }
   ],
   "source": [
    "total_bpm = 0\n",
    "\n",
    "for track in top_1000_tracks:\n",
    "    total_bpm += sp.audio_features(track['track']['uri'])[0]['tempo']\n",
    "\n",
    "print(total_bpm/1000)"
   ]
  },
  {
   "cell_type": "markdown",
   "metadata": {},
   "source": [
    "Maybe that's not so useful. How does the track BPM vary throughout the top 1,000? With #1,000 on the left, down to #1 on the right."
   ]
  },
  {
   "cell_type": "code",
   "execution_count": 20,
   "metadata": {},
   "outputs": [
    {
     "name": "stderr",
     "output_type": "stream",
     "text": [
      "Max Retries reached\n"
     ]
    },
    {
     "ename": "SpotifyException",
     "evalue": "http status: 429, code:-1 - /v1/audio-features/?ids=0R2BQmqtNBaajKeO9qU6sB:\n Max Retries, reason: too many 503 error responses",
     "output_type": "error",
     "traceback": [
      "\u001b[0;31m\u001b[0m",
      "\u001b[0;31mMaxRetryError\u001b[0mTraceback (most recent call last)",
      "\u001b[0;32m/usr/lib/python3/dist-packages/requests/adapters.py\u001b[0m in \u001b[0;36msend\u001b[0;34m(self, request, stream, timeout, verify, cert, proxies)\u001b[0m\n\u001b[1;32m    438\u001b[0m             \u001b[0;32mif\u001b[0m \u001b[0;32mnot\u001b[0m \u001b[0mchunked\u001b[0m\u001b[0;34m:\u001b[0m\u001b[0;34m\u001b[0m\u001b[0;34m\u001b[0m\u001b[0m\n\u001b[0;32m--> 439\u001b[0;31m                 resp = conn.urlopen(\n\u001b[0m\u001b[1;32m    440\u001b[0m                     \u001b[0mmethod\u001b[0m\u001b[0;34m=\u001b[0m\u001b[0mrequest\u001b[0m\u001b[0;34m.\u001b[0m\u001b[0mmethod\u001b[0m\u001b[0;34m,\u001b[0m\u001b[0;34m\u001b[0m\u001b[0;34m\u001b[0m\u001b[0m\n",
      "\u001b[0;32m/usr/lib/python3/dist-packages/urllib3/connectionpool.py\u001b[0m in \u001b[0;36murlopen\u001b[0;34m(self, method, url, body, headers, retries, redirect, assert_same_host, timeout, pool_timeout, release_conn, chunked, body_pos, **response_kw)\u001b[0m\n\u001b[1;32m    832\u001b[0m             \u001b[0mlog\u001b[0m\u001b[0;34m.\u001b[0m\u001b[0mdebug\u001b[0m\u001b[0;34m(\u001b[0m\u001b[0;34m\"Retry: %s\"\u001b[0m\u001b[0;34m,\u001b[0m \u001b[0murl\u001b[0m\u001b[0;34m)\u001b[0m\u001b[0;34m\u001b[0m\u001b[0;34m\u001b[0m\u001b[0m\n\u001b[0;32m--> 833\u001b[0;31m             return self.urlopen(\n\u001b[0m\u001b[1;32m    834\u001b[0m                 \u001b[0mmethod\u001b[0m\u001b[0;34m,\u001b[0m\u001b[0;34m\u001b[0m\u001b[0;34m\u001b[0m\u001b[0m\n",
      "\u001b[0;32m/usr/lib/python3/dist-packages/urllib3/connectionpool.py\u001b[0m in \u001b[0;36murlopen\u001b[0;34m(self, method, url, body, headers, retries, redirect, assert_same_host, timeout, pool_timeout, release_conn, chunked, body_pos, **response_kw)\u001b[0m\n\u001b[1;32m    832\u001b[0m             \u001b[0mlog\u001b[0m\u001b[0;34m.\u001b[0m\u001b[0mdebug\u001b[0m\u001b[0;34m(\u001b[0m\u001b[0;34m\"Retry: %s\"\u001b[0m\u001b[0;34m,\u001b[0m \u001b[0murl\u001b[0m\u001b[0;34m)\u001b[0m\u001b[0;34m\u001b[0m\u001b[0;34m\u001b[0m\u001b[0m\n\u001b[0;32m--> 833\u001b[0;31m             return self.urlopen(\n\u001b[0m\u001b[1;32m    834\u001b[0m                 \u001b[0mmethod\u001b[0m\u001b[0;34m,\u001b[0m\u001b[0;34m\u001b[0m\u001b[0;34m\u001b[0m\u001b[0m\n",
      "\u001b[0;32m/usr/lib/python3/dist-packages/urllib3/connectionpool.py\u001b[0m in \u001b[0;36murlopen\u001b[0;34m(self, method, url, body, headers, retries, redirect, assert_same_host, timeout, pool_timeout, release_conn, chunked, body_pos, **response_kw)\u001b[0m\n\u001b[1;32m    832\u001b[0m             \u001b[0mlog\u001b[0m\u001b[0;34m.\u001b[0m\u001b[0mdebug\u001b[0m\u001b[0;34m(\u001b[0m\u001b[0;34m\"Retry: %s\"\u001b[0m\u001b[0;34m,\u001b[0m \u001b[0murl\u001b[0m\u001b[0;34m)\u001b[0m\u001b[0;34m\u001b[0m\u001b[0;34m\u001b[0m\u001b[0m\n\u001b[0;32m--> 833\u001b[0;31m             return self.urlopen(\n\u001b[0m\u001b[1;32m    834\u001b[0m                 \u001b[0mmethod\u001b[0m\u001b[0;34m,\u001b[0m\u001b[0;34m\u001b[0m\u001b[0;34m\u001b[0m\u001b[0m\n",
      "\u001b[0;32m/usr/lib/python3/dist-packages/urllib3/connectionpool.py\u001b[0m in \u001b[0;36murlopen\u001b[0;34m(self, method, url, body, headers, retries, redirect, assert_same_host, timeout, pool_timeout, release_conn, chunked, body_pos, **response_kw)\u001b[0m\n\u001b[1;32m    818\u001b[0m             \u001b[0;32mtry\u001b[0m\u001b[0;34m:\u001b[0m\u001b[0;34m\u001b[0m\u001b[0;34m\u001b[0m\u001b[0m\n\u001b[0;32m--> 819\u001b[0;31m                 \u001b[0mretries\u001b[0m \u001b[0;34m=\u001b[0m \u001b[0mretries\u001b[0m\u001b[0;34m.\u001b[0m\u001b[0mincrement\u001b[0m\u001b[0;34m(\u001b[0m\u001b[0mmethod\u001b[0m\u001b[0;34m,\u001b[0m \u001b[0murl\u001b[0m\u001b[0;34m,\u001b[0m \u001b[0mresponse\u001b[0m\u001b[0;34m=\u001b[0m\u001b[0mresponse\u001b[0m\u001b[0;34m,\u001b[0m \u001b[0m_pool\u001b[0m\u001b[0;34m=\u001b[0m\u001b[0mself\u001b[0m\u001b[0;34m)\u001b[0m\u001b[0;34m\u001b[0m\u001b[0;34m\u001b[0m\u001b[0m\n\u001b[0m\u001b[1;32m    820\u001b[0m             \u001b[0;32mexcept\u001b[0m \u001b[0mMaxRetryError\u001b[0m\u001b[0;34m:\u001b[0m\u001b[0;34m\u001b[0m\u001b[0;34m\u001b[0m\u001b[0m\n",
      "\u001b[0;32m/usr/lib/python3/dist-packages/urllib3/util/retry.py\u001b[0m in \u001b[0;36mincrement\u001b[0;34m(self, method, url, response, error, _pool, _stacktrace)\u001b[0m\n\u001b[1;32m    435\u001b[0m         \u001b[0;32mif\u001b[0m \u001b[0mnew_retry\u001b[0m\u001b[0;34m.\u001b[0m\u001b[0mis_exhausted\u001b[0m\u001b[0;34m(\u001b[0m\u001b[0;34m)\u001b[0m\u001b[0;34m:\u001b[0m\u001b[0;34m\u001b[0m\u001b[0;34m\u001b[0m\u001b[0m\n\u001b[0;32m--> 436\u001b[0;31m             \u001b[0;32mraise\u001b[0m \u001b[0mMaxRetryError\u001b[0m\u001b[0;34m(\u001b[0m\u001b[0m_pool\u001b[0m\u001b[0;34m,\u001b[0m \u001b[0murl\u001b[0m\u001b[0;34m,\u001b[0m \u001b[0merror\u001b[0m \u001b[0;32mor\u001b[0m \u001b[0mResponseError\u001b[0m\u001b[0;34m(\u001b[0m\u001b[0mcause\u001b[0m\u001b[0;34m)\u001b[0m\u001b[0;34m)\u001b[0m\u001b[0;34m\u001b[0m\u001b[0;34m\u001b[0m\u001b[0m\n\u001b[0m\u001b[1;32m    437\u001b[0m \u001b[0;34m\u001b[0m\u001b[0m\n",
      "\u001b[0;31mMaxRetryError\u001b[0m: HTTPSConnectionPool(host='api.spotify.com', port=443): Max retries exceeded with url: /v1/audio-features/?ids=0R2BQmqtNBaajKeO9qU6sB (Caused by ResponseError('too many 503 error responses'))",
      "\nDuring handling of the above exception, another exception occurred:\n",
      "\u001b[0;31mRetryError\u001b[0mTraceback (most recent call last)",
      "\u001b[0;32m/usr/local/lib/python3.8/dist-packages/spotipy/client.py\u001b[0m in \u001b[0;36m_internal_call\u001b[0;34m(self, method, url, payload, params)\u001b[0m\n\u001b[1;32m    239\u001b[0m         \u001b[0;32mtry\u001b[0m\u001b[0;34m:\u001b[0m\u001b[0;34m\u001b[0m\u001b[0;34m\u001b[0m\u001b[0m\n\u001b[0;32m--> 240\u001b[0;31m             response = self._session.request(\n\u001b[0m\u001b[1;32m    241\u001b[0m                 \u001b[0mmethod\u001b[0m\u001b[0;34m,\u001b[0m \u001b[0murl\u001b[0m\u001b[0;34m,\u001b[0m \u001b[0mheaders\u001b[0m\u001b[0;34m=\u001b[0m\u001b[0mheaders\u001b[0m\u001b[0;34m,\u001b[0m \u001b[0mproxies\u001b[0m\u001b[0;34m=\u001b[0m\u001b[0mself\u001b[0m\u001b[0;34m.\u001b[0m\u001b[0mproxies\u001b[0m\u001b[0;34m,\u001b[0m\u001b[0;34m\u001b[0m\u001b[0;34m\u001b[0m\u001b[0m\n",
      "\u001b[0;32m/usr/lib/python3/dist-packages/requests/sessions.py\u001b[0m in \u001b[0;36mrequest\u001b[0;34m(self, method, url, params, data, headers, cookies, files, auth, timeout, allow_redirects, proxies, hooks, stream, verify, cert, json)\u001b[0m\n\u001b[1;32m    532\u001b[0m         \u001b[0msend_kwargs\u001b[0m\u001b[0;34m.\u001b[0m\u001b[0mupdate\u001b[0m\u001b[0;34m(\u001b[0m\u001b[0msettings\u001b[0m\u001b[0;34m)\u001b[0m\u001b[0;34m\u001b[0m\u001b[0;34m\u001b[0m\u001b[0m\n\u001b[0;32m--> 533\u001b[0;31m         \u001b[0mresp\u001b[0m \u001b[0;34m=\u001b[0m \u001b[0mself\u001b[0m\u001b[0;34m.\u001b[0m\u001b[0msend\u001b[0m\u001b[0;34m(\u001b[0m\u001b[0mprep\u001b[0m\u001b[0;34m,\u001b[0m \u001b[0;34m**\u001b[0m\u001b[0msend_kwargs\u001b[0m\u001b[0;34m)\u001b[0m\u001b[0;34m\u001b[0m\u001b[0;34m\u001b[0m\u001b[0m\n\u001b[0m\u001b[1;32m    534\u001b[0m \u001b[0;34m\u001b[0m\u001b[0m\n",
      "\u001b[0;32m/usr/lib/python3/dist-packages/requests/sessions.py\u001b[0m in \u001b[0;36msend\u001b[0;34m(self, request, **kwargs)\u001b[0m\n\u001b[1;32m    645\u001b[0m         \u001b[0;31m# Send the request\u001b[0m\u001b[0;34m\u001b[0m\u001b[0;34m\u001b[0m\u001b[0;34m\u001b[0m\u001b[0m\n\u001b[0;32m--> 646\u001b[0;31m         \u001b[0mr\u001b[0m \u001b[0;34m=\u001b[0m \u001b[0madapter\u001b[0m\u001b[0;34m.\u001b[0m\u001b[0msend\u001b[0m\u001b[0;34m(\u001b[0m\u001b[0mrequest\u001b[0m\u001b[0;34m,\u001b[0m \u001b[0;34m**\u001b[0m\u001b[0mkwargs\u001b[0m\u001b[0;34m)\u001b[0m\u001b[0;34m\u001b[0m\u001b[0;34m\u001b[0m\u001b[0m\n\u001b[0m\u001b[1;32m    647\u001b[0m \u001b[0;34m\u001b[0m\u001b[0m\n",
      "\u001b[0;32m/usr/lib/python3/dist-packages/requests/adapters.py\u001b[0m in \u001b[0;36msend\u001b[0;34m(self, request, stream, timeout, verify, cert, proxies)\u001b[0m\n\u001b[1;32m    506\u001b[0m             \u001b[0;32mif\u001b[0m \u001b[0misinstance\u001b[0m\u001b[0;34m(\u001b[0m\u001b[0me\u001b[0m\u001b[0;34m.\u001b[0m\u001b[0mreason\u001b[0m\u001b[0;34m,\u001b[0m \u001b[0mResponseError\u001b[0m\u001b[0;34m)\u001b[0m\u001b[0;34m:\u001b[0m\u001b[0;34m\u001b[0m\u001b[0;34m\u001b[0m\u001b[0m\n\u001b[0;32m--> 507\u001b[0;31m                 \u001b[0;32mraise\u001b[0m \u001b[0mRetryError\u001b[0m\u001b[0;34m(\u001b[0m\u001b[0me\u001b[0m\u001b[0;34m,\u001b[0m \u001b[0mrequest\u001b[0m\u001b[0;34m=\u001b[0m\u001b[0mrequest\u001b[0m\u001b[0;34m)\u001b[0m\u001b[0;34m\u001b[0m\u001b[0;34m\u001b[0m\u001b[0m\n\u001b[0m\u001b[1;32m    508\u001b[0m \u001b[0;34m\u001b[0m\u001b[0m\n",
      "\u001b[0;31mRetryError\u001b[0m: HTTPSConnectionPool(host='api.spotify.com', port=443): Max retries exceeded with url: /v1/audio-features/?ids=0R2BQmqtNBaajKeO9qU6sB (Caused by ResponseError('too many 503 error responses'))",
      "\nDuring handling of the above exception, another exception occurred:\n",
      "\u001b[0;31mSpotifyException\u001b[0mTraceback (most recent call last)",
      "\u001b[0;32m<ipython-input-20-c633e8c3c3b9>\u001b[0m in \u001b[0;36m<module>\u001b[0;34m\u001b[0m\n\u001b[1;32m      1\u001b[0m \u001b[0mbpm\u001b[0m \u001b[0;34m=\u001b[0m \u001b[0;34m[\u001b[0m\u001b[0;34m]\u001b[0m\u001b[0;34m\u001b[0m\u001b[0;34m\u001b[0m\u001b[0m\n\u001b[1;32m      2\u001b[0m \u001b[0;32mfor\u001b[0m \u001b[0mtrack\u001b[0m \u001b[0;32min\u001b[0m \u001b[0mtop_1000_tracks\u001b[0m\u001b[0;34m:\u001b[0m\u001b[0;34m\u001b[0m\u001b[0;34m\u001b[0m\u001b[0m\n\u001b[0;32m----> 3\u001b[0;31m     \u001b[0mtempo\u001b[0m \u001b[0;34m=\u001b[0m \u001b[0msp\u001b[0m\u001b[0;34m.\u001b[0m\u001b[0maudio_features\u001b[0m\u001b[0;34m(\u001b[0m\u001b[0mtrack\u001b[0m\u001b[0;34m[\u001b[0m\u001b[0;34m'track'\u001b[0m\u001b[0;34m]\u001b[0m\u001b[0;34m[\u001b[0m\u001b[0;34m'uri'\u001b[0m\u001b[0;34m]\u001b[0m\u001b[0;34m)\u001b[0m\u001b[0;34m[\u001b[0m\u001b[0;36m0\u001b[0m\u001b[0;34m]\u001b[0m\u001b[0;34m[\u001b[0m\u001b[0;34m'tempo'\u001b[0m\u001b[0;34m]\u001b[0m\u001b[0;34m\u001b[0m\u001b[0;34m\u001b[0m\u001b[0m\n\u001b[0m\u001b[1;32m      4\u001b[0m     \u001b[0;32mif\u001b[0m \u001b[0mtempo\u001b[0m \u001b[0;34m<\u001b[0m \u001b[0;36m100\u001b[0m \u001b[0;32mor\u001b[0m \u001b[0mtempo\u001b[0m \u001b[0;34m>\u001b[0m \u001b[0;36m150\u001b[0m\u001b[0;34m:\u001b[0m \u001b[0;31m# \"outliers\", details below\u001b[0m\u001b[0;34m\u001b[0m\u001b[0;34m\u001b[0m\u001b[0m\n\u001b[1;32m      5\u001b[0m         \u001b[0mbpm\u001b[0m\u001b[0;34m.\u001b[0m\u001b[0mappend\u001b[0m\u001b[0;34m(\u001b[0m\u001b[0;36m138\u001b[0m\u001b[0;34m)\u001b[0m\u001b[0;34m\u001b[0m\u001b[0;34m\u001b[0m\u001b[0m\n",
      "\u001b[0;32m/usr/local/lib/python3.8/dist-packages/spotipy/client.py\u001b[0m in \u001b[0;36maudio_features\u001b[0;34m(self, tracks)\u001b[0m\n\u001b[1;32m   1617\u001b[0m         \u001b[0;32mif\u001b[0m \u001b[0misinstance\u001b[0m\u001b[0;34m(\u001b[0m\u001b[0mtracks\u001b[0m\u001b[0;34m,\u001b[0m \u001b[0mstr\u001b[0m\u001b[0;34m)\u001b[0m\u001b[0;34m:\u001b[0m\u001b[0;34m\u001b[0m\u001b[0;34m\u001b[0m\u001b[0m\n\u001b[1;32m   1618\u001b[0m             \u001b[0mtrackid\u001b[0m \u001b[0;34m=\u001b[0m \u001b[0mself\u001b[0m\u001b[0;34m.\u001b[0m\u001b[0m_get_id\u001b[0m\u001b[0;34m(\u001b[0m\u001b[0;34m\"track\"\u001b[0m\u001b[0;34m,\u001b[0m \u001b[0mtracks\u001b[0m\u001b[0;34m)\u001b[0m\u001b[0;34m\u001b[0m\u001b[0;34m\u001b[0m\u001b[0m\n\u001b[0;32m-> 1619\u001b[0;31m             \u001b[0mresults\u001b[0m \u001b[0;34m=\u001b[0m \u001b[0mself\u001b[0m\u001b[0;34m.\u001b[0m\u001b[0m_get\u001b[0m\u001b[0;34m(\u001b[0m\u001b[0;34m\"audio-features/?ids=\"\u001b[0m \u001b[0;34m+\u001b[0m \u001b[0mtrackid\u001b[0m\u001b[0;34m)\u001b[0m\u001b[0;34m\u001b[0m\u001b[0;34m\u001b[0m\u001b[0m\n\u001b[0m\u001b[1;32m   1620\u001b[0m         \u001b[0;32melse\u001b[0m\u001b[0;34m:\u001b[0m\u001b[0;34m\u001b[0m\u001b[0;34m\u001b[0m\u001b[0m\n\u001b[1;32m   1621\u001b[0m             \u001b[0mtlist\u001b[0m \u001b[0;34m=\u001b[0m \u001b[0;34m[\u001b[0m\u001b[0mself\u001b[0m\u001b[0;34m.\u001b[0m\u001b[0m_get_id\u001b[0m\u001b[0;34m(\u001b[0m\u001b[0;34m\"track\"\u001b[0m\u001b[0;34m,\u001b[0m \u001b[0mt\u001b[0m\u001b[0;34m)\u001b[0m \u001b[0;32mfor\u001b[0m \u001b[0mt\u001b[0m \u001b[0;32min\u001b[0m \u001b[0mtracks\u001b[0m\u001b[0;34m]\u001b[0m\u001b[0;34m\u001b[0m\u001b[0;34m\u001b[0m\u001b[0m\n",
      "\u001b[0;32m/usr/local/lib/python3.8/dist-packages/spotipy/client.py\u001b[0m in \u001b[0;36m_get\u001b[0;34m(self, url, args, payload, **kwargs)\u001b[0m\n\u001b[1;32m    289\u001b[0m             \u001b[0mkwargs\u001b[0m\u001b[0;34m.\u001b[0m\u001b[0mupdate\u001b[0m\u001b[0;34m(\u001b[0m\u001b[0margs\u001b[0m\u001b[0;34m)\u001b[0m\u001b[0;34m\u001b[0m\u001b[0;34m\u001b[0m\u001b[0m\n\u001b[1;32m    290\u001b[0m \u001b[0;34m\u001b[0m\u001b[0m\n\u001b[0;32m--> 291\u001b[0;31m         \u001b[0;32mreturn\u001b[0m \u001b[0mself\u001b[0m\u001b[0;34m.\u001b[0m\u001b[0m_internal_call\u001b[0m\u001b[0;34m(\u001b[0m\u001b[0;34m\"GET\"\u001b[0m\u001b[0;34m,\u001b[0m \u001b[0murl\u001b[0m\u001b[0;34m,\u001b[0m \u001b[0mpayload\u001b[0m\u001b[0;34m,\u001b[0m \u001b[0mkwargs\u001b[0m\u001b[0;34m)\u001b[0m\u001b[0;34m\u001b[0m\u001b[0;34m\u001b[0m\u001b[0m\n\u001b[0m\u001b[1;32m    292\u001b[0m \u001b[0;34m\u001b[0m\u001b[0m\n\u001b[1;32m    293\u001b[0m     \u001b[0;32mdef\u001b[0m \u001b[0m_post\u001b[0m\u001b[0;34m(\u001b[0m\u001b[0mself\u001b[0m\u001b[0;34m,\u001b[0m \u001b[0murl\u001b[0m\u001b[0;34m,\u001b[0m \u001b[0margs\u001b[0m\u001b[0;34m=\u001b[0m\u001b[0;32mNone\u001b[0m\u001b[0;34m,\u001b[0m \u001b[0mpayload\u001b[0m\u001b[0;34m=\u001b[0m\u001b[0;32mNone\u001b[0m\u001b[0;34m,\u001b[0m \u001b[0;34m**\u001b[0m\u001b[0mkwargs\u001b[0m\u001b[0;34m)\u001b[0m\u001b[0;34m:\u001b[0m\u001b[0;34m\u001b[0m\u001b[0;34m\u001b[0m\u001b[0m\n",
      "\u001b[0;32m/usr/local/lib/python3.8/dist-packages/spotipy/client.py\u001b[0m in \u001b[0;36m_internal_call\u001b[0;34m(self, method, url, payload, params)\u001b[0m\n\u001b[1;32m    273\u001b[0m             \u001b[0;32mexcept\u001b[0m \u001b[0;34m(\u001b[0m\u001b[0mIndexError\u001b[0m\u001b[0;34m,\u001b[0m \u001b[0mAttributeError\u001b[0m\u001b[0;34m)\u001b[0m\u001b[0;34m:\u001b[0m\u001b[0;34m\u001b[0m\u001b[0;34m\u001b[0m\u001b[0m\n\u001b[1;32m    274\u001b[0m                 \u001b[0mreason\u001b[0m \u001b[0;34m=\u001b[0m \u001b[0;32mNone\u001b[0m\u001b[0;34m\u001b[0m\u001b[0;34m\u001b[0m\u001b[0m\n\u001b[0;32m--> 275\u001b[0;31m             raise SpotifyException(\n\u001b[0m\u001b[1;32m    276\u001b[0m                 \u001b[0;36m429\u001b[0m\u001b[0;34m,\u001b[0m\u001b[0;34m\u001b[0m\u001b[0;34m\u001b[0m\u001b[0m\n\u001b[1;32m    277\u001b[0m                 \u001b[0;34m-\u001b[0m\u001b[0;36m1\u001b[0m\u001b[0;34m,\u001b[0m\u001b[0;34m\u001b[0m\u001b[0;34m\u001b[0m\u001b[0m\n",
      "\u001b[0;31mSpotifyException\u001b[0m: http status: 429, code:-1 - /v1/audio-features/?ids=0R2BQmqtNBaajKeO9qU6sB:\n Max Retries, reason: too many 503 error responses"
     ]
    }
   ],
   "source": [
    "bpm = []\n",
    "for track in top_1000_tracks:\n",
    "    tempo = sp.audio_features(track['track']['uri'])[0]['tempo']\n",
    "    if tempo < 100 or tempo > 150: # \"outliers\", details below\n",
    "        bpm.append(138)\n",
    "    else:\n",
    "        bpm.append(sp.audio_features(track['track']['uri'])[0]['tempo'])\n",
    "\n",
    "x = np.arange(len(top_1000_tracks))   \n",
    "\n",
    "source = pd.DataFrame({\n",
    "  'track': x,\n",
    "  'bpm': np.array(bpm)\n",
    "})\n",
    "\n",
    "source['138'] = 138\n",
    "\n",
    "base = alt.Chart(source).mark_line().encode(\n",
    "    alt.X('track'),\n",
    "    alt.Y('bpm', scale=alt.Scale(domain=(100, 150))),\n",
    ").properties(\n",
    "    title=\"ASOT Top 1000 - BPM of track\"\n",
    ")\n",
    "\n",
    "rule = alt.Chart(source).mark_rule(color='red').encode(\n",
    "    y='138'\n",
    ")\n",
    "\n",
    "base + rule"
   ]
  },
  {
   "cell_type": "markdown",
   "metadata": {},
   "source": [
    "Not the best way to visualize it, how about a semi-interactive scatter plot? Mouseover for track position and BPM, zoom with the mousewheel. I couldn't figure out how to get track titles and artists in the tooltips."
   ]
  },
  {
   "cell_type": "code",
   "execution_count": null,
   "metadata": {},
   "outputs": [],
   "source": [
    "detail = (\n",
    "    alt.Chart(source)\n",
    "    .mark_point()\n",
    "    .encode(\n",
    "        x=alt.X(\n",
    "            \"track:T\",\n",
    "        ),\n",
    "        y=alt.Y(\n",
    "            \"bpm:Q\",\n",
    "            scale=alt.Scale(domain=(100, 150)),\n",
    "        ),\n",
    "        color=\"bpm\",\n",
    "        tooltip=['bpm', 'track']\n",
    "    )\n",
    "    .properties(width=600, height=400, title=\"BPM of ASOT Top 1000 -- detail view\")\n",
    ").interactive()\n",
    "\n",
    "detail"
   ]
  },
  {
   "cell_type": "markdown",
   "metadata": {},
   "source": [
    "There's a few \"outliers\" that kind of throw off the graph - let's look at the tracks in the top 1,000 with the lowest and highest BPMs."
   ]
  },
  {
   "cell_type": "code",
   "execution_count": null,
   "metadata": {
    "scrolled": true
   },
   "outputs": [],
   "source": [
    "for position, track in enumerate(top_1000_tracks):\n",
    "    tempo = sp.audio_features(track['track']['uri'])[0]['tempo']\n",
    "    if tempo < 125 or tempo > 141: # \"outliers\"\n",
    "        track_artist = track['track']['artists'][0]['name']\n",
    "        for artist in track['track']['artists'][1:]:\n",
    "            track_artist += \" & \" + artist['name']\n",
    "        print(1000 - position, '.', track_artist, '-', track['track']['name'], '-', tempo, 'BPM')"
   ]
  },
  {
   "cell_type": "markdown",
   "metadata": {},
   "source": [
    "But this is not entirely right, right? [Beatport lists Popcorn as 138 BPM](https://www.beatport.com/track/popcorn-original-mix/10531322). Again, I've done nothing to address any inconsistencies."
   ]
  },
  {
   "cell_type": "markdown",
   "metadata": {},
   "source": [
    "## Now you!"
   ]
  },
  {
   "cell_type": "markdown",
   "metadata": {},
   "source": [
    "I've hardly covered the most basic analyses, so I'll leave you with a CSV file of tracks and [\"audio features\" from Spotify](https://developer.spotify.com/documentation/web-api/reference/#object-audiofeaturesobject) so you can run the numbers yourself."
   ]
  },
  {
   "cell_type": "code",
   "execution_count": null,
   "metadata": {},
   "outputs": [],
   "source": [
    "import csv\n",
    "\n",
    "with open('../data/top-1000.csv', 'w', newline='') as csvfile:\n",
    "    topreader = csv.writer(csvfile, delimiter=',',\n",
    "                            quotechar='|', quoting=csv.QUOTE_MINIMAL)\n",
    "    topreader.writerow(['position', 'artist', 'track', 'year', 'danceability', 'energy', 'key', 'loudness', 'speechiness', 'acousticness', 'instrumentalness', 'liveness', 'valence', 'tempo', 'id', 'uri', 'duration_ms', 'time_signature'])\n",
    "    for position, track in enumerate(top_1000_tracks):\n",
    "        # Get track artists\n",
    "        track_artist = track['track']['artists'][0]['name']\n",
    "        for artist in track['track']['artists'][1:]:\n",
    "            track_artist += \" & \" + artist['name']\n",
    "        audio_features = sp.audio_features(track['track']['uri'])[0]\n",
    "        topreader.writerow([1000 - position, track_artist, track['track']['name'], track['track']['album']['release_date'][:4], audio_features['danceability'], audio_features['energy'], audio_features['key'], audio_features['loudness'], audio_features['speechiness'], audio_features['acousticness'], audio_features['instrumentalness'], audio_features['liveness'], audio_features['valence'], audio_features['tempo'], audio_features['id'], audio_features['uri'], audio_features['duration_ms'], audio_features['time_signature']])"
   ]
  },
  {
   "cell_type": "markdown",
   "metadata": {},
   "source": [
    "The resulting file can be found in https://github.com/ScottBrenner/asot-jupyter/blob/1000/data/top-1000.csv - let me know what you make with it!"
   ]
  }
 ],
 "metadata": {
  "kernelspec": {
   "display_name": "Python 3",
   "language": "python",
   "name": "python3"
  },
  "language_info": {
   "codemirror_mode": {
    "name": "ipython",
    "version": 3
   },
   "file_extension": ".py",
   "mimetype": "text/x-python",
   "name": "python",
   "nbconvert_exporter": "python",
   "pygments_lexer": "ipython3",
   "version": "3.8.5"
  }
 },
 "nbformat": 4,
 "nbformat_minor": 4
}

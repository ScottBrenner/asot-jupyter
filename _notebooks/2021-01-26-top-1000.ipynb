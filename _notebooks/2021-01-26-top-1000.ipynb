{
 "cells": [
  {
   "cell_type": "markdown",
   "metadata": {},
   "source": [
    "# Analyzing the ASOT Top 1000\n",
    "> Celebrating 1,000 episodes of A State of Trance.\n",
    "\n",
    "- toc: true \n",
    "- badges: true\n",
    "- comments: false\n",
    "- categories: [asot, bpm, artist, year]\n",
    "- image: images/annual-avg-bpm.png"
   ]
  },
  {
   "cell_type": "code",
   "execution_count": 2,
   "metadata": {},
   "outputs": [
    {
     "name": "stdout",
     "output_type": "stream",
     "text": [
      "Requirement already satisfied: pyyaml in /usr/local/lib/python3.8/dist-packages (5.3.1)\n",
      "Collecting altair\n",
      "  Downloading altair-4.1.0-py3-none-any.whl (727 kB)\n",
      "\u001b[K     |████████████████████████████████| 727 kB 9.6 MB/s eta 0:00:01\n",
      "\u001b[?25hRequirement already satisfied: jinja2 in /usr/local/lib/python3.8/dist-packages (from altair) (2.11.2)\n",
      "Requirement already satisfied: entrypoints in /usr/local/lib/python3.8/dist-packages (from altair) (0.3)\n",
      "Requirement already satisfied: jsonschema in /usr/local/lib/python3.8/dist-packages (from altair) (3.2.0)\n",
      "Collecting pandas>=0.18\n",
      "  Downloading pandas-1.2.1-cp38-cp38-manylinux1_x86_64.whl (9.7 MB)\n",
      "\u001b[K     |████████████████████████████████| 9.7 MB 108.2 MB/s eta 0:00:01�████▌           | 6.2 MB 108.2 MB/s eta 0:00:01\n",
      "\u001b[?25hRequirement already satisfied: python-dateutil>=2.7.3 in /usr/local/lib/python3.8/dist-packages (from pandas>=0.18->altair) (2.8.1)\n",
      "Collecting numpy\n",
      "  Downloading numpy-1.19.5-cp38-cp38-manylinux2010_x86_64.whl (14.9 MB)\n",
      "\u001b[K     |████████████████████████████████| 14.9 MB 93.3 MB/s eta 0:00:01\n",
      "\u001b[?25hRequirement already satisfied: six>=1.5 in /usr/lib/python3/dist-packages (from python-dateutil>=2.7.3->pandas>=0.18->altair) (1.14.0)\n",
      "Collecting pytz>=2017.3\n",
      "  Downloading pytz-2020.5-py2.py3-none-any.whl (510 kB)\n",
      "\u001b[K     |████████████████████████████████| 510 kB 94.8 MB/s eta 0:00:01\n",
      "\u001b[?25hCollecting spotipy\n",
      "  Downloading spotipy-2.16.1-py3-none-any.whl (24 kB)\n",
      "Requirement already satisfied: requests>=2.20.0 in /usr/lib/python3/dist-packages (from spotipy) (2.22.0)\n",
      "Requirement already satisfied: MarkupSafe>=0.23 in /usr/local/lib/python3.8/dist-packages (from jinja2->altair) (1.1.1)\n",
      "Requirement already satisfied: setuptools in /usr/lib/python3/dist-packages (from jsonschema->altair) (45.2.0)\n",
      "Requirement already satisfied: attrs>=17.4.0 in /usr/local/lib/python3.8/dist-packages (from jsonschema->altair) (20.3.0)\n",
      "Requirement already satisfied: pyrsistent>=0.14.0 in /usr/local/lib/python3.8/dist-packages (from jsonschema->altair) (0.17.3)\n",
      "Collecting toolz\n",
      "  Downloading toolz-0.11.1-py3-none-any.whl (55 kB)\n",
      "\u001b[K     |████████████████████████████████| 55 kB 518 kB/s  eta 0:00:01\n",
      "\u001b[?25hInstalling collected packages: pytz, numpy, toolz, pandas, spotipy, altair\n",
      "Successfully installed altair-4.1.0 numpy-1.19.5 pandas-1.2.1 pytz-2020.5 spotipy-2.16.1 toolz-0.11.1\n",
      "\u001b[33mWARNING: You are using pip version 20.3.3; however, version 21.0 is available.\n",
      "You should consider upgrading via the '/usr/bin/python -m pip install --upgrade pip' command.\u001b[0m\n",
      "Note: you may need to restart the kernel to use updated packages.\n"
     ]
    }
   ],
   "source": [
    "#hide\n",
    "%pip install spotipy pyyaml altair"
   ]
  },
  {
   "cell_type": "code",
   "execution_count": 3,
   "metadata": {},
   "outputs": [],
   "source": [
    "#hide\n",
    "import os\n",
    "import yaml\n",
    "import spotipy\n",
    "import json\n",
    "import altair as alt\n",
    "import numpy as np\n",
    "import pandas as pd\n",
    "from spotipy.oauth2 import SpotifyClientCredentials\n",
    "\n",
    "sp = spotipy.Spotify(client_credentials_manager=SpotifyClientCredentials())"
   ]
  },
  {
   "cell_type": "markdown",
   "metadata": {},
   "source": [
    "## Introduction"
   ]
  },
  {
   "cell_type": "markdown",
   "metadata": {},
   "source": [
    "To celebrate the 1,000th episode of A State of Trance the radioshow invited viewers to vote for their all-time favorite trance tracks, and the resulting list was broadcast as [ASOT 1000](https://www.astateoftrance.com/episodes/asot1000/).\n",
    "\n",
    "In this post we'll analyze the top 1,000 - which artists, BPMs, and years are most-represented? And more!"
   ]
  },
  {
   "cell_type": "markdown",
   "metadata": {},
   "source": [
    "## Some Housekeeping"
   ]
  },
  {
   "cell_type": "markdown",
   "metadata": {},
   "source": [
    "As with previous posts here, we'll be pulling data from Spotify and graphing the results. While there is [an official \"ASOT Top 1000\"](https://open.spotify.com/playlist/5QafFMGgQKGwqgV7k3qHy6) playlist on Spotify, I'm opting to instead use the \"[ASOT TOP 1000 Countdown Extended](https://open.spotify.com/playlist/5DCcjCLMlPjTwKLCcYyzIj)\" playlist [compiled by reddit user turbodevin](https://www.reddit.com/r/trance/comments/l2ae9y/relive_the_asot_top_1000_countdown_in_your_own/). As Devin writes,\n",
    "> MISSING\n",
    ">\n",
    ">    531 || Sean Callery - The Longest Day (Armin van Buuren Remix)\n",
    ">\n",
    "> REMIX NOT AVAILABLE\n",
    ">\n",
    ">    414 || Faithless - Insomnia (Andrew Rayel Remix)\n",
    ">\n",
    ">    520 || Safri Duo - Played A Live (The Bongo Song) [NWYR & Willem de Roo Remix]\n",
    ">\n",
    ">    530 || Kensington - Sorry (Armin van Buuren Remix)\n",
    ">\n",
    ">    635 || Ilse de Lange - The Great Escape (Armin van Buuren Remix)\n",
    ">\n",
    ">    661 || Zedd feat. Foxes - Clarity (Andrew Rayel Remix)\n",
    "\n",
    "While the playlist may not be complete, I'd still consider to be the most-complete playlist available on Spotify - using extended mixes over the official playlist's radio mixes is certainly more preferrable, at least.\n",
    "\n",
    "Remember, all data here is pulled directly from Spotify's API without any modification from my end*. See the post on [Methodology](https://scottbrenner.github.io/asot-jupyter/asot/bpm/2020/04/27/methodology.html) for details on what data we can pull from Spotify, and how.\n",
    "\n",
    "\\*[Spotify's API for \"Get a Playlist's Items\" limits us to getting 100 tracks at a time](https://developer.spotify.com/documentation/web-api/reference/#category-playlists). Let's make 10 API calls for 100 tracks each, incrementing `offset` each time, and save the results."
   ]
  },
  {
   "cell_type": "code",
   "execution_count": 4,
   "metadata": {},
   "outputs": [
    {
     "name": "stdout",
     "output_type": "stream",
     "text": [
      "1000\n"
     ]
    }
   ],
   "source": [
    "\"\"\"\n",
    "User: https://open.spotify.com/user/113444659\n",
    "Playlist: ASOT TOP 1000 Countdown Extended\n",
    "Playlist link: https://open.spotify.com/playlist/5DCcjCLMlPjTwKLCcYyzIj\n",
    "Playlist ID: 5DCcjCLMlPjTwKLCcYyzIj\n",
    "\"\"\"\n",
    "top_1000_playlist = '5DCcjCLMlPjTwKLCcYyzIj'\n",
    "\n",
    "top_1000_tracks = []\n",
    "\n",
    "# Get full details of the tracks and episodes of a playlis\n",
    "# https://spotipy.readthedocs.io/en/2.16.1/#spotipy.client.Spotify.playlist_items\n",
    "top_1000_tracks.extend(sp.playlist_tracks(top_1000_playlist)['items'])\n",
    "top_1000_tracks.extend(sp.playlist_tracks(top_1000_playlist, offset=100)['items'])\n",
    "top_1000_tracks.extend(sp.playlist_tracks(top_1000_playlist, offset=200)['items'])\n",
    "top_1000_tracks.extend(sp.playlist_tracks(top_1000_playlist, offset=300)['items'])\n",
    "top_1000_tracks.extend(sp.playlist_tracks(top_1000_playlist, offset=400)['items'])\n",
    "top_1000_tracks.extend(sp.playlist_tracks(top_1000_playlist, offset=500)['items'])\n",
    "top_1000_tracks.extend(sp.playlist_tracks(top_1000_playlist, offset=600)['items'])\n",
    "top_1000_tracks.extend(sp.playlist_tracks(top_1000_playlist, offset=700)['items'])\n",
    "top_1000_tracks.extend(sp.playlist_tracks(top_1000_playlist, offset=800)['items'])\n",
    "top_1000_tracks.extend(sp.playlist_tracks(top_1000_playlist, offset=900)['items'])\n",
    "print(len(top_1000_tracks))"
   ]
  },
  {
   "cell_type": "code",
   "execution_count": 5,
   "metadata": {},
   "outputs": [
    {
     "name": "stdout",
     "output_type": "stream",
     "text": [
      "Armin van Buuren - Shivers\n"
     ]
    }
   ],
   "source": [
    "# What's #1?\n",
    "print(top_1000_tracks[999]['track']['artists'][0]['name'], '-', top_1000_tracks[999]['track']['name'])"
   ]
  },
  {
   "cell_type": "markdown",
   "metadata": {},
   "source": [
    "## Artists"
   ]
  },
  {
   "cell_type": "markdown",
   "metadata": {},
   "source": [
    "Let's begin by looking at the artists who made the top 1000 - how many unique artists were featured?"
   ]
  },
  {
   "cell_type": "code",
   "execution_count": 6,
   "metadata": {},
   "outputs": [
    {
     "name": "stdout",
     "output_type": "stream",
     "text": [
      "639\n"
     ]
    }
   ],
   "source": [
    "unique_artists = set()\n",
    "\n",
    "for track in top_1000_tracks:\n",
    "    for artist in track['track']['artists']:\n",
    "            unique_artists.add(artist['name'])      \n",
    "\n",
    "print(len(unique_artists))"
   ]
  },
  {
   "cell_type": "markdown",
   "metadata": {},
   "source": [
    "Which artists were featured the most?"
   ]
  },
  {
   "cell_type": "code",
   "execution_count": 7,
   "metadata": {},
   "outputs": [],
   "source": [
    "from collections import defaultdict\n",
    "\n",
    "artist_counter = defaultdict(int)\n",
    "\n",
    "for track in top_1000_tracks:\n",
    "    for artist in track['track']['artists']:\n",
    "         artist_counter[artist['name']] += 1\n",
    "\n",
    "\n",
    "top_artists = sorted(artist_counter.items(), key=lambda k_v: k_v[1], reverse=True)"
   ]
  },
  {
   "cell_type": "markdown",
   "metadata": {},
   "source": [
    "Alright, let's see the top 25 in a graph.."
   ]
  },
  {
   "cell_type": "code",
   "execution_count": 8,
   "metadata": {},
   "outputs": [
    {
     "data": {
      "text/html": [
       "\n",
       "<div id=\"altair-viz-74ccb411c86349659bbb506161449122\"></div>\n",
       "<script type=\"text/javascript\">\n",
       "  (function(spec, embedOpt){\n",
       "    let outputDiv = document.currentScript.previousElementSibling;\n",
       "    if (outputDiv.id !== \"altair-viz-74ccb411c86349659bbb506161449122\") {\n",
       "      outputDiv = document.getElementById(\"altair-viz-74ccb411c86349659bbb506161449122\");\n",
       "    }\n",
       "    const paths = {\n",
       "      \"vega\": \"https://cdn.jsdelivr.net/npm//vega@5?noext\",\n",
       "      \"vega-lib\": \"https://cdn.jsdelivr.net/npm//vega-lib?noext\",\n",
       "      \"vega-lite\": \"https://cdn.jsdelivr.net/npm//vega-lite@4.8.1?noext\",\n",
       "      \"vega-embed\": \"https://cdn.jsdelivr.net/npm//vega-embed@6?noext\",\n",
       "    };\n",
       "\n",
       "    function loadScript(lib) {\n",
       "      return new Promise(function(resolve, reject) {\n",
       "        var s = document.createElement('script');\n",
       "        s.src = paths[lib];\n",
       "        s.async = true;\n",
       "        s.onload = () => resolve(paths[lib]);\n",
       "        s.onerror = () => reject(`Error loading script: ${paths[lib]}`);\n",
       "        document.getElementsByTagName(\"head\")[0].appendChild(s);\n",
       "      });\n",
       "    }\n",
       "\n",
       "    function showError(err) {\n",
       "      outputDiv.innerHTML = `<div class=\"error\" style=\"color:red;\">${err}</div>`;\n",
       "      throw err;\n",
       "    }\n",
       "\n",
       "    function displayChart(vegaEmbed) {\n",
       "      vegaEmbed(outputDiv, spec, embedOpt)\n",
       "        .catch(err => showError(`Javascript Error: ${err.message}<br>This usually means there's a typo in your chart specification. See the javascript console for the full traceback.`));\n",
       "    }\n",
       "\n",
       "    if(typeof define === \"function\" && define.amd) {\n",
       "      requirejs.config({paths});\n",
       "      require([\"vega-embed\"], displayChart, err => showError(`Error loading script: ${err.message}`));\n",
       "    } else if (typeof vegaEmbed === \"function\") {\n",
       "      displayChart(vegaEmbed);\n",
       "    } else {\n",
       "      loadScript(\"vega\")\n",
       "        .then(() => loadScript(\"vega-lite\"))\n",
       "        .then(() => loadScript(\"vega-embed\"))\n",
       "        .catch(showError)\n",
       "        .then(() => displayChart(vegaEmbed));\n",
       "    }\n",
       "  })({\"config\": {\"view\": {\"continuousWidth\": 400, \"continuousHeight\": 300}}, \"layer\": [{\"mark\": \"bar\", \"encoding\": {\"x\": {\"type\": \"quantitative\", \"field\": \"1\", \"title\": \"Plays\"}, \"y\": {\"type\": \"nominal\", \"field\": \"0\", \"sort\": \"-x\", \"title\": \"Artist\"}}, \"title\": \"ASOT Top 1000 - Most-played artists\", \"width\": 600}, {\"mark\": {\"type\": \"text\", \"align\": \"left\", \"baseline\": \"middle\", \"dx\": 3}, \"encoding\": {\"text\": {\"type\": \"quantitative\", \"field\": \"1\"}, \"x\": {\"type\": \"quantitative\", \"field\": \"1\", \"title\": \"Plays\"}, \"y\": {\"type\": \"nominal\", \"field\": \"0\", \"sort\": \"-x\", \"title\": \"Artist\"}}, \"title\": \"ASOT Top 1000 - Most-played artists\", \"width\": 600}], \"data\": {\"name\": \"data-eac1400bc2d77649e39272c23611501e\"}, \"$schema\": \"https://vega.github.io/schema/vega-lite/v4.8.1.json\", \"datasets\": {\"data-eac1400bc2d77649e39272c23611501e\": [{\"0\": \"Armin van Buuren\", \"1\": 126}, {\"0\": \"Above & Beyond\", \"1\": 51}, {\"0\": \"Aly & Fila\", \"1\": 34}, {\"0\": \"Ferry Corsten\", \"1\": 25}, {\"0\": \"Andrew Rayel\", \"1\": 25}, {\"0\": \"Gareth Emery\", \"1\": 24}, {\"0\": \"Cosmic Gate\", \"1\": 21}, {\"0\": \"Ti\\u00ebsto\", \"1\": 20}, {\"0\": \"Giuseppe Ottaviani\", \"1\": 19}, {\"0\": \"Paul van Dyk\", \"1\": 16}, {\"0\": \"Solarstone\", \"1\": 15}, {\"0\": \"Orjan Nilsen\", \"1\": 15}, {\"0\": \"Alex M.O.R.P.H.\", \"1\": 14}, {\"0\": \"Omnia\", \"1\": 13}, {\"0\": \"Dash Berlin\", \"1\": 13}, {\"0\": \"Christina Novelli\", \"1\": 12}, {\"0\": \"John O'Callaghan\", \"1\": 12}, {\"0\": \"Emma Hewitt\", \"1\": 12}, {\"0\": \"Jorn Van Deynhoven\", \"1\": 12}, {\"0\": \"Markus Schulz\", \"1\": 12}, {\"0\": \"GAIA\", \"1\": 12}, {\"0\": \"Ruben de Ronde\", \"1\": 11}, {\"0\": \"W&W\", \"1\": 11}, {\"0\": \"HALIENE\", \"1\": 11}, {\"0\": \"MaRLo\", \"1\": 11}]}}, {\"mode\": \"vega-lite\"});\n",
       "</script>"
      ],
      "text/plain": [
       "alt.LayerChart(...)"
      ]
     },
     "execution_count": 8,
     "metadata": {},
     "output_type": "execute_result"
    }
   ],
   "source": [
    "source = pd.DataFrame.from_dict(top_artists[:25])\n",
    "\n",
    "bars = alt.Chart(source).mark_bar().encode(\n",
    "    x=alt.X('1:Q', title='Plays'),\n",
    "    y=alt.Y('0:N', sort='-x', title='Artist')\n",
    ").properties(\n",
    "    title=\"ASOT Top 1000 - Most-played artists\",\n",
    "    width=600\n",
    ")\n",
    "\n",
    "text = bars.mark_text(\n",
    "    align='left',\n",
    "    baseline='middle',\n",
    "    dx=3  # Nudges text to right so it doesn't appear on top of the bar\n",
    ").encode(\n",
    "    text='1:Q'\n",
    ")\n",
    "\n",
    "bars + text"
   ]
  },
  {
   "cell_type": "markdown",
   "metadata": {},
   "source": [
    "No surprise at _who_ the #1 is, but the sheer number of their tracks featured is pretty impressive - over 10% of the ASOT Top 1000 was produced by Armin van Buuren, more than twice the number of the second-most featured artist!"
   ]
  },
  {
   "cell_type": "markdown",
   "metadata": {},
   "source": [
    "Which artists were featured exactly once, with what track, at what position?"
   ]
  },
  {
   "cell_type": "code",
   "execution_count": 9,
   "metadata": {},
   "outputs": [
    {
     "name": "stdout",
     "output_type": "stream",
     "text": [
      "997 . ATN - Miss A Day - Original Mix\n",
      "996 . Late Night Alumni - Empty Streets - Lumïsade Balearic Mix\n",
      "993 . Ron van den Beuken - Timeless - Ron van den Beuken Remix\n",
      "992 . Greg Downey - These Hands I Hold - Sean Tyas Remix\n",
      "991 . M.I.K.E. - Chocolate Infusion - Original Mix\n",
      "989 . Adam Nickey - Never Gone - Original Mix [Above & Beyond Respray]\n",
      "987 . Salt Tank - Eugina - Michael Woods Remix\n",
      "981 . A Force - Crystal Dawn [ASOT 254] - A Tribute To '99 Remix\n",
      "969 . Myon & Shane 54 - Ibiza Sunrise - Classic Dub\n",
      "967 . Neptune Project - Aztec - Original Mix\n",
      "964 . Ava Mea - In The End - Original Mix\n",
      "963 . Rodg - High On Life - Extended Mix\n",
      "962 . Midway - Monkey Forest - Original Mix Edit\n",
      "961 . Ramin Djawadi - Game Of Thrones Theme - Armin van Buuren Extended Remix\n",
      "960 . Filterheadz - Yimanya - Original Mix\n",
      "950 . Jody Wisternoff - The Bridge - Chicane Rework\n",
      "943 . Probspot - Foreplay - Original Mix\n",
      "940 . Selu Vibra - Stargazing [ASOT 224] - Original Mix\n",
      "928 . Ernesto vs. Bastian - Dark Side Of The Moon - Original Extended\n",
      "927 . Sensation - The Anthem 2003 - Original Mix\n",
      "922 . Space RockerZ - Puzzle Piece - Daniel Heatcliff's Farewell Remix\n",
      "911 . Sunset Bros - I'm Feeling It (In The Air) - Sunset Bros X Mark McCabe / MaRLo Remix\n",
      "906 . Avao - Cosmic Order - Extended Mix\n",
      "902 . Elysian - Beyond The Comfort Zone - Extended Mix\n",
      "901 . Lemon - Anticipation\n",
      "899 . Luigi Lusini - Who We Are\n",
      "897 . Thomas Bronzwaer - Shadow World - Original Mix\n",
      "896 . Shane - Too Late To Turn - Armin Van Buuren Remix\n",
      "887 . Niels Van Gogh - Pulverturm (Original)\n",
      "884 . Swedish House Mafia - One\n",
      "883 . Monogato - Miami Vibe - Omnia Remix\n",
      "879 . Eximinds - Lacrimosa - Extended Mix\n",
      "855 . Full Tilt - Surrender - Sneijder vs John O'Callaghan Remix\n",
      "854 . Carl B. - Social Suicide [ASOT 261] - Original Mix\n",
      "853 . Tinlicker - Sleepwalker - Extended Mix\n",
      "851 . Cass - Perception - New Vocal Mix\n",
      "850 . Bjorn Akesson - Painting Pyramids - Original Mix\n",
      "848 . Frank T.R.A.X. - Nebuchan - Radion6 Extended Remix\n",
      "844 . Easton - Healing Rain - Bryan Kearney Remix\n",
      "843 . Arisen Flame - Explorer - Original Mix\n",
      "841 . Astrix - Deep Jungle Walk\n",
      "840 . Sodality - Challenger - Extended Mix\n",
      "834 . Hazem Beltagui - We Are - Original Mix\n",
      "830 . 3LAU - Tokyo (feat. XIRA) - Fatum Remix\n",
      "828 . The Space Brothers - Shine - Jorn van Deynhoven Extended Remix\n",
      "822 . Ferry Corsten's Countdown - More Than Anything (Listener's Choice) (CC489) - Stoneface & Terminal Remix\n",
      "821 . Simon O'Shine & Adam Navel - Marathon - Simon O'Shine Mix\n",
      "819 . Humate - Love Stimulation - Love-Club-Mix\n",
      "813 . A & Z - Fleeting Moments - Original Mix\n",
      "810 . Abstract Vision - Conqueror - Original Mix\n",
      "798 . Arctic Quest - Renaissance - Original Mix\n",
      "797 . K90 - Red Snapper - Allen Watts Extended Remix\n",
      "796 . Ali Wilson - Pandora - Original\n",
      "790 . Fragile - Inertia - Armin Van Buuren Remix\n",
      "783 . Audien - Wayfarer - Original Mix\n",
      "778 . Holden - Nothing - 93 Returning Remix\n",
      "777 . Art Of Trance - Madagascar - Ferry Corsten Remix\n",
      "773 . Synergy - Hello Strings - Original Mix\n",
      "771 . Jase Thirlwall - Dust - Extended Mix\n",
      "770 . Antillas - Damaged - Main Mix\n",
      "768 . Coast 2 Coast - Home - Original Mix\n",
      "760 . Hammer - Language - Santiago Nino Dub Tech Mix\n",
      "759 . Nuera - Green Cape Sunset - Original Mix\n",
      "748 . Riva - Time Is The Healer - Armin van Buuren Extended Dub\n",
      "747 . Joop - The Future - Original Mix\n",
      "733 . Jeremy Vancaulart - Hurt - Extended Mix\n",
      "714 . Randy Katana - In Silence - Txitxarro Mix\n",
      "712 . London Grammar - Hey Now - Arty Remix\n",
      "711 . Parker & Hanson - Gravity - Original Mix\n",
      "710 . Claudia Cazacu - Freefalling - Original Mix\n",
      "709 . Dutch Force - Deadline - Original Mix\n",
      "703 . Fragma - Toca Me - Inpetto 2008 Mix\n",
      "702 . James Dymond - Spectrum - Extended Mix\n",
      "701 . DRYM - Smile - Extended Mix\n",
      "698 . Peter Martin - Perfect Wave - Original Mix\n",
      "696 . Active Sight - Out Of Our Lives - Original Mix\n",
      "694 . Glenn Morrison - Contact\n",
      "687 . Zirenz - Edge of Space Ultimate - Whiteroom Remix\n",
      "684 . 7 Skies - Central Park - Original Mix\n",
      "683 . Filo & Peri - Anthem - Original Radio Version\n",
      "682 . Carl B - All Day - Original\n",
      "678 . Dimitri Vegas & Like Mike - Repeat After Me - Extended Mix\n",
      "672 . Aria - Dido - Armin Van Buuren's Universal Religion Mix\n",
      "670 . Perry O'Neil - Wave Force - Original Mix\n",
      "669 . Dumonde - Never Look Back - Full On Vocal Mix\n",
      "665 . Jon O'Bir - Found A Way (feat. Fisher) - Joint Operations Centre Remix\n",
      "657 . Cressida - 6AM - Kyau & Albert Update\n",
      "655 . Zoo Brazil - You Can Have It All - George Acosta Remix\n",
      "650 . PRAANA - Kaleidoscope - Extended Mix\n",
      "647 . Bedrock - Heaven Scent - Original Mix\n",
      "643 . Eco - A Million Sounds, A Thousand Smiles - Original Mix\n",
      "641 . Ultra Shock - The Sound Of E - Jorn van Deynhoven Extended Remix\n",
      "635 . Ilse DeLange - The Great Escape\n",
      "621 . Mauro Picotto - Lizard - Cosmic Gate Extended Remix\n",
      "612 . Monolink - Return to Oz - ARTBAT Remix\n",
      "607 . Karen Overton - Your Loving Arms - Club Mix\n",
      "596 . Primer - Everlast - Original Mix\n",
      "587 . Age Of Love - The Age Of Love - Jam & Spoon Watch Out For Stella Mix\n",
      "584 . Ascension - Someone - Giuseppe Ottaviani Extended Remix\n",
      "583 . Masters & Nickson - Out There - Robert Nickson 2016 Extended Remix\n",
      "581 . GTR - Mistral\n",
      "580 . Tim Berg - Bromance - Avicii’s Arena Mix\n",
      "571 . Jan Johnston - Flesh - DJ Tiesto Mix\n",
      "567 . Artento Divini - A.D.D.A. - Extended Mix\n",
      "566 . Freefall - Skydive\n",
      "554 . Beatsole - Before I Wake - Extended Mix\n",
      "553 . The Noble Six - Firewalker - Extended Mix\n",
      "549 . Electrovoya - Effervesce\n",
      "542 . Tillmann Uhrmacher - On the Run - Ocean to Shore Club Extended\n",
      "538 . Chakra - Home - Above & Beyond Mix\n",
      "532 . Members Of Mayday - 10 In 01 - Paul Van Dyk Club Mix\n",
      "531 . Kyuss - Yeah\n",
      "526 . Ohmna - Key Of Life - MaRLo Remix\n",
      "520 . Safri Duo - Played-A-Live (The Bongo Song)\n",
      "511 . Chris Lake - Carry Me Away (feat. Emma Hewitt)\n",
      "508 . Ayla - Ayla - Ben Nicky & Luke Bond Remix\n",
      "507 . Michael Dow - Ascent\n",
      "505 . Afternova - Serenity - Andy Blueman Remix\n",
      "499 . York - The Reachers of Civilisation\n",
      "488 . Conjure One - Tears From The Moon - Tiësto In Search Of Sunrise Remix\n",
      "485 . Paul Webster - Time - Sean Tyas Dub Mix\n",
      "481 . 3rd Moon - Monsun - Original Mix\n",
      "480 . Solid Sessions - Janeiro - Armin van Buuren Remix\n",
      "478 . Quench - Dreams - Nicholson's Extended Cathedral Remix\n",
      "472 . Insigma - Open Our Eyes - Original Mix\n",
      "467 . VER:WEST - 5 Seconds Before Sunrise\n",
      "465 . Moogwai - Viola - Armin van Buuren Remix\n",
      "458 . Albert Vorne - Formentera What - Gareth Emery Remix\n",
      "457 . Vast Vision - Everything - Aly & Fila Remix\n",
      "451 . Phynn - Lucid\n",
      "440 . Fred Baker - Confirmation\n",
      "438 . Tilt - The World Doesn't Know - Original Mix\n",
      "435 . Cerf, Mitiska & Jaren - You Never Said - Dash Berlin Remix\n",
      "434 . Triple A - Winter Stayed - Armin van Buuren's On the Beach Mix\n",
      "433 . XiJaro & Pitch - Whispers Of Time - Extended Mix\n",
      "417 . 16BL - Chant A Tune - Jeremy Olander Remix\n",
      "399 . 2nd Phase - Never Come Down - Norin & Rad Remix\n",
      "392 . Matlock - Deep Psychosis - Daniel Kandi's Cure Mix\n",
      "387 . Wiegel Meirmans Snitker - Nova Zembla - Armin van Buuren Extended Remix\n",
      "386 . Graham Bell - The Sound Of Letting Go (Tribute To Yotam) - Extended Mix\n",
      "385 . Hans Zimmer - He's A Pirate - Tiësto Orchestral Mix\n",
      "380 . Atlantis - Fiji - ReOrder Extended Remix\n",
      "374 . Svenson & Gielen - Twisted - Original Mix\n",
      "371 . Galen Behr - Carabella - Galen Behr vs Orjan Nilsen Extended Remix\n",
      "370 . 8 Wonders - The Morning After - The Thrillseekers Remix\n",
      "369 . Basic Dawn - Pure Thrust - NU NRG Remix\n",
      "355 . Nalin & Kane - Beachball - Original Club Mix\n",
      "342 . Rex Mundi - Nothing At All - Original Mix\n",
      "323 . L.S.G. - Netherworld - Oliver Prime Remix\n",
      "321 . DJ's United - Remember Love - Original Mix\n",
      "301 . M.I.D.O.R. & Six4eight - No Man's Land\n",
      "294 . KhoMha - Tierra - Extended Mix\n",
      "273 . Jean-Michel Jarre - Stardust\n",
      "271 . DJ Aligator - The Perfect Match - Club Mix\n",
      "270 . Akesson - Perfect Blue - Original Mix\n",
      "255 . iio - Rapture (Armin Van Buuren Remix Remastered) [feat. Nadia Ali]\n",
      "243 . Headstrong - Tears - Aurosonic Progressive Mix\n",
      "241 . Pulser - My Religion - Original Mix\n",
      "236 . Major League - Wonder Where You Are?\n",
      "233 . Sasha - Xpander\n",
      "228 . Alt+F4 - Alt+F4 - Original Mix\n",
      "222 . Ridgewalkers - Find - Andy Moor Remix\n",
      "217 . Eyal Barkan - Voyage - Magikal Remake\n",
      "184 . The Doppler Effect - Beauty Hides In The Deep - John O'Callaghan Extended\n",
      "183 . FUTURECODE - Dancing In The Rain - Extended Mix\n",
      "177 . Ayumi Hamasaki - M - Above & Beyond Remix\n",
      "170 . Sonic Inc - The Taste Of Summer - Fire & Ice Vital Remix\n",
      "167 . Darude - Sandstorm\n",
      "147 . Salt Lake - Rendezvous - Original Mix\n",
      "120 . Darren Tate - Let The Light Shine In - 12'' Original Mix\n",
      "113 . William Orbit - Barber's Adagio for Strings - Ferry Corsten Remix\n",
      "110 . Yuri Kane - Right Back - Original Extended\n",
      "104 . Sergey Nevone - Apprehension - Aly & Fila Mix\n",
      "80 . Reflekt - Need To Feel Loved - Thrillseekers Remix\n",
      "71 . Binary Finary - 1998 - Gouryella Remix\n",
      "70 . Planet Perfecto Knights - Resurection\n",
      "59 . Arksun - Arisen - Original Mix\n",
      "54 . Saltwater - The Legacy - Alphazone Extended Remix\n",
      "44 . Energy 52 - Café Del Mar - Three 'n One Remix\n",
      "43 . Luminary - Amsterdam - Smith & Pledger Remix\n",
      "37 . Key4050 - I Love You - Extended Mix\n",
      "33 . Robert Miles - Children - Dream Version\n",
      "21 . Veracocha - Carte Blanche - Original Mix\n",
      "18 . Motorcycle - As The Rush Comes - Gabriel & Dresden Sweeping Strings Mix\n",
      "4 . Delerium - Silence (feat. Sarah McLachlan) - DJ Tiësto's in Search of Sunrise Remix\n"
     ]
    }
   ],
   "source": [
    "# Find all artists with one play, then find that track in the top 1000\n",
    "for artist in top_artists:\n",
    "    if artist[1] == 1:\n",
    "        for position, track in enumerate(top_1000_tracks):\n",
    "            if track['track']['artists'][0]['name'] == artist[0]:\n",
    "                print(1000 - position, '.', track['track']['artists'][0]['name'], '-', track['track']['name'])"
   ]
  },
  {
   "cell_type": "markdown",
   "metadata": {},
   "source": [
    "Note that we're only listing the artist on the track credits that's _only_ featured on that track. For example, \"120. Darren Tate & Jono Grant – Shine (Let The Light Shine In)\" is listed here but lists _only_ Darren Tate as the producer because Jono Grant also appears in \"562. Jono Grant vs Mike Koglin  – Circuits\"."
   ]
  },
  {
   "cell_type": "markdown",
   "metadata": {},
   "source": [
    "## Tracks"
   ]
  },
  {
   "cell_type": "markdown",
   "metadata": {},
   "source": [
    "Let's looks at some track-specific numbers now.\n",
    "\n",
    "In which years were the tracks produced?"
   ]
  },
  {
   "cell_type": "code",
   "execution_count": 10,
   "metadata": {},
   "outputs": [
    {
     "name": "stdout",
     "output_type": "stream",
     "text": [
      "[('1992', 1), ('1995', 1), ('1997', 2), ('1996', 5), ('1998', 5), ('1999', 7), ('2002', 12), ('2001', 14), ('2000', 18), ('2003', 23), ('2004', 25), ('2005', 32), ('2006', 37), ('2007', 38), ('2008', 45), ('2017', 49), ('2015', 50), ('2014', 54), ('2020', 55), ('2016', 55), ('2010', 56), ('2009', 62), ('2013', 64), ('2018', 64), ('2011', 66), ('2012', 68), ('2019', 92)]\n"
     ]
    }
   ],
   "source": [
    "annual_total = defaultdict(int)\n",
    "\n",
    "for track in top_1000_tracks:\n",
    "    annual_total[track['track']['album']['release_date'][:4]] += 1\n",
    "\n",
    "top_years = sorted(annual_total.items(), key=lambda k_v: k_v[1])\n",
    "print(top_years)"
   ]
  },
  {
   "cell_type": "markdown",
   "metadata": {},
   "source": [
    "In a graph:"
   ]
  },
  {
   "cell_type": "code",
   "execution_count": 11,
   "metadata": {},
   "outputs": [
    {
     "data": {
      "text/html": [
       "\n",
       "<div id=\"altair-viz-a9f3764562744cefbbb28c948b4010f1\"></div>\n",
       "<script type=\"text/javascript\">\n",
       "  (function(spec, embedOpt){\n",
       "    let outputDiv = document.currentScript.previousElementSibling;\n",
       "    if (outputDiv.id !== \"altair-viz-a9f3764562744cefbbb28c948b4010f1\") {\n",
       "      outputDiv = document.getElementById(\"altair-viz-a9f3764562744cefbbb28c948b4010f1\");\n",
       "    }\n",
       "    const paths = {\n",
       "      \"vega\": \"https://cdn.jsdelivr.net/npm//vega@5?noext\",\n",
       "      \"vega-lib\": \"https://cdn.jsdelivr.net/npm//vega-lib?noext\",\n",
       "      \"vega-lite\": \"https://cdn.jsdelivr.net/npm//vega-lite@4.8.1?noext\",\n",
       "      \"vega-embed\": \"https://cdn.jsdelivr.net/npm//vega-embed@6?noext\",\n",
       "    };\n",
       "\n",
       "    function loadScript(lib) {\n",
       "      return new Promise(function(resolve, reject) {\n",
       "        var s = document.createElement('script');\n",
       "        s.src = paths[lib];\n",
       "        s.async = true;\n",
       "        s.onload = () => resolve(paths[lib]);\n",
       "        s.onerror = () => reject(`Error loading script: ${paths[lib]}`);\n",
       "        document.getElementsByTagName(\"head\")[0].appendChild(s);\n",
       "      });\n",
       "    }\n",
       "\n",
       "    function showError(err) {\n",
       "      outputDiv.innerHTML = `<div class=\"error\" style=\"color:red;\">${err}</div>`;\n",
       "      throw err;\n",
       "    }\n",
       "\n",
       "    function displayChart(vegaEmbed) {\n",
       "      vegaEmbed(outputDiv, spec, embedOpt)\n",
       "        .catch(err => showError(`Javascript Error: ${err.message}<br>This usually means there's a typo in your chart specification. See the javascript console for the full traceback.`));\n",
       "    }\n",
       "\n",
       "    if(typeof define === \"function\" && define.amd) {\n",
       "      requirejs.config({paths});\n",
       "      require([\"vega-embed\"], displayChart, err => showError(`Error loading script: ${err.message}`));\n",
       "    } else if (typeof vegaEmbed === \"function\") {\n",
       "      displayChart(vegaEmbed);\n",
       "    } else {\n",
       "      loadScript(\"vega\")\n",
       "        .then(() => loadScript(\"vega-lite\"))\n",
       "        .then(() => loadScript(\"vega-embed\"))\n",
       "        .catch(showError)\n",
       "        .then(() => displayChart(vegaEmbed));\n",
       "    }\n",
       "  })({\"config\": {\"view\": {\"continuousWidth\": 400, \"continuousHeight\": 300}}, \"layer\": [{\"mark\": \"bar\", \"encoding\": {\"x\": {\"type\": \"quantitative\", \"field\": \"1\", \"title\": \"Plays\"}, \"y\": {\"type\": \"nominal\", \"field\": \"0\", \"sort\": \"-x\", \"title\": \"Year\"}}, \"title\": \"ASOT Top 1000 - Most-represented years\", \"width\": 600}, {\"mark\": {\"type\": \"text\", \"align\": \"left\", \"baseline\": \"middle\", \"dx\": 3}, \"encoding\": {\"text\": {\"type\": \"quantitative\", \"field\": \"1\"}, \"x\": {\"type\": \"quantitative\", \"field\": \"1\", \"title\": \"Plays\"}, \"y\": {\"type\": \"nominal\", \"field\": \"0\", \"sort\": \"-x\", \"title\": \"Year\"}}, \"title\": \"ASOT Top 1000 - Most-represented years\", \"width\": 600}], \"data\": {\"name\": \"data-c4d9160895a1fd90761cbcfd32cb43eb\"}, \"$schema\": \"https://vega.github.io/schema/vega-lite/v4.8.1.json\", \"datasets\": {\"data-c4d9160895a1fd90761cbcfd32cb43eb\": [{\"0\": \"1992\", \"1\": 1}, {\"0\": \"1995\", \"1\": 1}, {\"0\": \"1997\", \"1\": 2}, {\"0\": \"1996\", \"1\": 5}, {\"0\": \"1998\", \"1\": 5}, {\"0\": \"1999\", \"1\": 7}, {\"0\": \"2002\", \"1\": 12}, {\"0\": \"2001\", \"1\": 14}, {\"0\": \"2000\", \"1\": 18}, {\"0\": \"2003\", \"1\": 23}, {\"0\": \"2004\", \"1\": 25}, {\"0\": \"2005\", \"1\": 32}, {\"0\": \"2006\", \"1\": 37}, {\"0\": \"2007\", \"1\": 38}, {\"0\": \"2008\", \"1\": 45}, {\"0\": \"2017\", \"1\": 49}, {\"0\": \"2015\", \"1\": 50}, {\"0\": \"2014\", \"1\": 54}, {\"0\": \"2020\", \"1\": 55}, {\"0\": \"2016\", \"1\": 55}, {\"0\": \"2010\", \"1\": 56}, {\"0\": \"2009\", \"1\": 62}, {\"0\": \"2013\", \"1\": 64}, {\"0\": \"2018\", \"1\": 64}, {\"0\": \"2011\", \"1\": 66}, {\"0\": \"2012\", \"1\": 68}, {\"0\": \"2019\", \"1\": 92}]}}, {\"mode\": \"vega-lite\"});\n",
       "</script>"
      ],
      "text/plain": [
       "alt.LayerChart(...)"
      ]
     },
     "execution_count": 11,
     "metadata": {},
     "output_type": "execute_result"
    }
   ],
   "source": [
    "source = pd.DataFrame.from_dict(top_years)\n",
    "\n",
    "bars = alt.Chart(source).mark_bar().encode(\n",
    "    x=alt.X('1:Q', title='Plays'),\n",
    "    y=alt.Y('0:N', sort='-x', title='Year')\n",
    ").properties(\n",
    "    title=\"ASOT Top 1000 - Most-represented years\",\n",
    "    width=600\n",
    ")\n",
    "\n",
    "text = bars.mark_text(\n",
    "    align='left',\n",
    "    baseline='middle',\n",
    "    dx=3  # Nudges text to right so it doesn't appear on top of the bar\n",
    ").encode(\n",
    "    text='1:Q'\n",
    ")\n",
    "\n",
    "bars + text"
   ]
  },
  {
   "cell_type": "markdown",
   "metadata": {},
   "source": [
    "Might be better to see it sorted by year:"
   ]
  },
  {
   "cell_type": "code",
   "execution_count": 12,
   "metadata": {},
   "outputs": [
    {
     "data": {
      "text/html": [
       "\n",
       "<div id=\"altair-viz-ede62e090eb64f6bbb90e0df80af6076\"></div>\n",
       "<script type=\"text/javascript\">\n",
       "  (function(spec, embedOpt){\n",
       "    let outputDiv = document.currentScript.previousElementSibling;\n",
       "    if (outputDiv.id !== \"altair-viz-ede62e090eb64f6bbb90e0df80af6076\") {\n",
       "      outputDiv = document.getElementById(\"altair-viz-ede62e090eb64f6bbb90e0df80af6076\");\n",
       "    }\n",
       "    const paths = {\n",
       "      \"vega\": \"https://cdn.jsdelivr.net/npm//vega@5?noext\",\n",
       "      \"vega-lib\": \"https://cdn.jsdelivr.net/npm//vega-lib?noext\",\n",
       "      \"vega-lite\": \"https://cdn.jsdelivr.net/npm//vega-lite@4.8.1?noext\",\n",
       "      \"vega-embed\": \"https://cdn.jsdelivr.net/npm//vega-embed@6?noext\",\n",
       "    };\n",
       "\n",
       "    function loadScript(lib) {\n",
       "      return new Promise(function(resolve, reject) {\n",
       "        var s = document.createElement('script');\n",
       "        s.src = paths[lib];\n",
       "        s.async = true;\n",
       "        s.onload = () => resolve(paths[lib]);\n",
       "        s.onerror = () => reject(`Error loading script: ${paths[lib]}`);\n",
       "        document.getElementsByTagName(\"head\")[0].appendChild(s);\n",
       "      });\n",
       "    }\n",
       "\n",
       "    function showError(err) {\n",
       "      outputDiv.innerHTML = `<div class=\"error\" style=\"color:red;\">${err}</div>`;\n",
       "      throw err;\n",
       "    }\n",
       "\n",
       "    function displayChart(vegaEmbed) {\n",
       "      vegaEmbed(outputDiv, spec, embedOpt)\n",
       "        .catch(err => showError(`Javascript Error: ${err.message}<br>This usually means there's a typo in your chart specification. See the javascript console for the full traceback.`));\n",
       "    }\n",
       "\n",
       "    if(typeof define === \"function\" && define.amd) {\n",
       "      requirejs.config({paths});\n",
       "      require([\"vega-embed\"], displayChart, err => showError(`Error loading script: ${err.message}`));\n",
       "    } else if (typeof vegaEmbed === \"function\") {\n",
       "      displayChart(vegaEmbed);\n",
       "    } else {\n",
       "      loadScript(\"vega\")\n",
       "        .then(() => loadScript(\"vega-lite\"))\n",
       "        .then(() => loadScript(\"vega-embed\"))\n",
       "        .catch(showError)\n",
       "        .then(() => displayChart(vegaEmbed));\n",
       "    }\n",
       "  })({\"config\": {\"view\": {\"continuousWidth\": 400, \"continuousHeight\": 300}}, \"layer\": [{\"mark\": \"bar\", \"encoding\": {\"x\": {\"type\": \"quantitative\", \"field\": \"1\", \"title\": \"Plays\"}, \"y\": {\"type\": \"nominal\", \"field\": \"0\", \"title\": \"Year\"}}, \"title\": \"ASOT Top 1000 - Yearly representation\", \"width\": 600}, {\"mark\": {\"type\": \"text\", \"align\": \"left\", \"baseline\": \"middle\", \"dx\": 3}, \"encoding\": {\"text\": {\"type\": \"quantitative\", \"field\": \"1\"}, \"x\": {\"type\": \"quantitative\", \"field\": \"1\", \"title\": \"Plays\"}, \"y\": {\"type\": \"nominal\", \"field\": \"0\", \"title\": \"Year\"}}, \"title\": \"ASOT Top 1000 - Yearly representation\", \"width\": 600}], \"data\": {\"name\": \"data-c4d9160895a1fd90761cbcfd32cb43eb\"}, \"$schema\": \"https://vega.github.io/schema/vega-lite/v4.8.1.json\", \"datasets\": {\"data-c4d9160895a1fd90761cbcfd32cb43eb\": [{\"0\": \"1992\", \"1\": 1}, {\"0\": \"1995\", \"1\": 1}, {\"0\": \"1997\", \"1\": 2}, {\"0\": \"1996\", \"1\": 5}, {\"0\": \"1998\", \"1\": 5}, {\"0\": \"1999\", \"1\": 7}, {\"0\": \"2002\", \"1\": 12}, {\"0\": \"2001\", \"1\": 14}, {\"0\": \"2000\", \"1\": 18}, {\"0\": \"2003\", \"1\": 23}, {\"0\": \"2004\", \"1\": 25}, {\"0\": \"2005\", \"1\": 32}, {\"0\": \"2006\", \"1\": 37}, {\"0\": \"2007\", \"1\": 38}, {\"0\": \"2008\", \"1\": 45}, {\"0\": \"2017\", \"1\": 49}, {\"0\": \"2015\", \"1\": 50}, {\"0\": \"2014\", \"1\": 54}, {\"0\": \"2020\", \"1\": 55}, {\"0\": \"2016\", \"1\": 55}, {\"0\": \"2010\", \"1\": 56}, {\"0\": \"2009\", \"1\": 62}, {\"0\": \"2013\", \"1\": 64}, {\"0\": \"2018\", \"1\": 64}, {\"0\": \"2011\", \"1\": 66}, {\"0\": \"2012\", \"1\": 68}, {\"0\": \"2019\", \"1\": 92}]}}, {\"mode\": \"vega-lite\"});\n",
       "</script>"
      ],
      "text/plain": [
       "alt.LayerChart(...)"
      ]
     },
     "execution_count": 12,
     "metadata": {},
     "output_type": "execute_result"
    }
   ],
   "source": [
    "source = pd.DataFrame.from_dict(top_years)\n",
    "\n",
    "bars = alt.Chart(source).mark_bar().encode(\n",
    "    x=alt.X('1:Q', title='Plays'),\n",
    "    y=alt.Y('0:N', title='Year')\n",
    ").properties(\n",
    "    title=\"ASOT Top 1000 - Yearly representation\",\n",
    "    width=600\n",
    ")\n",
    "\n",
    "text = bars.mark_text(\n",
    "    align='left',\n",
    "    baseline='middle',\n",
    "    dx=3  # Nudges text to right so it doesn't appear on top of the bar\n",
    ").encode(\n",
    "    text='1:Q'\n",
    ")\n",
    "\n",
    "bars + text"
   ]
  },
  {
   "cell_type": "markdown",
   "metadata": {},
   "source": [
    "What's the average BPM of tracks in the top 1,000?"
   ]
  },
  {
   "cell_type": "code",
   "execution_count": 13,
   "metadata": {},
   "outputs": [
    {
     "name": "stdout",
     "output_type": "stream",
     "text": [
      "134.03799499999994\n"
     ]
    }
   ],
   "source": [
    "total_bpm = 0\n",
    "\n",
    "for track in top_1000_tracks:\n",
    "    total_bpm += sp.audio_features(track['track']['uri'])[0]['tempo']\n",
    "\n",
    "print(total_bpm/1000)"
   ]
  },
  {
   "cell_type": "markdown",
   "metadata": {},
   "source": [
    "Maybe that's not so useful. How does the track BPM vary throughout the top 1,000? With #1,000 on the left, down to #1 on the right."
   ]
  },
  {
   "cell_type": "code",
   "execution_count": 14,
   "metadata": {},
   "outputs": [
    {
     "data": {
      "text/html": [
       "\n",
       "<div id=\"altair-viz-293112199cfa432baa05e9170370dc3f\"></div>\n",
       "<script type=\"text/javascript\">\n",
       "  (function(spec, embedOpt){\n",
       "    let outputDiv = document.currentScript.previousElementSibling;\n",
       "    if (outputDiv.id !== \"altair-viz-293112199cfa432baa05e9170370dc3f\") {\n",
       "      outputDiv = document.getElementById(\"altair-viz-293112199cfa432baa05e9170370dc3f\");\n",
       "    }\n",
       "    const paths = {\n",
       "      \"vega\": \"https://cdn.jsdelivr.net/npm//vega@5?noext\",\n",
       "      \"vega-lib\": \"https://cdn.jsdelivr.net/npm//vega-lib?noext\",\n",
       "      \"vega-lite\": \"https://cdn.jsdelivr.net/npm//vega-lite@4.8.1?noext\",\n",
       "      \"vega-embed\": \"https://cdn.jsdelivr.net/npm//vega-embed@6?noext\",\n",
       "    };\n",
       "\n",
       "    function loadScript(lib) {\n",
       "      return new Promise(function(resolve, reject) {\n",
       "        var s = document.createElement('script');\n",
       "        s.src = paths[lib];\n",
       "        s.async = true;\n",
       "        s.onload = () => resolve(paths[lib]);\n",
       "        s.onerror = () => reject(`Error loading script: ${paths[lib]}`);\n",
       "        document.getElementsByTagName(\"head\")[0].appendChild(s);\n",
       "      });\n",
       "    }\n",
       "\n",
       "    function showError(err) {\n",
       "      outputDiv.innerHTML = `<div class=\"error\" style=\"color:red;\">${err}</div>`;\n",
       "      throw err;\n",
       "    }\n",
       "\n",
       "    function displayChart(vegaEmbed) {\n",
       "      vegaEmbed(outputDiv, spec, embedOpt)\n",
       "        .catch(err => showError(`Javascript Error: ${err.message}<br>This usually means there's a typo in your chart specification. See the javascript console for the full traceback.`));\n",
       "    }\n",
       "\n",
       "    if(typeof define === \"function\" && define.amd) {\n",
       "      requirejs.config({paths});\n",
       "      require([\"vega-embed\"], displayChart, err => showError(`Error loading script: ${err.message}`));\n",
       "    } else if (typeof vegaEmbed === \"function\") {\n",
       "      displayChart(vegaEmbed);\n",
       "    } else {\n",
       "      loadScript(\"vega\")\n",
       "        .then(() => loadScript(\"vega-lite\"))\n",
       "        .then(() => loadScript(\"vega-embed\"))\n",
       "        .catch(showError)\n",
       "        .then(() => displayChart(vegaEmbed));\n",
       "    }\n",
       "  })({\"config\": {\"view\": {\"continuousWidth\": 400, \"continuousHeight\": 300}}, \"layer\": [{\"mark\": \"line\", \"encoding\": {\"x\": {\"type\": \"quantitative\", \"field\": \"track\"}, \"y\": {\"type\": \"quantitative\", \"field\": \"bpm\", \"scale\": {\"domain\": [100, 150]}}}, \"title\": \"ASOT Top 1000 - BPM of track\"}, {\"mark\": {\"type\": \"rule\", \"color\": \"red\"}, \"encoding\": {\"y\": {\"type\": \"quantitative\", \"field\": \"138\"}}}], \"data\": {\"name\": \"data-5dc8929a69a20aca0326fad099b05a20\"}, \"$schema\": \"https://vega.github.io/schema/vega-lite/v4.8.1.json\", \"datasets\": {\"data-5dc8929a69a20aca0326fad099b05a20\": [{\"track\": 0, \"bpm\": 135.981, \"138\": 138}, {\"track\": 1, \"bpm\": 137.993, \"138\": 138}, {\"track\": 2, \"bpm\": 139.978, \"138\": 138}, {\"track\": 3, \"bpm\": 140.016, \"138\": 138}, {\"track\": 4, \"bpm\": 126.997, \"138\": 138}, {\"track\": 5, \"bpm\": 127.996, \"138\": 138}, {\"track\": 6, \"bpm\": 132.003, \"138\": 138}, {\"track\": 7, \"bpm\": 139.994, \"138\": 138}, {\"track\": 8, \"bpm\": 137.999, \"138\": 138}, {\"track\": 9, \"bpm\": 136.002, \"138\": 138}, {\"track\": 10, \"bpm\": 131.992, \"138\": 138}, {\"track\": 11, \"bpm\": 135.843, \"138\": 138}, {\"track\": 12, \"bpm\": 130.004, \"138\": 138}, {\"track\": 13, \"bpm\": 134.005, \"138\": 138}, {\"track\": 14, \"bpm\": 140.01, \"138\": 138}, {\"track\": 15, \"bpm\": 140.003, \"138\": 138}, {\"track\": 16, \"bpm\": 129.987, \"138\": 138}, {\"track\": 17, \"bpm\": 139.7, \"138\": 138}, {\"track\": 18, \"bpm\": 127.011, \"138\": 138}, {\"track\": 19, \"bpm\": 137.659, \"138\": 138}, {\"track\": 20, \"bpm\": 127.99, \"138\": 138}, {\"track\": 21, \"bpm\": 140.005, \"138\": 138}, {\"track\": 22, \"bpm\": 131.987, \"138\": 138}, {\"track\": 23, \"bpm\": 131.977, \"138\": 138}, {\"track\": 24, \"bpm\": 138.003, \"138\": 138}, {\"track\": 25, \"bpm\": 132.0, \"138\": 138}, {\"track\": 26, \"bpm\": 139.985, \"138\": 138}, {\"track\": 27, \"bpm\": 133.993, \"138\": 138}, {\"track\": 28, \"bpm\": 136.029, \"138\": 138}, {\"track\": 29, \"bpm\": 129.982, \"138\": 138}, {\"track\": 30, \"bpm\": 127.963, \"138\": 138}, {\"track\": 31, \"bpm\": 134.986, \"138\": 138}, {\"track\": 32, \"bpm\": 137.982, \"138\": 138}, {\"track\": 33, \"bpm\": 139.992, \"138\": 138}, {\"track\": 34, \"bpm\": 133.98, \"138\": 138}, {\"track\": 35, \"bpm\": 132.009, \"138\": 138}, {\"track\": 36, \"bpm\": 128.002, \"138\": 138}, {\"track\": 37, \"bpm\": 128.013, \"138\": 138}, {\"track\": 38, \"bpm\": 136.987, \"138\": 138}, {\"track\": 39, \"bpm\": 137.989, \"138\": 138}, {\"track\": 40, \"bpm\": 135.001, \"138\": 138}, {\"track\": 41, \"bpm\": 135.99, \"138\": 138}, {\"track\": 42, \"bpm\": 133.965, \"138\": 138}, {\"track\": 43, \"bpm\": 138.009, \"138\": 138}, {\"track\": 44, \"bpm\": 139.973, \"138\": 138}, {\"track\": 45, \"bpm\": 129.942, \"138\": 138}, {\"track\": 46, \"bpm\": 133.998, \"138\": 138}, {\"track\": 47, \"bpm\": 128.012, \"138\": 138}, {\"track\": 48, \"bpm\": 130.008, \"138\": 138}, {\"track\": 49, \"bpm\": 103.512, \"138\": 138}, {\"track\": 50, \"bpm\": 124.998, \"138\": 138}, {\"track\": 51, \"bpm\": 126.983, \"138\": 138}, {\"track\": 52, \"bpm\": 139.994, \"138\": 138}, {\"track\": 53, \"bpm\": 133.997, \"138\": 138}, {\"track\": 54, \"bpm\": 135.978, \"138\": 138}, {\"track\": 55, \"bpm\": 132.026, \"138\": 138}, {\"track\": 56, \"bpm\": 136.987, \"138\": 138}, {\"track\": 57, \"bpm\": 130.017, \"138\": 138}, {\"track\": 58, \"bpm\": 128.002, \"138\": 138}, {\"track\": 59, \"bpm\": 132.0, \"138\": 138}, {\"track\": 60, \"bpm\": 138.133, \"138\": 138}, {\"track\": 61, \"bpm\": 128.022, \"138\": 138}, {\"track\": 62, \"bpm\": 130.015, \"138\": 138}, {\"track\": 63, \"bpm\": 132.0, \"138\": 138}, {\"track\": 64, \"bpm\": 140.016, \"138\": 138}, {\"track\": 65, \"bpm\": 127.997, \"138\": 138}, {\"track\": 66, \"bpm\": 137.994, \"138\": 138}, {\"track\": 67, \"bpm\": 135.991, \"138\": 138}, {\"track\": 68, \"bpm\": 138.013, \"138\": 138}, {\"track\": 69, \"bpm\": 127.99, \"138\": 138}, {\"track\": 70, \"bpm\": 134.012, \"138\": 138}, {\"track\": 71, \"bpm\": 136.999, \"138\": 138}, {\"track\": 72, \"bpm\": 138.005, \"138\": 138}, {\"track\": 73, \"bpm\": 137.998, \"138\": 138}, {\"track\": 74, \"bpm\": 137.979, \"138\": 138}, {\"track\": 75, \"bpm\": 140.002, \"138\": 138}, {\"track\": 76, \"bpm\": 128.02, \"138\": 138}, {\"track\": 77, \"bpm\": 139.989, \"138\": 138}, {\"track\": 78, \"bpm\": 130.015, \"138\": 138}, {\"track\": 79, \"bpm\": 126.026, \"138\": 138}, {\"track\": 80, \"bpm\": 130.016, \"138\": 138}, {\"track\": 81, \"bpm\": 128.025, \"138\": 138}, {\"track\": 82, \"bpm\": 128.006, \"138\": 138}, {\"track\": 83, \"bpm\": 103.485, \"138\": 138}, {\"track\": 84, \"bpm\": 131.987, \"138\": 138}, {\"track\": 85, \"bpm\": 126.011, \"138\": 138}, {\"track\": 86, \"bpm\": 133.98, \"138\": 138}, {\"track\": 87, \"bpm\": 127.998, \"138\": 138}, {\"track\": 88, \"bpm\": 130.019, \"138\": 138}, {\"track\": 89, \"bpm\": 137.99, \"138\": 138}, {\"track\": 90, \"bpm\": 131.989, \"138\": 138}, {\"track\": 91, \"bpm\": 138.005, \"138\": 138}, {\"track\": 92, \"bpm\": 132.009, \"138\": 138}, {\"track\": 93, \"bpm\": 130.972, \"138\": 138}, {\"track\": 94, \"bpm\": 131.97, \"138\": 138}, {\"track\": 95, \"bpm\": 138.012, \"138\": 138}, {\"track\": 96, \"bpm\": 140.02, \"138\": 138}, {\"track\": 97, \"bpm\": 135.022, \"138\": 138}, {\"track\": 98, \"bpm\": 129.977, \"138\": 138}, {\"track\": 99, \"bpm\": 138.011, \"138\": 138}, {\"track\": 100, \"bpm\": 132.914, \"138\": 138}, {\"track\": 101, \"bpm\": 127.991, \"138\": 138}, {\"track\": 102, \"bpm\": 136.999, \"138\": 138}, {\"track\": 103, \"bpm\": 138.018, \"138\": 138}, {\"track\": 104, \"bpm\": 138.982, \"138\": 138}, {\"track\": 105, \"bpm\": 128.027, \"138\": 138}, {\"track\": 106, \"bpm\": 135.004, \"138\": 138}, {\"track\": 107, \"bpm\": 128.005, \"138\": 138}, {\"track\": 108, \"bpm\": 128.028, \"138\": 138}, {\"track\": 109, \"bpm\": 125.949, \"138\": 138}, {\"track\": 110, \"bpm\": 137.983, \"138\": 138}, {\"track\": 111, \"bpm\": 138.011, \"138\": 138}, {\"track\": 112, \"bpm\": 134.992, \"138\": 138}, {\"track\": 113, \"bpm\": 135.992, \"138\": 138}, {\"track\": 114, \"bpm\": 128.995, \"138\": 138}, {\"track\": 115, \"bpm\": 128.003, \"138\": 138}, {\"track\": 116, \"bpm\": 125.025, \"138\": 138}, {\"track\": 117, \"bpm\": 127.991, \"138\": 138}, {\"track\": 118, \"bpm\": 135.999, \"138\": 138}, {\"track\": 119, \"bpm\": 139.977, \"138\": 138}, {\"track\": 120, \"bpm\": 139.998, \"138\": 138}, {\"track\": 121, \"bpm\": 131.99, \"138\": 138}, {\"track\": 122, \"bpm\": 136.984, \"138\": 138}, {\"track\": 123, \"bpm\": 127.992, \"138\": 138}, {\"track\": 124, \"bpm\": 131.979, \"138\": 138}, {\"track\": 125, \"bpm\": 138.007, \"138\": 138}, {\"track\": 126, \"bpm\": 137.981, \"138\": 138}, {\"track\": 127, \"bpm\": 138.006, \"138\": 138}, {\"track\": 128, \"bpm\": 138.005, \"138\": 138}, {\"track\": 129, \"bpm\": 138.009, \"138\": 138}, {\"track\": 130, \"bpm\": 134.997, \"138\": 138}, {\"track\": 131, \"bpm\": 127.995, \"138\": 138}, {\"track\": 132, \"bpm\": 135.003, \"138\": 138}, {\"track\": 133, \"bpm\": 133.983, \"138\": 138}, {\"track\": 134, \"bpm\": 127.977, \"138\": 138}, {\"track\": 135, \"bpm\": 130.011, \"138\": 138}, {\"track\": 136, \"bpm\": 138.022, \"138\": 138}, {\"track\": 137, \"bpm\": 127.988, \"138\": 138}, {\"track\": 138, \"bpm\": 132.031, \"138\": 138}, {\"track\": 139, \"bpm\": 137.998, \"138\": 138}, {\"track\": 140, \"bpm\": 133.991, \"138\": 138}, {\"track\": 141, \"bpm\": 130.002, \"138\": 138}, {\"track\": 142, \"bpm\": 134.999, \"138\": 138}, {\"track\": 143, \"bpm\": 129.984, \"138\": 138}, {\"track\": 144, \"bpm\": 138.017, \"138\": 138}, {\"track\": 145, \"bpm\": 139.981, \"138\": 138}, {\"track\": 146, \"bpm\": 138.064, \"138\": 138}, {\"track\": 147, \"bpm\": 123.997, \"138\": 138}, {\"track\": 148, \"bpm\": 139.994, \"138\": 138}, {\"track\": 149, \"bpm\": 133.962, \"138\": 138}, {\"track\": 150, \"bpm\": 138.007, \"138\": 138}, {\"track\": 151, \"bpm\": 137.507, \"138\": 138}, {\"track\": 152, \"bpm\": 137.984, \"138\": 138}, {\"track\": 153, \"bpm\": 133.002, \"138\": 138}, {\"track\": 154, \"bpm\": 132.003, \"138\": 138}, {\"track\": 155, \"bpm\": 139.992, \"138\": 138}, {\"track\": 156, \"bpm\": 138.017, \"138\": 138}, {\"track\": 157, \"bpm\": 134.021, \"138\": 138}, {\"track\": 158, \"bpm\": 130.021, \"138\": 138}, {\"track\": 159, \"bpm\": 138.029, \"138\": 138}, {\"track\": 160, \"bpm\": 128.048, \"138\": 138}, {\"track\": 161, \"bpm\": 129.988, \"138\": 138}, {\"track\": 162, \"bpm\": 138.998, \"138\": 138}, {\"track\": 163, \"bpm\": 138.004, \"138\": 138}, {\"track\": 164, \"bpm\": 137.985, \"138\": 138}, {\"track\": 165, \"bpm\": 138.014, \"138\": 138}, {\"track\": 166, \"bpm\": 133.998, \"138\": 138}, {\"track\": 167, \"bpm\": 127.999, \"138\": 138}, {\"track\": 168, \"bpm\": 136.0, \"138\": 138}, {\"track\": 169, \"bpm\": 131.988, \"138\": 138}, {\"track\": 170, \"bpm\": 126.011, \"138\": 138}, {\"track\": 171, \"bpm\": 138.101, \"138\": 138}, {\"track\": 172, \"bpm\": 137.969, \"138\": 138}, {\"track\": 173, \"bpm\": 139.005, \"138\": 138}, {\"track\": 174, \"bpm\": 137.012, \"138\": 138}, {\"track\": 175, \"bpm\": 131.979, \"138\": 138}, {\"track\": 176, \"bpm\": 131.999, \"138\": 138}, {\"track\": 177, \"bpm\": 135.996, \"138\": 138}, {\"track\": 178, \"bpm\": 136.062, \"138\": 138}, {\"track\": 179, \"bpm\": 138.012, \"138\": 138}, {\"track\": 180, \"bpm\": 127.015, \"138\": 138}, {\"track\": 181, \"bpm\": 133.997, \"138\": 138}, {\"track\": 182, \"bpm\": 129.989, \"138\": 138}, {\"track\": 183, \"bpm\": 135.97, \"138\": 138}, {\"track\": 184, \"bpm\": 134.997, \"138\": 138}, {\"track\": 185, \"bpm\": 139.993, \"138\": 138}, {\"track\": 186, \"bpm\": 138.013, \"138\": 138}, {\"track\": 187, \"bpm\": 137.986, \"138\": 138}, {\"track\": 188, \"bpm\": 138.002, \"138\": 138}, {\"track\": 189, \"bpm\": 128.011, \"138\": 138}, {\"track\": 190, \"bpm\": 138.008, \"138\": 138}, {\"track\": 191, \"bpm\": 130.024, \"138\": 138}, {\"track\": 192, \"bpm\": 136.008, \"138\": 138}, {\"track\": 193, \"bpm\": 134.992, \"138\": 138}, {\"track\": 194, \"bpm\": 132.971, \"138\": 138}, {\"track\": 195, \"bpm\": 127.95, \"138\": 138}, {\"track\": 196, \"bpm\": 130.006, \"138\": 138}, {\"track\": 197, \"bpm\": 130.009, \"138\": 138}, {\"track\": 198, \"bpm\": 125.972, \"138\": 138}, {\"track\": 199, \"bpm\": 139.977, \"138\": 138}, {\"track\": 200, \"bpm\": 131.984, \"138\": 138}, {\"track\": 201, \"bpm\": 134.995, \"138\": 138}, {\"track\": 202, \"bpm\": 139.998, \"138\": 138}, {\"track\": 203, \"bpm\": 140.008, \"138\": 138}, {\"track\": 204, \"bpm\": 131.982, \"138\": 138}, {\"track\": 205, \"bpm\": 134.021, \"138\": 138}, {\"track\": 206, \"bpm\": 130.042, \"138\": 138}, {\"track\": 207, \"bpm\": 139.998, \"138\": 138}, {\"track\": 208, \"bpm\": 132.053, \"138\": 138}, {\"track\": 209, \"bpm\": 131.996, \"138\": 138}, {\"track\": 210, \"bpm\": 140.904, \"138\": 138}, {\"track\": 211, \"bpm\": 138.018, \"138\": 138}, {\"track\": 212, \"bpm\": 138.015, \"138\": 138}, {\"track\": 213, \"bpm\": 137.978, \"138\": 138}, {\"track\": 214, \"bpm\": 131.981, \"138\": 138}, {\"track\": 215, \"bpm\": 133.996, \"138\": 138}, {\"track\": 216, \"bpm\": 129.967, \"138\": 138}, {\"track\": 217, \"bpm\": 127.986, \"138\": 138}, {\"track\": 218, \"bpm\": 130.008, \"138\": 138}, {\"track\": 219, \"bpm\": 132.004, \"138\": 138}, {\"track\": 220, \"bpm\": 135.562, \"138\": 138}, {\"track\": 221, \"bpm\": 138.016, \"138\": 138}, {\"track\": 222, \"bpm\": 130.008, \"138\": 138}, {\"track\": 223, \"bpm\": 136.99, \"138\": 138}, {\"track\": 224, \"bpm\": 131.982, \"138\": 138}, {\"track\": 225, \"bpm\": 134.995, \"138\": 138}, {\"track\": 226, \"bpm\": 133.997, \"138\": 138}, {\"track\": 227, \"bpm\": 130.001, \"138\": 138}, {\"track\": 228, \"bpm\": 138.004, \"138\": 138}, {\"track\": 229, \"bpm\": 137.988, \"138\": 138}, {\"track\": 230, \"bpm\": 130.022, \"138\": 138}, {\"track\": 231, \"bpm\": 134.984, \"138\": 138}, {\"track\": 232, \"bpm\": 134.996, \"138\": 138}, {\"track\": 233, \"bpm\": 137.991, \"138\": 138}, {\"track\": 234, \"bpm\": 133.985, \"138\": 138}, {\"track\": 235, \"bpm\": 133.992, \"138\": 138}, {\"track\": 236, \"bpm\": 135.98, \"138\": 138}, {\"track\": 237, \"bpm\": 137.999, \"138\": 138}, {\"track\": 238, \"bpm\": 137.984, \"138\": 138}, {\"track\": 239, \"bpm\": 140.011, \"138\": 138}, {\"track\": 240, \"bpm\": 130.003, \"138\": 138}, {\"track\": 241, \"bpm\": 132.009, \"138\": 138}, {\"track\": 242, \"bpm\": 138.018, \"138\": 138}, {\"track\": 243, \"bpm\": 137.994, \"138\": 138}, {\"track\": 244, \"bpm\": 140.003, \"138\": 138}, {\"track\": 245, \"bpm\": 140.003, \"138\": 138}, {\"track\": 246, \"bpm\": 132.003, \"138\": 138}, {\"track\": 247, \"bpm\": 128.065, \"138\": 138}, {\"track\": 248, \"bpm\": 136.004, \"138\": 138}, {\"track\": 249, \"bpm\": 130.001, \"138\": 138}, {\"track\": 250, \"bpm\": 134.994, \"138\": 138}, {\"track\": 251, \"bpm\": 136.014, \"138\": 138}, {\"track\": 252, \"bpm\": 138.005, \"138\": 138}, {\"track\": 253, \"bpm\": 138.011, \"138\": 138}, {\"track\": 254, \"bpm\": 135.997, \"138\": 138}, {\"track\": 255, \"bpm\": 140.042, \"138\": 138}, {\"track\": 256, \"bpm\": 137.999, \"138\": 138}, {\"track\": 257, \"bpm\": 138.009, \"138\": 138}, {\"track\": 258, \"bpm\": 132.003, \"138\": 138}, {\"track\": 259, \"bpm\": 127.995, \"138\": 138}, {\"track\": 260, \"bpm\": 129.944, \"138\": 138}, {\"track\": 261, \"bpm\": 137.98, \"138\": 138}, {\"track\": 262, \"bpm\": 127.975, \"138\": 138}, {\"track\": 263, \"bpm\": 128.006, \"138\": 138}, {\"track\": 264, \"bpm\": 127.976, \"138\": 138}, {\"track\": 265, \"bpm\": 135.007, \"138\": 138}, {\"track\": 266, \"bpm\": 132.022, \"138\": 138}, {\"track\": 267, \"bpm\": 131.968, \"138\": 138}, {\"track\": 268, \"bpm\": 138.005, \"138\": 138}, {\"track\": 269, \"bpm\": 138.003, \"138\": 138}, {\"track\": 270, \"bpm\": 127.98, \"138\": 138}, {\"track\": 271, \"bpm\": 130.52, \"138\": 138}, {\"track\": 272, \"bpm\": 139.971, \"138\": 138}, {\"track\": 273, \"bpm\": 132.043, \"138\": 138}, {\"track\": 274, \"bpm\": 131.001, \"138\": 138}, {\"track\": 275, \"bpm\": 136.977, \"138\": 138}, {\"track\": 276, \"bpm\": 139.986, \"138\": 138}, {\"track\": 277, \"bpm\": 131.009, \"138\": 138}, {\"track\": 278, \"bpm\": 134.017, \"138\": 138}, {\"track\": 279, \"bpm\": 136.987, \"138\": 138}, {\"track\": 280, \"bpm\": 137.995, \"138\": 138}, {\"track\": 281, \"bpm\": 128.003, \"138\": 138}, {\"track\": 282, \"bpm\": 139.98, \"138\": 138}, {\"track\": 283, \"bpm\": 134.985, \"138\": 138}, {\"track\": 284, \"bpm\": 138.0, \"138\": 138}, {\"track\": 285, \"bpm\": 136.006, \"138\": 138}, {\"track\": 286, \"bpm\": 139.997, \"138\": 138}, {\"track\": 287, \"bpm\": 132.023, \"138\": 138}, {\"track\": 288, \"bpm\": 128.015, \"138\": 138}, {\"track\": 289, \"bpm\": 123.993, \"138\": 138}, {\"track\": 290, \"bpm\": 138.016, \"138\": 138}, {\"track\": 291, \"bpm\": 137.056, \"138\": 138}, {\"track\": 292, \"bpm\": 127.994, \"138\": 138}, {\"track\": 293, \"bpm\": 127.985, \"138\": 138}, {\"track\": 294, \"bpm\": 139.983, \"138\": 138}, {\"track\": 295, \"bpm\": 137.974, \"138\": 138}, {\"track\": 296, \"bpm\": 135.986, \"138\": 138}, {\"track\": 297, \"bpm\": 130.009, \"138\": 138}, {\"track\": 298, \"bpm\": 137.998, \"138\": 138}, {\"track\": 299, \"bpm\": 130.019, \"138\": 138}, {\"track\": 300, \"bpm\": 138.032, \"138\": 138}, {\"track\": 301, \"bpm\": 134.99, \"138\": 138}, {\"track\": 302, \"bpm\": 135.009, \"138\": 138}, {\"track\": 303, \"bpm\": 133.981, \"138\": 138}, {\"track\": 304, \"bpm\": 138.008, \"138\": 138}, {\"track\": 305, \"bpm\": 137.985, \"138\": 138}, {\"track\": 306, \"bpm\": 128.023, \"138\": 138}, {\"track\": 307, \"bpm\": 132.009, \"138\": 138}, {\"track\": 308, \"bpm\": 135.997, \"138\": 138}, {\"track\": 309, \"bpm\": 141.85, \"138\": 138}, {\"track\": 310, \"bpm\": 138.003, \"138\": 138}, {\"track\": 311, \"bpm\": 139.988, \"138\": 138}, {\"track\": 312, \"bpm\": 133.003, \"138\": 138}, {\"track\": 313, \"bpm\": 134.995, \"138\": 138}, {\"track\": 314, \"bpm\": 134.999, \"138\": 138}, {\"track\": 315, \"bpm\": 135.964, \"138\": 138}, {\"track\": 316, \"bpm\": 137.995, \"138\": 138}, {\"track\": 317, \"bpm\": 136.015, \"138\": 138}, {\"track\": 318, \"bpm\": 138.011, \"138\": 138}, {\"track\": 319, \"bpm\": 133.996, \"138\": 138}, {\"track\": 320, \"bpm\": 138.041, \"138\": 138}, {\"track\": 321, \"bpm\": 139.977, \"138\": 138}, {\"track\": 322, \"bpm\": 132.034, \"138\": 138}, {\"track\": 323, \"bpm\": 130.041, \"138\": 138}, {\"track\": 324, \"bpm\": 129.973, \"138\": 138}, {\"track\": 325, \"bpm\": 132.025, \"138\": 138}, {\"track\": 326, \"bpm\": 136.015, \"138\": 138}, {\"track\": 327, \"bpm\": 126.014, \"138\": 138}, {\"track\": 328, \"bpm\": 139.972, \"138\": 138}, {\"track\": 329, \"bpm\": 135.986, \"138\": 138}, {\"track\": 330, \"bpm\": 132.016, \"138\": 138}, {\"track\": 331, \"bpm\": 140.009, \"138\": 138}, {\"track\": 332, \"bpm\": 132.011, \"138\": 138}, {\"track\": 333, \"bpm\": 133.985, \"138\": 138}, {\"track\": 334, \"bpm\": 135.006, \"138\": 138}, {\"track\": 335, \"bpm\": 136.99, \"138\": 138}, {\"track\": 336, \"bpm\": 139.023, \"138\": 138}, {\"track\": 337, \"bpm\": 128.02, \"138\": 138}, {\"track\": 338, \"bpm\": 139.995, \"138\": 138}, {\"track\": 339, \"bpm\": 128.0, \"138\": 138}, {\"track\": 340, \"bpm\": 138.015, \"138\": 138}, {\"track\": 341, \"bpm\": 131.968, \"138\": 138}, {\"track\": 342, \"bpm\": 132.0, \"138\": 138}, {\"track\": 343, \"bpm\": 133.995, \"138\": 138}, {\"track\": 344, \"bpm\": 136.0, \"138\": 138}, {\"track\": 345, \"bpm\": 128.006, \"138\": 138}, {\"track\": 346, \"bpm\": 144.988, \"138\": 138}, {\"track\": 347, \"bpm\": 131.989, \"138\": 138}, {\"track\": 348, \"bpm\": 131.929, \"138\": 138}, {\"track\": 349, \"bpm\": 129.999, \"138\": 138}, {\"track\": 350, \"bpm\": 121.983, \"138\": 138}, {\"track\": 351, \"bpm\": 132.003, \"138\": 138}, {\"track\": 352, \"bpm\": 130.001, \"138\": 138}, {\"track\": 353, \"bpm\": 134.988, \"138\": 138}, {\"track\": 354, \"bpm\": 127.981, \"138\": 138}, {\"track\": 355, \"bpm\": 132.003, \"138\": 138}, {\"track\": 356, \"bpm\": 130.001, \"138\": 138}, {\"track\": 357, \"bpm\": 137.994, \"138\": 138}, {\"track\": 358, \"bpm\": 138.018, \"138\": 138}, {\"track\": 359, \"bpm\": 138.003, \"138\": 138}, {\"track\": 360, \"bpm\": 135.997, \"138\": 138}, {\"track\": 361, \"bpm\": 134.989, \"138\": 138}, {\"track\": 362, \"bpm\": 135.038, \"138\": 138}, {\"track\": 363, \"bpm\": 133.99, \"138\": 138}, {\"track\": 364, \"bpm\": 137.901, \"138\": 138}, {\"track\": 365, \"bpm\": 138.0, \"138\": 138}, {\"track\": 366, \"bpm\": 128.02, \"138\": 138}, {\"track\": 367, \"bpm\": 137.999, \"138\": 138}, {\"track\": 368, \"bpm\": 135.995, \"138\": 138}, {\"track\": 369, \"bpm\": 134.007, \"138\": 138}, {\"track\": 370, \"bpm\": 134.002, \"138\": 138}, {\"track\": 371, \"bpm\": 138.003, \"138\": 138}, {\"track\": 372, \"bpm\": 127.983, \"138\": 138}, {\"track\": 373, \"bpm\": 137.996, \"138\": 138}, {\"track\": 374, \"bpm\": 129.997, \"138\": 138}, {\"track\": 375, \"bpm\": 127.002, \"138\": 138}, {\"track\": 376, \"bpm\": 131.989, \"138\": 138}, {\"track\": 377, \"bpm\": 127.979, \"138\": 138}, {\"track\": 378, \"bpm\": 135.987, \"138\": 138}, {\"track\": 379, \"bpm\": 129.979, \"138\": 138}, {\"track\": 380, \"bpm\": 133.032, \"138\": 138}, {\"track\": 381, \"bpm\": 138.006, \"138\": 138}, {\"track\": 382, \"bpm\": 134.994, \"138\": 138}, {\"track\": 383, \"bpm\": 135.0, \"138\": 138}, {\"track\": 384, \"bpm\": 135.246, \"138\": 138}, {\"track\": 385, \"bpm\": 131.985, \"138\": 138}, {\"track\": 386, \"bpm\": 134.999, \"138\": 138}, {\"track\": 387, \"bpm\": 138.0, \"138\": 138}, {\"track\": 388, \"bpm\": 123.998, \"138\": 138}, {\"track\": 389, \"bpm\": 131.993, \"138\": 138}, {\"track\": 390, \"bpm\": 130.009, \"138\": 138}, {\"track\": 391, \"bpm\": 131.995, \"138\": 138}, {\"track\": 392, \"bpm\": 139.974, \"138\": 138}, {\"track\": 393, \"bpm\": 126.013, \"138\": 138}, {\"track\": 394, \"bpm\": 127.997, \"138\": 138}, {\"track\": 395, \"bpm\": 138.034, \"138\": 138}, {\"track\": 396, \"bpm\": 132.006, \"138\": 138}, {\"track\": 397, \"bpm\": 127.995, \"138\": 138}, {\"track\": 398, \"bpm\": 131.994, \"138\": 138}, {\"track\": 399, \"bpm\": 127.981, \"138\": 138}, {\"track\": 400, \"bpm\": 125.984, \"138\": 138}, {\"track\": 401, \"bpm\": 137.994, \"138\": 138}, {\"track\": 402, \"bpm\": 133.993, \"138\": 138}, {\"track\": 403, \"bpm\": 135.006, \"138\": 138}, {\"track\": 404, \"bpm\": 138.998, \"138\": 138}, {\"track\": 405, \"bpm\": 135.999, \"138\": 138}, {\"track\": 406, \"bpm\": 137.996, \"138\": 138}, {\"track\": 407, \"bpm\": 129.972, \"138\": 138}, {\"track\": 408, \"bpm\": 140.033, \"138\": 138}, {\"track\": 409, \"bpm\": 135.969, \"138\": 138}, {\"track\": 410, \"bpm\": 130.005, \"138\": 138}, {\"track\": 411, \"bpm\": 138.007, \"138\": 138}, {\"track\": 412, \"bpm\": 126.017, \"138\": 138}, {\"track\": 413, \"bpm\": 130.001, \"138\": 138}, {\"track\": 414, \"bpm\": 129.96, \"138\": 138}, {\"track\": 415, \"bpm\": 136.027, \"138\": 138}, {\"track\": 416, \"bpm\": 137.997, \"138\": 138}, {\"track\": 417, \"bpm\": 138.017, \"138\": 138}, {\"track\": 418, \"bpm\": 139.992, \"138\": 138}, {\"track\": 419, \"bpm\": 139.988, \"138\": 138}, {\"track\": 420, \"bpm\": 126.018, \"138\": 138}, {\"track\": 421, \"bpm\": 138.007, \"138\": 138}, {\"track\": 422, \"bpm\": 139.991, \"138\": 138}, {\"track\": 423, \"bpm\": 128.005, \"138\": 138}, {\"track\": 424, \"bpm\": 135.921, \"138\": 138}, {\"track\": 425, \"bpm\": 139.997, \"138\": 138}, {\"track\": 426, \"bpm\": 132.977, \"138\": 138}, {\"track\": 427, \"bpm\": 129.982, \"138\": 138}, {\"track\": 428, \"bpm\": 137.996, \"138\": 138}, {\"track\": 429, \"bpm\": 138.033, \"138\": 138}, {\"track\": 430, \"bpm\": 127.978, \"138\": 138}, {\"track\": 431, \"bpm\": 128.011, \"138\": 138}, {\"track\": 432, \"bpm\": 128.03, \"138\": 138}, {\"track\": 433, \"bpm\": 138.002, \"138\": 138}, {\"track\": 434, \"bpm\": 135.031, \"138\": 138}, {\"track\": 435, \"bpm\": 129.008, \"138\": 138}, {\"track\": 436, \"bpm\": 128.013, \"138\": 138}, {\"track\": 437, \"bpm\": 136.964, \"138\": 138}, {\"track\": 438, \"bpm\": 138.002, \"138\": 138}, {\"track\": 439, \"bpm\": 132.005, \"138\": 138}, {\"track\": 440, \"bpm\": 134.008, \"138\": 138}, {\"track\": 441, \"bpm\": 129.982, \"138\": 138}, {\"track\": 442, \"bpm\": 127.992, \"138\": 138}, {\"track\": 443, \"bpm\": 129.991, \"138\": 138}, {\"track\": 444, \"bpm\": 135.988, \"138\": 138}, {\"track\": 445, \"bpm\": 134.999, \"138\": 138}, {\"track\": 446, \"bpm\": 132.007, \"138\": 138}, {\"track\": 447, \"bpm\": 138.017, \"138\": 138}, {\"track\": 448, \"bpm\": 132.015, \"138\": 138}, {\"track\": 449, \"bpm\": 130.029, \"138\": 138}, {\"track\": 450, \"bpm\": 135.003, \"138\": 138}, {\"track\": 451, \"bpm\": 139.996, \"138\": 138}, {\"track\": 452, \"bpm\": 138.035, \"138\": 138}, {\"track\": 453, \"bpm\": 131.977, \"138\": 138}, {\"track\": 454, \"bpm\": 133.256, \"138\": 138}, {\"track\": 455, \"bpm\": 125.976, \"138\": 138}, {\"track\": 456, \"bpm\": 128.028, \"138\": 138}, {\"track\": 457, \"bpm\": 138.985, \"138\": 138}, {\"track\": 458, \"bpm\": 138.015, \"138\": 138}, {\"track\": 459, \"bpm\": 132.008, \"138\": 138}, {\"track\": 460, \"bpm\": 132.012, \"138\": 138}, {\"track\": 461, \"bpm\": 128.007, \"138\": 138}, {\"track\": 462, \"bpm\": 137.991, \"138\": 138}, {\"track\": 463, \"bpm\": 139.989, \"138\": 138}, {\"track\": 464, \"bpm\": 127.991, \"138\": 138}, {\"track\": 465, \"bpm\": 138.024, \"138\": 138}, {\"track\": 466, \"bpm\": 138.955, \"138\": 138}, {\"track\": 467, \"bpm\": 130.025, \"138\": 138}, {\"track\": 468, \"bpm\": 138.0, \"138\": 138}, {\"track\": 469, \"bpm\": 138.0, \"138\": 138}, {\"track\": 470, \"bpm\": 133.956, \"138\": 138}, {\"track\": 471, \"bpm\": 131.993, \"138\": 138}, {\"track\": 472, \"bpm\": 129.975, \"138\": 138}, {\"track\": 473, \"bpm\": 129.994, \"138\": 138}, {\"track\": 474, \"bpm\": 132.002, \"138\": 138}, {\"track\": 475, \"bpm\": 140.002, \"138\": 138}, {\"track\": 476, \"bpm\": 134.992, \"138\": 138}, {\"track\": 477, \"bpm\": 138.005, \"138\": 138}, {\"track\": 478, \"bpm\": 134.0, \"138\": 138}, {\"track\": 479, \"bpm\": 140.006, \"138\": 138}, {\"track\": 480, \"bpm\": 137.997, \"138\": 138}, {\"track\": 481, \"bpm\": 130.015, \"138\": 138}, {\"track\": 482, \"bpm\": 138.021, \"138\": 138}, {\"track\": 483, \"bpm\": 132.003, \"138\": 138}, {\"track\": 484, \"bpm\": 140.299, \"138\": 138}, {\"track\": 485, \"bpm\": 131.986, \"138\": 138}, {\"track\": 486, \"bpm\": 131.992, \"138\": 138}, {\"track\": 487, \"bpm\": 139.99, \"138\": 138}, {\"track\": 488, \"bpm\": 128.004, \"138\": 138}, {\"track\": 489, \"bpm\": 125.997, \"138\": 138}, {\"track\": 490, \"bpm\": 135.99, \"138\": 138}, {\"track\": 491, \"bpm\": 126.991, \"138\": 138}, {\"track\": 492, \"bpm\": 135.008, \"138\": 138}, {\"track\": 493, \"bpm\": 138.017, \"138\": 138}, {\"track\": 494, \"bpm\": 137.99, \"138\": 138}, {\"track\": 495, \"bpm\": 137.979, \"138\": 138}, {\"track\": 496, \"bpm\": 128.036, \"138\": 138}, {\"track\": 497, \"bpm\": 139.987, \"138\": 138}, {\"track\": 498, \"bpm\": 135.001, \"138\": 138}, {\"track\": 499, \"bpm\": 139.854, \"138\": 138}, {\"track\": 500, \"bpm\": 128.009, \"138\": 138}, {\"track\": 501, \"bpm\": 133.33, \"138\": 138}, {\"track\": 502, \"bpm\": 132.176, \"138\": 138}, {\"track\": 503, \"bpm\": 125.979, \"138\": 138}, {\"track\": 504, \"bpm\": 133.958, \"138\": 138}, {\"track\": 505, \"bpm\": 140.052, \"138\": 138}, {\"track\": 506, \"bpm\": 135.087, \"138\": 138}, {\"track\": 507, \"bpm\": 132.995, \"138\": 138}, {\"track\": 508, \"bpm\": 127.996, \"138\": 138}, {\"track\": 509, \"bpm\": 138.0, \"138\": 138}, {\"track\": 510, \"bpm\": 130.025, \"138\": 138}, {\"track\": 511, \"bpm\": 127.988, \"138\": 138}, {\"track\": 512, \"bpm\": 136.998, \"138\": 138}, {\"track\": 513, \"bpm\": 138.002, \"138\": 138}, {\"track\": 514, \"bpm\": 132.022, \"138\": 138}, {\"track\": 515, \"bpm\": 138.014, \"138\": 138}, {\"track\": 516, \"bpm\": 127.977, \"138\": 138}, {\"track\": 517, \"bpm\": 130.02, \"138\": 138}, {\"track\": 518, \"bpm\": 138.0, \"138\": 138}, {\"track\": 519, \"bpm\": 139.994, \"138\": 138}, {\"track\": 520, \"bpm\": 135.468, \"138\": 138}, {\"track\": 521, \"bpm\": 131.986, \"138\": 138}, {\"track\": 522, \"bpm\": 138.008, \"138\": 138}, {\"track\": 523, \"bpm\": 130.023, \"138\": 138}, {\"track\": 524, \"bpm\": 139.99, \"138\": 138}, {\"track\": 525, \"bpm\": 134.002, \"138\": 138}, {\"track\": 526, \"bpm\": 128.01, \"138\": 138}, {\"track\": 527, \"bpm\": 137.996, \"138\": 138}, {\"track\": 528, \"bpm\": 138.006, \"138\": 138}, {\"track\": 529, \"bpm\": 128.011, \"138\": 138}, {\"track\": 530, \"bpm\": 129.974, \"138\": 138}, {\"track\": 531, \"bpm\": 133.992, \"138\": 138}, {\"track\": 532, \"bpm\": 129.978, \"138\": 138}, {\"track\": 533, \"bpm\": 121.997, \"138\": 138}, {\"track\": 534, \"bpm\": 129.99, \"138\": 138}, {\"track\": 535, \"bpm\": 139.28, \"138\": 138}, {\"track\": 536, \"bpm\": 131.996, \"138\": 138}, {\"track\": 537, \"bpm\": 131.988, \"138\": 138}, {\"track\": 538, \"bpm\": 130.008, \"138\": 138}, {\"track\": 539, \"bpm\": 128.016, \"138\": 138}, {\"track\": 540, \"bpm\": 139.998, \"138\": 138}, {\"track\": 541, \"bpm\": 128.01, \"138\": 138}, {\"track\": 542, \"bpm\": 134.988, \"138\": 138}, {\"track\": 543, \"bpm\": 139.989, \"138\": 138}, {\"track\": 544, \"bpm\": 131.983, \"138\": 138}, {\"track\": 545, \"bpm\": 136.009, \"138\": 138}, {\"track\": 546, \"bpm\": 127.974, \"138\": 138}, {\"track\": 547, \"bpm\": 136.007, \"138\": 138}, {\"track\": 548, \"bpm\": 132.995, \"138\": 138}, {\"track\": 549, \"bpm\": 136.977, \"138\": 138}, {\"track\": 550, \"bpm\": 138.006, \"138\": 138}, {\"track\": 551, \"bpm\": 135.023, \"138\": 138}, {\"track\": 552, \"bpm\": 140.004, \"138\": 138}, {\"track\": 553, \"bpm\": 130.007, \"138\": 138}, {\"track\": 554, \"bpm\": 132.01, \"138\": 138}, {\"track\": 555, \"bpm\": 138.008, \"138\": 138}, {\"track\": 556, \"bpm\": 138.029, \"138\": 138}, {\"track\": 557, \"bpm\": 128.004, \"138\": 138}, {\"track\": 558, \"bpm\": 131.981, \"138\": 138}, {\"track\": 559, \"bpm\": 138.011, \"138\": 138}, {\"track\": 560, \"bpm\": 140.002, \"138\": 138}, {\"track\": 561, \"bpm\": 140.02, \"138\": 138}, {\"track\": 562, \"bpm\": 132.005, \"138\": 138}, {\"track\": 563, \"bpm\": 129.995, \"138\": 138}, {\"track\": 564, \"bpm\": 126.986, \"138\": 138}, {\"track\": 565, \"bpm\": 131.995, \"138\": 138}, {\"track\": 566, \"bpm\": 132.012, \"138\": 138}, {\"track\": 567, \"bpm\": 139.982, \"138\": 138}, {\"track\": 568, \"bpm\": 142.002, \"138\": 138}, {\"track\": 569, \"bpm\": 128.025, \"138\": 138}, {\"track\": 570, \"bpm\": 131.497, \"138\": 138}, {\"track\": 571, \"bpm\": 134.009, \"138\": 138}, {\"track\": 572, \"bpm\": 127.0, \"138\": 138}, {\"track\": 573, \"bpm\": 137.831, \"138\": 138}, {\"track\": 574, \"bpm\": 140.005, \"138\": 138}, {\"track\": 575, \"bpm\": 137.974, \"138\": 138}, {\"track\": 576, \"bpm\": 130.003, \"138\": 138}, {\"track\": 577, \"bpm\": 139.965, \"138\": 138}, {\"track\": 578, \"bpm\": 132.993, \"138\": 138}, {\"track\": 579, \"bpm\": 132.014, \"138\": 138}, {\"track\": 580, \"bpm\": 127.964, \"138\": 138}, {\"track\": 581, \"bpm\": 127.993, \"138\": 138}, {\"track\": 582, \"bpm\": 130.007, \"138\": 138}, {\"track\": 583, \"bpm\": 125.003, \"138\": 138}, {\"track\": 584, \"bpm\": 137.985, \"138\": 138}, {\"track\": 585, \"bpm\": 129.995, \"138\": 138}, {\"track\": 586, \"bpm\": 127.003, \"138\": 138}, {\"track\": 587, \"bpm\": 137.022, \"138\": 138}, {\"track\": 588, \"bpm\": 137.956, \"138\": 138}, {\"track\": 589, \"bpm\": 131.997, \"138\": 138}, {\"track\": 590, \"bpm\": 133.981, \"138\": 138}, {\"track\": 591, \"bpm\": 139.993, \"138\": 138}, {\"track\": 592, \"bpm\": 126.003, \"138\": 138}, {\"track\": 593, \"bpm\": 137.988, \"138\": 138}, {\"track\": 594, \"bpm\": 127.953, \"138\": 138}, {\"track\": 595, \"bpm\": 127.995, \"138\": 138}, {\"track\": 596, \"bpm\": 128.0, \"138\": 138}, {\"track\": 597, \"bpm\": 136.005, \"138\": 138}, {\"track\": 598, \"bpm\": 133.977, \"138\": 138}, {\"track\": 599, \"bpm\": 137.978, \"138\": 138}, {\"track\": 600, \"bpm\": 131.993, \"138\": 138}, {\"track\": 601, \"bpm\": 131.994, \"138\": 138}, {\"track\": 602, \"bpm\": 133.987, \"138\": 138}, {\"track\": 603, \"bpm\": 138.01, \"138\": 138}, {\"track\": 604, \"bpm\": 128.0, \"138\": 138}, {\"track\": 605, \"bpm\": 131.964, \"138\": 138}, {\"track\": 606, \"bpm\": 135.018, \"138\": 138}, {\"track\": 607, \"bpm\": 129.967, \"138\": 138}, {\"track\": 608, \"bpm\": 138.018, \"138\": 138}, {\"track\": 609, \"bpm\": 138.001, \"138\": 138}, {\"track\": 610, \"bpm\": 139.969, \"138\": 138}, {\"track\": 611, \"bpm\": 137.977, \"138\": 138}, {\"track\": 612, \"bpm\": 137.99, \"138\": 138}, {\"track\": 613, \"bpm\": 131.993, \"138\": 138}, {\"track\": 614, \"bpm\": 134.98, \"138\": 138}, {\"track\": 615, \"bpm\": 139.982, \"138\": 138}, {\"track\": 616, \"bpm\": 132.006, \"138\": 138}, {\"track\": 617, \"bpm\": 129.987, \"138\": 138}, {\"track\": 618, \"bpm\": 127.987, \"138\": 138}, {\"track\": 619, \"bpm\": 138.014, \"138\": 138}, {\"track\": 620, \"bpm\": 137.997, \"138\": 138}, {\"track\": 621, \"bpm\": 127.962, \"138\": 138}, {\"track\": 622, \"bpm\": 134.007, \"138\": 138}, {\"track\": 623, \"bpm\": 138.001, \"138\": 138}, {\"track\": 624, \"bpm\": 134.99, \"138\": 138}, {\"track\": 625, \"bpm\": 134.982, \"138\": 138}, {\"track\": 626, \"bpm\": 139.996, \"138\": 138}, {\"track\": 627, \"bpm\": 139.982, \"138\": 138}, {\"track\": 628, \"bpm\": 133.919, \"138\": 138}, {\"track\": 629, \"bpm\": 137.997, \"138\": 138}, {\"track\": 630, \"bpm\": 138.002, \"138\": 138}, {\"track\": 631, \"bpm\": 141.981, \"138\": 138}, {\"track\": 632, \"bpm\": 140.017, \"138\": 138}, {\"track\": 633, \"bpm\": 128.056, \"138\": 138}, {\"track\": 634, \"bpm\": 138.007, \"138\": 138}, {\"track\": 635, \"bpm\": 127.971, \"138\": 138}, {\"track\": 636, \"bpm\": 129.965, \"138\": 138}, {\"track\": 637, \"bpm\": 131.993, \"138\": 138}, {\"track\": 638, \"bpm\": 139.984, \"138\": 138}, {\"track\": 639, \"bpm\": 136.97, \"138\": 138}, {\"track\": 640, \"bpm\": 127.981, \"138\": 138}, {\"track\": 641, \"bpm\": 135.966, \"138\": 138}, {\"track\": 642, \"bpm\": 133.981, \"138\": 138}, {\"track\": 643, \"bpm\": 127.886, \"138\": 138}, {\"track\": 644, \"bpm\": 132.002, \"138\": 138}, {\"track\": 645, \"bpm\": 133.992, \"138\": 138}, {\"track\": 646, \"bpm\": 138.005, \"138\": 138}, {\"track\": 647, \"bpm\": 135.99, \"138\": 138}, {\"track\": 648, \"bpm\": 137.986, \"138\": 138}, {\"track\": 649, \"bpm\": 136.007, \"138\": 138}, {\"track\": 650, \"bpm\": 137.994, \"138\": 138}, {\"track\": 651, \"bpm\": 135.001, \"138\": 138}, {\"track\": 652, \"bpm\": 127.993, \"138\": 138}, {\"track\": 653, \"bpm\": 131.855, \"138\": 138}, {\"track\": 654, \"bpm\": 131.999, \"138\": 138}, {\"track\": 655, \"bpm\": 130.997, \"138\": 138}, {\"track\": 656, \"bpm\": 136.024, \"138\": 138}, {\"track\": 657, \"bpm\": 137.0, \"138\": 138}, {\"track\": 658, \"bpm\": 127.976, \"138\": 138}, {\"track\": 659, \"bpm\": 127.988, \"138\": 138}, {\"track\": 660, \"bpm\": 130.007, \"138\": 138}, {\"track\": 661, \"bpm\": 136.989, \"138\": 138}, {\"track\": 662, \"bpm\": 128.044, \"138\": 138}, {\"track\": 663, \"bpm\": 129.997, \"138\": 138}, {\"track\": 664, \"bpm\": 138.02, \"138\": 138}, {\"track\": 665, \"bpm\": 139.98, \"138\": 138}, {\"track\": 666, \"bpm\": 133.978, \"138\": 138}, {\"track\": 667, \"bpm\": 127.99, \"138\": 138}, {\"track\": 668, \"bpm\": 131.99, \"138\": 138}, {\"track\": 669, \"bpm\": 139.986, \"138\": 138}, {\"track\": 670, \"bpm\": 130.987, \"138\": 138}, {\"track\": 671, \"bpm\": 130.015, \"138\": 138}, {\"track\": 672, \"bpm\": 135.018, \"138\": 138}, {\"track\": 673, \"bpm\": 133.985, \"138\": 138}, {\"track\": 674, \"bpm\": 132.008, \"138\": 138}, {\"track\": 675, \"bpm\": 138.015, \"138\": 138}, {\"track\": 676, \"bpm\": 135.999, \"138\": 138}, {\"track\": 677, \"bpm\": 138.011, \"138\": 138}, {\"track\": 678, \"bpm\": 139.023, \"138\": 138}, {\"track\": 679, \"bpm\": 137.992, \"138\": 138}, {\"track\": 680, \"bpm\": 137.997, \"138\": 138}, {\"track\": 681, \"bpm\": 136.001, \"138\": 138}, {\"track\": 682, \"bpm\": 131.995, \"138\": 138}, {\"track\": 683, \"bpm\": 130.018, \"138\": 138}, {\"track\": 684, \"bpm\": 133.977, \"138\": 138}, {\"track\": 685, \"bpm\": 135.983, \"138\": 138}, {\"track\": 686, \"bpm\": 132.994, \"138\": 138}, {\"track\": 687, \"bpm\": 137.982, \"138\": 138}, {\"track\": 688, \"bpm\": 140.004, \"138\": 138}, {\"track\": 689, \"bpm\": 134.007, \"138\": 138}, {\"track\": 690, \"bpm\": 132.009, \"138\": 138}, {\"track\": 691, \"bpm\": 135.02, \"138\": 138}, {\"track\": 692, \"bpm\": 125.984, \"138\": 138}, {\"track\": 693, \"bpm\": 133.986, \"138\": 138}, {\"track\": 694, \"bpm\": 128.006, \"138\": 138}, {\"track\": 695, \"bpm\": 132.01, \"138\": 138}, {\"track\": 696, \"bpm\": 129.995, \"138\": 138}, {\"track\": 697, \"bpm\": 124.008, \"138\": 138}, {\"track\": 698, \"bpm\": 131.001, \"138\": 138}, {\"track\": 699, \"bpm\": 138.015, \"138\": 138}, {\"track\": 700, \"bpm\": 135.99, \"138\": 138}, {\"track\": 701, \"bpm\": 129.968, \"138\": 138}, {\"track\": 702, \"bpm\": 139.99, \"138\": 138}, {\"track\": 703, \"bpm\": 133.982, \"138\": 138}, {\"track\": 704, \"bpm\": 137.994, \"138\": 138}, {\"track\": 705, \"bpm\": 138.016, \"138\": 138}, {\"track\": 706, \"bpm\": 128.007, \"138\": 138}, {\"track\": 707, \"bpm\": 134.036, \"138\": 138}, {\"track\": 708, \"bpm\": 129.986, \"138\": 138}, {\"track\": 709, \"bpm\": 130.991, \"138\": 138}, {\"track\": 710, \"bpm\": 139.988, \"138\": 138}, {\"track\": 711, \"bpm\": 135.017, \"138\": 138}, {\"track\": 712, \"bpm\": 140.011, \"138\": 138}, {\"track\": 713, \"bpm\": 137.995, \"138\": 138}, {\"track\": 714, \"bpm\": 136.988, \"138\": 138}, {\"track\": 715, \"bpm\": 130.015, \"138\": 138}, {\"track\": 716, \"bpm\": 129.987, \"138\": 138}, {\"track\": 717, \"bpm\": 137.985, \"138\": 138}, {\"track\": 718, \"bpm\": 127.984, \"138\": 138}, {\"track\": 719, \"bpm\": 138.024, \"138\": 138}, {\"track\": 720, \"bpm\": 128.021, \"138\": 138}, {\"track\": 721, \"bpm\": 137.003, \"138\": 138}, {\"track\": 722, \"bpm\": 132.007, \"138\": 138}, {\"track\": 723, \"bpm\": 128.001, \"138\": 138}, {\"track\": 724, \"bpm\": 137.996, \"138\": 138}, {\"track\": 725, \"bpm\": 137.991, \"138\": 138}, {\"track\": 726, \"bpm\": 134.019, \"138\": 138}, {\"track\": 727, \"bpm\": 132.011, \"138\": 138}, {\"track\": 728, \"bpm\": 132.008, \"138\": 138}, {\"track\": 729, \"bpm\": 138.0, \"138\": 138}, {\"track\": 730, \"bpm\": 138.007, \"138\": 138}, {\"track\": 731, \"bpm\": 138.0, \"138\": 138}, {\"track\": 732, \"bpm\": 139.993, \"138\": 138}, {\"track\": 733, \"bpm\": 132.024, \"138\": 138}, {\"track\": 734, \"bpm\": 134.983, \"138\": 138}, {\"track\": 735, \"bpm\": 141.063, \"138\": 138}, {\"track\": 736, \"bpm\": 135.002, \"138\": 138}, {\"track\": 737, \"bpm\": 138.019, \"138\": 138}, {\"track\": 738, \"bpm\": 124.986, \"138\": 138}, {\"track\": 739, \"bpm\": 138.021, \"138\": 138}, {\"track\": 740, \"bpm\": 137.991, \"138\": 138}, {\"track\": 741, \"bpm\": 130.004, \"138\": 138}, {\"track\": 742, \"bpm\": 138.012, \"138\": 138}, {\"track\": 743, \"bpm\": 137.983, \"138\": 138}, {\"track\": 744, \"bpm\": 125.989, \"138\": 138}, {\"track\": 745, \"bpm\": 128.582, \"138\": 138}, {\"track\": 746, \"bpm\": 137.989, \"138\": 138}, {\"track\": 747, \"bpm\": 128.01, \"138\": 138}, {\"track\": 748, \"bpm\": 137.994, \"138\": 138}, {\"track\": 749, \"bpm\": 132.011, \"138\": 138}, {\"track\": 750, \"bpm\": 131.008, \"138\": 138}, {\"track\": 751, \"bpm\": 135.007, \"138\": 138}, {\"track\": 752, \"bpm\": 137.985, \"138\": 138}, {\"track\": 753, \"bpm\": 134.011, \"138\": 138}, {\"track\": 754, \"bpm\": 138.979, \"138\": 138}, {\"track\": 755, \"bpm\": 136.003, \"138\": 138}, {\"track\": 756, \"bpm\": 132.06, \"138\": 138}, {\"track\": 757, \"bpm\": 127.957, \"138\": 138}, {\"track\": 758, \"bpm\": 130.991, \"138\": 138}, {\"track\": 759, \"bpm\": 138.011, \"138\": 138}, {\"track\": 760, \"bpm\": 137.995, \"138\": 138}, {\"track\": 761, \"bpm\": 128.005, \"138\": 138}, {\"track\": 762, \"bpm\": 139.997, \"138\": 138}, {\"track\": 763, \"bpm\": 132.994, \"138\": 138}, {\"track\": 764, \"bpm\": 139.973, \"138\": 138}, {\"track\": 765, \"bpm\": 127.964, \"138\": 138}, {\"track\": 766, \"bpm\": 140.01, \"138\": 138}, {\"track\": 767, \"bpm\": 128.083, \"138\": 138}, {\"track\": 768, \"bpm\": 136.974, \"138\": 138}, {\"track\": 769, \"bpm\": 130.006, \"138\": 138}, {\"track\": 770, \"bpm\": 132.01, \"138\": 138}, {\"track\": 771, \"bpm\": 137.997, \"138\": 138}, {\"track\": 772, \"bpm\": 138.001, \"138\": 138}, {\"track\": 773, \"bpm\": 134.979, \"138\": 138}, {\"track\": 774, \"bpm\": 138.017, \"138\": 138}, {\"track\": 775, \"bpm\": 131.982, \"138\": 138}, {\"track\": 776, \"bpm\": 134.997, \"138\": 138}, {\"track\": 777, \"bpm\": 137.983, \"138\": 138}, {\"track\": 778, \"bpm\": 129.994, \"138\": 138}, {\"track\": 779, \"bpm\": 128.013, \"138\": 138}, {\"track\": 780, \"bpm\": 138.033, \"138\": 138}, {\"track\": 781, \"bpm\": 137.998, \"138\": 138}, {\"track\": 782, \"bpm\": 137.992, \"138\": 138}, {\"track\": 783, \"bpm\": 140.022, \"138\": 138}, {\"track\": 784, \"bpm\": 131.982, \"138\": 138}, {\"track\": 785, \"bpm\": 128.004, \"138\": 138}, {\"track\": 786, \"bpm\": 131.013, \"138\": 138}, {\"track\": 787, \"bpm\": 137.984, \"138\": 138}, {\"track\": 788, \"bpm\": 131.995, \"138\": 138}, {\"track\": 789, \"bpm\": 138.015, \"138\": 138}, {\"track\": 790, \"bpm\": 131.978, \"138\": 138}, {\"track\": 791, \"bpm\": 138.007, \"138\": 138}, {\"track\": 792, \"bpm\": 137.988, \"138\": 138}, {\"track\": 793, \"bpm\": 132.007, \"138\": 138}, {\"track\": 794, \"bpm\": 140.034, \"138\": 138}, {\"track\": 795, \"bpm\": 140.014, \"138\": 138}, {\"track\": 796, \"bpm\": 132.998, \"138\": 138}, {\"track\": 797, \"bpm\": 139.989, \"138\": 138}, {\"track\": 798, \"bpm\": 133.981, \"138\": 138}, {\"track\": 799, \"bpm\": 131.99, \"138\": 138}, {\"track\": 800, \"bpm\": 135.998, \"138\": 138}, {\"track\": 801, \"bpm\": 130.0, \"138\": 138}, {\"track\": 802, \"bpm\": 129.992, \"138\": 138}, {\"track\": 803, \"bpm\": 128.023, \"138\": 138}, {\"track\": 804, \"bpm\": 138.003, \"138\": 138}, {\"track\": 805, \"bpm\": 130.006, \"138\": 138}, {\"track\": 806, \"bpm\": 134.988, \"138\": 138}, {\"track\": 807, \"bpm\": 137.023, \"138\": 138}, {\"track\": 808, \"bpm\": 131.996, \"138\": 138}, {\"track\": 809, \"bpm\": 131.989, \"138\": 138}, {\"track\": 810, \"bpm\": 127.996, \"138\": 138}, {\"track\": 811, \"bpm\": 134.822, \"138\": 138}, {\"track\": 812, \"bpm\": 132.075, \"138\": 138}, {\"track\": 813, \"bpm\": 137.996, \"138\": 138}, {\"track\": 814, \"bpm\": 137.961, \"138\": 138}, {\"track\": 815, \"bpm\": 127.971, \"138\": 138}, {\"track\": 816, \"bpm\": 140.006, \"138\": 138}, {\"track\": 817, \"bpm\": 131.992, \"138\": 138}, {\"track\": 818, \"bpm\": 137.988, \"138\": 138}, {\"track\": 819, \"bpm\": 128.011, \"138\": 138}, {\"track\": 820, \"bpm\": 129.996, \"138\": 138}, {\"track\": 821, \"bpm\": 138.007, \"138\": 138}, {\"track\": 822, \"bpm\": 129.986, \"138\": 138}, {\"track\": 823, \"bpm\": 138.019, \"138\": 138}, {\"track\": 824, \"bpm\": 138.0, \"138\": 138}, {\"track\": 825, \"bpm\": 140.0, \"138\": 138}, {\"track\": 826, \"bpm\": 138.002, \"138\": 138}, {\"track\": 827, \"bpm\": 135.996, \"138\": 138}, {\"track\": 828, \"bpm\": 135.002, \"138\": 138}, {\"track\": 829, \"bpm\": 136.012, \"138\": 138}, {\"track\": 830, \"bpm\": 137.973, \"138\": 138}, {\"track\": 831, \"bpm\": 132.034, \"138\": 138}, {\"track\": 832, \"bpm\": 135.938, \"138\": 138}, {\"track\": 833, \"bpm\": 136.044, \"138\": 138}, {\"track\": 834, \"bpm\": 128.0, \"138\": 138}, {\"track\": 835, \"bpm\": 136.994, \"138\": 138}, {\"track\": 836, \"bpm\": 128.02, \"138\": 138}, {\"track\": 837, \"bpm\": 128.003, \"138\": 138}, {\"track\": 838, \"bpm\": 132.006, \"138\": 138}, {\"track\": 839, \"bpm\": 128.019, \"138\": 138}, {\"track\": 840, \"bpm\": 125.156, \"138\": 138}, {\"track\": 841, \"bpm\": 131.815, \"138\": 138}, {\"track\": 842, \"bpm\": 138.03, \"138\": 138}, {\"track\": 843, \"bpm\": 138.006, \"138\": 138}, {\"track\": 844, \"bpm\": 136.018, \"138\": 138}, {\"track\": 845, \"bpm\": 135.984, \"138\": 138}, {\"track\": 846, \"bpm\": 127.977, \"138\": 138}, {\"track\": 847, \"bpm\": 130.014, \"138\": 138}, {\"track\": 848, \"bpm\": 129.012, \"138\": 138}, {\"track\": 849, \"bpm\": 138.002, \"138\": 138}, {\"track\": 850, \"bpm\": 135.985, \"138\": 138}, {\"track\": 851, \"bpm\": 131.998, \"138\": 138}, {\"track\": 852, \"bpm\": 135.984, \"138\": 138}, {\"track\": 853, \"bpm\": 137.49, \"138\": 138}, {\"track\": 854, \"bpm\": 137.016, \"138\": 138}, {\"track\": 855, \"bpm\": 131.999, \"138\": 138}, {\"track\": 856, \"bpm\": 137.988, \"138\": 138}, {\"track\": 857, \"bpm\": 137.989, \"138\": 138}, {\"track\": 858, \"bpm\": 134.005, \"138\": 138}, {\"track\": 859, \"bpm\": 136.002, \"138\": 138}, {\"track\": 860, \"bpm\": 138.013, \"138\": 138}, {\"track\": 861, \"bpm\": 137.998, \"138\": 138}, {\"track\": 862, \"bpm\": 131.962, \"138\": 138}, {\"track\": 863, \"bpm\": 132.019, \"138\": 138}, {\"track\": 864, \"bpm\": 138.003, \"138\": 138}, {\"track\": 865, \"bpm\": 136.993, \"138\": 138}, {\"track\": 866, \"bpm\": 132.986, \"138\": 138}, {\"track\": 867, \"bpm\": 137.954, \"138\": 138}, {\"track\": 868, \"bpm\": 135.976, \"138\": 138}, {\"track\": 869, \"bpm\": 132.014, \"138\": 138}, {\"track\": 870, \"bpm\": 138.001, \"138\": 138}, {\"track\": 871, \"bpm\": 137.998, \"138\": 138}, {\"track\": 872, \"bpm\": 139.99, \"138\": 138}, {\"track\": 873, \"bpm\": 131.988, \"138\": 138}, {\"track\": 874, \"bpm\": 135.001, \"138\": 138}, {\"track\": 875, \"bpm\": 130.231, \"138\": 138}, {\"track\": 876, \"bpm\": 127.002, \"138\": 138}, {\"track\": 877, \"bpm\": 137.999, \"138\": 138}, {\"track\": 878, \"bpm\": 135.013, \"138\": 138}, {\"track\": 879, \"bpm\": 139.987, \"138\": 138}, {\"track\": 880, \"bpm\": 139.987, \"138\": 138}, {\"track\": 881, \"bpm\": 134.984, \"138\": 138}, {\"track\": 882, \"bpm\": 135.0, \"138\": 138}, {\"track\": 883, \"bpm\": 134.989, \"138\": 138}, {\"track\": 884, \"bpm\": 138.02, \"138\": 138}, {\"track\": 885, \"bpm\": 131.986, \"138\": 138}, {\"track\": 886, \"bpm\": 139.996, \"138\": 138}, {\"track\": 887, \"bpm\": 135.002, \"138\": 138}, {\"track\": 888, \"bpm\": 130.975, \"138\": 138}, {\"track\": 889, \"bpm\": 137.99, \"138\": 138}, {\"track\": 890, \"bpm\": 129.981, \"138\": 138}, {\"track\": 891, \"bpm\": 132.007, \"138\": 138}, {\"track\": 892, \"bpm\": 138.008, \"138\": 138}, {\"track\": 893, \"bpm\": 130.003, \"138\": 138}, {\"track\": 894, \"bpm\": 130.024, \"138\": 138}, {\"track\": 895, \"bpm\": 137.988, \"138\": 138}, {\"track\": 896, \"bpm\": 137.997, \"138\": 138}, {\"track\": 897, \"bpm\": 139.999, \"138\": 138}, {\"track\": 898, \"bpm\": 128.026, \"138\": 138}, {\"track\": 899, \"bpm\": 137.983, \"138\": 138}, {\"track\": 900, \"bpm\": 135.007, \"138\": 138}, {\"track\": 901, \"bpm\": 135.875, \"138\": 138}, {\"track\": 902, \"bpm\": 132.985, \"138\": 138}, {\"track\": 903, \"bpm\": 142.016, \"138\": 138}, {\"track\": 904, \"bpm\": 137.961, \"138\": 138}, {\"track\": 905, \"bpm\": 137.987, \"138\": 138}, {\"track\": 906, \"bpm\": 126.003, \"138\": 138}, {\"track\": 907, \"bpm\": 127.989, \"138\": 138}, {\"track\": 908, \"bpm\": 138.051, \"138\": 138}, {\"track\": 909, \"bpm\": 139.05, \"138\": 138}, {\"track\": 910, \"bpm\": 131.987, \"138\": 138}, {\"track\": 911, \"bpm\": 127.981, \"138\": 138}, {\"track\": 912, \"bpm\": 143.012, \"138\": 138}, {\"track\": 913, \"bpm\": 135.085, \"138\": 138}, {\"track\": 914, \"bpm\": 139.997, \"138\": 138}, {\"track\": 915, \"bpm\": 134.984, \"138\": 138}, {\"track\": 916, \"bpm\": 132.979, \"138\": 138}, {\"track\": 917, \"bpm\": 135.002, \"138\": 138}, {\"track\": 918, \"bpm\": 135.023, \"138\": 138}, {\"track\": 919, \"bpm\": 138.003, \"138\": 138}, {\"track\": 920, \"bpm\": 138.002, \"138\": 138}, {\"track\": 921, \"bpm\": 133.991, \"138\": 138}, {\"track\": 922, \"bpm\": 135.011, \"138\": 138}, {\"track\": 923, \"bpm\": 134.004, \"138\": 138}, {\"track\": 924, \"bpm\": 138.027, \"138\": 138}, {\"track\": 925, \"bpm\": 138.013, \"138\": 138}, {\"track\": 926, \"bpm\": 137.946, \"138\": 138}, {\"track\": 927, \"bpm\": 134.99, \"138\": 138}, {\"track\": 928, \"bpm\": 132.997, \"138\": 138}, {\"track\": 929, \"bpm\": 138.042, \"138\": 138}, {\"track\": 930, \"bpm\": 135.014, \"138\": 138}, {\"track\": 931, \"bpm\": 135.032, \"138\": 138}, {\"track\": 932, \"bpm\": 137.845, \"138\": 138}, {\"track\": 933, \"bpm\": 138.0, \"138\": 138}, {\"track\": 934, \"bpm\": 134.983, \"138\": 138}, {\"track\": 935, \"bpm\": 135.004, \"138\": 138}, {\"track\": 936, \"bpm\": 137.995, \"138\": 138}, {\"track\": 937, \"bpm\": 128.017, \"138\": 138}, {\"track\": 938, \"bpm\": 138.027, \"138\": 138}, {\"track\": 939, \"bpm\": 134.959, \"138\": 138}, {\"track\": 940, \"bpm\": 134.997, \"138\": 138}, {\"track\": 941, \"bpm\": 137.997, \"138\": 138}, {\"track\": 942, \"bpm\": 136.0, \"138\": 138}, {\"track\": 943, \"bpm\": 135.997, \"138\": 138}, {\"track\": 944, \"bpm\": 135.026, \"138\": 138}, {\"track\": 945, \"bpm\": 131.983, \"138\": 138}, {\"track\": 946, \"bpm\": 139.988, \"138\": 138}, {\"track\": 947, \"bpm\": 139.015, \"138\": 138}, {\"track\": 948, \"bpm\": 137.029, \"138\": 138}, {\"track\": 949, \"bpm\": 136.012, \"138\": 138}, {\"track\": 950, \"bpm\": 140.044, \"138\": 138}, {\"track\": 951, \"bpm\": 135.002, \"138\": 138}, {\"track\": 952, \"bpm\": 138.012, \"138\": 138}, {\"track\": 953, \"bpm\": 133.997, \"138\": 138}, {\"track\": 954, \"bpm\": 139.997, \"138\": 138}, {\"track\": 955, \"bpm\": 139.978, \"138\": 138}, {\"track\": 956, \"bpm\": 132.995, \"138\": 138}, {\"track\": 957, \"bpm\": 138.029, \"138\": 138}, {\"track\": 958, \"bpm\": 140.977, \"138\": 138}, {\"track\": 959, \"bpm\": 138.004, \"138\": 138}, {\"track\": 960, \"bpm\": 135.979, \"138\": 138}, {\"track\": 961, \"bpm\": 140.006, \"138\": 138}, {\"track\": 962, \"bpm\": 137.985, \"138\": 138}, {\"track\": 963, \"bpm\": 137.981, \"138\": 138}, {\"track\": 964, \"bpm\": 135.1, \"138\": 138}, {\"track\": 965, \"bpm\": 138.014, \"138\": 138}, {\"track\": 966, \"bpm\": 136.979, \"138\": 138}, {\"track\": 967, \"bpm\": 137.065, \"138\": 138}, {\"track\": 968, \"bpm\": 130.024, \"138\": 138}, {\"track\": 969, \"bpm\": 131.014, \"138\": 138}, {\"track\": 970, \"bpm\": 131.928, \"138\": 138}, {\"track\": 971, \"bpm\": 129.992, \"138\": 138}, {\"track\": 972, \"bpm\": 135.989, \"138\": 138}, {\"track\": 973, \"bpm\": 139.353, \"138\": 138}, {\"track\": 974, \"bpm\": 132.01, \"138\": 138}, {\"track\": 975, \"bpm\": 130.98, \"138\": 138}, {\"track\": 976, \"bpm\": 131.986, \"138\": 138}, {\"track\": 977, \"bpm\": 130.031, \"138\": 138}, {\"track\": 978, \"bpm\": 134.01, \"138\": 138}, {\"track\": 979, \"bpm\": 140.019, \"138\": 138}, {\"track\": 980, \"bpm\": 134.999, \"138\": 138}, {\"track\": 981, \"bpm\": 139.991, \"138\": 138}, {\"track\": 982, \"bpm\": 135.005, \"138\": 138}, {\"track\": 983, \"bpm\": 140.006, \"138\": 138}, {\"track\": 984, \"bpm\": 138.258, \"138\": 138}, {\"track\": 985, \"bpm\": 136.059, \"138\": 138}, {\"track\": 986, \"bpm\": 138.01, \"138\": 138}, {\"track\": 987, \"bpm\": 138.039, \"138\": 138}, {\"track\": 988, \"bpm\": 129.99, \"138\": 138}, {\"track\": 989, \"bpm\": 134.012, \"138\": 138}, {\"track\": 990, \"bpm\": 138.013, \"138\": 138}, {\"track\": 991, \"bpm\": 129.982, \"138\": 138}, {\"track\": 992, \"bpm\": 135.0, \"138\": 138}, {\"track\": 993, \"bpm\": 137.996, \"138\": 138}, {\"track\": 994, \"bpm\": 132.002, \"138\": 138}, {\"track\": 995, \"bpm\": 135.988, \"138\": 138}, {\"track\": 996, \"bpm\": 137.978, \"138\": 138}, {\"track\": 997, \"bpm\": 131.991, \"138\": 138}, {\"track\": 998, \"bpm\": 139.985, \"138\": 138}, {\"track\": 999, \"bpm\": 135.011, \"138\": 138}]}}, {\"mode\": \"vega-lite\"});\n",
       "</script>"
      ],
      "text/plain": [
       "alt.LayerChart(...)"
      ]
     },
     "execution_count": 14,
     "metadata": {},
     "output_type": "execute_result"
    }
   ],
   "source": [
    "bpm = []\n",
    "for track in top_1000_tracks:\n",
    "    tempo = sp.audio_features(track['track']['uri'])[0]['tempo']\n",
    "    if tempo < 100 or tempo > 150: # outliers, details below\n",
    "        bpm.append(138)\n",
    "    else:\n",
    "        bpm.append(sp.audio_features(track['track']['uri'])[0]['tempo'])\n",
    "\n",
    "x = np.arange(len(top_1000_tracks))   \n",
    "\n",
    "source = pd.DataFrame({\n",
    "  'track': x,\n",
    "  'bpm': np.array(bpm)\n",
    "})\n",
    "\n",
    "source['138'] = 138\n",
    "\n",
    "base = alt.Chart(source).mark_line().encode(\n",
    "    alt.X('track'),\n",
    "    alt.Y('bpm', scale=alt.Scale(domain=(100, 150))),\n",
    ").properties(\n",
    "    title=\"ASOT Top 1000 - BPM of track\"\n",
    ")\n",
    "\n",
    "rule = alt.Chart(source).mark_rule(color='red').encode(\n",
    "    y='138'\n",
    ")\n",
    "\n",
    "base + rule"
   ]
  },
  {
   "cell_type": "markdown",
   "metadata": {},
   "source": [
    "Not the best way to visualize it, how about a semi-interactive scatter plot?"
   ]
  },
  {
   "cell_type": "code",
   "execution_count": 75,
   "metadata": {},
   "outputs": [
    {
     "data": {
      "text/html": [
       "\n",
       "<div id=\"altair-viz-fcf377a96925430dbc499622ad98bec1\"></div>\n",
       "<script type=\"text/javascript\">\n",
       "  (function(spec, embedOpt){\n",
       "    let outputDiv = document.currentScript.previousElementSibling;\n",
       "    if (outputDiv.id !== \"altair-viz-fcf377a96925430dbc499622ad98bec1\") {\n",
       "      outputDiv = document.getElementById(\"altair-viz-fcf377a96925430dbc499622ad98bec1\");\n",
       "    }\n",
       "    const paths = {\n",
       "      \"vega\": \"https://cdn.jsdelivr.net/npm//vega@5?noext\",\n",
       "      \"vega-lib\": \"https://cdn.jsdelivr.net/npm//vega-lib?noext\",\n",
       "      \"vega-lite\": \"https://cdn.jsdelivr.net/npm//vega-lite@4.8.1?noext\",\n",
       "      \"vega-embed\": \"https://cdn.jsdelivr.net/npm//vega-embed@6?noext\",\n",
       "    };\n",
       "\n",
       "    function loadScript(lib) {\n",
       "      return new Promise(function(resolve, reject) {\n",
       "        var s = document.createElement('script');\n",
       "        s.src = paths[lib];\n",
       "        s.async = true;\n",
       "        s.onload = () => resolve(paths[lib]);\n",
       "        s.onerror = () => reject(`Error loading script: ${paths[lib]}`);\n",
       "        document.getElementsByTagName(\"head\")[0].appendChild(s);\n",
       "      });\n",
       "    }\n",
       "\n",
       "    function showError(err) {\n",
       "      outputDiv.innerHTML = `<div class=\"error\" style=\"color:red;\">${err}</div>`;\n",
       "      throw err;\n",
       "    }\n",
       "\n",
       "    function displayChart(vegaEmbed) {\n",
       "      vegaEmbed(outputDiv, spec, embedOpt)\n",
       "        .catch(err => showError(`Javascript Error: ${err.message}<br>This usually means there's a typo in your chart specification. See the javascript console for the full traceback.`));\n",
       "    }\n",
       "\n",
       "    if(typeof define === \"function\" && define.amd) {\n",
       "      requirejs.config({paths});\n",
       "      require([\"vega-embed\"], displayChart, err => showError(`Error loading script: ${err.message}`));\n",
       "    } else if (typeof vegaEmbed === \"function\") {\n",
       "      displayChart(vegaEmbed);\n",
       "    } else {\n",
       "      loadScript(\"vega\")\n",
       "        .then(() => loadScript(\"vega-lite\"))\n",
       "        .then(() => loadScript(\"vega-embed\"))\n",
       "        .catch(showError)\n",
       "        .then(() => displayChart(vegaEmbed));\n",
       "    }\n",
       "  })({\"config\": {\"view\": {\"continuousWidth\": 400, \"continuousHeight\": 300}}, \"data\": {\"name\": \"data-b0a397813ed4168ee6619f80de331e3c\"}, \"mark\": \"point\", \"encoding\": {\"color\": {\"type\": \"quantitative\", \"field\": \"bpm\"}, \"tooltip\": [{\"type\": \"quantitative\", \"field\": \"bpm\"}, {\"type\": \"quantitative\", \"field\": \"track\"}], \"x\": {\"type\": \"temporal\", \"field\": \"track\", \"scale\": {\"domain\": {\"selection\": \"selector031\", \"encoding\": \"x\"}}}, \"y\": {\"type\": \"quantitative\", \"field\": \"bpm\", \"scale\": {\"domain\": {\"selection\": \"selector031\", \"encoding\": \"y\"}}}}, \"height\": 400, \"selection\": {\"selector039\": {\"type\": \"interval\", \"bind\": \"scales\", \"encodings\": [\"x\", \"y\"]}}, \"title\": \"BPM of ASOT Top 1000 -- detail view\", \"width\": 600, \"$schema\": \"https://vega.github.io/schema/vega-lite/v4.8.1.json\", \"datasets\": {\"data-b0a397813ed4168ee6619f80de331e3c\": [{\"track\": 0, \"bpm\": 135.981}, {\"track\": 1, \"bpm\": 137.993}, {\"track\": 2, \"bpm\": 139.978}, {\"track\": 3, \"bpm\": 140.016}, {\"track\": 4, \"bpm\": 126.997}, {\"track\": 5, \"bpm\": 127.996}, {\"track\": 6, \"bpm\": 132.003}, {\"track\": 7, \"bpm\": 139.994}, {\"track\": 8, \"bpm\": 137.999}, {\"track\": 9, \"bpm\": 136.002}, {\"track\": 10, \"bpm\": 131.992}, {\"track\": 11, \"bpm\": 135.843}, {\"track\": 12, \"bpm\": 130.004}, {\"track\": 13, \"bpm\": 134.005}, {\"track\": 14, \"bpm\": 140.01}, {\"track\": 15, \"bpm\": 140.003}, {\"track\": 16, \"bpm\": 129.987}, {\"track\": 17, \"bpm\": 139.7}, {\"track\": 18, \"bpm\": 127.011}, {\"track\": 19, \"bpm\": 137.659}, {\"track\": 20, \"bpm\": 127.99}, {\"track\": 21, \"bpm\": 140.005}, {\"track\": 22, \"bpm\": 131.987}, {\"track\": 23, \"bpm\": 131.977}, {\"track\": 24, \"bpm\": 138.003}, {\"track\": 25, \"bpm\": 132.0}, {\"track\": 26, \"bpm\": 139.985}, {\"track\": 27, \"bpm\": 133.993}, {\"track\": 28, \"bpm\": 136.029}, {\"track\": 29, \"bpm\": 129.982}, {\"track\": 30, \"bpm\": 127.963}, {\"track\": 31, \"bpm\": 134.986}, {\"track\": 32, \"bpm\": 137.982}, {\"track\": 33, \"bpm\": 139.992}, {\"track\": 34, \"bpm\": 133.98}, {\"track\": 35, \"bpm\": 132.009}, {\"track\": 36, \"bpm\": 128.002}, {\"track\": 37, \"bpm\": 128.013}, {\"track\": 38, \"bpm\": 136.987}, {\"track\": 39, \"bpm\": 137.989}, {\"track\": 40, \"bpm\": 135.001}, {\"track\": 41, \"bpm\": 135.99}, {\"track\": 42, \"bpm\": 133.965}, {\"track\": 43, \"bpm\": 138.009}, {\"track\": 44, \"bpm\": 139.973}, {\"track\": 45, \"bpm\": 129.942}, {\"track\": 46, \"bpm\": 133.998}, {\"track\": 47, \"bpm\": 128.012}, {\"track\": 48, \"bpm\": 130.008}, {\"track\": 49, \"bpm\": 103.512}, {\"track\": 50, \"bpm\": 124.998}, {\"track\": 51, \"bpm\": 126.983}, {\"track\": 52, \"bpm\": 139.994}, {\"track\": 53, \"bpm\": 133.997}, {\"track\": 54, \"bpm\": 135.978}, {\"track\": 55, \"bpm\": 132.026}, {\"track\": 56, \"bpm\": 136.987}, {\"track\": 57, \"bpm\": 130.017}, {\"track\": 58, \"bpm\": 128.002}, {\"track\": 59, \"bpm\": 132.0}, {\"track\": 60, \"bpm\": 138.133}, {\"track\": 61, \"bpm\": 128.022}, {\"track\": 62, \"bpm\": 130.015}, {\"track\": 63, \"bpm\": 132.0}, {\"track\": 64, \"bpm\": 140.016}, {\"track\": 65, \"bpm\": 127.997}, {\"track\": 66, \"bpm\": 137.994}, {\"track\": 67, \"bpm\": 135.991}, {\"track\": 68, \"bpm\": 138.013}, {\"track\": 69, \"bpm\": 127.99}, {\"track\": 70, \"bpm\": 134.012}, {\"track\": 71, \"bpm\": 136.999}, {\"track\": 72, \"bpm\": 138.005}, {\"track\": 73, \"bpm\": 137.998}, {\"track\": 74, \"bpm\": 137.979}, {\"track\": 75, \"bpm\": 140.002}, {\"track\": 76, \"bpm\": 128.02}, {\"track\": 77, \"bpm\": 139.989}, {\"track\": 78, \"bpm\": 130.015}, {\"track\": 79, \"bpm\": 126.026}, {\"track\": 80, \"bpm\": 130.016}, {\"track\": 81, \"bpm\": 128.025}, {\"track\": 82, \"bpm\": 128.006}, {\"track\": 83, \"bpm\": 103.485}, {\"track\": 84, \"bpm\": 131.987}, {\"track\": 85, \"bpm\": 126.011}, {\"track\": 86, \"bpm\": 133.98}, {\"track\": 87, \"bpm\": 127.998}, {\"track\": 88, \"bpm\": 130.019}, {\"track\": 89, \"bpm\": 137.99}, {\"track\": 90, \"bpm\": 131.989}, {\"track\": 91, \"bpm\": 138.005}, {\"track\": 92, \"bpm\": 132.009}, {\"track\": 93, \"bpm\": 130.972}, {\"track\": 94, \"bpm\": 131.97}, {\"track\": 95, \"bpm\": 138.012}, {\"track\": 96, \"bpm\": 140.02}, {\"track\": 97, \"bpm\": 135.022}, {\"track\": 98, \"bpm\": 129.977}, {\"track\": 99, \"bpm\": 138.011}, {\"track\": 100, \"bpm\": 132.914}, {\"track\": 101, \"bpm\": 127.991}, {\"track\": 102, \"bpm\": 136.999}, {\"track\": 103, \"bpm\": 138.018}, {\"track\": 104, \"bpm\": 138.982}, {\"track\": 105, \"bpm\": 128.027}, {\"track\": 106, \"bpm\": 135.004}, {\"track\": 107, \"bpm\": 128.005}, {\"track\": 108, \"bpm\": 128.028}, {\"track\": 109, \"bpm\": 125.949}, {\"track\": 110, \"bpm\": 137.983}, {\"track\": 111, \"bpm\": 138.011}, {\"track\": 112, \"bpm\": 134.992}, {\"track\": 113, \"bpm\": 135.992}, {\"track\": 114, \"bpm\": 128.995}, {\"track\": 115, \"bpm\": 128.003}, {\"track\": 116, \"bpm\": 125.025}, {\"track\": 117, \"bpm\": 127.991}, {\"track\": 118, \"bpm\": 135.999}, {\"track\": 119, \"bpm\": 139.977}, {\"track\": 120, \"bpm\": 139.998}, {\"track\": 121, \"bpm\": 131.99}, {\"track\": 122, \"bpm\": 136.984}, {\"track\": 123, \"bpm\": 127.992}, {\"track\": 124, \"bpm\": 131.979}, {\"track\": 125, \"bpm\": 138.007}, {\"track\": 126, \"bpm\": 137.981}, {\"track\": 127, \"bpm\": 138.006}, {\"track\": 128, \"bpm\": 138.005}, {\"track\": 129, \"bpm\": 138.009}, {\"track\": 130, \"bpm\": 134.997}, {\"track\": 131, \"bpm\": 127.995}, {\"track\": 132, \"bpm\": 135.003}, {\"track\": 133, \"bpm\": 133.983}, {\"track\": 134, \"bpm\": 127.977}, {\"track\": 135, \"bpm\": 130.011}, {\"track\": 136, \"bpm\": 138.022}, {\"track\": 137, \"bpm\": 127.988}, {\"track\": 138, \"bpm\": 132.031}, {\"track\": 139, \"bpm\": 137.998}, {\"track\": 140, \"bpm\": 133.991}, {\"track\": 141, \"bpm\": 130.002}, {\"track\": 142, \"bpm\": 134.999}, {\"track\": 143, \"bpm\": 129.984}, {\"track\": 144, \"bpm\": 138.017}, {\"track\": 145, \"bpm\": 139.981}, {\"track\": 146, \"bpm\": 138.064}, {\"track\": 147, \"bpm\": 123.997}, {\"track\": 148, \"bpm\": 139.994}, {\"track\": 149, \"bpm\": 133.962}, {\"track\": 150, \"bpm\": 138.007}, {\"track\": 151, \"bpm\": 137.507}, {\"track\": 152, \"bpm\": 137.984}, {\"track\": 153, \"bpm\": 133.002}, {\"track\": 154, \"bpm\": 132.003}, {\"track\": 155, \"bpm\": 139.992}, {\"track\": 156, \"bpm\": 138.017}, {\"track\": 157, \"bpm\": 134.021}, {\"track\": 158, \"bpm\": 130.021}, {\"track\": 159, \"bpm\": 138.029}, {\"track\": 160, \"bpm\": 128.048}, {\"track\": 161, \"bpm\": 129.988}, {\"track\": 162, \"bpm\": 138.998}, {\"track\": 163, \"bpm\": 138.004}, {\"track\": 164, \"bpm\": 137.985}, {\"track\": 165, \"bpm\": 138.014}, {\"track\": 166, \"bpm\": 133.998}, {\"track\": 167, \"bpm\": 127.999}, {\"track\": 168, \"bpm\": 136.0}, {\"track\": 169, \"bpm\": 131.988}, {\"track\": 170, \"bpm\": 126.011}, {\"track\": 171, \"bpm\": 138.101}, {\"track\": 172, \"bpm\": 137.969}, {\"track\": 173, \"bpm\": 139.005}, {\"track\": 174, \"bpm\": 137.012}, {\"track\": 175, \"bpm\": 131.979}, {\"track\": 176, \"bpm\": 131.999}, {\"track\": 177, \"bpm\": 135.996}, {\"track\": 178, \"bpm\": 136.062}, {\"track\": 179, \"bpm\": 138.012}, {\"track\": 180, \"bpm\": 127.015}, {\"track\": 181, \"bpm\": 133.997}, {\"track\": 182, \"bpm\": 129.989}, {\"track\": 183, \"bpm\": 135.97}, {\"track\": 184, \"bpm\": 134.997}, {\"track\": 185, \"bpm\": 139.993}, {\"track\": 186, \"bpm\": 138.013}, {\"track\": 187, \"bpm\": 137.986}, {\"track\": 188, \"bpm\": 138.002}, {\"track\": 189, \"bpm\": 128.011}, {\"track\": 190, \"bpm\": 138.008}, {\"track\": 191, \"bpm\": 130.024}, {\"track\": 192, \"bpm\": 136.008}, {\"track\": 193, \"bpm\": 134.992}, {\"track\": 194, \"bpm\": 132.971}, {\"track\": 195, \"bpm\": 127.95}, {\"track\": 196, \"bpm\": 130.006}, {\"track\": 197, \"bpm\": 130.009}, {\"track\": 198, \"bpm\": 125.972}, {\"track\": 199, \"bpm\": 139.977}, {\"track\": 200, \"bpm\": 131.984}, {\"track\": 201, \"bpm\": 134.995}, {\"track\": 202, \"bpm\": 139.998}, {\"track\": 203, \"bpm\": 140.008}, {\"track\": 204, \"bpm\": 131.982}, {\"track\": 205, \"bpm\": 134.021}, {\"track\": 206, \"bpm\": 130.042}, {\"track\": 207, \"bpm\": 139.998}, {\"track\": 208, \"bpm\": 132.053}, {\"track\": 209, \"bpm\": 131.996}, {\"track\": 210, \"bpm\": 140.904}, {\"track\": 211, \"bpm\": 138.018}, {\"track\": 212, \"bpm\": 138.015}, {\"track\": 213, \"bpm\": 137.978}, {\"track\": 214, \"bpm\": 131.981}, {\"track\": 215, \"bpm\": 133.996}, {\"track\": 216, \"bpm\": 129.967}, {\"track\": 217, \"bpm\": 127.986}, {\"track\": 218, \"bpm\": 130.008}, {\"track\": 219, \"bpm\": 132.004}, {\"track\": 220, \"bpm\": 135.562}, {\"track\": 221, \"bpm\": 138.016}, {\"track\": 222, \"bpm\": 130.008}, {\"track\": 223, \"bpm\": 136.99}, {\"track\": 224, \"bpm\": 131.982}, {\"track\": 225, \"bpm\": 134.995}, {\"track\": 226, \"bpm\": 133.997}, {\"track\": 227, \"bpm\": 130.001}, {\"track\": 228, \"bpm\": 138.004}, {\"track\": 229, \"bpm\": 137.988}, {\"track\": 230, \"bpm\": 130.022}, {\"track\": 231, \"bpm\": 134.984}, {\"track\": 232, \"bpm\": 134.996}, {\"track\": 233, \"bpm\": 137.991}, {\"track\": 234, \"bpm\": 133.985}, {\"track\": 235, \"bpm\": 133.992}, {\"track\": 236, \"bpm\": 135.98}, {\"track\": 237, \"bpm\": 137.999}, {\"track\": 238, \"bpm\": 137.984}, {\"track\": 239, \"bpm\": 140.011}, {\"track\": 240, \"bpm\": 130.003}, {\"track\": 241, \"bpm\": 132.009}, {\"track\": 242, \"bpm\": 138.018}, {\"track\": 243, \"bpm\": 137.994}, {\"track\": 244, \"bpm\": 140.003}, {\"track\": 245, \"bpm\": 140.003}, {\"track\": 246, \"bpm\": 132.003}, {\"track\": 247, \"bpm\": 128.065}, {\"track\": 248, \"bpm\": 136.004}, {\"track\": 249, \"bpm\": 130.001}, {\"track\": 250, \"bpm\": 134.994}, {\"track\": 251, \"bpm\": 136.014}, {\"track\": 252, \"bpm\": 138.005}, {\"track\": 253, \"bpm\": 138.011}, {\"track\": 254, \"bpm\": 135.997}, {\"track\": 255, \"bpm\": 140.042}, {\"track\": 256, \"bpm\": 137.999}, {\"track\": 257, \"bpm\": 138.009}, {\"track\": 258, \"bpm\": 132.003}, {\"track\": 259, \"bpm\": 127.995}, {\"track\": 260, \"bpm\": 129.944}, {\"track\": 261, \"bpm\": 137.98}, {\"track\": 262, \"bpm\": 127.975}, {\"track\": 263, \"bpm\": 128.006}, {\"track\": 264, \"bpm\": 127.976}, {\"track\": 265, \"bpm\": 135.007}, {\"track\": 266, \"bpm\": 132.022}, {\"track\": 267, \"bpm\": 131.968}, {\"track\": 268, \"bpm\": 138.005}, {\"track\": 269, \"bpm\": 138.003}, {\"track\": 270, \"bpm\": 127.98}, {\"track\": 271, \"bpm\": 130.52}, {\"track\": 272, \"bpm\": 139.971}, {\"track\": 273, \"bpm\": 132.043}, {\"track\": 274, \"bpm\": 131.001}, {\"track\": 275, \"bpm\": 136.977}, {\"track\": 276, \"bpm\": 139.986}, {\"track\": 277, \"bpm\": 131.009}, {\"track\": 278, \"bpm\": 134.017}, {\"track\": 279, \"bpm\": 136.987}, {\"track\": 280, \"bpm\": 137.995}, {\"track\": 281, \"bpm\": 128.003}, {\"track\": 282, \"bpm\": 139.98}, {\"track\": 283, \"bpm\": 134.985}, {\"track\": 284, \"bpm\": 138.0}, {\"track\": 285, \"bpm\": 136.006}, {\"track\": 286, \"bpm\": 139.997}, {\"track\": 287, \"bpm\": 132.023}, {\"track\": 288, \"bpm\": 128.015}, {\"track\": 289, \"bpm\": 123.993}, {\"track\": 290, \"bpm\": 138.016}, {\"track\": 291, \"bpm\": 137.056}, {\"track\": 292, \"bpm\": 127.994}, {\"track\": 293, \"bpm\": 127.985}, {\"track\": 294, \"bpm\": 139.983}, {\"track\": 295, \"bpm\": 137.974}, {\"track\": 296, \"bpm\": 135.986}, {\"track\": 297, \"bpm\": 130.009}, {\"track\": 298, \"bpm\": 137.998}, {\"track\": 299, \"bpm\": 130.019}, {\"track\": 300, \"bpm\": 138.032}, {\"track\": 301, \"bpm\": 134.99}, {\"track\": 302, \"bpm\": 135.009}, {\"track\": 303, \"bpm\": 133.981}, {\"track\": 304, \"bpm\": 138.008}, {\"track\": 305, \"bpm\": 137.985}, {\"track\": 306, \"bpm\": 128.023}, {\"track\": 307, \"bpm\": 132.009}, {\"track\": 308, \"bpm\": 135.997}, {\"track\": 309, \"bpm\": 141.85}, {\"track\": 310, \"bpm\": 138.003}, {\"track\": 311, \"bpm\": 139.988}, {\"track\": 312, \"bpm\": 133.003}, {\"track\": 313, \"bpm\": 134.995}, {\"track\": 314, \"bpm\": 134.999}, {\"track\": 315, \"bpm\": 135.964}, {\"track\": 316, \"bpm\": 137.995}, {\"track\": 317, \"bpm\": 136.015}, {\"track\": 318, \"bpm\": 138.011}, {\"track\": 319, \"bpm\": 133.996}, {\"track\": 320, \"bpm\": 138.041}, {\"track\": 321, \"bpm\": 139.977}, {\"track\": 322, \"bpm\": 132.034}, {\"track\": 323, \"bpm\": 130.041}, {\"track\": 324, \"bpm\": 129.973}, {\"track\": 325, \"bpm\": 132.025}, {\"track\": 326, \"bpm\": 136.015}, {\"track\": 327, \"bpm\": 126.014}, {\"track\": 328, \"bpm\": 139.972}, {\"track\": 329, \"bpm\": 135.986}, {\"track\": 330, \"bpm\": 132.016}, {\"track\": 331, \"bpm\": 140.009}, {\"track\": 332, \"bpm\": 132.011}, {\"track\": 333, \"bpm\": 133.985}, {\"track\": 334, \"bpm\": 135.006}, {\"track\": 335, \"bpm\": 136.99}, {\"track\": 336, \"bpm\": 139.023}, {\"track\": 337, \"bpm\": 128.02}, {\"track\": 338, \"bpm\": 139.995}, {\"track\": 339, \"bpm\": 128.0}, {\"track\": 340, \"bpm\": 138.015}, {\"track\": 341, \"bpm\": 131.968}, {\"track\": 342, \"bpm\": 132.0}, {\"track\": 343, \"bpm\": 133.995}, {\"track\": 344, \"bpm\": 136.0}, {\"track\": 345, \"bpm\": 128.006}, {\"track\": 346, \"bpm\": 144.988}, {\"track\": 347, \"bpm\": 131.989}, {\"track\": 348, \"bpm\": 131.929}, {\"track\": 349, \"bpm\": 129.999}, {\"track\": 350, \"bpm\": 121.983}, {\"track\": 351, \"bpm\": 132.003}, {\"track\": 352, \"bpm\": 130.001}, {\"track\": 353, \"bpm\": 134.988}, {\"track\": 354, \"bpm\": 127.981}, {\"track\": 355, \"bpm\": 132.003}, {\"track\": 356, \"bpm\": 130.001}, {\"track\": 357, \"bpm\": 137.994}, {\"track\": 358, \"bpm\": 138.018}, {\"track\": 359, \"bpm\": 138.003}, {\"track\": 360, \"bpm\": 135.997}, {\"track\": 361, \"bpm\": 134.989}, {\"track\": 362, \"bpm\": 135.038}, {\"track\": 363, \"bpm\": 133.99}, {\"track\": 364, \"bpm\": 137.901}, {\"track\": 365, \"bpm\": 138.0}, {\"track\": 366, \"bpm\": 128.02}, {\"track\": 367, \"bpm\": 137.999}, {\"track\": 368, \"bpm\": 135.995}, {\"track\": 369, \"bpm\": 134.007}, {\"track\": 370, \"bpm\": 134.002}, {\"track\": 371, \"bpm\": 138.003}, {\"track\": 372, \"bpm\": 127.983}, {\"track\": 373, \"bpm\": 137.996}, {\"track\": 374, \"bpm\": 129.997}, {\"track\": 375, \"bpm\": 127.002}, {\"track\": 376, \"bpm\": 131.989}, {\"track\": 377, \"bpm\": 127.979}, {\"track\": 378, \"bpm\": 135.987}, {\"track\": 379, \"bpm\": 129.979}, {\"track\": 380, \"bpm\": 133.032}, {\"track\": 381, \"bpm\": 138.006}, {\"track\": 382, \"bpm\": 134.994}, {\"track\": 383, \"bpm\": 135.0}, {\"track\": 384, \"bpm\": 135.246}, {\"track\": 385, \"bpm\": 131.985}, {\"track\": 386, \"bpm\": 134.999}, {\"track\": 387, \"bpm\": 138.0}, {\"track\": 388, \"bpm\": 123.998}, {\"track\": 389, \"bpm\": 131.993}, {\"track\": 390, \"bpm\": 130.009}, {\"track\": 391, \"bpm\": 131.995}, {\"track\": 392, \"bpm\": 139.974}, {\"track\": 393, \"bpm\": 126.013}, {\"track\": 394, \"bpm\": 127.997}, {\"track\": 395, \"bpm\": 138.034}, {\"track\": 396, \"bpm\": 132.006}, {\"track\": 397, \"bpm\": 127.995}, {\"track\": 398, \"bpm\": 131.994}, {\"track\": 399, \"bpm\": 127.981}, {\"track\": 400, \"bpm\": 125.984}, {\"track\": 401, \"bpm\": 137.994}, {\"track\": 402, \"bpm\": 133.993}, {\"track\": 403, \"bpm\": 135.006}, {\"track\": 404, \"bpm\": 138.998}, {\"track\": 405, \"bpm\": 135.999}, {\"track\": 406, \"bpm\": 137.996}, {\"track\": 407, \"bpm\": 129.972}, {\"track\": 408, \"bpm\": 140.033}, {\"track\": 409, \"bpm\": 135.969}, {\"track\": 410, \"bpm\": 130.005}, {\"track\": 411, \"bpm\": 138.007}, {\"track\": 412, \"bpm\": 126.017}, {\"track\": 413, \"bpm\": 130.001}, {\"track\": 414, \"bpm\": 129.96}, {\"track\": 415, \"bpm\": 136.027}, {\"track\": 416, \"bpm\": 137.997}, {\"track\": 417, \"bpm\": 138.017}, {\"track\": 418, \"bpm\": 139.992}, {\"track\": 419, \"bpm\": 139.988}, {\"track\": 420, \"bpm\": 126.018}, {\"track\": 421, \"bpm\": 138.007}, {\"track\": 422, \"bpm\": 139.991}, {\"track\": 423, \"bpm\": 128.005}, {\"track\": 424, \"bpm\": 135.921}, {\"track\": 425, \"bpm\": 139.997}, {\"track\": 426, \"bpm\": 132.977}, {\"track\": 427, \"bpm\": 129.982}, {\"track\": 428, \"bpm\": 137.996}, {\"track\": 429, \"bpm\": 138.033}, {\"track\": 430, \"bpm\": 127.978}, {\"track\": 431, \"bpm\": 128.011}, {\"track\": 432, \"bpm\": 128.03}, {\"track\": 433, \"bpm\": 138.002}, {\"track\": 434, \"bpm\": 135.031}, {\"track\": 435, \"bpm\": 129.008}, {\"track\": 436, \"bpm\": 128.013}, {\"track\": 437, \"bpm\": 136.964}, {\"track\": 438, \"bpm\": 138.002}, {\"track\": 439, \"bpm\": 132.005}, {\"track\": 440, \"bpm\": 134.008}, {\"track\": 441, \"bpm\": 129.982}, {\"track\": 442, \"bpm\": 127.992}, {\"track\": 443, \"bpm\": 129.991}, {\"track\": 444, \"bpm\": 135.988}, {\"track\": 445, \"bpm\": 134.999}, {\"track\": 446, \"bpm\": 132.007}, {\"track\": 447, \"bpm\": 138.017}, {\"track\": 448, \"bpm\": 132.015}, {\"track\": 449, \"bpm\": 130.029}, {\"track\": 450, \"bpm\": 135.003}, {\"track\": 451, \"bpm\": 139.996}, {\"track\": 452, \"bpm\": 138.035}, {\"track\": 453, \"bpm\": 131.977}, {\"track\": 454, \"bpm\": 133.256}, {\"track\": 455, \"bpm\": 125.976}, {\"track\": 456, \"bpm\": 128.028}, {\"track\": 457, \"bpm\": 138.985}, {\"track\": 458, \"bpm\": 138.015}, {\"track\": 459, \"bpm\": 132.008}, {\"track\": 460, \"bpm\": 132.012}, {\"track\": 461, \"bpm\": 128.007}, {\"track\": 462, \"bpm\": 137.991}, {\"track\": 463, \"bpm\": 139.989}, {\"track\": 464, \"bpm\": 127.991}, {\"track\": 465, \"bpm\": 138.024}, {\"track\": 466, \"bpm\": 138.955}, {\"track\": 467, \"bpm\": 130.025}, {\"track\": 468, \"bpm\": 138.0}, {\"track\": 469, \"bpm\": 138.0}, {\"track\": 470, \"bpm\": 133.956}, {\"track\": 471, \"bpm\": 131.993}, {\"track\": 472, \"bpm\": 129.975}, {\"track\": 473, \"bpm\": 129.994}, {\"track\": 474, \"bpm\": 132.002}, {\"track\": 475, \"bpm\": 140.002}, {\"track\": 476, \"bpm\": 134.992}, {\"track\": 477, \"bpm\": 138.005}, {\"track\": 478, \"bpm\": 134.0}, {\"track\": 479, \"bpm\": 140.006}, {\"track\": 480, \"bpm\": 137.997}, {\"track\": 481, \"bpm\": 130.015}, {\"track\": 482, \"bpm\": 138.021}, {\"track\": 483, \"bpm\": 132.003}, {\"track\": 484, \"bpm\": 140.299}, {\"track\": 485, \"bpm\": 131.986}, {\"track\": 486, \"bpm\": 131.992}, {\"track\": 487, \"bpm\": 139.99}, {\"track\": 488, \"bpm\": 128.004}, {\"track\": 489, \"bpm\": 125.997}, {\"track\": 490, \"bpm\": 135.99}, {\"track\": 491, \"bpm\": 126.991}, {\"track\": 492, \"bpm\": 135.008}, {\"track\": 493, \"bpm\": 138.017}, {\"track\": 494, \"bpm\": 137.99}, {\"track\": 495, \"bpm\": 137.979}, {\"track\": 496, \"bpm\": 128.036}, {\"track\": 497, \"bpm\": 139.987}, {\"track\": 498, \"bpm\": 135.001}, {\"track\": 499, \"bpm\": 139.854}, {\"track\": 500, \"bpm\": 128.009}, {\"track\": 501, \"bpm\": 133.33}, {\"track\": 502, \"bpm\": 132.176}, {\"track\": 503, \"bpm\": 125.979}, {\"track\": 504, \"bpm\": 133.958}, {\"track\": 505, \"bpm\": 140.052}, {\"track\": 506, \"bpm\": 135.087}, {\"track\": 507, \"bpm\": 132.995}, {\"track\": 508, \"bpm\": 127.996}, {\"track\": 509, \"bpm\": 138.0}, {\"track\": 510, \"bpm\": 130.025}, {\"track\": 511, \"bpm\": 127.988}, {\"track\": 512, \"bpm\": 136.998}, {\"track\": 513, \"bpm\": 138.002}, {\"track\": 514, \"bpm\": 132.022}, {\"track\": 515, \"bpm\": 138.014}, {\"track\": 516, \"bpm\": 127.977}, {\"track\": 517, \"bpm\": 130.02}, {\"track\": 518, \"bpm\": 138.0}, {\"track\": 519, \"bpm\": 139.994}, {\"track\": 520, \"bpm\": 135.468}, {\"track\": 521, \"bpm\": 131.986}, {\"track\": 522, \"bpm\": 138.008}, {\"track\": 523, \"bpm\": 130.023}, {\"track\": 524, \"bpm\": 139.99}, {\"track\": 525, \"bpm\": 134.002}, {\"track\": 526, \"bpm\": 128.01}, {\"track\": 527, \"bpm\": 137.996}, {\"track\": 528, \"bpm\": 138.006}, {\"track\": 529, \"bpm\": 128.011}, {\"track\": 530, \"bpm\": 129.974}, {\"track\": 531, \"bpm\": 133.992}, {\"track\": 532, \"bpm\": 129.978}, {\"track\": 533, \"bpm\": 121.997}, {\"track\": 534, \"bpm\": 129.99}, {\"track\": 535, \"bpm\": 139.28}, {\"track\": 536, \"bpm\": 131.996}, {\"track\": 537, \"bpm\": 131.988}, {\"track\": 538, \"bpm\": 130.008}, {\"track\": 539, \"bpm\": 128.016}, {\"track\": 540, \"bpm\": 139.998}, {\"track\": 541, \"bpm\": 128.01}, {\"track\": 542, \"bpm\": 134.988}, {\"track\": 543, \"bpm\": 139.989}, {\"track\": 544, \"bpm\": 131.983}, {\"track\": 545, \"bpm\": 136.009}, {\"track\": 546, \"bpm\": 127.974}, {\"track\": 547, \"bpm\": 136.007}, {\"track\": 548, \"bpm\": 132.995}, {\"track\": 549, \"bpm\": 136.977}, {\"track\": 550, \"bpm\": 138.006}, {\"track\": 551, \"bpm\": 135.023}, {\"track\": 552, \"bpm\": 140.004}, {\"track\": 553, \"bpm\": 130.007}, {\"track\": 554, \"bpm\": 132.01}, {\"track\": 555, \"bpm\": 138.008}, {\"track\": 556, \"bpm\": 138.029}, {\"track\": 557, \"bpm\": 128.004}, {\"track\": 558, \"bpm\": 131.981}, {\"track\": 559, \"bpm\": 138.011}, {\"track\": 560, \"bpm\": 140.002}, {\"track\": 561, \"bpm\": 140.02}, {\"track\": 562, \"bpm\": 132.005}, {\"track\": 563, \"bpm\": 129.995}, {\"track\": 564, \"bpm\": 126.986}, {\"track\": 565, \"bpm\": 131.995}, {\"track\": 566, \"bpm\": 132.012}, {\"track\": 567, \"bpm\": 139.982}, {\"track\": 568, \"bpm\": 142.002}, {\"track\": 569, \"bpm\": 128.025}, {\"track\": 570, \"bpm\": 131.497}, {\"track\": 571, \"bpm\": 134.009}, {\"track\": 572, \"bpm\": 127.0}, {\"track\": 573, \"bpm\": 137.831}, {\"track\": 574, \"bpm\": 140.005}, {\"track\": 575, \"bpm\": 137.974}, {\"track\": 576, \"bpm\": 130.003}, {\"track\": 577, \"bpm\": 139.965}, {\"track\": 578, \"bpm\": 132.993}, {\"track\": 579, \"bpm\": 132.014}, {\"track\": 580, \"bpm\": 127.964}, {\"track\": 581, \"bpm\": 127.993}, {\"track\": 582, \"bpm\": 130.007}, {\"track\": 583, \"bpm\": 125.003}, {\"track\": 584, \"bpm\": 137.985}, {\"track\": 585, \"bpm\": 129.995}, {\"track\": 586, \"bpm\": 127.003}, {\"track\": 587, \"bpm\": 137.022}, {\"track\": 588, \"bpm\": 137.956}, {\"track\": 589, \"bpm\": 131.997}, {\"track\": 590, \"bpm\": 133.981}, {\"track\": 591, \"bpm\": 139.993}, {\"track\": 592, \"bpm\": 126.003}, {\"track\": 593, \"bpm\": 137.988}, {\"track\": 594, \"bpm\": 127.953}, {\"track\": 595, \"bpm\": 127.995}, {\"track\": 596, \"bpm\": 128.0}, {\"track\": 597, \"bpm\": 136.005}, {\"track\": 598, \"bpm\": 133.977}, {\"track\": 599, \"bpm\": 137.978}, {\"track\": 600, \"bpm\": 131.993}, {\"track\": 601, \"bpm\": 131.994}, {\"track\": 602, \"bpm\": 133.987}, {\"track\": 603, \"bpm\": 138.01}, {\"track\": 604, \"bpm\": 128.0}, {\"track\": 605, \"bpm\": 131.964}, {\"track\": 606, \"bpm\": 135.018}, {\"track\": 607, \"bpm\": 129.967}, {\"track\": 608, \"bpm\": 138.018}, {\"track\": 609, \"bpm\": 138.001}, {\"track\": 610, \"bpm\": 139.969}, {\"track\": 611, \"bpm\": 137.977}, {\"track\": 612, \"bpm\": 137.99}, {\"track\": 613, \"bpm\": 131.993}, {\"track\": 614, \"bpm\": 134.98}, {\"track\": 615, \"bpm\": 139.982}, {\"track\": 616, \"bpm\": 132.006}, {\"track\": 617, \"bpm\": 129.987}, {\"track\": 618, \"bpm\": 127.987}, {\"track\": 619, \"bpm\": 138.014}, {\"track\": 620, \"bpm\": 137.997}, {\"track\": 621, \"bpm\": 127.962}, {\"track\": 622, \"bpm\": 134.007}, {\"track\": 623, \"bpm\": 138.001}, {\"track\": 624, \"bpm\": 134.99}, {\"track\": 625, \"bpm\": 134.982}, {\"track\": 626, \"bpm\": 139.996}, {\"track\": 627, \"bpm\": 139.982}, {\"track\": 628, \"bpm\": 133.919}, {\"track\": 629, \"bpm\": 137.997}, {\"track\": 630, \"bpm\": 138.002}, {\"track\": 631, \"bpm\": 141.981}, {\"track\": 632, \"bpm\": 140.017}, {\"track\": 633, \"bpm\": 128.056}, {\"track\": 634, \"bpm\": 138.007}, {\"track\": 635, \"bpm\": 127.971}, {\"track\": 636, \"bpm\": 129.965}, {\"track\": 637, \"bpm\": 131.993}, {\"track\": 638, \"bpm\": 139.984}, {\"track\": 639, \"bpm\": 136.97}, {\"track\": 640, \"bpm\": 127.981}, {\"track\": 641, \"bpm\": 135.966}, {\"track\": 642, \"bpm\": 133.981}, {\"track\": 643, \"bpm\": 127.886}, {\"track\": 644, \"bpm\": 132.002}, {\"track\": 645, \"bpm\": 133.992}, {\"track\": 646, \"bpm\": 138.005}, {\"track\": 647, \"bpm\": 135.99}, {\"track\": 648, \"bpm\": 137.986}, {\"track\": 649, \"bpm\": 136.007}, {\"track\": 650, \"bpm\": 137.994}, {\"track\": 651, \"bpm\": 135.001}, {\"track\": 652, \"bpm\": 127.993}, {\"track\": 653, \"bpm\": 131.855}, {\"track\": 654, \"bpm\": 131.999}, {\"track\": 655, \"bpm\": 130.997}, {\"track\": 656, \"bpm\": 136.024}, {\"track\": 657, \"bpm\": 137.0}, {\"track\": 658, \"bpm\": 127.976}, {\"track\": 659, \"bpm\": 127.988}, {\"track\": 660, \"bpm\": 130.007}, {\"track\": 661, \"bpm\": 136.989}, {\"track\": 662, \"bpm\": 128.044}, {\"track\": 663, \"bpm\": 129.997}, {\"track\": 664, \"bpm\": 138.02}, {\"track\": 665, \"bpm\": 139.98}, {\"track\": 666, \"bpm\": 133.978}, {\"track\": 667, \"bpm\": 127.99}, {\"track\": 668, \"bpm\": 131.99}, {\"track\": 669, \"bpm\": 139.986}, {\"track\": 670, \"bpm\": 130.987}, {\"track\": 671, \"bpm\": 130.015}, {\"track\": 672, \"bpm\": 135.018}, {\"track\": 673, \"bpm\": 133.985}, {\"track\": 674, \"bpm\": 132.008}, {\"track\": 675, \"bpm\": 138.015}, {\"track\": 676, \"bpm\": 135.999}, {\"track\": 677, \"bpm\": 138.011}, {\"track\": 678, \"bpm\": 139.023}, {\"track\": 679, \"bpm\": 137.992}, {\"track\": 680, \"bpm\": 137.997}, {\"track\": 681, \"bpm\": 136.001}, {\"track\": 682, \"bpm\": 131.995}, {\"track\": 683, \"bpm\": 130.018}, {\"track\": 684, \"bpm\": 133.977}, {\"track\": 685, \"bpm\": 135.983}, {\"track\": 686, \"bpm\": 132.994}, {\"track\": 687, \"bpm\": 137.982}, {\"track\": 688, \"bpm\": 140.004}, {\"track\": 689, \"bpm\": 134.007}, {\"track\": 690, \"bpm\": 132.009}, {\"track\": 691, \"bpm\": 135.02}, {\"track\": 692, \"bpm\": 125.984}, {\"track\": 693, \"bpm\": 133.986}, {\"track\": 694, \"bpm\": 128.006}, {\"track\": 695, \"bpm\": 132.01}, {\"track\": 696, \"bpm\": 129.995}, {\"track\": 697, \"bpm\": 124.008}, {\"track\": 698, \"bpm\": 131.001}, {\"track\": 699, \"bpm\": 138.015}, {\"track\": 700, \"bpm\": 135.99}, {\"track\": 701, \"bpm\": 129.968}, {\"track\": 702, \"bpm\": 139.99}, {\"track\": 703, \"bpm\": 133.982}, {\"track\": 704, \"bpm\": 137.994}, {\"track\": 705, \"bpm\": 138.016}, {\"track\": 706, \"bpm\": 128.007}, {\"track\": 707, \"bpm\": 134.036}, {\"track\": 708, \"bpm\": 129.986}, {\"track\": 709, \"bpm\": 130.991}, {\"track\": 710, \"bpm\": 139.988}, {\"track\": 711, \"bpm\": 135.017}, {\"track\": 712, \"bpm\": 140.011}, {\"track\": 713, \"bpm\": 137.995}, {\"track\": 714, \"bpm\": 136.988}, {\"track\": 715, \"bpm\": 130.015}, {\"track\": 716, \"bpm\": 129.987}, {\"track\": 717, \"bpm\": 137.985}, {\"track\": 718, \"bpm\": 127.984}, {\"track\": 719, \"bpm\": 138.024}, {\"track\": 720, \"bpm\": 128.021}, {\"track\": 721, \"bpm\": 137.003}, {\"track\": 722, \"bpm\": 132.007}, {\"track\": 723, \"bpm\": 128.001}, {\"track\": 724, \"bpm\": 137.996}, {\"track\": 725, \"bpm\": 137.991}, {\"track\": 726, \"bpm\": 134.019}, {\"track\": 727, \"bpm\": 132.011}, {\"track\": 728, \"bpm\": 132.008}, {\"track\": 729, \"bpm\": 138.0}, {\"track\": 730, \"bpm\": 138.007}, {\"track\": 731, \"bpm\": 138.0}, {\"track\": 732, \"bpm\": 139.993}, {\"track\": 733, \"bpm\": 132.024}, {\"track\": 734, \"bpm\": 134.983}, {\"track\": 735, \"bpm\": 141.063}, {\"track\": 736, \"bpm\": 135.002}, {\"track\": 737, \"bpm\": 138.019}, {\"track\": 738, \"bpm\": 124.986}, {\"track\": 739, \"bpm\": 138.021}, {\"track\": 740, \"bpm\": 137.991}, {\"track\": 741, \"bpm\": 130.004}, {\"track\": 742, \"bpm\": 138.012}, {\"track\": 743, \"bpm\": 137.983}, {\"track\": 744, \"bpm\": 125.989}, {\"track\": 745, \"bpm\": 128.582}, {\"track\": 746, \"bpm\": 137.989}, {\"track\": 747, \"bpm\": 128.01}, {\"track\": 748, \"bpm\": 137.994}, {\"track\": 749, \"bpm\": 132.011}, {\"track\": 750, \"bpm\": 131.008}, {\"track\": 751, \"bpm\": 135.007}, {\"track\": 752, \"bpm\": 137.985}, {\"track\": 753, \"bpm\": 134.011}, {\"track\": 754, \"bpm\": 138.979}, {\"track\": 755, \"bpm\": 136.003}, {\"track\": 756, \"bpm\": 132.06}, {\"track\": 757, \"bpm\": 127.957}, {\"track\": 758, \"bpm\": 130.991}, {\"track\": 759, \"bpm\": 138.011}, {\"track\": 760, \"bpm\": 137.995}, {\"track\": 761, \"bpm\": 128.005}, {\"track\": 762, \"bpm\": 139.997}, {\"track\": 763, \"bpm\": 132.994}, {\"track\": 764, \"bpm\": 139.973}, {\"track\": 765, \"bpm\": 127.964}, {\"track\": 766, \"bpm\": 140.01}, {\"track\": 767, \"bpm\": 128.083}, {\"track\": 768, \"bpm\": 136.974}, {\"track\": 769, \"bpm\": 130.006}, {\"track\": 770, \"bpm\": 132.01}, {\"track\": 771, \"bpm\": 137.997}, {\"track\": 772, \"bpm\": 138.001}, {\"track\": 773, \"bpm\": 134.979}, {\"track\": 774, \"bpm\": 138.017}, {\"track\": 775, \"bpm\": 131.982}, {\"track\": 776, \"bpm\": 134.997}, {\"track\": 777, \"bpm\": 137.983}, {\"track\": 778, \"bpm\": 129.994}, {\"track\": 779, \"bpm\": 128.013}, {\"track\": 780, \"bpm\": 138.033}, {\"track\": 781, \"bpm\": 137.998}, {\"track\": 782, \"bpm\": 137.992}, {\"track\": 783, \"bpm\": 140.022}, {\"track\": 784, \"bpm\": 131.982}, {\"track\": 785, \"bpm\": 128.004}, {\"track\": 786, \"bpm\": 131.013}, {\"track\": 787, \"bpm\": 137.984}, {\"track\": 788, \"bpm\": 131.995}, {\"track\": 789, \"bpm\": 138.015}, {\"track\": 790, \"bpm\": 131.978}, {\"track\": 791, \"bpm\": 138.007}, {\"track\": 792, \"bpm\": 137.988}, {\"track\": 793, \"bpm\": 132.007}, {\"track\": 794, \"bpm\": 140.034}, {\"track\": 795, \"bpm\": 140.014}, {\"track\": 796, \"bpm\": 132.998}, {\"track\": 797, \"bpm\": 139.989}, {\"track\": 798, \"bpm\": 133.981}, {\"track\": 799, \"bpm\": 131.99}, {\"track\": 800, \"bpm\": 135.998}, {\"track\": 801, \"bpm\": 130.0}, {\"track\": 802, \"bpm\": 129.992}, {\"track\": 803, \"bpm\": 128.023}, {\"track\": 804, \"bpm\": 138.003}, {\"track\": 805, \"bpm\": 130.006}, {\"track\": 806, \"bpm\": 134.988}, {\"track\": 807, \"bpm\": 137.023}, {\"track\": 808, \"bpm\": 131.996}, {\"track\": 809, \"bpm\": 131.989}, {\"track\": 810, \"bpm\": 127.996}, {\"track\": 811, \"bpm\": 134.822}, {\"track\": 812, \"bpm\": 132.075}, {\"track\": 813, \"bpm\": 137.996}, {\"track\": 814, \"bpm\": 137.961}, {\"track\": 815, \"bpm\": 127.971}, {\"track\": 816, \"bpm\": 140.006}, {\"track\": 817, \"bpm\": 131.992}, {\"track\": 818, \"bpm\": 137.988}, {\"track\": 819, \"bpm\": 128.011}, {\"track\": 820, \"bpm\": 129.996}, {\"track\": 821, \"bpm\": 138.007}, {\"track\": 822, \"bpm\": 129.986}, {\"track\": 823, \"bpm\": 138.019}, {\"track\": 824, \"bpm\": 138.0}, {\"track\": 825, \"bpm\": 140.0}, {\"track\": 826, \"bpm\": 138.002}, {\"track\": 827, \"bpm\": 135.996}, {\"track\": 828, \"bpm\": 135.002}, {\"track\": 829, \"bpm\": 136.012}, {\"track\": 830, \"bpm\": 137.973}, {\"track\": 831, \"bpm\": 132.034}, {\"track\": 832, \"bpm\": 135.938}, {\"track\": 833, \"bpm\": 136.044}, {\"track\": 834, \"bpm\": 128.0}, {\"track\": 835, \"bpm\": 136.994}, {\"track\": 836, \"bpm\": 128.02}, {\"track\": 837, \"bpm\": 128.003}, {\"track\": 838, \"bpm\": 132.006}, {\"track\": 839, \"bpm\": 128.019}, {\"track\": 840, \"bpm\": 125.156}, {\"track\": 841, \"bpm\": 131.815}, {\"track\": 842, \"bpm\": 138.03}, {\"track\": 843, \"bpm\": 138.006}, {\"track\": 844, \"bpm\": 136.018}, {\"track\": 845, \"bpm\": 135.984}, {\"track\": 846, \"bpm\": 127.977}, {\"track\": 847, \"bpm\": 130.014}, {\"track\": 848, \"bpm\": 129.012}, {\"track\": 849, \"bpm\": 138.002}, {\"track\": 850, \"bpm\": 135.985}, {\"track\": 851, \"bpm\": 131.998}, {\"track\": 852, \"bpm\": 135.984}, {\"track\": 853, \"bpm\": 137.49}, {\"track\": 854, \"bpm\": 137.016}, {\"track\": 855, \"bpm\": 131.999}, {\"track\": 856, \"bpm\": 137.988}, {\"track\": 857, \"bpm\": 137.989}, {\"track\": 858, \"bpm\": 134.005}, {\"track\": 859, \"bpm\": 136.002}, {\"track\": 860, \"bpm\": 138.013}, {\"track\": 861, \"bpm\": 137.998}, {\"track\": 862, \"bpm\": 131.962}, {\"track\": 863, \"bpm\": 132.019}, {\"track\": 864, \"bpm\": 138.003}, {\"track\": 865, \"bpm\": 136.993}, {\"track\": 866, \"bpm\": 132.986}, {\"track\": 867, \"bpm\": 137.954}, {\"track\": 868, \"bpm\": 135.976}, {\"track\": 869, \"bpm\": 132.014}, {\"track\": 870, \"bpm\": 138.001}, {\"track\": 871, \"bpm\": 137.998}, {\"track\": 872, \"bpm\": 139.99}, {\"track\": 873, \"bpm\": 131.988}, {\"track\": 874, \"bpm\": 135.001}, {\"track\": 875, \"bpm\": 130.231}, {\"track\": 876, \"bpm\": 127.002}, {\"track\": 877, \"bpm\": 137.999}, {\"track\": 878, \"bpm\": 135.013}, {\"track\": 879, \"bpm\": 139.987}, {\"track\": 880, \"bpm\": 139.987}, {\"track\": 881, \"bpm\": 134.984}, {\"track\": 882, \"bpm\": 135.0}, {\"track\": 883, \"bpm\": 134.989}, {\"track\": 884, \"bpm\": 138.02}, {\"track\": 885, \"bpm\": 131.986}, {\"track\": 886, \"bpm\": 139.996}, {\"track\": 887, \"bpm\": 135.002}, {\"track\": 888, \"bpm\": 130.975}, {\"track\": 889, \"bpm\": 137.99}, {\"track\": 890, \"bpm\": 129.981}, {\"track\": 891, \"bpm\": 132.007}, {\"track\": 892, \"bpm\": 138.008}, {\"track\": 893, \"bpm\": 130.003}, {\"track\": 894, \"bpm\": 130.024}, {\"track\": 895, \"bpm\": 137.988}, {\"track\": 896, \"bpm\": 137.997}, {\"track\": 897, \"bpm\": 139.999}, {\"track\": 898, \"bpm\": 128.026}, {\"track\": 899, \"bpm\": 137.983}, {\"track\": 900, \"bpm\": 135.007}, {\"track\": 901, \"bpm\": 135.875}, {\"track\": 902, \"bpm\": 132.985}, {\"track\": 903, \"bpm\": 142.016}, {\"track\": 904, \"bpm\": 137.961}, {\"track\": 905, \"bpm\": 137.987}, {\"track\": 906, \"bpm\": 126.003}, {\"track\": 907, \"bpm\": 127.989}, {\"track\": 908, \"bpm\": 138.051}, {\"track\": 909, \"bpm\": 139.05}, {\"track\": 910, \"bpm\": 131.987}, {\"track\": 911, \"bpm\": 127.981}, {\"track\": 912, \"bpm\": 143.012}, {\"track\": 913, \"bpm\": 135.085}, {\"track\": 914, \"bpm\": 139.997}, {\"track\": 915, \"bpm\": 134.984}, {\"track\": 916, \"bpm\": 132.979}, {\"track\": 917, \"bpm\": 135.002}, {\"track\": 918, \"bpm\": 135.023}, {\"track\": 919, \"bpm\": 138.003}, {\"track\": 920, \"bpm\": 138.002}, {\"track\": 921, \"bpm\": 133.991}, {\"track\": 922, \"bpm\": 135.011}, {\"track\": 923, \"bpm\": 134.004}, {\"track\": 924, \"bpm\": 138.027}, {\"track\": 925, \"bpm\": 138.013}, {\"track\": 926, \"bpm\": 137.946}, {\"track\": 927, \"bpm\": 134.99}, {\"track\": 928, \"bpm\": 132.997}, {\"track\": 929, \"bpm\": 138.042}, {\"track\": 930, \"bpm\": 135.014}, {\"track\": 931, \"bpm\": 135.032}, {\"track\": 932, \"bpm\": 137.845}, {\"track\": 933, \"bpm\": 138.0}, {\"track\": 934, \"bpm\": 134.983}, {\"track\": 935, \"bpm\": 135.004}, {\"track\": 936, \"bpm\": 137.995}, {\"track\": 937, \"bpm\": 128.017}, {\"track\": 938, \"bpm\": 138.027}, {\"track\": 939, \"bpm\": 134.959}, {\"track\": 940, \"bpm\": 134.997}, {\"track\": 941, \"bpm\": 137.997}, {\"track\": 942, \"bpm\": 136.0}, {\"track\": 943, \"bpm\": 135.997}, {\"track\": 944, \"bpm\": 135.026}, {\"track\": 945, \"bpm\": 131.983}, {\"track\": 946, \"bpm\": 139.988}, {\"track\": 947, \"bpm\": 139.015}, {\"track\": 948, \"bpm\": 137.029}, {\"track\": 949, \"bpm\": 136.012}, {\"track\": 950, \"bpm\": 140.044}, {\"track\": 951, \"bpm\": 135.002}, {\"track\": 952, \"bpm\": 138.012}, {\"track\": 953, \"bpm\": 133.997}, {\"track\": 954, \"bpm\": 139.997}, {\"track\": 955, \"bpm\": 139.978}, {\"track\": 956, \"bpm\": 132.995}, {\"track\": 957, \"bpm\": 138.029}, {\"track\": 958, \"bpm\": 140.977}, {\"track\": 959, \"bpm\": 138.004}, {\"track\": 960, \"bpm\": 135.979}, {\"track\": 961, \"bpm\": 140.006}, {\"track\": 962, \"bpm\": 137.985}, {\"track\": 963, \"bpm\": 137.981}, {\"track\": 964, \"bpm\": 135.1}, {\"track\": 965, \"bpm\": 138.014}, {\"track\": 966, \"bpm\": 136.979}, {\"track\": 967, \"bpm\": 137.065}, {\"track\": 968, \"bpm\": 130.024}, {\"track\": 969, \"bpm\": 131.014}, {\"track\": 970, \"bpm\": 131.928}, {\"track\": 971, \"bpm\": 129.992}, {\"track\": 972, \"bpm\": 135.989}, {\"track\": 973, \"bpm\": 139.353}, {\"track\": 974, \"bpm\": 132.01}, {\"track\": 975, \"bpm\": 130.98}, {\"track\": 976, \"bpm\": 131.986}, {\"track\": 977, \"bpm\": 130.031}, {\"track\": 978, \"bpm\": 134.01}, {\"track\": 979, \"bpm\": 140.019}, {\"track\": 980, \"bpm\": 134.999}, {\"track\": 981, \"bpm\": 139.991}, {\"track\": 982, \"bpm\": 135.005}, {\"track\": 983, \"bpm\": 140.006}, {\"track\": 984, \"bpm\": 138.258}, {\"track\": 985, \"bpm\": 136.059}, {\"track\": 986, \"bpm\": 138.01}, {\"track\": 987, \"bpm\": 138.039}, {\"track\": 988, \"bpm\": 129.99}, {\"track\": 989, \"bpm\": 134.012}, {\"track\": 990, \"bpm\": 138.013}, {\"track\": 991, \"bpm\": 129.982}, {\"track\": 992, \"bpm\": 135.0}, {\"track\": 993, \"bpm\": 137.996}, {\"track\": 994, \"bpm\": 132.002}, {\"track\": 995, \"bpm\": 135.988}, {\"track\": 996, \"bpm\": 137.978}, {\"track\": 997, \"bpm\": 131.991}, {\"track\": 998, \"bpm\": 139.985}, {\"track\": 999, \"bpm\": 135.011}]}}, {\"mode\": \"vega-lite\"});\n",
       "</script>"
      ],
      "text/plain": [
       "alt.Chart(...)"
      ]
     },
     "execution_count": 75,
     "metadata": {},
     "output_type": "execute_result"
    }
   ],
   "source": [
    "detail = (\n",
    "    alt.Chart(source)\n",
    "    .mark_point()\n",
    "    .encode(\n",
    "        x=alt.X(\n",
    "            \"track:T\", scale=alt.Scale(domain={\"selection\": zoom.name, \"encoding\": \"x\"})\n",
    "        ),\n",
    "        y=alt.Y(\n",
    "            \"bpm:Q\",\n",
    "            scale=alt.Scale(domain={\"selection\": zoom.name, \"encoding\": \"y\"}),\n",
    "        ),\n",
    "        color=\"bpm\",\n",
    "        tooltip=['bpm', 'track']\n",
    "    )\n",
    "    .properties(width=600, height=400, title=\"BPM of ASOT Top 1000 -- detail view\")\n",
    ").interactive()\n",
    "\n",
    "detail"
   ]
  },
  {
   "cell_type": "markdown",
   "metadata": {},
   "source": [
    "(Couldn't figure out how to get track titles and artists in the tooltips)\n",
    "\n",
    "There's a few \"outliers\" that kind of throw off the graph - let's look at the tracks in the top 1,000 with the lowest and highest BPMs."
   ]
  },
  {
   "cell_type": "code",
   "execution_count": 152,
   "metadata": {},
   "outputs": [
    {
     "name": "stdout",
     "output_type": "stream",
     "text": [
      "716 . Armin van Buuren & Alexander Popov - Popcorn - Extended Mix - 94.915 BPM\n",
      "654 . Cygnus X - The Orange Theme - Ferry Corsten's Moonman Orange Juice Remix - 144.988 BPM\n",
      "635 . Ilse DeLange - The Great Escape - 98.69 BPM\n",
      "531 . Kyuss - Yeah - 0 BPM\n",
      "432 . Will Atkinson - Telescope - Extended Mix - 142.002 BPM\n",
      "176 . Above & Beyond - Sun In Your Eyes - Original Mix - 183.967 BPM\n",
      "97 . John O'Callaghan & Bryan Kearney - Exactly - Original Mix - 142.016 BPM\n",
      "88 . Giuseppe Ottaviani - Linking People - Original Mix - 143.012 BPM\n"
     ]
    }
   ],
   "source": [
    "for position, track in enumerate(top_1000_tracks):\n",
    "    tempo = sp.audio_features(track['track']['uri'])[0]['tempo']\n",
    "    if tempo <= 100 or tempo >= 142: # \"outliers\"\n",
    "        track_artist = track['track']['artists'][0]['name']\n",
    "        for artist in track['track']['artists'][1:]:\n",
    "            track_artist += \" & \" + artist['name']\n",
    "        print(1000 - position, '.', track_artist, '-', track['track']['name'], '-', tempo, 'BPM')"
   ]
  },
  {
   "cell_type": "markdown",
   "metadata": {},
   "source": [
    "## Results"
   ]
  },
  {
   "cell_type": "markdown",
   "metadata": {},
   "source": [
    "Let's see what we've got!"
   ]
  },
  {
   "cell_type": "code",
   "execution_count": 15,
   "metadata": {},
   "outputs": [
    {
     "ename": "NameError",
     "evalue": "name 'annual_avg_bpm' is not defined",
     "output_type": "error",
     "traceback": [
      "\u001b[0;31m\u001b[0m",
      "\u001b[0;31mNameError\u001b[0mTraceback (most recent call last)",
      "\u001b[0;32m<ipython-input-15-c4df56ae0510>\u001b[0m in \u001b[0;36m<module>\u001b[0;34m\u001b[0m\n\u001b[0;32m----> 1\u001b[0;31m source = pd.DataFrame([(k, v) for k, v in annual_avg_bpm.items()], \n\u001b[0m\u001b[1;32m      2\u001b[0m                    columns=['Year', 'Average Episode BPM'])\n\u001b[1;32m      3\u001b[0m \u001b[0msource\u001b[0m\u001b[0;34m[\u001b[0m\u001b[0;34m'138'\u001b[0m\u001b[0;34m]\u001b[0m \u001b[0;34m=\u001b[0m \u001b[0;36m138\u001b[0m\u001b[0;34m\u001b[0m\u001b[0;34m\u001b[0m\u001b[0m\n\u001b[1;32m      4\u001b[0m \u001b[0;34m\u001b[0m\u001b[0m\n\u001b[1;32m      5\u001b[0m base = alt.Chart(source).mark_line().encode(\n",
      "\u001b[0;31mNameError\u001b[0m: name 'annual_avg_bpm' is not defined"
     ]
    }
   ],
   "source": [
    "source = pd.DataFrame([(k, v) for k, v in annual_avg_bpm.items()], \n",
    "                   columns=['Year', 'Average Episode BPM'])\n",
    "source['138'] = 138\n",
    "\n",
    "base = alt.Chart(source).mark_line().encode(\n",
    "    x=alt.X('Year'),\n",
    "    y=alt.Y('Average Episode BPM', scale=alt.Scale(domain=(130, 140))),\n",
    ").properties(\n",
    "    title=\"A State of Trance - Annual Average BPM of Episode\",\n",
    "    width=600\n",
    ")\n",
    "\n",
    "rule = alt.Chart(source).mark_rule(color='red').encode(\n",
    "    y='138'\n",
    ")\n",
    "\n",
    "base + rule"
   ]
  },
  {
   "cell_type": "markdown",
   "metadata": {},
   "source": [
    "Straightforward enough. In the coming posts we'll do something similar, looking at the most-played artists and tracks each year."
   ]
  }
 ],
 "metadata": {
  "kernelspec": {
   "display_name": "Python 3",
   "language": "python",
   "name": "python3"
  },
  "language_info": {
   "codemirror_mode": {
    "name": "ipython",
    "version": 3
   },
   "file_extension": ".py",
   "mimetype": "text/x-python",
   "name": "python",
   "nbconvert_exporter": "python",
   "pygments_lexer": "ipython3",
   "version": "3.8.5"
  }
 },
 "nbformat": 4,
 "nbformat_minor": 4
}

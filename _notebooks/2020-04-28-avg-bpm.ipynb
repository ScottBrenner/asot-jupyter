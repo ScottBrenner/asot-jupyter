{
 "cells": [
  {
   "cell_type": "markdown",
   "metadata": {},
   "source": [
    "# Average Episode BPM\n",
    "> Tracking average episode BPM over time.\n",
    "\n",
    "- toc: true \n",
    "- badges: true\n",
    "- comments: false\n",
    "- categories: [asot]\n",
    "- image: images/chart-preview.png"
   ]
  },
  {
   "cell_type": "markdown",
   "metadata": {},
   "source": [
    "## Methodology\n",
    "\n",
    "A quick call to the Spotify Web API can return over a dozen [audio features for a track](https://developer.spotify.com/documentation/web-api/reference/tracks/get-audio-features/), notably `tempo` - \"The overall estimated tempo of a track in beats per minute (BPM).\"\n",
    "\n",
    "Conveniently, the entire back catalogue of A State of Trance - 950+ episodes - has been uploaded to Spotify under the artist [\"Armin van Buuren ASOT Radio\"](https://open.spotify.com/artist/25mFVpuABa9GkGcj9eOPce)."
   ]
  },
  {
   "cell_type": "code",
   "execution_count": 1,
   "metadata": {},
   "outputs": [],
   "source": [
    "#hide\n",
    "import os\n",
    "import yaml\n",
    "import spotipy\n",
    "from spotipy.oauth2 import SpotifyClientCredentials\n",
    "\n",
    "with open('spotipy_credentials.yaml', 'r') as spotipy_credentials_file:\n",
    "    credentials = yaml.safe_load(spotipy_credentials_file)\n",
    "    os.environ[\"SPOTIPY_CLIENT_ID\"] = credentials['spotipy_credentials']['spotipy_client_id']\n",
    "    os.environ[\"SPOTIPY_CLIENT_SECRET\"] = credentials['spotipy_credentials']['spotipi_client_seret']\n",
    "\n",
    "sp = spotipy.Spotify(client_credentials_manager=SpotifyClientCredentials())\n",
    "\n",
    "ASOT_SPOTIFY_ID = '25mFVpuABa9GkGcj9eOPce' # Armin van Buuren ASOT Radio (https://open.spotify.com/artist/25mFVpuABa9GkGcj9eOPce)\n",
    "\n",
    "episodes = []\n",
    "results = sp.artist_albums(ASOT_SPOTIFY_ID, album_type='album')\n",
    "episodes.extend(results['items'])\n",
    "while results['next']:\n",
    "    results = sp.next(results)\n",
    "    episodes.extend(results['items'])\n",
    "seen = set()  # to avoid dups\n",
    "for episode in episodes:\n",
    "    name = episode['name']\n",
    "    if name not in seen:\n",
    "        seen.add(name)\n",
    "\n",
    "episodes = episodes[::-1]"
   ]
  },
  {
   "cell_type": "code",
   "execution_count": 2,
   "metadata": {
    "collapsed": true,
    "jupyter": {
     "outputs_hidden": true
    }
   },
   "outputs": [
    {
     "output_type": "error",
     "ename": "NameError",
     "evalue": "name 'json' is not defined",
     "traceback": [
      "\u001b[0;31m---------------------------------------------------------------------------\u001b[0m",
      "\u001b[0;31mNameError\u001b[0m                                 Traceback (most recent call last)",
      "\u001b[0;32m<ipython-input-2-5dfc84916c23>\u001b[0m in \u001b[0;36m<module>\u001b[0;34m\u001b[0m\n\u001b[1;32m      1\u001b[0m \u001b[0;31m#hide\u001b[0m\u001b[0;34m\u001b[0m\u001b[0;34m\u001b[0m\u001b[0;34m\u001b[0m\u001b[0m\n\u001b[1;32m      2\u001b[0m \u001b[0mepisode_tracks\u001b[0m \u001b[0;34m=\u001b[0m \u001b[0msp\u001b[0m\u001b[0;34m.\u001b[0m\u001b[0malbum_tracks\u001b[0m\u001b[0;34m(\u001b[0m\u001b[0mepisodes\u001b[0m\u001b[0;34m[\u001b[0m\u001b[0;36m1\u001b[0m\u001b[0;34m]\u001b[0m\u001b[0;34m[\u001b[0m\u001b[0;34m'uri'\u001b[0m\u001b[0;34m]\u001b[0m\u001b[0;34m)\u001b[0m\u001b[0;34m\u001b[0m\u001b[0;34m\u001b[0m\u001b[0m\n\u001b[0;32m----> 3\u001b[0;31m \u001b[0mprint\u001b[0m\u001b[0;34m(\u001b[0m\u001b[0mjson\u001b[0m\u001b[0;34m.\u001b[0m\u001b[0mdumps\u001b[0m\u001b[0;34m(\u001b[0m\u001b[0mepisode_tracks\u001b[0m\u001b[0;34m,\u001b[0m \u001b[0mindent\u001b[0m\u001b[0;34m=\u001b[0m\u001b[0;36m2\u001b[0m\u001b[0;34m)\u001b[0m\u001b[0;34m)\u001b[0m\u001b[0;34m\u001b[0m\u001b[0;34m\u001b[0m\u001b[0m\n\u001b[0m",
      "\u001b[0;31mNameError\u001b[0m: name 'json' is not defined"
     ]
    }
   ],
   "source": [
    "#hide\n",
    "episode_tracks = sp.album_tracks(episodes[1]['uri'])\n",
    "print(json.dumps(episode_tracks, indent=2))"
   ]
  },
  {
   "cell_type": "code",
   "execution_count": 3,
   "metadata": {},
   "outputs": [
    {
     "output_type": "error",
     "ename": "NameError",
     "evalue": "name 'json' is not defined",
     "traceback": [
      "\u001b[0;31m---------------------------------------------------------------------------\u001b[0m",
      "\u001b[0;31mNameError\u001b[0m                                 Traceback (most recent call last)",
      "\u001b[0;32m<ipython-input-3-d2d27a13a928>\u001b[0m in \u001b[0;36m<module>\u001b[0;34m\u001b[0m\n\u001b[1;32m      1\u001b[0m \u001b[0;31m#hide\u001b[0m\u001b[0;34m\u001b[0m\u001b[0;34m\u001b[0m\u001b[0;34m\u001b[0m\u001b[0m\n\u001b[1;32m      2\u001b[0m \u001b[0maudio_features\u001b[0m \u001b[0;34m=\u001b[0m \u001b[0msp\u001b[0m\u001b[0;34m.\u001b[0m\u001b[0maudio_features\u001b[0m\u001b[0;34m(\u001b[0m\u001b[0mepisode_tracks\u001b[0m\u001b[0;34m[\u001b[0m\u001b[0;34m'items'\u001b[0m\u001b[0;34m]\u001b[0m\u001b[0;34m[\u001b[0m\u001b[0;36m2\u001b[0m\u001b[0;34m]\u001b[0m\u001b[0;34m[\u001b[0m\u001b[0;34m'uri'\u001b[0m\u001b[0;34m]\u001b[0m\u001b[0;34m)\u001b[0m\u001b[0;34m\u001b[0m\u001b[0;34m\u001b[0m\u001b[0m\n\u001b[0;32m----> 3\u001b[0;31m \u001b[0mprint\u001b[0m\u001b[0;34m(\u001b[0m\u001b[0mjson\u001b[0m\u001b[0;34m.\u001b[0m\u001b[0mdumps\u001b[0m\u001b[0;34m(\u001b[0m\u001b[0maudio_features\u001b[0m\u001b[0;34m,\u001b[0m \u001b[0mindent\u001b[0m\u001b[0;34m=\u001b[0m\u001b[0;36m2\u001b[0m\u001b[0;34m)\u001b[0m\u001b[0;34m)\u001b[0m\u001b[0;34m\u001b[0m\u001b[0;34m\u001b[0m\u001b[0m\n\u001b[0m",
      "\u001b[0;31mNameError\u001b[0m: name 'json' is not defined"
     ]
    }
   ],
   "source": [
    "#hide\n",
    "audio_features = sp.audio_features(episode_tracks['items'][2]['uri'])\n",
    "print(json.dumps(audio_features, indent=2))"
   ]
  },
  {
   "cell_type": "code",
   "execution_count": 4,
   "metadata": {},
   "outputs": [],
   "source": [
    "import altair as alt\n",
    "import numpy as np\n",
    "import pandas as pd"
   ]
  },
  {
   "cell_type": "code",
   "execution_count": 5,
   "metadata": {},
   "outputs": [
    {
     "output_type": "execute_result",
     "data": {
      "text/html": "\n<div id=\"altair-viz-f6798352a8bb47a58d26d03cd31137a8\"></div>\n<script type=\"text/javascript\">\n  (function(spec, embedOpt){\n    let outputDiv = document.currentScript.previousElementSibling;\n    if (outputDiv.id !== \"altair-viz-f6798352a8bb47a58d26d03cd31137a8\") {\n      outputDiv = document.getElementById(\"altair-viz-f6798352a8bb47a58d26d03cd31137a8\");\n    }\n    const paths = {\n      \"vega\": \"https://cdn.jsdelivr.net/npm//vega@5?noext\",\n      \"vega-lib\": \"https://cdn.jsdelivr.net/npm//vega-lib?noext\",\n      \"vega-lite\": \"https://cdn.jsdelivr.net/npm//vega-lite@4.8.1?noext\",\n      \"vega-embed\": \"https://cdn.jsdelivr.net/npm//vega-embed@6?noext\",\n    };\n\n    function loadScript(lib) {\n      return new Promise(function(resolve, reject) {\n        var s = document.createElement('script');\n        s.src = paths[lib];\n        s.async = true;\n        s.onload = () => resolve(paths[lib]);\n        s.onerror = () => reject(`Error loading script: ${paths[lib]}`);\n        document.getElementsByTagName(\"head\")[0].appendChild(s);\n      });\n    }\n\n    function showError(err) {\n      outputDiv.innerHTML = `<div class=\"error\" style=\"color:red;\">${err}</div>`;\n      throw err;\n    }\n\n    function displayChart(vegaEmbed) {\n      vegaEmbed(outputDiv, spec, embedOpt)\n        .catch(err => showError(`Javascript Error: ${err.message}<br>This usually means there's a typo in your chart specification. See the javascript console for the full traceback.`));\n    }\n\n    if(typeof define === \"function\" && define.amd) {\n      requirejs.config({paths});\n      require([\"vega-embed\"], displayChart, err => showError(`Error loading script: ${err.message}`));\n    } else if (typeof vegaEmbed === \"function\") {\n      displayChart(vegaEmbed);\n    } else {\n      loadScript(\"vega\")\n        .then(() => loadScript(\"vega-lite\"))\n        .then(() => loadScript(\"vega-embed\"))\n        .catch(showError)\n        .then(() => displayChart(vegaEmbed));\n    }\n  })({\"config\": {\"view\": {\"continuousWidth\": 400, \"continuousHeight\": 300}}, \"data\": {\"name\": \"data-710b7bf97c72e9480d74257e5a624f74\"}, \"mark\": \"line\", \"encoding\": {\"x\": {\"type\": \"quantitative\", \"field\": \"track\"}, \"y\": {\"type\": \"quantitative\", \"field\": \"bpm\"}}, \"$schema\": \"https://vega.github.io/schema/vega-lite/v4.8.1.json\", \"datasets\": {\"data-710b7bf97c72e9480d74257e5a624f74\": [{\"track\": 0, \"bpm\": 87.538}, {\"track\": 1, \"bpm\": 133.139}, {\"track\": 2, \"bpm\": 133.053}, {\"track\": 3, \"bpm\": 135.681}, {\"track\": 4, \"bpm\": 138.214}, {\"track\": 5, \"bpm\": 135.372}, {\"track\": 6, \"bpm\": 135.352}, {\"track\": 7, \"bpm\": 135.123}, {\"track\": 8, \"bpm\": 135.765}, {\"track\": 9, \"bpm\": 135.956}, {\"track\": 10, \"bpm\": 138.636}]}}, {\"mode\": \"vega-lite\"});\n</script>",
      "text/plain": "alt.Chart(...)"
     },
     "metadata": {},
     "execution_count": 5
    }
   ],
   "source": [
    "bpm = []\n",
    "for track in episode_tracks['items']:\n",
    "    bpm.append(sp.audio_features(track['uri'])[0]['tempo'])\n",
    "\n",
    "x = np.arange(len(episode_tracks['items']))   \n",
    "\n",
    "source = pd.DataFrame({\n",
    "  'track': x,\n",
    "  'bpm': np.array(bpm)\n",
    "})\n",
    "\n",
    "alt.Chart(source).mark_line().encode(\n",
    "    x='track',\n",
    "    y='bpm'\n",
    ")"
   ]
  },
  {
   "cell_type": "code",
   "execution_count": 6,
   "metadata": {
    "collapsed": true,
    "jupyter": {
     "outputs_hidden": true
    }
   },
   "outputs": [
    {
     "output_type": "stream",
     "name": "stdout",
     "text": "A State Of Trance Episode 001 138.86957142857142\nA State Of Trance Episode 003 135.295\nA State Of Trance Episode 004 137.3078\nA State Of Trance Episode 005 137.122875\nA State Of Trance Episode 007 137.459125\nA State Of Trance Episode 008 136.409\nA State Of Trance Episode 009 138.58033333333333\nA State Of Trance Episode 010 137.5172\nA State Of Trance Episode 012 138.5285\nA State Of Trance Episode 015 138.09266666666667\n"
    }
   ],
   "source": [
    "#hide\n",
    "episode_avg_bpm = []\n",
    "\n",
    "for episode in episodes[:10]:\n",
    "    try:\n",
    "        episode_bpm = 0\n",
    "        tracks_counted = 0\n",
    "        for track in sp.album_tracks(episode['uri'])['items']:\n",
    "            if \"A State Of Trance\" in track['name']:\n",
    "                continue\n",
    "            else:\n",
    "                episode_bpm += sp.audio_features(track['uri'])[0]['tempo']\n",
    "                tracks_counted += 1\n",
    "        avg = episode_bpm/tracks_counted\n",
    "        print(episode['name'], avg)\n",
    "        episode_avg_bpm.append(avg)\n",
    "    except:\n",
    "        pass"
   ]
  },
  {
   "cell_type": "code",
   "execution_count": 7,
   "metadata": {},
   "outputs": [
    {
     "output_type": "execute_result",
     "data": {
      "text/html": "\n<div id=\"altair-viz-0485f304be8d41b0b42145870cda7fd8\"></div>\n<script type=\"text/javascript\">\n  (function(spec, embedOpt){\n    let outputDiv = document.currentScript.previousElementSibling;\n    if (outputDiv.id !== \"altair-viz-0485f304be8d41b0b42145870cda7fd8\") {\n      outputDiv = document.getElementById(\"altair-viz-0485f304be8d41b0b42145870cda7fd8\");\n    }\n    const paths = {\n      \"vega\": \"https://cdn.jsdelivr.net/npm//vega@5?noext\",\n      \"vega-lib\": \"https://cdn.jsdelivr.net/npm//vega-lib?noext\",\n      \"vega-lite\": \"https://cdn.jsdelivr.net/npm//vega-lite@4.8.1?noext\",\n      \"vega-embed\": \"https://cdn.jsdelivr.net/npm//vega-embed@6?noext\",\n    };\n\n    function loadScript(lib) {\n      return new Promise(function(resolve, reject) {\n        var s = document.createElement('script');\n        s.src = paths[lib];\n        s.async = true;\n        s.onload = () => resolve(paths[lib]);\n        s.onerror = () => reject(`Error loading script: ${paths[lib]}`);\n        document.getElementsByTagName(\"head\")[0].appendChild(s);\n      });\n    }\n\n    function showError(err) {\n      outputDiv.innerHTML = `<div class=\"error\" style=\"color:red;\">${err}</div>`;\n      throw err;\n    }\n\n    function displayChart(vegaEmbed) {\n      vegaEmbed(outputDiv, spec, embedOpt)\n        .catch(err => showError(`Javascript Error: ${err.message}<br>This usually means there's a typo in your chart specification. See the javascript console for the full traceback.`));\n    }\n\n    if(typeof define === \"function\" && define.amd) {\n      requirejs.config({paths});\n      require([\"vega-embed\"], displayChart, err => showError(`Error loading script: ${err.message}`));\n    } else if (typeof vegaEmbed === \"function\") {\n      displayChart(vegaEmbed);\n    } else {\n      loadScript(\"vega\")\n        .then(() => loadScript(\"vega-lite\"))\n        .then(() => loadScript(\"vega-embed\"))\n        .catch(showError)\n        .then(() => displayChart(vegaEmbed));\n    }\n  })({\"config\": {\"view\": {\"continuousWidth\": 400, \"continuousHeight\": 300}}, \"data\": {\"name\": \"data-13258c8fd8698588217ce5fbad10034e\"}, \"mark\": \"line\", \"encoding\": {\"x\": {\"type\": \"quantitative\", \"field\": \"episode\"}, \"y\": {\"type\": \"quantitative\", \"field\": \"avg bpm\", \"scale\": {\"domain\": [120, 150]}}}, \"title\": \"A State of Trance - Average BPM of episode\", \"$schema\": \"https://vega.github.io/schema/vega-lite/v4.8.1.json\", \"datasets\": {\"data-13258c8fd8698588217ce5fbad10034e\": [{\"episode\": 0, \"avg bpm\": 138.86957142857142}, {\"episode\": 1, \"avg bpm\": 135.295}, {\"episode\": 2, \"avg bpm\": 137.3078}, {\"episode\": 3, \"avg bpm\": 137.122875}, {\"episode\": 4, \"avg bpm\": 137.459125}, {\"episode\": 5, \"avg bpm\": 136.409}, {\"episode\": 6, \"avg bpm\": 138.58033333333333}, {\"episode\": 7, \"avg bpm\": 137.5172}, {\"episode\": 8, \"avg bpm\": 138.5285}, {\"episode\": 9, \"avg bpm\": 138.09266666666667}]}}, {\"mode\": \"vega-lite\"});\n</script>",
      "text/plain": "alt.Chart(...)"
     },
     "metadata": {},
     "execution_count": 7
    }
   ],
   "source": [
    "x = np.arange(len(episode_avg_bpm))   \n",
    "\n",
    "source = pd.DataFrame({\n",
    "  'episode': x,\n",
    "  'avg bpm': np.array(episode_avg_bpm)\n",
    "})\n",
    "\n",
    "alt.Chart(source).mark_line().encode(\n",
    "    alt.X('episode'),\n",
    "    alt.Y('avg bpm', scale=alt.Scale(domain=(120, 150))),\n",
    ").properties(\n",
    "    title=\"A State of Trance - Average BPM of episode\"\n",
    ")"
   ]
  },
  {
   "cell_type": "code",
   "execution_count": 8,
   "metadata": {},
   "outputs": [
    {
     "output_type": "stream",
     "name": "stdout",
     "text": "Cloudwalking [ASOT 057] - Beatpusher Remix  -  141.61\nLigaya [ASOT 057] - Original Mix  -  141.784\nObsession [ASOT 057] - Original Mix  -  136.377\nGatex [ASOT 057] - Original Mix  -  184.848\nPositron [ASOT 057] - Marco V Remix  -  139.264\n148.7766\n"
    }
   ],
   "source": [
    "episode_bpm = 0\n",
    "tracks_counted = 0\n",
    "for track in sp.album_tracks('56qM5Y21wbvCW9l5GiAiaV')['items']:\n",
    "    if \"A State Of Trance\" in track['name']:\n",
    "        continue\n",
    "    else:\n",
    "        print(track['name'], ' - ', sp.audio_features(track['uri'])[0]['tempo'])\n",
    "        episode_bpm += sp.audio_features(track['uri'])[0]['tempo']\n",
    "        tracks_counted += 1\n",
    "print(episode_bpm/tracks_counted)"
   ]
  },
  {
   "cell_type": "code",
   "execution_count": 9,
   "metadata": {},
   "outputs": [
    {
     "output_type": "error",
     "ename": "NameError",
     "evalue": "name 'line' is not defined",
     "traceback": [
      "\u001b[0;31m---------------------------------------------------------------------------\u001b[0m",
      "\u001b[0;31mNameError\u001b[0m                                 Traceback (most recent call last)",
      "\u001b[0;32m<ipython-input-9-13011e15d288>\u001b[0m in \u001b[0;36m<module>\u001b[0;34m\u001b[0m\n\u001b[1;32m     19\u001b[0m )\n\u001b[1;32m     20\u001b[0m \u001b[0;34m\u001b[0m\u001b[0m\n\u001b[0;32m---> 21\u001b[0;31m \u001b[0mline\u001b[0m \u001b[0;34m+\u001b[0m \u001b[0mrule\u001b[0m\u001b[0;34m\u001b[0m\u001b[0;34m\u001b[0m\u001b[0m\n\u001b[0m",
      "\u001b[0;31mNameError\u001b[0m: name 'line' is not defined"
     ]
    }
   ],
   "source": [
    "x = np.arange(len(episode_avg_bpm))\n",
    "\n",
    "source = pd.DataFrame({\n",
    "  'episode': x,\n",
    "  'avg bpm': np.array(episode_avg_bpm)\n",
    "})\n",
    "\n",
    "source['138'] = 138\n",
    "\n",
    "base = alt.Chart(source).mark_line().encode(\n",
    "    alt.X('episode'),\n",
    "    alt.Y('avg bpm', scale=alt.Scale(domain=(120, 150))),\n",
    ").properties(\n",
    "    title=\"A State of Trance - Average BPM of episode\"\n",
    ")\n",
    "\n",
    "rule = alt.Chart(source).mark_rule(color='red').encode(\n",
    "    y='138'\n",
    ")\n",
    "\n",
    "base + rule"
   ]
  }
 ],
 "metadata": {
  "kernelspec": {
   "display_name": "Python 3.7.2 64-bit",
   "language": "python",
   "name": "python37264bitd02087c11aa44bc1836ca911a102f0f5"
  },
  "language_info": {
   "codemirror_mode": {
    "name": "ipython",
    "version": 3
   },
   "file_extension": ".py",
   "mimetype": "text/x-python",
   "name": "python",
   "nbconvert_exporter": "python",
   "pygments_lexer": "ipython3",
   "version": "3.7.2-final"
  }
 },
 "nbformat": 4,
 "nbformat_minor": 4
}
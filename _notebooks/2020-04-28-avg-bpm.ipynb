{
 "cells": [
  {
   "cell_type": "markdown",
   "metadata": {},
   "source": [
    "# Average Episode BPM\n",
    "> Tracking average episode BPM over time.\n",
    "\n",
    "- toc: true \n",
    "- badges: true\n",
    "- comments: false\n",
    "- categories: [asot, bpm]\n",
    "- image: images/chart-preview.png"
   ]
  },
  {
   "cell_type": "code",
   "execution_count": 11,
   "metadata": {},
   "outputs": [],
   "source": [
    "#hide\n",
    "import os\n",
    "import yaml\n",
    "import spotipy\n",
    "import json\n",
    "import altair as alt\n",
    "import numpy as np\n",
    "import pandas as pd\n",
    "from spotipy.oauth2 import SpotifyClientCredentials\n",
    "\n",
    "with open('spotipy_credentials.yaml', 'r') as spotipy_credentials_file:\n",
    "    credentials = yaml.safe_load(spotipy_credentials_file)\n",
    "    os.environ[\"SPOTIPY_CLIENT_ID\"] = credentials['spotipy_credentials']['spotipy_client_id']\n",
    "    os.environ[\"SPOTIPY_CLIENT_SECRET\"] = credentials['spotipy_credentials']['spotipi_client_seret']\n",
    "\n",
    "sp = spotipy.Spotify(client_credentials_manager=SpotifyClientCredentials())\n",
    "\n",
    "asot_radio_id = '25mFVpuABa9GkGcj9eOPce'\n",
    "\n",
    "albums = []\n",
    "results = sp.artist_albums(asot_radio_id, album_type='album')\n",
    "albums.extend(results['items'])\n",
    "while results['next']:\n",
    "    results = sp.next(results)\n",
    "    albums.extend(results['items'])\n",
    "seen = set()  # to avoid dups\n",
    "for album in albums:\n",
    "    name = album['name']\n",
    "    if name not in seen:\n",
    "        seen.add(name)\n",
    "\n",
    "singles = []\n",
    "results = sp.artist_albums(asot_radio_id, album_type='single')\n",
    "singles.extend(results['items'])\n",
    "while results['next']:\n",
    "    results = sp.next(results)\n",
    "    singles.extend(results['items'])\n",
    "seen = set()  # to avoid dups\n",
    "for single in singles:\n",
    "    name = single['name']\n",
    "    if name not in seen:\n",
    "        seen.add(name)\n",
    "\n",
    "episodes = singles + albums\n",
    "\n",
    "episodes.sort(key=lambda x: x['release_date']) # Sort by release date"
   ]
  },
  {
   "cell_type": "markdown",
   "metadata": {},
   "source": [
    "## Introduction"
   ]
  },
  {
   "cell_type": "markdown",
   "metadata": {},
   "source": [
    "Previously on \"_How has A State of Trance changed over time?_\" we poked the Spotify Web API and returned with every episode of A State of Trance. In this post, we'll examine how the show's BPM has changed over time."
   ]
  },
  {
   "cell_type": "markdown",
   "metadata": {},
   "source": [
    "## On Averages"
   ]
  },
  {
   "cell_type": "markdown",
   "metadata": {},
   "source": [
    "First, some housekeeping items.\n",
    "\n",
    "In the \"Methodology\" post we learned Spotify's catalogue of A State of Trance, while it seems to contain every episode, does not have every track in some episodes.\n",
    "\n",
    "Due to the nature of averages, this will cause our calculations to be skewed somewhat. Filling in the blanks is left as an exercise for the reader."
   ]
  },
  {
   "cell_type": "markdown",
   "metadata": {},
   "source": [
    "## Calculating"
   ]
  },
  {
   "cell_type": "markdown",
   "metadata": {},
   "source": [
    "Let's find the average BPM of each episode and graph it over time.\n",
    "\n",
    "We'll ask Spotify for the BPM of every track in an episode, add it all up, and divide by the number of tracks - removing the voiceovers and interludes of course! For the first 10 episodes, this looks like:"
   ]
  },
  {
   "cell_type": "code",
   "execution_count": 12,
   "metadata": {},
   "outputs": [
    {
     "name": "stdout",
     "output_type": "stream",
     "text": [
      "A State Of Trance Episode 000 135.77875\n",
      "A State Of Trance Episode 001 138.86957142857142\n",
      "A State Of Trance Episode 002 135.95900000000003\n",
      "A State Of Trance Episode 003 135.295\n",
      "A State Of Trance Episode 004 137.3078\n",
      "A State Of Trance Episode 005 137.122875\n",
      "A State Of Trance Episode 006 136.12875\n",
      "A State Of Trance Episode 007 137.459125\n",
      "A State Of Trance Episode 008 136.409\n",
      "A State Of Trance Episode 009 138.58033333333333\n"
     ]
    }
   ],
   "source": [
    "episode_avg_bpm = []\n",
    "\n",
    "for episode in episodes[:10]:\n",
    "    try:\n",
    "        episode_bpm = 0\n",
    "        tracks_counted = 0\n",
    "        for track in sp.album_tracks(episode['uri'])['items']:\n",
    "            if \"A State Of Trance\" in track['name']:\n",
    "                continue\n",
    "            else:\n",
    "                episode_bpm += sp.audio_features(track['uri'])[0]['tempo']\n",
    "                tracks_counted += 1\n",
    "        avg = episode_bpm/tracks_counted\n",
    "        print(episode['name'], avg)\n",
    "        episode_avg_bpm.append(avg)\n",
    "    except:\n",
    "        pass"
   ]
  },
  {
   "cell_type": "markdown",
   "metadata": {},
   "source": [
    "Rinse and repeat for 950+ episodes. Grab a tea or coffee, this could take a bit!"
   ]
  },
  {
   "cell_type": "code",
   "execution_count": null,
   "metadata": {},
   "outputs": [],
   "source": [
    "episode_avg_bpm = []\n",
    "\n",
    "for episode in episodes:\n",
    "    try:\n",
    "        episode_bpm = 0\n",
    "        tracks_counted = 0\n",
    "        for track in sp.album_tracks(episode['uri'])['items']:\n",
    "            if \"A State Of Trance\" in track['name']:\n",
    "                continue\n",
    "            else:\n",
    "                episode_bpm += sp.audio_features(track['uri'])[0]['tempo']\n",
    "                tracks_counted += 1\n",
    "        avg = episode_bpm/tracks_counted\n",
    "        episode_avg_bpm.append(avg)\n",
    "    except:\n",
    "        pass"
   ]
  },
  {
   "cell_type": "markdown",
   "metadata": {},
   "source": [
    "Instead of printing this, let's throw it into a quick Altair graph:"
   ]
  },
  {
   "cell_type": "code",
   "execution_count": 7,
   "metadata": {},
   "outputs": [
    {
     "data": {
      "text/html": [
       "\n",
       "<div id=\"altair-viz-3f5273842fa244408037c617dfd41a9f\"></div>\n",
       "<script type=\"text/javascript\">\n",
       "  (function(spec, embedOpt){\n",
       "    let outputDiv = document.currentScript.previousElementSibling;\n",
       "    if (outputDiv.id !== \"altair-viz-3f5273842fa244408037c617dfd41a9f\") {\n",
       "      outputDiv = document.getElementById(\"altair-viz-3f5273842fa244408037c617dfd41a9f\");\n",
       "    }\n",
       "    const paths = {\n",
       "      \"vega\": \"https://cdn.jsdelivr.net/npm//vega@5?noext\",\n",
       "      \"vega-lib\": \"https://cdn.jsdelivr.net/npm//vega-lib?noext\",\n",
       "      \"vega-lite\": \"https://cdn.jsdelivr.net/npm//vega-lite@4.8.1?noext\",\n",
       "      \"vega-embed\": \"https://cdn.jsdelivr.net/npm//vega-embed@6?noext\",\n",
       "    };\n",
       "\n",
       "    function loadScript(lib) {\n",
       "      return new Promise(function(resolve, reject) {\n",
       "        var s = document.createElement('script');\n",
       "        s.src = paths[lib];\n",
       "        s.async = true;\n",
       "        s.onload = () => resolve(paths[lib]);\n",
       "        s.onerror = () => reject(`Error loading script: ${paths[lib]}`);\n",
       "        document.getElementsByTagName(\"head\")[0].appendChild(s);\n",
       "      });\n",
       "    }\n",
       "\n",
       "    function showError(err) {\n",
       "      outputDiv.innerHTML = `<div class=\"error\" style=\"color:red;\">${err}</div>`;\n",
       "      throw err;\n",
       "    }\n",
       "\n",
       "    function displayChart(vegaEmbed) {\n",
       "      vegaEmbed(outputDiv, spec, embedOpt)\n",
       "        .catch(err => showError(`Javascript Error: ${err.message}<br>This usually means there's a typo in your chart specification. See the javascript console for the full traceback.`));\n",
       "    }\n",
       "\n",
       "    if(typeof define === \"function\" && define.amd) {\n",
       "      requirejs.config({paths});\n",
       "      require([\"vega-embed\"], displayChart, err => showError(`Error loading script: ${err.message}`));\n",
       "    } else if (typeof vegaEmbed === \"function\") {\n",
       "      displayChart(vegaEmbed);\n",
       "    } else {\n",
       "      loadScript(\"vega\")\n",
       "        .then(() => loadScript(\"vega-lite\"))\n",
       "        .then(() => loadScript(\"vega-embed\"))\n",
       "        .catch(showError)\n",
       "        .then(() => displayChart(vegaEmbed));\n",
       "    }\n",
       "  })({\"config\": {\"view\": {\"continuousWidth\": 400, \"continuousHeight\": 300}}, \"data\": {\"name\": \"data-233b25aa19e1d23bc4bcb72e68d702a1\"}, \"mark\": \"line\", \"encoding\": {\"x\": {\"type\": \"quantitative\", \"field\": \"episode\"}, \"y\": {\"type\": \"quantitative\", \"field\": \"avg bpm\", \"scale\": {\"domain\": [120, 150]}}}, \"title\": \"A State of Trance - Average BPM of episode\", \"$schema\": \"https://vega.github.io/schema/vega-lite/v4.8.1.json\", \"datasets\": {\"data-233b25aa19e1d23bc4bcb72e68d702a1\": [{\"episode\": 0, \"avg bpm\": 135.77875}, {\"episode\": 1, \"avg bpm\": 138.86957142857142}, {\"episode\": 2, \"avg bpm\": 135.95900000000003}, {\"episode\": 3, \"avg bpm\": 135.295}, {\"episode\": 4, \"avg bpm\": 137.3078}, {\"episode\": 5, \"avg bpm\": 137.122875}, {\"episode\": 6, \"avg bpm\": 136.12875}, {\"episode\": 7, \"avg bpm\": 137.459125}, {\"episode\": 8, \"avg bpm\": 136.409}, {\"episode\": 9, \"avg bpm\": 138.58033333333333}]}}, {\"mode\": \"vega-lite\"});\n",
       "</script>"
      ],
      "text/plain": [
       "alt.Chart(...)"
      ]
     },
     "execution_count": 7,
     "metadata": {},
     "output_type": "execute_result"
    }
   ],
   "source": [
    "x = np.arange(len(episode_avg_bpm))   \n",
    "\n",
    "source = pd.DataFrame({\n",
    "  'episode': x,\n",
    "  'avg bpm': np.array(episode_avg_bpm)\n",
    "})\n",
    "\n",
    "alt.Chart(source).mark_line().encode(\n",
    "    alt.X('episode'),\n",
    "    alt.Y('avg bpm', scale=alt.Scale(domain=(120, 150))),\n",
    ").properties(\n",
    "    title=\"A State of Trance - Average BPM of episode\"\n",
    ")"
   ]
  },
  {
   "cell_type": "code",
   "execution_count": 8,
   "metadata": {},
   "outputs": [
    {
     "name": "stdout",
     "output_type": "stream",
     "text": [
      "Cloudwalking [ASOT 057] - Beatpusher Remix  -  141.61\n",
      "Ligaya [ASOT 057] - Original Mix  -  141.784\n",
      "Obsession [ASOT 057] - Original Mix  -  136.377\n",
      "Gatex [ASOT 057] - Original Mix  -  184.848\n",
      "Positron [ASOT 057] - Marco V Remix  -  139.264\n",
      "148.7766\n"
     ]
    }
   ],
   "source": [
    "episode_bpm = 0\n",
    "tracks_counted = 0\n",
    "for track in sp.album_tracks('56qM5Y21wbvCW9l5GiAiaV')['items']:\n",
    "    if \"A State Of Trance\" in track['name']:\n",
    "        continue\n",
    "    else:\n",
    "        print(track['name'], ' - ', sp.audio_features(track['uri'])[0]['tempo'])\n",
    "        episode_bpm += sp.audio_features(track['uri'])[0]['tempo']\n",
    "        tracks_counted += 1\n",
    "print(episode_bpm/tracks_counted)"
   ]
  },
  {
   "cell_type": "markdown",
   "metadata": {},
   "source": [
    "Finally, for fun, we can draw a line at 138 BPM to compare."
   ]
  },
  {
   "cell_type": "code",
   "execution_count": 9,
   "metadata": {},
   "outputs": [
    {
     "data": {
      "text/html": [
       "\n",
       "<div id=\"altair-viz-747e54381edc4c308d7ed8567b12596a\"></div>\n",
       "<script type=\"text/javascript\">\n",
       "  (function(spec, embedOpt){\n",
       "    let outputDiv = document.currentScript.previousElementSibling;\n",
       "    if (outputDiv.id !== \"altair-viz-747e54381edc4c308d7ed8567b12596a\") {\n",
       "      outputDiv = document.getElementById(\"altair-viz-747e54381edc4c308d7ed8567b12596a\");\n",
       "    }\n",
       "    const paths = {\n",
       "      \"vega\": \"https://cdn.jsdelivr.net/npm//vega@5?noext\",\n",
       "      \"vega-lib\": \"https://cdn.jsdelivr.net/npm//vega-lib?noext\",\n",
       "      \"vega-lite\": \"https://cdn.jsdelivr.net/npm//vega-lite@4.8.1?noext\",\n",
       "      \"vega-embed\": \"https://cdn.jsdelivr.net/npm//vega-embed@6?noext\",\n",
       "    };\n",
       "\n",
       "    function loadScript(lib) {\n",
       "      return new Promise(function(resolve, reject) {\n",
       "        var s = document.createElement('script');\n",
       "        s.src = paths[lib];\n",
       "        s.async = true;\n",
       "        s.onload = () => resolve(paths[lib]);\n",
       "        s.onerror = () => reject(`Error loading script: ${paths[lib]}`);\n",
       "        document.getElementsByTagName(\"head\")[0].appendChild(s);\n",
       "      });\n",
       "    }\n",
       "\n",
       "    function showError(err) {\n",
       "      outputDiv.innerHTML = `<div class=\"error\" style=\"color:red;\">${err}</div>`;\n",
       "      throw err;\n",
       "    }\n",
       "\n",
       "    function displayChart(vegaEmbed) {\n",
       "      vegaEmbed(outputDiv, spec, embedOpt)\n",
       "        .catch(err => showError(`Javascript Error: ${err.message}<br>This usually means there's a typo in your chart specification. See the javascript console for the full traceback.`));\n",
       "    }\n",
       "\n",
       "    if(typeof define === \"function\" && define.amd) {\n",
       "      requirejs.config({paths});\n",
       "      require([\"vega-embed\"], displayChart, err => showError(`Error loading script: ${err.message}`));\n",
       "    } else if (typeof vegaEmbed === \"function\") {\n",
       "      displayChart(vegaEmbed);\n",
       "    } else {\n",
       "      loadScript(\"vega\")\n",
       "        .then(() => loadScript(\"vega-lite\"))\n",
       "        .then(() => loadScript(\"vega-embed\"))\n",
       "        .catch(showError)\n",
       "        .then(() => displayChart(vegaEmbed));\n",
       "    }\n",
       "  })({\"config\": {\"view\": {\"continuousWidth\": 400, \"continuousHeight\": 300}}, \"layer\": [{\"mark\": \"line\", \"encoding\": {\"x\": {\"type\": \"quantitative\", \"field\": \"episode\"}, \"y\": {\"type\": \"quantitative\", \"field\": \"avg bpm\", \"scale\": {\"domain\": [120, 150]}}}, \"title\": \"A State of Trance - Average BPM of episode\"}, {\"mark\": {\"type\": \"rule\", \"color\": \"red\"}, \"encoding\": {\"y\": {\"type\": \"quantitative\", \"field\": \"138\"}}}], \"data\": {\"name\": \"data-f3281a9c67cb0a2f61beeaa67e232ca8\"}, \"$schema\": \"https://vega.github.io/schema/vega-lite/v4.8.1.json\", \"datasets\": {\"data-f3281a9c67cb0a2f61beeaa67e232ca8\": [{\"episode\": 0, \"avg bpm\": 135.77875, \"138\": 138}, {\"episode\": 1, \"avg bpm\": 138.86957142857142, \"138\": 138}, {\"episode\": 2, \"avg bpm\": 135.95900000000003, \"138\": 138}, {\"episode\": 3, \"avg bpm\": 135.295, \"138\": 138}, {\"episode\": 4, \"avg bpm\": 137.3078, \"138\": 138}, {\"episode\": 5, \"avg bpm\": 137.122875, \"138\": 138}, {\"episode\": 6, \"avg bpm\": 136.12875, \"138\": 138}, {\"episode\": 7, \"avg bpm\": 137.459125, \"138\": 138}, {\"episode\": 8, \"avg bpm\": 136.409, \"138\": 138}, {\"episode\": 9, \"avg bpm\": 138.58033333333333, \"138\": 138}]}}, {\"mode\": \"vega-lite\"});\n",
       "</script>"
      ],
      "text/plain": [
       "alt.LayerChart(...)"
      ]
     },
     "execution_count": 9,
     "metadata": {},
     "output_type": "execute_result"
    }
   ],
   "source": [
    "x = np.arange(len(episode_avg_bpm))\n",
    "\n",
    "source = pd.DataFrame({\n",
    "  'episode': x,\n",
    "  'avg bpm': np.array(episode_avg_bpm)\n",
    "})\n",
    "\n",
    "source['138'] = 138\n",
    "\n",
    "base = alt.Chart(source).mark_line().encode(\n",
    "    alt.X('episode'),\n",
    "    alt.Y('avg bpm', scale=alt.Scale(domain=(120, 150))),\n",
    ").properties(\n",
    "    title=\"A State of Trance - Average BPM of episode\"\n",
    ")\n",
    "\n",
    "rule = alt.Chart(source).mark_rule(color='red').encode(\n",
    "    y='138'\n",
    ")\n",
    "\n",
    "base + rule"
   ]
  },
  {
   "cell_type": "code",
   "execution_count": null,
   "metadata": {},
   "outputs": [],
   "source": []
  },
  {
   "cell_type": "code",
   "execution_count": null,
   "metadata": {},
   "outputs": [],
   "source": []
  }
 ],
 "metadata": {
  "kernelspec": {
   "display_name": "Python 3.7.2 64-bit",
   "language": "python",
   "name": "python37264bitd02087c11aa44bc1836ca911a102f0f5"
  },
  "language_info": {
   "codemirror_mode": {
    "name": "ipython",
    "version": 3
   },
   "file_extension": ".py",
   "mimetype": "text/x-python",
   "name": "python",
   "nbconvert_exporter": "python",
   "pygments_lexer": "ipython3",
   "version": "3.7.2"
  }
 },
 "nbformat": 4,
 "nbformat_minor": 4
}

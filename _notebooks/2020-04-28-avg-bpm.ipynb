{
 "cells": [
  {
   "cell_type": "markdown",
   "metadata": {},
   "source": [
    "# Average Episode BPM\n",
    "> Tracking average episode BPM over time.\n",
    "\n",
    "- toc: true \n",
    "- badges: true\n",
    "- comments: false\n",
    "- categories: [asot]\n",
    "- image: images/chart-preview.png"
   ]
  },
  {
   "cell_type": "code",
   "execution_count": null,
   "metadata": {},
   "outputs": [],
   "source": [
    "#hide\n",
    "import os\n",
    "import yaml\n",
    "import spotipy\n",
    "from spotipy.oauth2 import SpotifyClientCredentials\n",
    "\n",
    "with open('spotipy_credentials.yaml', 'r') as spotipy_credentials_file:\n",
    "    credentials = yaml.safe_load(spotipy_credentials_file)\n",
    "    os.environ[\"SPOTIPY_CLIENT_ID\"] = credentials['spotipy_credentials']['spotipy_client_id']\n",
    "    os.environ[\"SPOTIPY_CLIENT_SECRET\"] = credentials['spotipy_credentials']['spotipi_client_seret']\n",
    "\n",
    "sp = spotipy.Spotify(client_credentials_manager=SpotifyClientCredentials())"
   ]
  },
  {
   "cell_type": "markdown",
   "metadata": {},
   "source": [
    "## Methodology\n",
    "\n",
    "The Spotify Web API can return over a dozen [audio features for a track](https://developer.spotify.com/documentation/web-api/reference/tracks/get-audio-features/), notably `tempo` - \"The overall estimated tempo of a track in beats per minute (BPM).\"\n",
    "\n",
    "Given a Spotify ID, [Spotipy's `audio_features` method](https://spotipy.readthedocs.io/en/2.12.0/?highlight=audio_features#spotipy.client.Spotify.audio_features) can be called as follows:"
   ]
  },
  {
   "cell_type": "code",
   "execution_count": null,
   "metadata": {},
   "outputs": [],
   "source": [
    "\"\"\"\n",
    "Artist: Above & Beyond, Richard Bedford\n",
    "Track: Sun & Moon\n",
    "Track link: https://open.spotify.com/track/2CG1FmeprsyjgHIPNMYCf4\n",
    "Track ID: 2CG1FmeprsyjgHIPNMYCf4\n",
    "\"\"\"\n",
    "sun_and_moon_id = '2CG1FmeprsyjgHIPNMYCf4'\n",
    "audio_features = sp.audio_features(sun_and_moon_id)\n",
    "print(json.dumps(audio_features, indent=2))"
   ]
  },
  {
   "cell_type": "markdown",
   "metadata": {},
   "source": [
    "Conveniently, the entire back catalogue of A State of Trance - 950+ episodes - has been uploaded to Spotify under the artist [\"Armin van Buuren ASOT Radio\"](https://open.spotify.com/artist/25mFVpuABa9GkGcj9eOPce)."
   ]
  },
  {
   "cell_type": "code",
   "execution_count": 12,
   "metadata": {},
   "outputs": [],
   "source": [
    "\n",
    "\n",
    "ASOT_SPOTIFY_ID = '25mFVpuABa9GkGcj9eOPce' # Armin van Buuren ASOT Radio (https://open.spotify.com/artist/25mFVpuABa9GkGcj9eOPce)\n",
    "\n",
    "episodes = []\n",
    "results = sp.artist_albums(ASOT_SPOTIFY_ID, album_type='album')\n",
    "episodes.extend(results['items'])\n",
    "while results['next']:\n",
    "    results = sp.next(results)\n",
    "    episodes.extend(results['items'])\n",
    "seen = set()  # to avoid dups\n",
    "for episode in episodes:\n",
    "    name = episode['name']\n",
    "    if name not in seen:\n",
    "        seen.add(name)\n",
    "\n",
    "episodes = episodes[::-1]"
   ]
  },
  {
   "cell_type": "code",
   "execution_count": 13,
   "metadata": {
    "collapsed": true,
    "jupyter": {
     "outputs_hidden": true
    },
    "tags": [
     "outputPrepend"
    ]
   },
   "outputs": [
    {
     "output_type": "stream",
     "name": "stdout",
     "text": "R\",\n        \"AT\",\n        \"AU\",\n        \"BE\",\n        \"BG\",\n        \"BH\",\n        \"BO\",\n        \"BR\",\n        \"CA\",\n        \"CH\",\n        \"CL\",\n        \"CO\",\n        \"CR\",\n        \"CY\",\n        \"CZ\",\n        \"DE\",\n        \"DK\",\n        \"DO\",\n        \"DZ\",\n        \"EC\",\n        \"EE\",\n        \"EG\",\n        \"ES\",\n        \"FI\",\n        \"FR\",\n        \"GB\",\n        \"GR\",\n        \"GT\",\n        \"HK\",\n        \"HN\",\n        \"HU\",\n        \"ID\",\n        \"IE\",\n        \"IL\",\n        \"IN\",\n        \"IS\",\n        \"IT\",\n        \"JO\",\n        \"JP\",\n        \"KW\",\n        \"LB\",\n        \"LI\",\n        \"LT\",\n        \"LU\",\n        \"LV\",\n        \"MA\",\n        \"MC\",\n        \"MT\",\n        \"MX\",\n        \"MY\",\n        \"NI\",\n        \"NL\",\n        \"NO\",\n        \"NZ\",\n        \"OM\",\n        \"PA\",\n        \"PE\",\n        \"PH\",\n        \"PL\",\n        \"PS\",\n        \"PT\",\n        \"PY\",\n        \"QA\",\n        \"RO\",\n        \"SA\",\n        \"SE\",\n        \"SG\",\n        \"SK\",\n        \"SV\",\n        \"TH\",\n        \"TN\",\n        \"TR\",\n        \"TW\",\n        \"US\",\n        \"UY\",\n        \"VN\",\n        \"ZA\"\n      ],\n      \"disc_number\": 1,\n      \"duration_ms\": 437156,\n      \"explicit\": false,\n      \"external_urls\": {\n        \"spotify\": \"https://open.spotify.com/track/6OqkwRDlfdkMcs7P3TDn5Z\"\n      },\n      \"href\": \"https://api.spotify.com/v1/tracks/6OqkwRDlfdkMcs7P3TDn5Z\",\n      \"id\": \"6OqkwRDlfdkMcs7P3TDn5Z\",\n      \"is_local\": false,\n      \"name\": \"Central Impact [ASOT 003] - Original Mix\",\n      \"preview_url\": \"https://p.scdn.co/mp3-preview/f07b175503a1bd48dc555baa272f692eda237eeb?cid=1a23677e9d3842e4ad8482278dbf3f0f\",\n      \"track_number\": 3,\n      \"type\": \"track\",\n      \"uri\": \"spotify:track:6OqkwRDlfdkMcs7P3TDn5Z\"\n    },\n    {\n      \"artists\": [\n        {\n          \"external_urls\": {\n            \"spotify\": \"https://open.spotify.com/artist/1NocykmnyXK4m6ox0gU5Cb\"\n          },\n          \"href\": \"https://api.spotify.com/v1/artists/1NocykmnyXK4m6ox0gU5Cb\",\n          \"id\": \"1NocykmnyXK4m6ox0gU5Cb\",\n          \"name\": \"Lexicon 4\",\n          \"type\": \"artist\",\n          \"uri\": \"spotify:artist:1NocykmnyXK4m6ox0gU5Cb\"\n        }\n      ],\n      \"available_markets\": [\n        \"AD\",\n        \"AE\",\n        \"AR\",\n        \"AT\",\n        \"AU\",\n        \"BE\",\n        \"BG\",\n        \"BH\",\n        \"BO\",\n        \"BR\",\n        \"CA\",\n        \"CH\",\n        \"CL\",\n        \"CO\",\n        \"CR\",\n        \"CY\",\n        \"CZ\",\n        \"DE\",\n        \"DK\",\n        \"DO\",\n        \"DZ\",\n        \"EC\",\n        \"EE\",\n        \"EG\",\n        \"ES\",\n        \"FI\",\n        \"FR\",\n        \"GB\",\n        \"GR\",\n        \"GT\",\n        \"HK\",\n        \"HN\",\n        \"HU\",\n        \"ID\",\n        \"IE\",\n        \"IL\",\n        \"IN\",\n        \"IS\",\n        \"IT\",\n        \"JO\",\n        \"JP\",\n        \"KW\",\n        \"LB\",\n        \"LI\",\n        \"LT\",\n        \"LU\",\n        \"LV\",\n        \"MA\",\n        \"MC\",\n        \"MT\",\n        \"MX\",\n        \"MY\",\n        \"NI\",\n        \"NL\",\n        \"NO\",\n        \"NZ\",\n        \"OM\",\n        \"PA\",\n        \"PE\",\n        \"PH\",\n        \"PL\",\n        \"PS\",\n        \"PT\",\n        \"PY\",\n        \"QA\",\n        \"RO\",\n        \"SA\",\n        \"SE\",\n        \"SG\",\n        \"SK\",\n        \"SV\",\n        \"TH\",\n        \"TN\",\n        \"TR\",\n        \"TW\",\n        \"US\",\n        \"UY\",\n        \"VN\",\n        \"ZA\"\n      ],\n      \"disc_number\": 1,\n      \"duration_ms\": 473780,\n      \"explicit\": false,\n      \"external_urls\": {\n        \"spotify\": \"https://open.spotify.com/track/4wkPWpOKB26ILcsDLaU5x2\"\n      },\n      \"href\": \"https://api.spotify.com/v1/tracks/4wkPWpOKB26ILcsDLaU5x2\",\n      \"id\": \"4wkPWpOKB26ILcsDLaU5x2\",\n      \"is_local\": false,\n      \"name\": \"Reach Me [ASOT 003] - Original Mix\",\n      \"preview_url\": \"https://p.scdn.co/mp3-preview/0aa4365285c7d465b7923b5dea2b0446c15ffb81?cid=1a23677e9d3842e4ad8482278dbf3f0f\",\n      \"track_number\": 4,\n      \"type\": \"track\",\n      \"uri\": \"spotify:track:4wkPWpOKB26ILcsDLaU5x2\"\n    },\n    {\n      \"artists\": [\n        {\n          \"external_urls\": {\n            \"spotify\": \"https://open.spotify.com/artist/5KZ8bXnO1Q3nGWP2UqmQ3f\"\n          },\n          \"href\": \"https://api.spotify.com/v1/artists/5KZ8bXnO1Q3nGWP2UqmQ3f\",\n          \"id\": \"5KZ8bXnO1Q3nGWP2UqmQ3f\",\n          \"name\": \"Ralphie B\",\n          \"type\": \"artist\",\n          \"uri\": \"spotify:artist:5KZ8bXnO1Q3nGWP2UqmQ3f\"\n        }\n      ],\n      \"available_markets\": [\n        \"AD\",\n        \"AE\",\n        \"AR\",\n        \"AT\",\n        \"AU\",\n        \"BE\",\n        \"BG\",\n        \"BH\",\n        \"BO\",\n        \"BR\",\n        \"CA\",\n        \"CH\",\n        \"CL\",\n        \"CO\",\n        \"CR\",\n        \"CY\",\n        \"CZ\",\n        \"DE\",\n        \"DK\",\n        \"DO\",\n        \"DZ\",\n        \"EC\",\n        \"EE\",\n        \"EG\",\n        \"ES\",\n        \"FI\",\n        \"FR\",\n        \"GB\",\n        \"GR\",\n        \"GT\",\n        \"HK\",\n        \"HN\",\n        \"HU\",\n        \"ID\",\n        \"IE\",\n        \"IL\",\n        \"IN\",\n        \"IS\",\n        \"IT\",\n        \"JO\",\n        \"JP\",\n        \"KW\",\n        \"LB\",\n        \"LI\",\n        \"LT\",\n        \"LU\",\n        \"LV\",\n        \"MA\",\n        \"MC\",\n        \"MT\",\n        \"MX\",\n        \"MY\",\n        \"NI\",\n        \"NL\",\n        \"NO\",\n        \"NZ\",\n        \"OM\",\n        \"PA\",\n        \"PE\",\n        \"PH\",\n        \"PL\",\n        \"PS\",\n        \"PT\",\n        \"PY\",\n        \"QA\",\n        \"RO\",\n        \"SA\",\n        \"SE\",\n        \"SG\",\n        \"SK\",\n        \"SV\",\n        \"TH\",\n        \"TN\",\n        \"TR\",\n        \"TW\",\n        \"US\",\n        \"UY\",\n        \"VN\",\n        \"ZA\"\n      ],\n      \"disc_number\": 1,\n      \"duration_ms\": 432402,\n      \"explicit\": false,\n      \"external_urls\": {\n        \"spotify\": \"https://open.spotify.com/track/6FHO5Y6CqxxaglWGKgDZMB\"\n      },\n      \"href\": \"https://api.spotify.com/v1/tracks/6FHO5Y6CqxxaglWGKgDZMB\",\n      \"id\": \"6FHO5Y6CqxxaglWGKgDZMB\",\n      \"is_local\": false,\n      \"name\": \"Massive [ASOT 003] **Tune Of The Week** - Original Mix\",\n      \"preview_url\": \"https://p.scdn.co/mp3-preview/84fa07d9a634c3987e74737f63129f79008f375e?cid=1a23677e9d3842e4ad8482278dbf3f0f\",\n      \"track_number\": 5,\n      \"type\": \"track\",\n      \"uri\": \"spotify:track:6FHO5Y6CqxxaglWGKgDZMB\"\n    },\n    {\n      \"artists\": [\n        {\n          \"external_urls\": {\n            \"spotify\": \"https://open.spotify.com/artist/2ZpwFriFFPaGFC4qYQQJ1i\"\n          },\n          \"href\": \"https://api.spotify.com/v1/artists/2ZpwFriFFPaGFC4qYQQJ1i\",\n          \"id\": \"2ZpwFriFFPaGFC4qYQQJ1i\",\n          \"name\": \"System F\",\n          \"type\": \"artist\",\n          \"uri\": \"spotify:artist:2ZpwFriFFPaGFC4qYQQJ1i\"\n        },\n        {\n          \"external_urls\": {\n            \"spotify\": \"https://open.spotify.com/artist/0SfsnGyD8FpIN4U4WCkBZ5\"\n          },\n          \"href\": \"https://api.spotify.com/v1/artists/0SfsnGyD8FpIN4U4WCkBZ5\",\n          \"id\": \"0SfsnGyD8FpIN4U4WCkBZ5\",\n          \"name\": \"Armin van Buuren\",\n          \"type\": \"artist\",\n          \"uri\": \"spotify:artist:0SfsnGyD8FpIN4U4WCkBZ5\"\n        }\n      ],\n      \"available_markets\": [\n        \"AD\",\n        \"AE\",\n        \"AR\",\n        \"AT\",\n        \"AU\",\n        \"BE\",\n        \"BG\",\n        \"BH\",\n        \"BO\",\n        \"BR\",\n        \"CA\",\n        \"CH\",\n        \"CL\",\n        \"CO\",\n        \"CR\",\n        \"CY\",\n        \"CZ\",\n        \"DE\",\n        \"DK\",\n        \"DO\",\n        \"DZ\",\n        \"EC\",\n        \"EE\",\n        \"EG\",\n        \"ES\",\n        \"FI\",\n        \"FR\",\n        \"GB\",\n        \"GR\",\n        \"GT\",\n        \"HK\",\n        \"HN\",\n        \"HU\",\n        \"ID\",\n        \"IE\",\n        \"IL\",\n        \"IN\",\n        \"IS\",\n        \"IT\",\n        \"JO\",\n        \"JP\",\n        \"KW\",\n        \"LB\",\n        \"LI\",\n        \"LT\",\n        \"LU\",\n        \"LV\",\n        \"MA\",\n        \"MC\",\n        \"MT\",\n        \"MX\",\n        \"MY\",\n        \"NI\",\n        \"NL\",\n        \"NO\",\n        \"NZ\",\n        \"OM\",\n        \"PA\",\n        \"PE\",\n        \"PH\",\n        \"PL\",\n        \"PS\",\n        \"PT\",\n        \"PY\",\n        \"QA\",\n        \"RO\",\n        \"SA\",\n        \"SE\",\n        \"SG\",\n        \"SK\",\n        \"SV\",\n        \"TH\",\n        \"TN\",\n        \"TR\",\n        \"TW\",\n        \"US\",\n        \"UY\",\n        \"VN\",\n        \"ZA\"\n      ],\n      \"disc_number\": 1,\n      \"duration_ms\": 334687,\n      \"explicit\": false,\n      \"external_urls\": {\n        \"spotify\": \"https://open.spotify.com/track/27UtFUJ4KqzGDKdrNnmj5K\"\n      },\n      \"href\": \"https://api.spotify.com/v1/tracks/27UtFUJ4KqzGDKdrNnmj5K\",\n      \"id\": \"27UtFUJ4KqzGDKdrNnmj5K\",\n      \"is_local\": false,\n      \"name\": \"Exhale [ASOT 003] - Ferry Corsten & Armin van Buuren New Mix\",\n      \"preview_url\": \"https://p.scdn.co/mp3-preview/0715f321f26ffe7412b32b6044f3b92f69009b78?cid=1a23677e9d3842e4ad8482278dbf3f0f\",\n      \"track_number\": 6,\n      \"type\": \"track\",\n      \"uri\": \"spotify:track:27UtFUJ4KqzGDKdrNnmj5K\"\n    },\n    {\n      \"artists\": [\n        {\n          \"external_urls\": {\n            \"spotify\": \"https://open.spotify.com/artist/3HYUBCT2pYtoo0JHztEsRJ\"\n          },\n          \"href\": \"https://api.spotify.com/v1/artists/3HYUBCT2pYtoo0JHztEsRJ\",\n          \"id\": \"3HYUBCT2pYtoo0JHztEsRJ\",\n          \"name\": \"Rising Star\",\n          \"type\": \"artist\",\n          \"uri\": \"spotify:artist:3HYUBCT2pYtoo0JHztEsRJ\"\n        }\n      ],\n      \"available_markets\": [\n        \"AD\",\n        \"AE\",\n        \"AR\",\n        \"AT\",\n        \"AU\",\n        \"BE\",\n        \"BG\",\n        \"BH\",\n        \"BO\",\n        \"BR\",\n        \"CA\",\n        \"CH\",\n        \"CL\",\n        \"CO\",\n        \"CR\",\n        \"CY\",\n        \"CZ\",\n        \"DE\",\n        \"DK\",\n        \"DO\",\n        \"DZ\",\n        \"EC\",\n        \"EE\",\n        \"EG\",\n        \"ES\",\n        \"FI\",\n        \"FR\",\n        \"GB\",\n        \"GR\",\n        \"GT\",\n        \"HK\",\n        \"HN\",\n        \"HU\",\n        \"ID\",\n        \"IE\",\n        \"IL\",\n        \"IN\",\n        \"IS\",\n        \"IT\",\n        \"JO\",\n        \"JP\",\n        \"KW\",\n        \"LB\",\n        \"LI\",\n        \"LT\",\n        \"LU\",\n        \"LV\",\n        \"MA\",\n        \"MC\",\n        \"MT\",\n        \"MX\",\n        \"MY\",\n        \"NI\",\n        \"NL\",\n        \"NO\",\n        \"NZ\",\n        \"OM\",\n        \"PA\",\n        \"PE\",\n        \"PH\",\n        \"PL\",\n        \"PS\",\n        \"PT\",\n        \"PY\",\n        \"QA\",\n        \"RO\",\n        \"SA\",\n        \"SE\",\n        \"SG\",\n        \"SK\",\n        \"SV\",\n        \"TH\",\n        \"TN\",\n        \"TR\",\n        \"TW\",\n        \"US\",\n        \"UY\",\n        \"VN\",\n        \"ZA\"\n      ],\n      \"disc_number\": 1,\n      \"duration_ms\": 368843,\n      \"explicit\": false,\n      \"external_urls\": {\n        \"spotify\": \"https://open.spotify.com/track/0IpxC2zsiV5oDx92VLiomu\"\n      },\n      \"href\": \"https://api.spotify.com/v1/tracks/0IpxC2zsiV5oDx92VLiomu\",\n      \"id\": \"0IpxC2zsiV5oDx92VLiomu\",\n      \"is_local\": false,\n      \"name\": \"Startheme [ASOT 003] - Original Mix\",\n      \"preview_url\": \"https://p.scdn.co/mp3-preview/5dd1c6e008adf6ba2f1d4f2eca47dc1bc9a7734d?cid=1a23677e9d3842e4ad8482278dbf3f0f\",\n      \"track_number\": 7,\n      \"type\": \"track\",\n      \"uri\": \"spotify:track:0IpxC2zsiV5oDx92VLiomu\"\n    },\n    {\n      \"artists\": [\n        {\n          \"external_urls\": {\n            \"spotify\": \"https://open.spotify.com/artist/4tc9NREea7ncB7JzqdBsj5\"\n          },\n          \"href\": \"https://api.spotify.com/v1/artists/4tc9NREea7ncB7JzqdBsj5\",\n          \"id\": \"4tc9NREea7ncB7JzqdBsj5\",\n          \"name\": \"Sister Bliss\",\n          \"type\": \"artist\",\n          \"uri\": \"spotify:artist:4tc9NREea7ncB7JzqdBsj5\"\n        },\n        {\n          \"external_urls\": {\n            \"spotify\": \"https://open.spotify.com/artist/3JulrApLVT81sb2HkfwMks\"\n          },\n          \"href\": \"https://api.spotify.com/v1/artists/3JulrApLVT81sb2HkfwMks\",\n          \"id\": \"3JulrApLVT81sb2HkfwMks\",\n          \"name\": \"John Martyn\",\n          \"type\": \"artist\",\n          \"uri\": \"spotify:artist:3JulrApLVT81sb2HkfwMks\"\n        }\n      ],\n      \"available_markets\": [\n        \"AD\",\n        \"AE\",\n        \"AR\",\n        \"AT\",\n        \"AU\",\n        \"BE\",\n        \"BG\",\n        \"BH\",\n        \"BO\",\n        \"BR\",\n        \"CA\",\n        \"CH\",\n        \"CL\",\n        \"CO\",\n        \"CR\",\n        \"CY\",\n        \"CZ\",\n        \"DE\",\n        \"DK\",\n        \"DO\",\n        \"DZ\",\n        \"EC\",\n        \"EE\",\n        \"EG\",\n        \"ES\",\n        \"FI\",\n        \"FR\",\n        \"GB\",\n        \"GR\",\n        \"GT\",\n        \"HK\",\n        \"HN\",\n        \"HU\",\n        \"ID\",\n        \"IE\",\n        \"IL\",\n        \"IN\",\n        \"IS\",\n        \"IT\",\n        \"JO\",\n        \"JP\",\n        \"KW\",\n        \"LB\",\n        \"LI\",\n        \"LT\",\n        \"LU\",\n        \"LV\",\n        \"MA\",\n        \"MC\",\n        \"MT\",\n        \"MX\",\n        \"MY\",\n        \"NI\",\n        \"NL\",\n        \"NO\",\n        \"NZ\",\n        \"OM\",\n        \"PA\",\n        \"PE\",\n        \"PH\",\n        \"PL\",\n        \"PS\",\n        \"PT\",\n        \"PY\",\n        \"QA\",\n        \"RO\",\n        \"SA\",\n        \"SE\",\n        \"SG\",\n        \"SK\",\n        \"SV\",\n        \"TH\",\n        \"TN\",\n        \"TR\",\n        \"TW\",\n        \"US\",\n        \"UY\",\n        \"VN\",\n        \"ZA\"\n      ],\n      \"disc_number\": 1,\n      \"duration_ms\": 255749,\n      \"explicit\": false,\n      \"external_urls\": {\n        \"spotify\": \"https://open.spotify.com/track/4cFcsWWyKDHIZnrJSuswu5\"\n      },\n      \"href\": \"https://api.spotify.com/v1/tracks/4cFcsWWyKDHIZnrJSuswu5\",\n      \"id\": \"4cFcsWWyKDHIZnrJSuswu5\",\n      \"is_local\": false,\n      \"name\": \"Deliver Me [ASOT 003] - Lee Combs Mix\",\n      \"preview_url\": \"https://p.scdn.co/mp3-preview/6c10fa534dbaa9ea69d3a53be9a65ff5a822d2e4?cid=1a23677e9d3842e4ad8482278dbf3f0f\",\n      \"track_number\": 8,\n      \"type\": \"track\",\n      \"uri\": \"spotify:track:4cFcsWWyKDHIZnrJSuswu5\"\n    },\n    {\n      \"artists\": [\n        {\n          \"external_urls\": {\n            \"spotify\": \"https://open.spotify.com/artist/3HYUBCT2pYtoo0JHztEsRJ\"\n          },\n          \"href\": \"https://api.spotify.com/v1/artists/3HYUBCT2pYtoo0JHztEsRJ\",\n          \"id\": \"3HYUBCT2pYtoo0JHztEsRJ\",\n          \"name\": \"Rising Star\",\n          \"type\": \"artist\",\n          \"uri\": \"spotify:artist:3HYUBCT2pYtoo0JHztEsRJ\"\n        }\n      ],\n      \"available_markets\": [\n        \"AD\",\n        \"AE\",\n        \"AR\",\n        \"AT\",\n        \"AU\",\n        \"BE\",\n        \"BG\",\n        \"BH\",\n        \"BO\",\n        \"BR\",\n        \"CA\",\n        \"CH\",\n        \"CL\",\n        \"CO\",\n        \"CR\",\n        \"CY\",\n        \"CZ\",\n        \"DE\",\n        \"DK\",\n        \"DO\",\n        \"DZ\",\n        \"EC\",\n        \"EE\",\n        \"EG\",\n        \"ES\",\n        \"FI\",\n        \"FR\",\n        \"GB\",\n        \"GR\",\n        \"GT\",\n        \"HK\",\n        \"HN\",\n        \"HU\",\n        \"ID\",\n        \"IE\",\n        \"IL\",\n        \"IN\",\n        \"IS\",\n        \"IT\",\n        \"JO\",\n        \"JP\",\n        \"KW\",\n        \"LB\",\n        \"LI\",\n        \"LT\",\n        \"LU\",\n        \"LV\",\n        \"MA\",\n        \"MC\",\n        \"MT\",\n        \"MX\",\n        \"MY\",\n        \"NI\",\n        \"NL\",\n        \"NO\",\n        \"NZ\",\n        \"OM\",\n        \"PA\",\n        \"PE\",\n        \"PH\",\n        \"PL\",\n        \"PS\",\n        \"PT\",\n        \"PY\",\n        \"QA\",\n        \"RO\",\n        \"SA\",\n        \"SE\",\n        \"SG\",\n        \"SK\",\n        \"SV\",\n        \"TH\",\n        \"TN\",\n        \"TR\",\n        \"TW\",\n        \"US\",\n        \"UY\",\n        \"VN\",\n        \"ZA\"\n      ],\n      \"disc_number\": 1,\n      \"duration_ms\": 491452,\n      \"explicit\": false,\n      \"external_urls\": {\n        \"spotify\": \"https://open.spotify.com/track/5zXb7Xqlm7hluqVComWt8S\"\n      },\n      \"href\": \"https://api.spotify.com/v1/tracks/5zXb7Xqlm7hluqVComWt8S\",\n      \"id\": \"5zXb7Xqlm7hluqVComWt8S\",\n      \"is_local\": false,\n      \"name\": \"Clear Blue Moon [ASOT 003] - Original Mix\",\n      \"preview_url\": \"https://p.scdn.co/mp3-preview/4a696dc636bbf82c9ac87d57992897b1c6036082?cid=1a23677e9d3842e4ad8482278dbf3f0f\",\n      \"track_number\": 9,\n      \"type\": \"track\",\n      \"uri\": \"spotify:track:5zXb7Xqlm7hluqVComWt8S\"\n    },\n    {\n      \"artists\": [\n        {\n          \"external_urls\": {\n            \"spotify\": \"https://open.spotify.com/artist/79jFTJGFRYeOPMM9OgK5iv\"\n          },\n          \"href\": \"https://api.spotify.com/v1/artists/79jFTJGFRYeOPMM9OgK5iv\",\n          \"id\": \"79jFTJGFRYeOPMM9OgK5iv\",\n          \"name\": \"Liquid DJ Team\",\n          \"type\": \"artist\",\n          \"uri\": \"spotify:artist:79jFTJGFRYeOPMM9OgK5iv\"\n        }\n      ],\n      \"available_markets\": [\n        \"AD\",\n        \"AE\",\n        \"AR\",\n        \"AT\",\n        \"AU\",\n        \"BE\",\n        \"BG\",\n        \"BH\",\n        \"BO\",\n        \"BR\",\n        \"CA\",\n        \"CH\",\n        \"CL\",\n        \"CO\",\n        \"CR\",\n        \"CY\",\n        \"CZ\",\n        \"DE\",\n        \"DK\",\n        \"DO\",\n        \"DZ\",\n        \"EC\",\n        \"EE\",\n        \"EG\",\n        \"ES\",\n        \"FI\",\n        \"FR\",\n        \"GB\",\n        \"GR\",\n        \"GT\",\n        \"HK\",\n        \"HN\",\n        \"HU\",\n        \"ID\",\n        \"IE\",\n        \"IL\",\n        \"IN\",\n        \"IS\",\n        \"IT\",\n        \"JO\",\n        \"JP\",\n        \"KW\",\n        \"LB\",\n        \"LI\",\n        \"LT\",\n        \"LU\",\n        \"LV\",\n        \"MA\",\n        \"MC\",\n        \"MT\",\n        \"MX\",\n        \"MY\",\n        \"NI\",\n        \"NL\",\n        \"NO\",\n        \"NZ\",\n        \"OM\",\n        \"PA\",\n        \"PE\",\n        \"PH\",\n        \"PL\",\n        \"PS\",\n        \"PT\",\n        \"PY\",\n        \"QA\",\n        \"RO\",\n        \"SA\",\n        \"SE\",\n        \"SG\",\n        \"SK\",\n        \"SV\",\n        \"TH\",\n        \"TN\",\n        \"TR\",\n        \"TW\",\n        \"US\",\n        \"UY\",\n        \"VN\",\n        \"ZA\"\n      ],\n      \"disc_number\": 1,\n      \"duration_ms\": 116363,\n      \"explicit\": false,\n      \"external_urls\": {\n        \"spotify\": \"https://open.spotify.com/track/6AvR7HwPYmtfj3wwjOqQQl\"\n      },\n      \"href\": \"https://api.spotify.com/v1/tracks/6AvR7HwPYmtfj3wwjOqQQl\",\n      \"id\": \"6AvR7HwPYmtfj3wwjOqQQl\",\n      \"is_local\": false,\n      \"name\": \"Liquidation [ASOT 003] - Marco V Mix\",\n      \"preview_url\": \"https://p.scdn.co/mp3-preview/50badfaba580abea3179af4daf0a4bafd8e4346a?cid=1a23677e9d3842e4ad8482278dbf3f0f\",\n      \"track_number\": 10,\n      \"type\": \"track\",\n      \"uri\": \"spotify:track:6AvR7HwPYmtfj3wwjOqQQl\"\n    },\n    {\n      \"artists\": [\n        {\n          \"external_urls\": {\n            \"spotify\": \"https://open.spotify.com/artist/0SfsnGyD8FpIN4U4WCkBZ5\"\n          },\n          \"href\": \"https://api.spotify.com/v1/artists/0SfsnGyD8FpIN4U4WCkBZ5\",\n          \"id\": \"0SfsnGyD8FpIN4U4WCkBZ5\",\n          \"name\": \"Armin van Buuren\",\n          \"type\": \"artist\",\n          \"uri\": \"spotify:artist:0SfsnGyD8FpIN4U4WCkBZ5\"\n        }\n      ],\n      \"available_markets\": [\n        \"AD\",\n        \"AE\",\n        \"AR\",\n        \"AT\",\n        \"AU\",\n        \"BE\",\n        \"BG\",\n        \"BH\",\n        \"BO\",\n        \"BR\",\n        \"CA\",\n        \"CH\",\n        \"CL\",\n        \"CO\",\n        \"CR\",\n        \"CY\",\n        \"CZ\",\n        \"DE\",\n        \"DK\",\n        \"DO\",\n        \"DZ\",\n        \"EC\",\n        \"EE\",\n        \"EG\",\n        \"ES\",\n        \"FI\",\n        \"FR\",\n        \"GB\",\n        \"GR\",\n        \"GT\",\n        \"HK\",\n        \"HN\",\n        \"HU\",\n        \"ID\",\n        \"IE\",\n        \"IL\",\n        \"IN\",\n        \"IS\",\n        \"IT\",\n        \"JO\",\n        \"JP\",\n        \"KW\",\n        \"LB\",\n        \"LI\",\n        \"LT\",\n        \"LU\",\n        \"LV\",\n        \"MA\",\n        \"MC\",\n        \"MT\",\n        \"MX\",\n        \"MY\",\n        \"NI\",\n        \"NL\",\n        \"NO\",\n        \"NZ\",\n        \"OM\",\n        \"PA\",\n        \"PE\",\n        \"PH\",\n        \"PL\",\n        \"PS\",\n        \"PT\",\n        \"PY\",\n        \"QA\",\n        \"RO\",\n        \"SA\",\n        \"SE\",\n        \"SG\",\n        \"SK\",\n        \"SV\",\n        \"TH\",\n        \"TN\",\n        \"TR\",\n        \"TW\",\n        \"US\",\n        \"UY\",\n        \"VN\",\n        \"ZA\"\n      ],\n      \"disc_number\": 1,\n      \"duration_ms\": 31585,\n      \"explicit\": false,\n      \"external_urls\": {\n        \"spotify\": \"https://open.spotify.com/track/5hshxmi2mWuTaOpOS5hY2w\"\n      },\n      \"href\": \"https://api.spotify.com/v1/tracks/5hshxmi2mWuTaOpOS5hY2w\",\n      \"id\": \"5hshxmi2mWuTaOpOS5hY2w\",\n      \"is_local\": false,\n      \"name\": \"A State Of Trance [ASOT 003] - Outro\",\n      \"preview_url\": \"https://p.scdn.co/mp3-preview/c9fe0b3ad0c473426e154c35e768702650bf270c?cid=1a23677e9d3842e4ad8482278dbf3f0f\",\n      \"track_number\": 11,\n      \"type\": \"track\",\n      \"uri\": \"spotify:track:5hshxmi2mWuTaOpOS5hY2w\"\n    }\n  ],\n  \"limit\": 50,\n  \"next\": null,\n  \"offset\": 0,\n  \"previous\": null,\n  \"total\": 11\n}\n"
    }
   ],
   "source": [
    "#hide\n",
    "import json\n",
    "episode_tracks = sp.album_tracks(episodes[1]['uri'])\n",
    "print(json.dumps(episode_tracks, indent=2))"
   ]
  },
  {
   "cell_type": "code",
   "execution_count": 14,
   "metadata": {},
   "outputs": [
    {
     "output_type": "stream",
     "name": "stdout",
     "text": "[\n  {\n    \"danceability\": 0.588,\n    \"energy\": 0.965,\n    \"key\": 11,\n    \"loudness\": -11.546,\n    \"mode\": 0,\n    \"speechiness\": 0.0587,\n    \"acousticness\": 0.000847,\n    \"instrumentalness\": 0.936,\n    \"liveness\": 0.39,\n    \"valence\": 0.45,\n    \"tempo\": 133.053,\n    \"type\": \"audio_features\",\n    \"id\": \"6OqkwRDlfdkMcs7P3TDn5Z\",\n    \"uri\": \"spotify:track:6OqkwRDlfdkMcs7P3TDn5Z\",\n    \"track_href\": \"https://api.spotify.com/v1/tracks/6OqkwRDlfdkMcs7P3TDn5Z\",\n    \"analysis_url\": \"https://api.spotify.com/v1/audio-analysis/6OqkwRDlfdkMcs7P3TDn5Z\",\n    \"duration_ms\": 437156,\n    \"time_signature\": 4\n  }\n]\n"
    }
   ],
   "source": [
    "#hide\n",
    "audio_features = sp.audio_features(episode_tracks['items'][2]['uri'])\n",
    "print(json.dumps(audio_features, indent=2))"
   ]
  },
  {
   "cell_type": "code",
   "execution_count": 15,
   "metadata": {},
   "outputs": [],
   "source": [
    "import altair as alt\n",
    "import numpy as np\n",
    "import pandas as pd"
   ]
  },
  {
   "cell_type": "code",
   "execution_count": 16,
   "metadata": {},
   "outputs": [
    {
     "output_type": "execute_result",
     "data": {
      "text/html": "\n<div id=\"altair-viz-5d66daf1e9b64a1eb75851064e906407\"></div>\n<script type=\"text/javascript\">\n  (function(spec, embedOpt){\n    let outputDiv = document.currentScript.previousElementSibling;\n    if (outputDiv.id !== \"altair-viz-5d66daf1e9b64a1eb75851064e906407\") {\n      outputDiv = document.getElementById(\"altair-viz-5d66daf1e9b64a1eb75851064e906407\");\n    }\n    const paths = {\n      \"vega\": \"https://cdn.jsdelivr.net/npm//vega@5?noext\",\n      \"vega-lib\": \"https://cdn.jsdelivr.net/npm//vega-lib?noext\",\n      \"vega-lite\": \"https://cdn.jsdelivr.net/npm//vega-lite@4.8.1?noext\",\n      \"vega-embed\": \"https://cdn.jsdelivr.net/npm//vega-embed@6?noext\",\n    };\n\n    function loadScript(lib) {\n      return new Promise(function(resolve, reject) {\n        var s = document.createElement('script');\n        s.src = paths[lib];\n        s.async = true;\n        s.onload = () => resolve(paths[lib]);\n        s.onerror = () => reject(`Error loading script: ${paths[lib]}`);\n        document.getElementsByTagName(\"head\")[0].appendChild(s);\n      });\n    }\n\n    function showError(err) {\n      outputDiv.innerHTML = `<div class=\"error\" style=\"color:red;\">${err}</div>`;\n      throw err;\n    }\n\n    function displayChart(vegaEmbed) {\n      vegaEmbed(outputDiv, spec, embedOpt)\n        .catch(err => showError(`Javascript Error: ${err.message}<br>This usually means there's a typo in your chart specification. See the javascript console for the full traceback.`));\n    }\n\n    if(typeof define === \"function\" && define.amd) {\n      requirejs.config({paths});\n      require([\"vega-embed\"], displayChart, err => showError(`Error loading script: ${err.message}`));\n    } else if (typeof vegaEmbed === \"function\") {\n      displayChart(vegaEmbed);\n    } else {\n      loadScript(\"vega\")\n        .then(() => loadScript(\"vega-lite\"))\n        .then(() => loadScript(\"vega-embed\"))\n        .catch(showError)\n        .then(() => displayChart(vegaEmbed));\n    }\n  })({\"config\": {\"view\": {\"continuousWidth\": 400, \"continuousHeight\": 300}}, \"data\": {\"name\": \"data-710b7bf97c72e9480d74257e5a624f74\"}, \"mark\": \"line\", \"encoding\": {\"x\": {\"type\": \"quantitative\", \"field\": \"track\"}, \"y\": {\"type\": \"quantitative\", \"field\": \"bpm\"}}, \"$schema\": \"https://vega.github.io/schema/vega-lite/v4.8.1.json\", \"datasets\": {\"data-710b7bf97c72e9480d74257e5a624f74\": [{\"track\": 0, \"bpm\": 87.538}, {\"track\": 1, \"bpm\": 133.139}, {\"track\": 2, \"bpm\": 133.053}, {\"track\": 3, \"bpm\": 135.681}, {\"track\": 4, \"bpm\": 138.214}, {\"track\": 5, \"bpm\": 135.372}, {\"track\": 6, \"bpm\": 135.352}, {\"track\": 7, \"bpm\": 135.123}, {\"track\": 8, \"bpm\": 135.765}, {\"track\": 9, \"bpm\": 135.956}, {\"track\": 10, \"bpm\": 138.636}]}}, {\"mode\": \"vega-lite\"});\n</script>",
      "text/plain": "alt.Chart(...)"
     },
     "metadata": {},
     "execution_count": 16
    }
   ],
   "source": [
    "bpm = []\n",
    "for track in episode_tracks['items']:\n",
    "    bpm.append(sp.audio_features(track['uri'])[0]['tempo'])\n",
    "\n",
    "x = np.arange(len(episode_tracks['items']))   \n",
    "\n",
    "source = pd.DataFrame({\n",
    "  'track': x,\n",
    "  'bpm': np.array(bpm)\n",
    "})\n",
    "\n",
    "alt.Chart(source).mark_line().encode(\n",
    "    x='track',\n",
    "    y='bpm'\n",
    ")"
   ]
  },
  {
   "cell_type": "code",
   "execution_count": 17,
   "metadata": {
    "collapsed": true,
    "jupyter": {
     "outputs_hidden": true
    }
   },
   "outputs": [
    {
     "output_type": "stream",
     "name": "stdout",
     "text": "A State Of Trance Episode 001 138.86957142857142\nA State Of Trance Episode 003 135.295\nA State Of Trance Episode 004 137.3078\nA State Of Trance Episode 005 137.122875\nA State Of Trance Episode 007 137.459125\nA State Of Trance Episode 008 136.409\nA State Of Trance Episode 009 138.58033333333333\nA State Of Trance Episode 010 137.5172\nA State Of Trance Episode 012 138.5285\nA State Of Trance Episode 015 138.09266666666667\n"
    }
   ],
   "source": [
    "#hide\n",
    "episode_avg_bpm = []\n",
    "\n",
    "for episode in episodes[:10]:\n",
    "    try:\n",
    "        episode_bpm = 0\n",
    "        tracks_counted = 0\n",
    "        for track in sp.album_tracks(episode['uri'])['items']:\n",
    "            if \"A State Of Trance\" in track['name']:\n",
    "                continue\n",
    "            else:\n",
    "                episode_bpm += sp.audio_features(track['uri'])[0]['tempo']\n",
    "                tracks_counted += 1\n",
    "        avg = episode_bpm/tracks_counted\n",
    "        print(episode['name'], avg)\n",
    "        episode_avg_bpm.append(avg)\n",
    "    except:\n",
    "        pass"
   ]
  },
  {
   "cell_type": "code",
   "execution_count": 18,
   "metadata": {},
   "outputs": [
    {
     "output_type": "execute_result",
     "data": {
      "text/html": "\n<div id=\"altair-viz-965bd6af02e045de87bdc5713c230564\"></div>\n<script type=\"text/javascript\">\n  (function(spec, embedOpt){\n    let outputDiv = document.currentScript.previousElementSibling;\n    if (outputDiv.id !== \"altair-viz-965bd6af02e045de87bdc5713c230564\") {\n      outputDiv = document.getElementById(\"altair-viz-965bd6af02e045de87bdc5713c230564\");\n    }\n    const paths = {\n      \"vega\": \"https://cdn.jsdelivr.net/npm//vega@5?noext\",\n      \"vega-lib\": \"https://cdn.jsdelivr.net/npm//vega-lib?noext\",\n      \"vega-lite\": \"https://cdn.jsdelivr.net/npm//vega-lite@4.8.1?noext\",\n      \"vega-embed\": \"https://cdn.jsdelivr.net/npm//vega-embed@6?noext\",\n    };\n\n    function loadScript(lib) {\n      return new Promise(function(resolve, reject) {\n        var s = document.createElement('script');\n        s.src = paths[lib];\n        s.async = true;\n        s.onload = () => resolve(paths[lib]);\n        s.onerror = () => reject(`Error loading script: ${paths[lib]}`);\n        document.getElementsByTagName(\"head\")[0].appendChild(s);\n      });\n    }\n\n    function showError(err) {\n      outputDiv.innerHTML = `<div class=\"error\" style=\"color:red;\">${err}</div>`;\n      throw err;\n    }\n\n    function displayChart(vegaEmbed) {\n      vegaEmbed(outputDiv, spec, embedOpt)\n        .catch(err => showError(`Javascript Error: ${err.message}<br>This usually means there's a typo in your chart specification. See the javascript console for the full traceback.`));\n    }\n\n    if(typeof define === \"function\" && define.amd) {\n      requirejs.config({paths});\n      require([\"vega-embed\"], displayChart, err => showError(`Error loading script: ${err.message}`));\n    } else if (typeof vegaEmbed === \"function\") {\n      displayChart(vegaEmbed);\n    } else {\n      loadScript(\"vega\")\n        .then(() => loadScript(\"vega-lite\"))\n        .then(() => loadScript(\"vega-embed\"))\n        .catch(showError)\n        .then(() => displayChart(vegaEmbed));\n    }\n  })({\"config\": {\"view\": {\"continuousWidth\": 400, \"continuousHeight\": 300}}, \"data\": {\"name\": \"data-13258c8fd8698588217ce5fbad10034e\"}, \"mark\": \"line\", \"encoding\": {\"x\": {\"type\": \"quantitative\", \"field\": \"episode\"}, \"y\": {\"type\": \"quantitative\", \"field\": \"avg bpm\", \"scale\": {\"domain\": [120, 150]}}}, \"title\": \"A State of Trance - Average BPM of episode\", \"$schema\": \"https://vega.github.io/schema/vega-lite/v4.8.1.json\", \"datasets\": {\"data-13258c8fd8698588217ce5fbad10034e\": [{\"episode\": 0, \"avg bpm\": 138.86957142857142}, {\"episode\": 1, \"avg bpm\": 135.295}, {\"episode\": 2, \"avg bpm\": 137.3078}, {\"episode\": 3, \"avg bpm\": 137.122875}, {\"episode\": 4, \"avg bpm\": 137.459125}, {\"episode\": 5, \"avg bpm\": 136.409}, {\"episode\": 6, \"avg bpm\": 138.58033333333333}, {\"episode\": 7, \"avg bpm\": 137.5172}, {\"episode\": 8, \"avg bpm\": 138.5285}, {\"episode\": 9, \"avg bpm\": 138.09266666666667}]}}, {\"mode\": \"vega-lite\"});\n</script>",
      "text/plain": "alt.Chart(...)"
     },
     "metadata": {},
     "execution_count": 18
    }
   ],
   "source": [
    "x = np.arange(len(episode_avg_bpm))   \n",
    "\n",
    "source = pd.DataFrame({\n",
    "  'episode': x,\n",
    "  'avg bpm': np.array(episode_avg_bpm)\n",
    "})\n",
    "\n",
    "alt.Chart(source).mark_line().encode(\n",
    "    alt.X('episode'),\n",
    "    alt.Y('avg bpm', scale=alt.Scale(domain=(120, 150))),\n",
    ").properties(\n",
    "    title=\"A State of Trance - Average BPM of episode\"\n",
    ")"
   ]
  },
  {
   "cell_type": "code",
   "execution_count": 19,
   "metadata": {},
   "outputs": [
    {
     "output_type": "stream",
     "name": "stdout",
     "text": "Cloudwalking [ASOT 057] - Beatpusher Remix  -  141.61\nLigaya [ASOT 057] - Original Mix  -  141.784\nObsession [ASOT 057] - Original Mix  -  136.377\nGatex [ASOT 057] - Original Mix  -  184.848\nPositron [ASOT 057] - Marco V Remix  -  139.264\n148.7766\n"
    }
   ],
   "source": [
    "episode_bpm = 0\n",
    "tracks_counted = 0\n",
    "for track in sp.album_tracks('56qM5Y21wbvCW9l5GiAiaV')['items']:\n",
    "    if \"A State Of Trance\" in track['name']:\n",
    "        continue\n",
    "    else:\n",
    "        print(track['name'], ' - ', sp.audio_features(track['uri'])[0]['tempo'])\n",
    "        episode_bpm += sp.audio_features(track['uri'])[0]['tempo']\n",
    "        tracks_counted += 1\n",
    "print(episode_bpm/tracks_counted)"
   ]
  },
  {
   "cell_type": "code",
   "execution_count": 20,
   "metadata": {},
   "outputs": [
    {
     "output_type": "execute_result",
     "data": {
      "text/html": "\n<div id=\"altair-viz-275da6e66dc2486782db126d7d62497d\"></div>\n<script type=\"text/javascript\">\n  (function(spec, embedOpt){\n    let outputDiv = document.currentScript.previousElementSibling;\n    if (outputDiv.id !== \"altair-viz-275da6e66dc2486782db126d7d62497d\") {\n      outputDiv = document.getElementById(\"altair-viz-275da6e66dc2486782db126d7d62497d\");\n    }\n    const paths = {\n      \"vega\": \"https://cdn.jsdelivr.net/npm//vega@5?noext\",\n      \"vega-lib\": \"https://cdn.jsdelivr.net/npm//vega-lib?noext\",\n      \"vega-lite\": \"https://cdn.jsdelivr.net/npm//vega-lite@4.8.1?noext\",\n      \"vega-embed\": \"https://cdn.jsdelivr.net/npm//vega-embed@6?noext\",\n    };\n\n    function loadScript(lib) {\n      return new Promise(function(resolve, reject) {\n        var s = document.createElement('script');\n        s.src = paths[lib];\n        s.async = true;\n        s.onload = () => resolve(paths[lib]);\n        s.onerror = () => reject(`Error loading script: ${paths[lib]}`);\n        document.getElementsByTagName(\"head\")[0].appendChild(s);\n      });\n    }\n\n    function showError(err) {\n      outputDiv.innerHTML = `<div class=\"error\" style=\"color:red;\">${err}</div>`;\n      throw err;\n    }\n\n    function displayChart(vegaEmbed) {\n      vegaEmbed(outputDiv, spec, embedOpt)\n        .catch(err => showError(`Javascript Error: ${err.message}<br>This usually means there's a typo in your chart specification. See the javascript console for the full traceback.`));\n    }\n\n    if(typeof define === \"function\" && define.amd) {\n      requirejs.config({paths});\n      require([\"vega-embed\"], displayChart, err => showError(`Error loading script: ${err.message}`));\n    } else if (typeof vegaEmbed === \"function\") {\n      displayChart(vegaEmbed);\n    } else {\n      loadScript(\"vega\")\n        .then(() => loadScript(\"vega-lite\"))\n        .then(() => loadScript(\"vega-embed\"))\n        .catch(showError)\n        .then(() => displayChart(vegaEmbed));\n    }\n  })({\"config\": {\"view\": {\"continuousWidth\": 400, \"continuousHeight\": 300}}, \"layer\": [{\"mark\": \"line\", \"encoding\": {\"x\": {\"type\": \"quantitative\", \"field\": \"episode\"}, \"y\": {\"type\": \"quantitative\", \"field\": \"avg bpm\", \"scale\": {\"domain\": [120, 150]}}}, \"title\": \"A State of Trance - Average BPM of episode\"}, {\"mark\": {\"type\": \"rule\", \"color\": \"red\"}, \"encoding\": {\"y\": {\"type\": \"quantitative\", \"field\": \"138\"}}}], \"data\": {\"name\": \"data-cad850f8eeecf69672a1d8ce0604cd47\"}, \"$schema\": \"https://vega.github.io/schema/vega-lite/v4.8.1.json\", \"datasets\": {\"data-cad850f8eeecf69672a1d8ce0604cd47\": [{\"episode\": 0, \"avg bpm\": 138.86957142857142, \"138\": 138}, {\"episode\": 1, \"avg bpm\": 135.295, \"138\": 138}, {\"episode\": 2, \"avg bpm\": 137.3078, \"138\": 138}, {\"episode\": 3, \"avg bpm\": 137.122875, \"138\": 138}, {\"episode\": 4, \"avg bpm\": 137.459125, \"138\": 138}, {\"episode\": 5, \"avg bpm\": 136.409, \"138\": 138}, {\"episode\": 6, \"avg bpm\": 138.58033333333333, \"138\": 138}, {\"episode\": 7, \"avg bpm\": 137.5172, \"138\": 138}, {\"episode\": 8, \"avg bpm\": 138.5285, \"138\": 138}, {\"episode\": 9, \"avg bpm\": 138.09266666666667, \"138\": 138}]}}, {\"mode\": \"vega-lite\"});\n</script>",
      "text/plain": "alt.LayerChart(...)"
     },
     "metadata": {},
     "execution_count": 20
    }
   ],
   "source": [
    "x = np.arange(len(episode_avg_bpm))\n",
    "\n",
    "source = pd.DataFrame({\n",
    "  'episode': x,\n",
    "  'avg bpm': np.array(episode_avg_bpm)\n",
    "})\n",
    "\n",
    "source['138'] = 138\n",
    "\n",
    "base = alt.Chart(source).mark_line().encode(\n",
    "    alt.X('episode'),\n",
    "    alt.Y('avg bpm', scale=alt.Scale(domain=(120, 150))),\n",
    ").properties(\n",
    "    title=\"A State of Trance - Average BPM of episode\"\n",
    ")\n",
    "\n",
    "rule = alt.Chart(source).mark_rule(color='red').encode(\n",
    "    y='138'\n",
    ")\n",
    "\n",
    "base + rule"
   ]
  }
 ],
 "metadata": {
  "kernelspec": {
   "display_name": "Python 3.7.2 64-bit",
   "language": "python",
   "name": "python37264bitd02087c11aa44bc1836ca911a102f0f5"
  },
  "language_info": {
   "codemirror_mode": {
    "name": "ipython",
    "version": 3
   },
   "file_extension": ".py",
   "mimetype": "text/x-python",
   "name": "python",
   "nbconvert_exporter": "python",
   "pygments_lexer": "ipython3",
   "version": "3.7.2-final"
  }
 },
 "nbformat": 4,
 "nbformat_minor": 4
}
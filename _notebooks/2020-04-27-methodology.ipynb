{
 "cells": [
  {
   "cell_type": "markdown",
   "metadata": {},
   "source": [
    "# Methodology\n",
    "> Explorations and explanations.\n",
    "\n",
    "- toc: false \n",
    "- badges: true\n",
    "- comments: false\n",
    "- categories: [asot, bpm]\n",
    "- image: images/methodology.png"
   ]
  },
  {
   "cell_type": "code",
   "execution_count": 2,
   "metadata": {},
   "outputs": [
    {
     "name": "stdout",
     "output_type": "stream",
     "text": [
      "Requirement already satisfied: pyyaml in /usr/local/lib/python3.8/dist-packages (5.3.1)\n",
      "Collecting spotipy\n",
      "  Downloading spotipy-2.16.1-py3-none-any.whl (24 kB)\n",
      "Requirement already satisfied: requests>=2.20.0 in /usr/lib/python3/dist-packages (from spotipy) (2.22.0)\n",
      "Requirement already satisfied: six>=1.10.0 in /usr/lib/python3/dist-packages (from spotipy) (1.14.0)\n",
      "Installing collected packages: spotipy\n",
      "Successfully installed spotipy-2.16.1\n",
      "\u001b[33mWARNING: You are using pip version 20.3.3; however, version 21.0 is available.\n",
      "You should consider upgrading via the '/usr/bin/python -m pip install --upgrade pip' command.\u001b[0m\n",
      "Note: you may need to restart the kernel to use updated packages.\n"
     ]
    }
   ],
   "source": [
    "%pip install spotipy pyyaml"
   ]
  },
  {
   "cell_type": "code",
   "execution_count": 3,
   "metadata": {},
   "outputs": [
    {
     "name": "stdout",
     "output_type": "stream",
     "text": [
      "environ({'PATH': '/usr/local/sbin:/usr/local/bin:/usr/sbin:/usr/bin:/sbin:/bin', 'HOSTNAME': '2bf517ab2616', 'TERM': 'xterm-color', 'SPOTIPY_CLIENT_ID': '1a23677e9d3842e4ad8482278dbf3f0f', 'SPOTIPY_CLIENT_SECRET': '7f714cf394534cf9953a94007213a080', 'LANG': 'C.UTF-8', 'LC_ALL': 'C.UTF-8', 'DEBIAN_FRONTEND': 'noninteractive', 'HOME': '/root', 'SHELL': '/bin/bash', 'JPY_PARENT_PID': '1', 'CLICOLOR': '1', 'PAGER': 'cat', 'GIT_PAGER': 'cat', 'MPLBACKEND': 'module://ipykernel.pylab.backend_inline'})\n"
     ]
    }
   ],
   "source": [
    "#hide\n",
    "import os\n",
    "import yaml\n",
    "import spotipy\n",
    "import json \n",
    "from spotipy.oauth2 import SpotifyClientCredentials\n",
    "\n",
    "SPOTIPY_CLIENT_ID = os.getenv(\"SPOTIPY_CLIENT_ID\")\n",
    "SPOTIPY_CLIENT_SECRET = os.getenv(\"SPOTIPY_CLIENT_SECRET\")\n",
    "\n",
    "print(os.environ)\n",
    "\n",
    "sp = spotipy.Spotify(client_credentials_manager=SpotifyClientCredentials())"
   ]
  },
  {
   "cell_type": "markdown",
   "metadata": {},
   "source": [
    "The Spotify Web API can return over a dozen [audio features for a track](https://developer.spotify.com/documentation/web-api/reference/tracks/get-audio-features/), notably `tempo` - \"The overall estimated tempo of a track in beats per minute (BPM).\"\n",
    "\n",
    "Given a Spotify ID, [Spotipy's `audio_features` method](https://spotipy.readthedocs.io/en/latest/?highlight=audio_features#spotipy.client.Spotify.audio_features) can be called as follows:"
   ]
  },
  {
   "cell_type": "code",
   "execution_count": 4,
   "metadata": {},
   "outputs": [
    {
     "name": "stdout",
     "output_type": "stream",
     "text": [
      "[\n",
      "  {\n",
      "    \"danceability\": 0.691,\n",
      "    \"energy\": 0.522,\n",
      "    \"key\": 6,\n",
      "    \"loudness\": -8.024,\n",
      "    \"mode\": 0,\n",
      "    \"speechiness\": 0.0908,\n",
      "    \"acousticness\": 0.0216,\n",
      "    \"instrumentalness\": 0.0141,\n",
      "    \"liveness\": 0.125,\n",
      "    \"valence\": 0.187,\n",
      "    \"tempo\": 133.995,\n",
      "    \"type\": \"audio_features\",\n",
      "    \"id\": \"2CG1FmeprsyjgHIPNMYCf4\",\n",
      "    \"uri\": \"spotify:track:2CG1FmeprsyjgHIPNMYCf4\",\n",
      "    \"track_href\": \"https://api.spotify.com/v1/tracks/2CG1FmeprsyjgHIPNMYCf4\",\n",
      "    \"analysis_url\": \"https://api.spotify.com/v1/audio-analysis/2CG1FmeprsyjgHIPNMYCf4\",\n",
      "    \"duration_ms\": 326267,\n",
      "    \"time_signature\": 4\n",
      "  }\n",
      "]\n"
     ]
    }
   ],
   "source": [
    "\"\"\"\n",
    "Artist: Above & Beyond, Richard Bedford\n",
    "Track: Sun & Moon\n",
    "Track link: https://open.spotify.com/track/2CG1FmeprsyjgHIPNMYCf4\n",
    "Track ID: 2CG1FmeprsyjgHIPNMYCf4\n",
    "\"\"\"\n",
    "sun_and_moon_id = '2CG1FmeprsyjgHIPNMYCf4'\n",
    "audio_features = sp.audio_features(sun_and_moon_id)\n",
    "print(json.dumps(audio_features, indent=2))"
   ]
  },
  {
   "cell_type": "markdown",
   "metadata": {},
   "source": [
    "Nice! Looks like the \"`tempo`\", or BPM, of this track is around 133. Let's continue.\n",
    "\n",
    "Conveniently, the entire back catalogue of A State of Trance - 950+ episodes - has been uploaded to Spotify under the artist [\"Armin van Buuren ASOT Radio\"](https://open.spotify.com/artist/25mFVpuABa9GkGcj9eOPce). [Spotipy's `artist_albums` method](https://spotipy.readthedocs.io/en/2.12.0/?highlight=audio_features#spotipy.client.Spotify.artist_albums) can list them for us, courtesy [spotipy/examples/artist_albums.py](https://github.com/plamere/spotipy/blob/2584d8cf5675ce877f773112a76d42fe36f8a1d1/examples/artist_albums.py#L29-L42):"
   ]
  },
  {
   "cell_type": "code",
   "execution_count": 3,
   "metadata": {},
   "outputs": [],
   "source": [
    "\"\"\"\n",
    "Artist: Armin van Buuren ASOT Radio\n",
    "Artist link: https://open.spotify.com/artist/25mFVpuABa9GkGcj9eOPce\n",
    "Artist ID: 25mFVpuABa9GkGcj9eOPce\n",
    "\"\"\"\n",
    "\n",
    "asot_radio_id = '25mFVpuABa9GkGcj9eOPce'\n",
    "\n",
    "albums = []\n",
    "results = sp.artist_albums(asot_radio_id, album_type='album')\n",
    "albums.extend(results['items'])\n",
    "while results['next']:\n",
    "    results = sp.next(results)\n",
    "    albums.extend(results['items'])\n",
    "seen = set()  # to avoid dups\n",
    "for album in albums:\n",
    "    name = album['name']\n",
    "    if name not in seen:\n",
    "        seen.add(name)\n",
    "\n",
    "albums.sort(key=lambda x: x['release_date']) # Sort by release date"
   ]
  },
  {
   "cell_type": "markdown",
   "metadata": {},
   "source": [
    "Cool, our list `albums` should now contain every episode of A State of Trance! Let's take a quick look.."
   ]
  },
  {
   "cell_type": "code",
   "execution_count": 4,
   "metadata": {},
   "outputs": [
    {
     "name": "stdout",
     "output_type": "stream",
     "text": [
      "A State Of Trance Episode 001\n",
      "A State Of Trance Episode 003\n",
      "A State Of Trance Episode 004\n",
      "A State Of Trance Episode 005\n",
      "A State Of Trance Episode 007\n",
      "A State Of Trance Episode 008\n",
      "A State Of Trance Episode 009\n",
      "A State Of Trance Episode 010\n",
      "A State Of Trance Episode 012\n",
      "A State Of Trance Episode 015\n"
     ]
    }
   ],
   "source": [
    "# Print the names of the first 10 episodes\n",
    "for album in albums[:10]:\n",
    "    print(album['name'])"
   ]
  },
  {
   "cell_type": "markdown",
   "metadata": {},
   "source": [
    "Hm, aren't we missing a few?"
   ]
  },
  {
   "cell_type": "code",
   "execution_count": 5,
   "metadata": {},
   "outputs": [
    {
     "data": {
      "text/plain": [
       "935"
      ]
     },
     "execution_count": 5,
     "metadata": {},
     "output_type": "execute_result"
    }
   ],
   "source": [
    "# How many episodes?\n",
    "len(albums)"
   ]
  },
  {
   "cell_type": "markdown",
   "metadata": {},
   "source": [
    "For some reason 25 early episodes are classified as \"Singles and EPs\". Let's grab those as well, and add them to the list."
   ]
  },
  {
   "cell_type": "code",
   "execution_count": 6,
   "metadata": {},
   "outputs": [
    {
     "name": "stdout",
     "output_type": "stream",
     "text": [
      "A State Of Trance Episode 000\n",
      "A State Of Trance Episode 001\n",
      "A State Of Trance Episode 002\n",
      "A State Of Trance Episode 003\n",
      "A State Of Trance Episode 004\n",
      "A State Of Trance Episode 005\n",
      "A State Of Trance Episode 006\n",
      "A State Of Trance Episode 007\n",
      "A State Of Trance Episode 008\n",
      "A State Of Trance Episode 009\n"
     ]
    }
   ],
   "source": [
    "\"\"\"\n",
    "Artist: Armin van Buuren ASOT Radio\n",
    "Artist link: https://open.spotify.com/artist/25mFVpuABa9GkGcj9eOPce\n",
    "Artist ID: 25mFVpuABa9GkGcj9eOPce\n",
    "\"\"\"\n",
    "\n",
    "asot_radio_id = '25mFVpuABa9GkGcj9eOPce'\n",
    "\n",
    "singles = []\n",
    "results = sp.artist_albums(asot_radio_id, album_type='single')\n",
    "singles.extend(results['items'])\n",
    "while results['next']:\n",
    "    results = sp.next(results)\n",
    "    singles.extend(results['items'])\n",
    "seen = set()  # to avoid dups\n",
    "for single in singles:\n",
    "    name = single['name']\n",
    "    if name not in seen:\n",
    "        seen.add(name)\n",
    "\n",
    "episodes = singles + albums\n",
    "\n",
    "episodes.sort(key=lambda x: x['release_date']) # Sort by release date\n",
    "\n",
    "for episode in episodes[:10]:\n",
    "    print(episode['name'])"
   ]
  },
  {
   "cell_type": "markdown",
   "metadata": {},
   "source": [
    "Nice!"
   ]
  },
  {
   "cell_type": "code",
   "execution_count": 7,
   "metadata": {},
   "outputs": [
    {
     "data": {
      "text/plain": [
       "960"
      ]
     },
     "execution_count": 7,
     "metadata": {},
     "output_type": "execute_result"
    }
   ],
   "source": [
    "# Now how many episodes?\n",
    "len(episodes)"
   ]
  },
  {
   "cell_type": "markdown",
   "metadata": {},
   "source": [
    "Great, that's every available episode as of writing. Let's see what we can do with all this, starting with a tracklist courtesy of [Spotipy's `album_tracks` method](https://spotipy.readthedocs.io/en/latest/?highlight=audio_features#spotipy.client.Spotify.album_tracks):"
   ]
  },
  {
   "cell_type": "code",
   "execution_count": 8,
   "metadata": {
    "tags": [
     "outputPrepend"
    ]
   },
   "outputs": [
    {
     "name": "stdout",
     "output_type": "stream",
     "text": [
      "Armin van Buuren - A State Of Trance [ASOT 001] - Intro\n",
      "Liquid DJ Team - Liquidation [ASOT 001] - Marco V Mix\n",
      "The Ultimate Seduction - The Ultimate Seduction [ASOT 001] **ASOT Radio Classic** - Original Mix\n",
      "System F - Exhale [ASOT 001] - Ferry Corsten & Armin van Buuren New Mix\n",
      "Rising Star - Clear Blue Moon [ASOT 001] - Original Mix\n",
      "Ralphie B - Massive [ASOT 001] - Original Mix\n",
      "Rank 1 - Such is Life [ASOT 001] - Original Mix\n",
      "Armin van Buuren - Blue Fear [ASOT 001] - Original Mix\n",
      "Armin van Buuren - A State Of Trance [ASOT 001] - Outro\n"
     ]
    }
   ],
   "source": [
    "# Print every available Artist - Track from ASOT 001\n",
    "for track in sp.album_tracks(episodes[1]['uri'])['items']:\n",
    "    print(track['artists'][0]['name'], '-', track['name'])"
   ]
  },
  {
   "cell_type": "markdown",
   "metadata": {},
   "source": [
    "Seems most of the early episodes are missing a bunch of tracks unfortunately, [A State of Trance's website reports twice as many tracks in this episode](http://www.astateoftrance.com/episodes/episode-001/) and we'll want to remove the intro and outro as well.\n",
    "\n",
    "Looking at a more recent episode:"
   ]
  },
  {
   "cell_type": "code",
   "execution_count": 9,
   "metadata": {},
   "outputs": [
    {
     "name": "stdout",
     "output_type": "stream",
     "text": [
      "Armin van Buuren - A State Of Trance (ASOT 950 - Part 1) - Intro\n",
      "Armin van Buuren - Let The Music Guide You (ASOT 950 Anthem) [ASOT 950 - Part 1]\n",
      "Armin van Buuren - A State Of Trance (ASOT 950 - Part 1) - Coming Up, Pt. 1\n",
      "Armin van Buuren - A State Of Trance (ASOT 950 - Part 1) - Service For Dreamers Special, Pt. 1\n",
      "Armin van Buuren - A State Of Trance (ASOT 950 - Part 1) - ASOT 950 Event, Pt. 1\n",
      "Armin van Buuren - A State Of Trance (ASOT 950 - Part 1) - Requested by Alana Katherine & Reanna Parsons from Canada, Pt. 1\n",
      "Armin van Buuren - A State Of Trance (ASOT 950 - Part 1) - Requested by Alana Katherine & Reanna Parsons from Canada, Pt. 2\n",
      "Tritonal & Jeza - I Can Breathe (ASOT 950 - Part 1) - Tritonal Club Mix\n",
      "Armin van Buuren - A State Of Trance (ASOT 950 - Part 1) - Requested by Codrin Lustin from Romania\n",
      "Super8 & Tab - Nino (ASOT 950 - Part 1)\n",
      "Armin van Buuren - A State Of Trance (ASOT 950 - Part 1) - Requested by Jaime Oliveira from Portugal\n",
      "Mark Knight & D. Ramirez & Underworld & Armin van Buuren - Downpipe (ASOT 950 - Part 1) - Armin van Buuren Remix\n",
      "Armin van Buuren - A State Of Trance (ASOT 950 - Part 1) - Requested by James Holloway from the UK\n",
      "Oliver Smith - Chordplay (ASOT 950 - Part 1)\n",
      "Armin van Buuren - A State Of Trance (ASOT 950 - Part 1) - Requested by Ilan Bluestone & Maor Levi, Pt. 1\n",
      "Armin van Buuren - A State Of Trance (ASOT 950 - Part 1) - Requested by Ilan Bluestone & Maor Levi, Pt. 2\n",
      "Armin van Buuren & Sharon Den Adel & Ilan Bluestone & Maor Levi - In And Out Of Love (ASOT 950 - Part 1) - ilan Bluestone & Maor Levi Remix\n",
      "Armin van Buuren - A State Of Trance (ASOT 950 - Part 1) - Requested by Raymundo from Canada\n",
      "Armin van Buuren - A State Of Trance (ASOT 950 - Part 1) - Coming Up, Pt. 2\n",
      "Assaf & Cassandra Grey - All Of You (ASOT 950 - Part 1)\n",
      "Armin van Buuren - A State Of Trance (ASOT 950 - Part 1) - Requested by Rafael from The Philippines\n",
      "Jorn Van Deynhoven - New Horizons (A State Of Trance 650 Anthem) [ASOT 950 - Part 1]\n",
      "Armin van Buuren - A State Of Trance (ASOT 950 - Part 1) - Requested by Michiel & Veronique from The Netherlands\n",
      "Ferry Corsten & Betsie Larkin - Made Of Love (ASOT 950 - Part 1)\n",
      "Armin van Buuren - A State Of Trance (ASOT 950 - Part 1) - Requested by Pedro Soussa from Portugal, Pt. 1\n",
      "Armin van Buuren - A State Of Trance (ASOT 950 - Part 1) - Requested by Pedro Soussa from Portugal, Pt. 2\n",
      "Eco - A Million Sounds, A Thousand Smiles (ASOT 950 - Part 1)\n",
      "Armin van Buuren - A State Of Trance (ASOT 950 - Part 1) - Requested by Edwin and Susana from Canada\n",
      "Dennis Sheperd & Cold Blue & Ana Criado - Fallen Angel (ASOT 950 - Part 1) - Dennis Sheperd Club Mix\n",
      "Armin van Buuren - A State Of Trance (ASOT 950 - Part 1) - Requested by Abdul Rahman from Canada\n",
      "Omnia & Everything By Electricity - Bones (ASOT 950 - Part 1)\n",
      "Armin van Buuren - A State Of Trance (ASOT 950 - Part 1) - Thank You!\n",
      "Armin van Buuren - A State Of Trance (ASOT 950 - Part 1) - Track Recap, Pt. 1\n",
      "Armin van Buuren - A State Of Trance (ASOT 950 - Part 1) - Requested by Kyle Assue from Trinidad and Tobago, Pt. 1\n",
      "Armin van Buuren - A State Of Trance (ASOT 950 - Part 1) - Requested by Kyle Assue from Trinidad and Tobago, Pt. 2\n",
      "Armin van Buuren - The Train (ASOT 950 - Part 1)\n",
      "Armin van Buuren - A State Of Trance (ASOT 950 - Part 1) - Track Recap, Pt. 2\n",
      "Armin van Buuren - A State Of Trance (ASOT 950 - Part 1) - Stay Tuned For More\n",
      "Armin van Buuren - A State Of Trance (ASOT 950 - Part 1) - Requested by Maxim from Germany\n",
      "Armin van Buuren & Shapov - The Last Dancer (ASOT 950 - Part 1)\n",
      "Armin van Buuren - A State Of Trance (ASOT 950 - Part 1) - Requested by Mauricio from Brazil\n",
      "HALIENE & Ruben de Ronde - Dream In Color (ASOT 950 - Part 1) - Ruben de Ronde Remix\n",
      "Armin van Buuren - A State Of Trance (ASOT 950 - Part 1) - Requested by Tita from Canada\n",
      "Armin van Buuren & Avian Grays & Jordan Shaw - Something Real (ASOT 950 - Part 1)\n",
      "Armin van Buuren - A State Of Trance (ASOT 950 - Part 1) - Requested by Mr. and Mrs. ReOrder from Czech Republic\n",
      "Above & Beyond & Richard Bedford - Sun & Moon (ASOT 950 - Part 1) - Club Mix\n",
      "Armin van Buuren - A State Of Trance (ASOT 950 - Part 1) - Requested by Jeffrey from the USA\n",
      "Armin van Buuren & Fiora & Beat Service - Waiting For The Night (ASOT 950 - Part 1) - Beat Service Remix\n",
      "Armin van Buuren - A State Of Trance (ASOT 950 - Part 1) - Requested by Damian Panek from Poland\n",
      "Shogun - Laputa (ASOT 950 - Part 1)\n"
     ]
    }
   ],
   "source": [
    "# Print every available Artist - Track from ASOT 950 - Part 2\n",
    "for track in sp.album_tracks(episodes[945]['uri'])['items']:\n",
    "    track_artist = track['artists'][0]['name']\n",
    "    for artist in track['artists'][1:]:\n",
    "        track_artist += \" & \" + artist['name']\n",
    "    print(track_artist, '-', track['name'])"
   ]
  },
  {
   "cell_type": "markdown",
   "metadata": {},
   "source": [
    "The more recent episodes feature a Spotify exclusive - voiceover interludes! Seems they all contain \"A State of Trance\" though, same with the regular intros and outros.\n",
    "\n",
    "Without them:"
   ]
  },
  {
   "cell_type": "code",
   "execution_count": 10,
   "metadata": {},
   "outputs": [
    {
     "name": "stdout",
     "output_type": "stream",
     "text": [
      "Armin van Buuren - Let The Music Guide You (ASOT 950 Anthem) [ASOT 950 - Part 1]\n",
      "Tritonal & Jeza - I Can Breathe (ASOT 950 - Part 1) - Tritonal Club Mix\n",
      "Super8 & Tab - Nino (ASOT 950 - Part 1)\n",
      "Mark Knight & D. Ramirez & Underworld & Armin van Buuren - Downpipe (ASOT 950 - Part 1) - Armin van Buuren Remix\n",
      "Oliver Smith - Chordplay (ASOT 950 - Part 1)\n",
      "Armin van Buuren & Sharon Den Adel & Ilan Bluestone & Maor Levi - In And Out Of Love (ASOT 950 - Part 1) - ilan Bluestone & Maor Levi Remix\n",
      "Assaf & Cassandra Grey - All Of You (ASOT 950 - Part 1)\n",
      "Ferry Corsten & Betsie Larkin - Made Of Love (ASOT 950 - Part 1)\n",
      "Eco - A Million Sounds, A Thousand Smiles (ASOT 950 - Part 1)\n",
      "Dennis Sheperd & Cold Blue & Ana Criado - Fallen Angel (ASOT 950 - Part 1) - Dennis Sheperd Club Mix\n",
      "Omnia & Everything By Electricity - Bones (ASOT 950 - Part 1)\n",
      "Armin van Buuren - The Train (ASOT 950 - Part 1)\n",
      "Armin van Buuren & Shapov - The Last Dancer (ASOT 950 - Part 1)\n",
      "HALIENE & Ruben de Ronde - Dream In Color (ASOT 950 - Part 1) - Ruben de Ronde Remix\n",
      "Armin van Buuren & Avian Grays & Jordan Shaw - Something Real (ASOT 950 - Part 1)\n",
      "Above & Beyond & Richard Bedford - Sun & Moon (ASOT 950 - Part 1) - Club Mix\n",
      "Armin van Buuren & Fiora & Beat Service - Waiting For The Night (ASOT 950 - Part 1) - Beat Service Remix\n",
      "Shogun - Laputa (ASOT 950 - Part 1)\n"
     ]
    }
   ],
   "source": [
    "# Print every available Artist - Track from ASOT 950 - Part 2 (actual songs only)\n",
    "episode_tracks = sp.album_tracks(episodes[945]['uri'])['items']\n",
    "pruned_tracks = []\n",
    "\n",
    "for track in episode_tracks:\n",
    "    if \"a state of trance\" in track['name'].lower() or \"- interview\" in track['name'].lower():\n",
    "        continue\n",
    "    else:\n",
    "        pruned_tracks.append(track)\n",
    "        track_artist = track['artists'][0]['name']\n",
    "        for artist in track['artists'][1:]:\n",
    "            track_artist += \" & \" + artist['name']\n",
    "        print(track_artist, '-', track['name'])"
   ]
  },
  {
   "cell_type": "markdown",
   "metadata": {},
   "source": [
    "Much better! Finally, for fun, let's track this episode's BPM over time using some visualization libraries:"
   ]
  },
  {
   "cell_type": "code",
   "execution_count": 11,
   "metadata": {},
   "outputs": [],
   "source": [
    "import altair as alt\n",
    "import numpy as np\n",
    "import pandas as pd"
   ]
  },
  {
   "cell_type": "code",
   "execution_count": 12,
   "metadata": {},
   "outputs": [
    {
     "data": {
      "text/html": [
       "\n",
       "<div id=\"altair-viz-e8662d781d78475594611185b5241188\"></div>\n",
       "<script type=\"text/javascript\">\n",
       "  (function(spec, embedOpt){\n",
       "    let outputDiv = document.currentScript.previousElementSibling;\n",
       "    if (outputDiv.id !== \"altair-viz-e8662d781d78475594611185b5241188\") {\n",
       "      outputDiv = document.getElementById(\"altair-viz-e8662d781d78475594611185b5241188\");\n",
       "    }\n",
       "    const paths = {\n",
       "      \"vega\": \"https://cdn.jsdelivr.net/npm//vega@5?noext\",\n",
       "      \"vega-lib\": \"https://cdn.jsdelivr.net/npm//vega-lib?noext\",\n",
       "      \"vega-lite\": \"https://cdn.jsdelivr.net/npm//vega-lite@4.8.1?noext\",\n",
       "      \"vega-embed\": \"https://cdn.jsdelivr.net/npm//vega-embed@6?noext\",\n",
       "    };\n",
       "\n",
       "    function loadScript(lib) {\n",
       "      return new Promise(function(resolve, reject) {\n",
       "        var s = document.createElement('script');\n",
       "        s.src = paths[lib];\n",
       "        s.async = true;\n",
       "        s.onload = () => resolve(paths[lib]);\n",
       "        s.onerror = () => reject(`Error loading script: ${paths[lib]}`);\n",
       "        document.getElementsByTagName(\"head\")[0].appendChild(s);\n",
       "      });\n",
       "    }\n",
       "\n",
       "    function showError(err) {\n",
       "      outputDiv.innerHTML = `<div class=\"error\" style=\"color:red;\">${err}</div>`;\n",
       "      throw err;\n",
       "    }\n",
       "\n",
       "    function displayChart(vegaEmbed) {\n",
       "      vegaEmbed(outputDiv, spec, embedOpt)\n",
       "        .catch(err => showError(`Javascript Error: ${err.message}<br>This usually means there's a typo in your chart specification. See the javascript console for the full traceback.`));\n",
       "    }\n",
       "\n",
       "    if(typeof define === \"function\" && define.amd) {\n",
       "      requirejs.config({paths});\n",
       "      require([\"vega-embed\"], displayChart, err => showError(`Error loading script: ${err.message}`));\n",
       "    } else if (typeof vegaEmbed === \"function\") {\n",
       "      displayChart(vegaEmbed);\n",
       "    } else {\n",
       "      loadScript(\"vega\")\n",
       "        .then(() => loadScript(\"vega-lite\"))\n",
       "        .then(() => loadScript(\"vega-embed\"))\n",
       "        .catch(showError)\n",
       "        .then(() => displayChart(vegaEmbed));\n",
       "    }\n",
       "  })({\"config\": {\"view\": {\"continuousWidth\": 400, \"continuousHeight\": 300}}, \"data\": {\"name\": \"data-dca04cffd4b9f7cc1cb85a0e0c7c12c9\"}, \"mark\": \"line\", \"encoding\": {\"x\": {\"type\": \"quantitative\", \"field\": \"track\"}, \"y\": {\"type\": \"quantitative\", \"field\": \"bpm\", \"scale\": {\"domain\": [120, 150]}}}, \"title\": \"ASOT 950 Part 2 - BPM of track\", \"$schema\": \"https://vega.github.io/schema/vega-lite/v4.8.1.json\", \"datasets\": {\"data-dca04cffd4b9f7cc1cb85a0e0c7c12c9\": [{\"track\": 0, \"bpm\": 135.017}, {\"track\": 1, \"bpm\": 131.998}, {\"track\": 2, \"bpm\": 132.079}, {\"track\": 3, \"bpm\": 132.013}, {\"track\": 4, \"bpm\": 131.999}, {\"track\": 5, \"bpm\": 132.156}, {\"track\": 6, \"bpm\": 132.114}, {\"track\": 7, \"bpm\": 133.988}, {\"track\": 8, \"bpm\": 134.106}, {\"track\": 9, \"bpm\": 132.013}, {\"track\": 10, \"bpm\": 132.048}, {\"track\": 11, \"bpm\": 131.788}, {\"track\": 12, \"bpm\": 131.962}, {\"track\": 13, \"bpm\": 132.012}, {\"track\": 14, \"bpm\": 131.937}, {\"track\": 15, \"bpm\": 133.067}, {\"track\": 16, \"bpm\": 133.011}, {\"track\": 17, \"bpm\": 133.003}]}}, {\"mode\": \"vega-lite\"});\n",
       "</script>"
      ],
      "text/plain": [
       "alt.Chart(...)"
      ]
     },
     "execution_count": 12,
     "metadata": {},
     "output_type": "execute_result"
    }
   ],
   "source": [
    "bpm = []\n",
    "for track in pruned_tracks:\n",
    "    bpm.append(sp.audio_features(track['uri'])[0]['tempo'])\n",
    "\n",
    "x = np.arange(len(pruned_tracks))   \n",
    "\n",
    "source = pd.DataFrame({\n",
    "  'track': x,\n",
    "  'bpm': np.array(bpm)\n",
    "})\n",
    "\n",
    "alt.Chart(source).mark_line().encode(\n",
    "    alt.X('track'),\n",
    "    alt.Y('bpm', scale=alt.Scale(domain=(120, 150))),\n",
    ").properties(\n",
    "    title=\"ASOT 950 Part 2 - BPM of track\"\n",
    ")"
   ]
  },
  {
   "cell_type": "markdown",
   "metadata": {},
   "source": [
    "Not great, but it gets the point across.\n",
    "\n",
    "Now, let's get exploring! .."
   ]
  }
 ],
 "metadata": {
  "kernelspec": {
   "display_name": "Python 3",
   "language": "python",
   "name": "python3"
  },
  "language_info": {
   "codemirror_mode": {
    "name": "ipython",
    "version": 3
   },
   "file_extension": ".py",
   "mimetype": "text/x-python",
   "name": "python",
   "nbconvert_exporter": "python",
   "pygments_lexer": "ipython3",
   "version": "3.8.5"
  }
 },
 "nbformat": 4,
 "nbformat_minor": 4
}

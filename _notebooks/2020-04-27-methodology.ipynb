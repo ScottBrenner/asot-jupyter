{
 "cells": [
  {
   "cell_type": "markdown",
   "metadata": {},
   "source": [
    "# Methodology\n",
    "> Explorations and explanations.\n",
    "\n",
    "- toc: false \n",
    "- badges: true\n",
    "- comments: false\n",
    "- categories: [asot, bpm]\n",
    "- image: images/chart-preview.png"
   ]
  },
  {
   "cell_type": "code",
   "execution_count": 17,
   "metadata": {},
   "outputs": [],
   "source": [
    "#hide\n",
    "import os\n",
    "import yaml\n",
    "import spotipy\n",
    "import json \n",
    "from spotipy.oauth2 import SpotifyClientCredentials\n",
    "\n",
    "with open('spotipy_credentials.yaml', 'r') as spotipy_credentials_file:\n",
    "    credentials = yaml.safe_load(spotipy_credentials_file)\n",
    "    os.environ[\"SPOTIPY_CLIENT_ID\"] = credentials['spotipy_credentials']['spotipy_client_id']\n",
    "    os.environ[\"SPOTIPY_CLIENT_SECRET\"] = credentials['spotipy_credentials']['spotipi_client_seret']\n",
    "\n",
    "sp = spotipy.Spotify(client_credentials_manager=SpotifyClientCredentials())"
   ]
  },
  {
   "cell_type": "markdown",
   "metadata": {},
   "source": [
    "The Spotify Web API can return over a dozen [audio features for a track](https://developer.spotify.com/documentation/web-api/reference/tracks/get-audio-features/), notably `tempo` - \"The overall estimated tempo of a track in beats per minute (BPM).\"\n",
    "\n",
    "Given a Spotify ID, [Spotipy's `audio_features` method](https://spotipy.readthedocs.io/en/latest/?highlight=audio_features#spotipy.client.Spotify.audio_features) can be called as follows:"
   ]
  },
  {
   "cell_type": "code",
   "execution_count": 18,
   "metadata": {},
   "outputs": [
    {
     "name": "stdout",
     "output_type": "stream",
     "text": [
      "[\n",
      "  {\n",
      "    \"danceability\": 0.691,\n",
      "    \"energy\": 0.522,\n",
      "    \"key\": 6,\n",
      "    \"loudness\": -8.024,\n",
      "    \"mode\": 0,\n",
      "    \"speechiness\": 0.0908,\n",
      "    \"acousticness\": 0.0216,\n",
      "    \"instrumentalness\": 0.0141,\n",
      "    \"liveness\": 0.125,\n",
      "    \"valence\": 0.187,\n",
      "    \"tempo\": 133.995,\n",
      "    \"type\": \"audio_features\",\n",
      "    \"id\": \"2CG1FmeprsyjgHIPNMYCf4\",\n",
      "    \"uri\": \"spotify:track:2CG1FmeprsyjgHIPNMYCf4\",\n",
      "    \"track_href\": \"https://api.spotify.com/v1/tracks/2CG1FmeprsyjgHIPNMYCf4\",\n",
      "    \"analysis_url\": \"https://api.spotify.com/v1/audio-analysis/2CG1FmeprsyjgHIPNMYCf4\",\n",
      "    \"duration_ms\": 326267,\n",
      "    \"time_signature\": 4\n",
      "  }\n",
      "]\n"
     ]
    }
   ],
   "source": [
    "\"\"\"\n",
    "Artist: Above & Beyond, Richard Bedford\n",
    "Track: Sun & Moon\n",
    "Track link: https://open.spotify.com/track/2CG1FmeprsyjgHIPNMYCf4\n",
    "Track ID: 2CG1FmeprsyjgHIPNMYCf4\n",
    "\"\"\"\n",
    "sun_and_moon_id = '2CG1FmeprsyjgHIPNMYCf4'\n",
    "audio_features = sp.audio_features(sun_and_moon_id)\n",
    "print(json.dumps(audio_features, indent=2))"
   ]
  },
  {
   "cell_type": "markdown",
   "metadata": {},
   "source": [
    "Nice! Looks like the \"`tempo`\", or BPM, of this track is around 133. Let's continue.\n",
    "\n",
    "Conveniently, the entire back catalogue of A State of Trance - 950+ episodes - has been uploaded to Spotify under the artist [\"Armin van Buuren ASOT Radio\"](https://open.spotify.com/artist/25mFVpuABa9GkGcj9eOPce). [Spotipy's `artist_albums` method](https://spotipy.readthedocs.io/en/2.12.0/?highlight=audio_features#spotipy.client.Spotify.artist_albums) can list them for us, courtesy [spotipy/examples/artist_albums.py](https://github.com/plamere/spotipy/blob/2584d8cf5675ce877f773112a76d42fe36f8a1d1/examples/artist_albums.py#L29-L42):"
   ]
  },
  {
   "cell_type": "code",
   "execution_count": 19,
   "metadata": {},
   "outputs": [],
   "source": [
    "\"\"\"\n",
    "Artist: Armin van Buuren ASOT Radio\n",
    "Artist link: https://open.spotify.com/artist/25mFVpuABa9GkGcj9eOPce\n",
    "Artist ID: 25mFVpuABa9GkGcj9eOPce\n",
    "\"\"\"\n",
    "\n",
    "asot_radio_id = '25mFVpuABa9GkGcj9eOPce'\n",
    "\n",
    "albums = []\n",
    "results = sp.artist_albums(asot_radio_id, album_type='album')\n",
    "albums.extend(results['items'])\n",
    "while results['next']:\n",
    "    results = sp.next(results)\n",
    "    albums.extend(results['items'])\n",
    "seen = set()  # to avoid dups\n",
    "for album in albums:\n",
    "    name = album['name']\n",
    "    if name not in seen:\n",
    "        seen.add(name)\n",
    "\n",
    "albums.sort(key=lambda x: x['release_date']) # Sort by release date"
   ]
  },
  {
   "cell_type": "markdown",
   "metadata": {},
   "source": [
    "Cool, our list `albums` should now contain every episode of A State of Trance! Let's take a quick look.."
   ]
  },
  {
   "cell_type": "code",
   "execution_count": 20,
   "metadata": {},
   "outputs": [
    {
     "name": "stdout",
     "output_type": "stream",
     "text": [
      "A State Of Trance Episode 001\n",
      "A State Of Trance Episode 003\n",
      "A State Of Trance Episode 004\n",
      "A State Of Trance Episode 005\n",
      "A State Of Trance Episode 007\n",
      "A State Of Trance Episode 008\n",
      "A State Of Trance Episode 009\n",
      "A State Of Trance Episode 010\n",
      "A State Of Trance Episode 012\n",
      "A State Of Trance Episode 015\n"
     ]
    }
   ],
   "source": [
    "# Print the names of the first 10 episodes\n",
    "for album in albums[:10]:\n",
    "    print(album['name'])"
   ]
  },
  {
   "cell_type": "markdown",
   "metadata": {},
   "source": [
    "Hm, aren't we missing a few?"
   ]
  },
  {
   "cell_type": "code",
   "execution_count": 21,
   "metadata": {},
   "outputs": [
    {
     "data": {
      "text/plain": [
       "934"
      ]
     },
     "execution_count": 21,
     "metadata": {},
     "output_type": "execute_result"
    }
   ],
   "source": [
    "# How many episodes?\n",
    "len(albums)"
   ]
  },
  {
   "cell_type": "markdown",
   "metadata": {},
   "source": [
    "For some reason 25 early episodes are classified as \"Singles and EPs\". Let's grab those as well, and add them to the list."
   ]
  },
  {
   "cell_type": "code",
   "execution_count": 22,
   "metadata": {},
   "outputs": [
    {
     "name": "stdout",
     "output_type": "stream",
     "text": [
      "A State Of Trance Episode 000\n",
      "A State Of Trance Episode 001\n",
      "A State Of Trance Episode 002\n",
      "A State Of Trance Episode 003\n",
      "A State Of Trance Episode 004\n",
      "A State Of Trance Episode 005\n",
      "A State Of Trance Episode 006\n",
      "A State Of Trance Episode 007\n",
      "A State Of Trance Episode 008\n",
      "A State Of Trance Episode 009\n"
     ]
    }
   ],
   "source": [
    "\"\"\"\n",
    "Artist: Armin van Buuren ASOT Radio\n",
    "Artist link: https://open.spotify.com/artist/25mFVpuABa9GkGcj9eOPce\n",
    "Artist ID: 25mFVpuABa9GkGcj9eOPce\n",
    "\"\"\"\n",
    "\n",
    "asot_radio_id = '25mFVpuABa9GkGcj9eOPce'\n",
    "\n",
    "singles = []\n",
    "results = sp.artist_albums(asot_radio_id, album_type='single')\n",
    "singles.extend(results['items'])\n",
    "while results['next']:\n",
    "    results = sp.next(results)\n",
    "    singles.extend(results['items'])\n",
    "seen = set()  # to avoid dups\n",
    "for single in singles:\n",
    "    name = single['name']\n",
    "    if name not in seen:\n",
    "        seen.add(name)\n",
    "\n",
    "episodes = singles + albums\n",
    "\n",
    "episodes.sort(key=lambda x: x['release_date']) # Sort by release date\n",
    "\n",
    "for episode in episodes[:10]:\n",
    "    print(episode['name'])"
   ]
  },
  {
   "cell_type": "markdown",
   "metadata": {},
   "source": [
    "Nice!"
   ]
  },
  {
   "cell_type": "code",
   "execution_count": 23,
   "metadata": {},
   "outputs": [
    {
     "data": {
      "text/plain": [
       "959"
      ]
     },
     "execution_count": 23,
     "metadata": {},
     "output_type": "execute_result"
    }
   ],
   "source": [
    "# Now how many episodes?\n",
    "len(episodes)"
   ]
  },
  {
   "cell_type": "markdown",
   "metadata": {},
   "source": [
    "Great, that's every available episode as of writing. Let's see what we can do with all this, starting with a tracklist courtesy of [Spotipy's `album_tracks` method](https://spotipy.readthedocs.io/en/latest/?highlight=audio_features#spotipy.client.Spotify.album_tracks):"
   ]
  },
  {
   "cell_type": "code",
   "execution_count": 24,
   "metadata": {
    "tags": [
     "outputPrepend"
    ]
   },
   "outputs": [
    {
     "name": "stdout",
     "output_type": "stream",
     "text": [
      "Armin van Buuren - A State Of Trance [ASOT 001] - Intro\n",
      "Liquid DJ Team - Liquidation [ASOT 001] - Marco V Mix\n",
      "The Ultimate Seduction - The Ultimate Seduction [ASOT 001] **ASOT Radio Classic** - Original Mix\n",
      "System F - Exhale [ASOT 001] - Ferry Corsten & Armin van Buuren New Mix\n",
      "Rising Star - Clear Blue Moon [ASOT 001] - Original Mix\n",
      "Ralphie B - Massive [ASOT 001] - Original Mix\n",
      "Rank 1 - Such is Life [ASOT 001] - Original Mix\n",
      "Armin van Buuren - Blue Fear [ASOT 001] - Original Mix\n",
      "Armin van Buuren - A State Of Trance [ASOT 001] - Outro\n"
     ]
    }
   ],
   "source": [
    "# Print every available Artist - Track from ASOT 001\n",
    "for track in sp.album_tracks(episodes[1]['uri'])['items']:\n",
    "    print(track['artists'][0]['name'], '-', track['name'])"
   ]
  },
  {
   "cell_type": "markdown",
   "metadata": {},
   "source": [
    "Seems most of the early episodes are missing a bunch of tracks unfortunately, [A State of Trance's website reports twice as many tracks in this episode](http://www.astateoftrance.com/episodes/episode-001/) and we'll want to remove the intro and outro as well.\n",
    "\n",
    "Looking at a more recent episode:"
   ]
  },
  {
   "cell_type": "code",
   "execution_count": 25,
   "metadata": {},
   "outputs": [
    {
     "name": "stdout",
     "output_type": "stream",
     "text": [
      "Armin van Buuren - A State Of Trance (ASOT 950 - Part 2) - Intro\n",
      "Armin van Buuren - A State Of Trance (ASOT 950 - Part 2) - Coming Up, Pt. 1\n",
      "Armin van Buuren & Avian Grays & Jordan Shaw & Cosmic Gate - Something Real (ASOT 950 - Part 2) [Tune Of The Week] - Cosmic Gate Remix\n",
      "Armin van Buuren & BT & Nation Of One & Assaf - Always (ASOT 950 - Part 2) - Assaf Remix\n",
      "Armin van Buuren & Inner City & Genix - It Could Be (ASOT 950 - Part 2) - Genix Remix\n",
      "Spencer Brown & Qrion - Foggy August (ASOT 950 - Part 2) [Progressive Pick]\n",
      "Spencer Brown & Liam Hathaway - LA ID (ASOT 950 - Part 2)\n",
      "Armin van Buuren - A State Of Trance (ASOT 950 - Part 2) - Track Recap, Pt. 1\n",
      "Armin van Buuren - A State Of Trance (ASOT 950 - Part 2) - Track Recap, Pt. 2\n",
      "Armin van Buuren - A State Of Trance (ASOT 950 - Part 2) - ASOT 950 Moscow Line-up, Pt. 1\n",
      "Armin van Buuren - A State Of Trance (ASOT 950 - Part 2) - ASOT 950 Moscow Line-up, Pt. 2\n",
      "Kasablanca - Hold Me Close (ASOT 950 - Part 2)\n",
      "Rolo Green - Kuat (ASOT 950 - Part 2)\n",
      "Farius & London Thor - Home Again (ASOT 950 - Part 2)\n",
      "Above & Beyond - Blue Monday (ASOT 950 - Part 2)\n",
      "Tom Fall - Guiding Light (ASOT 950 - Part 2)\n",
      "MaRLo & Feenixpawl & SaberZ - Lighter Than Air (ASOT 950 - Part 2) [Trending Track] - SaberZ Remix\n",
      "Armin van Buuren - A State Of Trance (ASOT 950 - Part 2) - Track Recap, Pt. 3\n",
      "Armin van Buuren - A State Of Trance (ASOT 950 - Part 2) - ASOT 950 London Announcement, Pt. 1\n",
      "Armin van Buuren - A State Of Trance (ASOT 950 - Part 2) - ASOT 950 London Announcement, Pt. 2\n",
      "Andrew Rayel - Light Side Of The Harmony (FYH 200 Anthem) [ASOT 950 - Part 2]\n",
      "Genix - Rave Daze (ASOT 950 - Part 2)\n",
      "Protoculture - Titan (ASOT 950 - Part 2)\n",
      "Armin van Buuren - A State Of Trance (ASOT 950 - Part 2) - This Is Giuseppe Ottaviani\n",
      "Giuseppe Ottaviani - Time To Play (ASOT 950 - Part 2)\n",
      "Armin van Buuren - A State Of Trance (ASOT 950 - Part 2) - Track Recap, Pt. 4\n",
      "Armin van Buuren - A State Of Trance (ASOT 950 - Part 2) - Coming Up, Pt. 2\n",
      "BT - Atari's Lantern (ASOT 950 - Part 2)\n",
      "Boombastix & Ahmed Helmy - The Awakening (ASOT 950 - Part 2) - Ahmed Helmy Remix\n",
      "LTN & Christina Novelli - Cabana (ASOT 950 - Part 2) - Club Mix\n",
      "Daniel Wanrooy - Back For More (ASOT 950 - Part 2)\n",
      "Larsson & Michael Mashkov & Beatsole - 1987 (ASOT 950 - Part 2) - Beatsole Remix\n",
      "C-Systems & Hanna Finsen - In Front Of Me (ASOT 950 - Part 2)\n",
      "Armin van Buuren - A State Of Trance (ASOT 950 - Part 2) - Track Recap, Pt. 5\n",
      "Armin van Buuren - A State Of Trance (ASOT 950 - Part 2) - Let The Music Guide You' World Tour\n",
      "Armin van Buuren - A State Of Trance (ASOT 950 - Part 2) - Tomorrowland 2020 ASOT Announcement\n",
      "Dan Thompson - Spectrum (ASOT 950 - Part 2)\n",
      "Philippe El Sisi & A & Z & Cari - Wings Of Love (ASOT 950 - Part 2) [Future Favorite]\n",
      "O.B.M Notion - 3 am Lullaby (ASOT 950 - Part 2)\n",
      "ReOrder & onTune - Euforia (Euforia Festival 2019 Official Anthem) [ASOT 950 - Part 2]\n",
      "Armin van Buuren - A State Of Trance (ASOT 950 - Part 2) - Track Recap, Pt. 6\n",
      "Armin van Buuren - A State Of Trance (ASOT 950 - Part 2) - Shout Outs, Pt. 1\n",
      "Armin van Buuren - A State Of Trance (ASOT 950 - Part 2) - Shout Outs, Pt. 2\n",
      "K90 & Allen Watts - Red Snapper (ASOT 950 - Part 2) - Allen Watts Remix\n",
      "Dan Stone - Steall Falls (ASOT 950 - Part 2)\n",
      "Sean Tyas & James Kitcher & Adam Taylor - Mantra (ASOT 950 - Part 2)\n",
      "Scot Project & David Rust & Shugz - FM (Feeling Me) [ASOT 950 - Part 2] - Shugz & David Rust Remix\n",
      "Armin van Buuren - A State Of Trance (ASOT 950 - Part 2) - Track Recap, Pt. 7\n",
      "Armin van Buuren - A State Of Trance (ASOT 950 - Part 2) - Upcoming Events\n",
      "Armin van Buuren - A State Of Trance (ASOT 950 - Part 2) - Outro\n"
     ]
    }
   ],
   "source": [
    "# Print every available Artist - Track from ASOT 950 - Part 2\n",
    "for track in sp.album_tracks(episodes[945]['uri'])['items']:\n",
    "    track_artist = track['artists'][0]['name']\n",
    "    for artist in track['artists'][1:]:\n",
    "        track_artist += \" & \" + artist['name']\n",
    "    print(track_artist, '-', track['name'])"
   ]
  },
  {
   "cell_type": "markdown",
   "metadata": {},
   "source": [
    "The more recent episodes feature a Spotify exclusive - voiceover interludes! Seems they all contain \"A State of Trance\" though, same with the regular intros and outros.\n",
    "\n",
    "Without them:"
   ]
  },
  {
   "cell_type": "code",
   "execution_count": 26,
   "metadata": {},
   "outputs": [
    {
     "name": "stdout",
     "output_type": "stream",
     "text": [
      "Armin van Buuren & Avian Grays & Jordan Shaw & Cosmic Gate - Something Real (ASOT 950 - Part 2) [Tune Of The Week] - Cosmic Gate Remix\n",
      "Armin van Buuren & BT & Nation Of One & Assaf - Always (ASOT 950 - Part 2) - Assaf Remix\n",
      "Armin van Buuren & Inner City & Genix - It Could Be (ASOT 950 - Part 2) - Genix Remix\n",
      "Spencer Brown & Qrion - Foggy August (ASOT 950 - Part 2) [Progressive Pick]\n",
      "Spencer Brown & Liam Hathaway - LA ID (ASOT 950 - Part 2)\n",
      "Kasablanca - Hold Me Close (ASOT 950 - Part 2)\n",
      "Rolo Green - Kuat (ASOT 950 - Part 2)\n",
      "Farius & London Thor - Home Again (ASOT 950 - Part 2)\n",
      "Above & Beyond - Blue Monday (ASOT 950 - Part 2)\n",
      "Tom Fall - Guiding Light (ASOT 950 - Part 2)\n",
      "MaRLo & Feenixpawl & SaberZ - Lighter Than Air (ASOT 950 - Part 2) [Trending Track] - SaberZ Remix\n",
      "Andrew Rayel - Light Side Of The Harmony (FYH 200 Anthem) [ASOT 950 - Part 2]\n",
      "Genix - Rave Daze (ASOT 950 - Part 2)\n",
      "Protoculture - Titan (ASOT 950 - Part 2)\n",
      "Giuseppe Ottaviani - Time To Play (ASOT 950 - Part 2)\n",
      "BT - Atari's Lantern (ASOT 950 - Part 2)\n",
      "Boombastix & Ahmed Helmy - The Awakening (ASOT 950 - Part 2) - Ahmed Helmy Remix\n",
      "LTN & Christina Novelli - Cabana (ASOT 950 - Part 2) - Club Mix\n",
      "Daniel Wanrooy - Back For More (ASOT 950 - Part 2)\n",
      "Larsson & Michael Mashkov & Beatsole - 1987 (ASOT 950 - Part 2) - Beatsole Remix\n",
      "C-Systems & Hanna Finsen - In Front Of Me (ASOT 950 - Part 2)\n",
      "Dan Thompson - Spectrum (ASOT 950 - Part 2)\n",
      "Philippe El Sisi & A & Z & Cari - Wings Of Love (ASOT 950 - Part 2) [Future Favorite]\n",
      "O.B.M Notion - 3 am Lullaby (ASOT 950 - Part 2)\n",
      "ReOrder & onTune - Euforia (Euforia Festival 2019 Official Anthem) [ASOT 950 - Part 2]\n",
      "K90 & Allen Watts - Red Snapper (ASOT 950 - Part 2) - Allen Watts Remix\n",
      "Dan Stone - Steall Falls (ASOT 950 - Part 2)\n",
      "Sean Tyas & James Kitcher & Adam Taylor - Mantra (ASOT 950 - Part 2)\n",
      "Scot Project & David Rust & Shugz - FM (Feeling Me) [ASOT 950 - Part 2] - Shugz & David Rust Remix\n"
     ]
    }
   ],
   "source": [
    "# Print every available Artist - Track from ASOT 950 - Part 2 (actual songs only)\n",
    "episode_tracks = sp.album_tracks(episodes[945]['uri'])['items']\n",
    "pruned_tracks = []\n",
    "\n",
    "for track in episode_tracks:\n",
    "    if \"A State Of Trance\".lower() in track['name'].lower() or \"- Interview\".lower() in track['name'].lower(): #ingore casing and interviews\n",
    "        continue\n",
    "    else:\n",
    "        pruned_tracks.append(track)\n",
    "        track_artist = track['artists'][0]['name']\n",
    "        for artist in track['artists'][1:]:\n",
    "            track_artist += \" & \" + artist['name']\n",
    "        print(track_artist, '-', track['name'])"
   ]
  },
  {
   "cell_type": "markdown",
   "metadata": {},
   "source": [
    "Much better! Finally, for fun, let's track this episode's BPM over time using some visualization libraries:"
   ]
  },
  {
   "cell_type": "code",
   "execution_count": 27,
   "metadata": {},
   "outputs": [],
   "source": [
    "import altair as alt\n",
    "import numpy as np\n",
    "import pandas as pd"
   ]
  },
  {
   "cell_type": "code",
   "execution_count": 28,
   "metadata": {},
   "outputs": [
    {
     "data": {
      "text/html": [
       "\n",
       "<div id=\"altair-viz-0b0f1ec166654034852c3fd933b5047a\"></div>\n",
       "<script type=\"text/javascript\">\n",
       "  (function(spec, embedOpt){\n",
       "    let outputDiv = document.currentScript.previousElementSibling;\n",
       "    if (outputDiv.id !== \"altair-viz-0b0f1ec166654034852c3fd933b5047a\") {\n",
       "      outputDiv = document.getElementById(\"altair-viz-0b0f1ec166654034852c3fd933b5047a\");\n",
       "    }\n",
       "    const paths = {\n",
       "      \"vega\": \"https://cdn.jsdelivr.net/npm//vega@5?noext\",\n",
       "      \"vega-lib\": \"https://cdn.jsdelivr.net/npm//vega-lib?noext\",\n",
       "      \"vega-lite\": \"https://cdn.jsdelivr.net/npm//vega-lite@4.8.1?noext\",\n",
       "      \"vega-embed\": \"https://cdn.jsdelivr.net/npm//vega-embed@6?noext\",\n",
       "    };\n",
       "\n",
       "    function loadScript(lib) {\n",
       "      return new Promise(function(resolve, reject) {\n",
       "        var s = document.createElement('script');\n",
       "        s.src = paths[lib];\n",
       "        s.async = true;\n",
       "        s.onload = () => resolve(paths[lib]);\n",
       "        s.onerror = () => reject(`Error loading script: ${paths[lib]}`);\n",
       "        document.getElementsByTagName(\"head\")[0].appendChild(s);\n",
       "      });\n",
       "    }\n",
       "\n",
       "    function showError(err) {\n",
       "      outputDiv.innerHTML = `<div class=\"error\" style=\"color:red;\">${err}</div>`;\n",
       "      throw err;\n",
       "    }\n",
       "\n",
       "    function displayChart(vegaEmbed) {\n",
       "      vegaEmbed(outputDiv, spec, embedOpt)\n",
       "        .catch(err => showError(`Javascript Error: ${err.message}<br>This usually means there's a typo in your chart specification. See the javascript console for the full traceback.`));\n",
       "    }\n",
       "\n",
       "    if(typeof define === \"function\" && define.amd) {\n",
       "      requirejs.config({paths});\n",
       "      require([\"vega-embed\"], displayChart, err => showError(`Error loading script: ${err.message}`));\n",
       "    } else if (typeof vegaEmbed === \"function\") {\n",
       "      displayChart(vegaEmbed);\n",
       "    } else {\n",
       "      loadScript(\"vega\")\n",
       "        .then(() => loadScript(\"vega-lite\"))\n",
       "        .then(() => loadScript(\"vega-embed\"))\n",
       "        .catch(showError)\n",
       "        .then(() => displayChart(vegaEmbed));\n",
       "    }\n",
       "  })({\"config\": {\"view\": {\"continuousWidth\": 400, \"continuousHeight\": 300}}, \"data\": {\"name\": \"data-c12dc4352ef06b041d60e1490a1903d5\"}, \"mark\": \"line\", \"encoding\": {\"x\": {\"type\": \"quantitative\", \"field\": \"track\"}, \"y\": {\"type\": \"quantitative\", \"field\": \"bpm\", \"scale\": {\"domain\": [120, 150]}}}, \"title\": \"ASOT 950 Part 2 - BPM of track\", \"$schema\": \"https://vega.github.io/schema/vega-lite/v4.8.1.json\", \"datasets\": {\"data-c12dc4352ef06b041d60e1490a1903d5\": [{\"track\": 0, \"bpm\": 129.949}, {\"track\": 1, \"bpm\": 130.004}, {\"track\": 2, \"bpm\": 128.249}, {\"track\": 3, \"bpm\": 125.03}, {\"track\": 4, \"bpm\": 125.01}, {\"track\": 5, \"bpm\": 126.02}, {\"track\": 6, \"bpm\": 125.985}, {\"track\": 7, \"bpm\": 127.841}, {\"track\": 8, \"bpm\": 128.01}, {\"track\": 9, \"bpm\": 128.922}, {\"track\": 10, \"bpm\": 129.975}, {\"track\": 11, \"bpm\": 131.943}, {\"track\": 12, \"bpm\": 131.962}, {\"track\": 13, \"bpm\": 132.038}, {\"track\": 14, \"bpm\": 137.99}, {\"track\": 15, \"bpm\": 129.941}, {\"track\": 16, \"bpm\": 129.981}, {\"track\": 17, \"bpm\": 130.008}, {\"track\": 18, \"bpm\": 130.022}, {\"track\": 19, \"bpm\": 131.844}, {\"track\": 20, \"bpm\": 133.978}, {\"track\": 21, \"bpm\": 134.966}, {\"track\": 22, \"bpm\": 137.036}, {\"track\": 23, \"bpm\": 136.948}, {\"track\": 24, \"bpm\": 136.96}, {\"track\": 25, \"bpm\": 137.971}, {\"track\": 26, \"bpm\": 137.986}, {\"track\": 27, \"bpm\": 137.966}, {\"track\": 28, \"bpm\": 138.961}]}}, {\"mode\": \"vega-lite\"});\n",
       "</script>"
      ],
      "text/plain": [
       "alt.Chart(...)"
      ]
     },
     "execution_count": 28,
     "metadata": {},
     "output_type": "execute_result"
    }
   ],
   "source": [
    "bpm = []\n",
    "for track in pruned_tracks:\n",
    "    bpm.append(sp.audio_features(track['uri'])[0]['tempo'])\n",
    "\n",
    "x = np.arange(len(pruned_tracks))   \n",
    "\n",
    "source = pd.DataFrame({\n",
    "  'track': x,\n",
    "  'bpm': np.array(bpm)\n",
    "})\n",
    "\n",
    "alt.Chart(source).mark_line().encode(\n",
    "    alt.X('track'),\n",
    "    alt.Y('bpm', scale=alt.Scale(domain=(120, 150))),\n",
    ").properties(\n",
    "    title=\"ASOT 950 Part 2 - BPM of track\"\n",
    ")"
   ]
  },
  {
   "cell_type": "markdown",
   "metadata": {},
   "source": [
    "Not great, but it gets the point across.\n",
    "\n",
    "Now, let's get exploring! .."
   ]
  }
 ],
 "metadata": {
  "kernelspec": {
   "display_name": "Python 3.7.2 64-bit",
   "language": "python",
   "name": "python37264bitd02087c11aa44bc1836ca911a102f0f5"
  },
  "language_info": {
   "codemirror_mode": {
    "name": "ipython",
    "version": 3
   },
   "file_extension": ".py",
   "mimetype": "text/x-python",
   "name": "python",
   "nbconvert_exporter": "python",
   "pygments_lexer": "ipython3",
   "version": "3.7.2"
  }
 },
 "nbformat": 4,
 "nbformat_minor": 4
}
